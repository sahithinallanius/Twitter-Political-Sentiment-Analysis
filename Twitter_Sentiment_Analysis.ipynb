{
 "cells": [
  {
   "cell_type": "code",
   "execution_count": 0,
   "metadata": {
    "application/vnd.databricks.v1+cell": {
     "cellMetadata": {
      "byteLimit": 2048000,
      "rowLimit": 10000
     },
     "inputWidgets": {},
     "nuid": "c0a71d09-4e76-416e-bed7-c62c48744e05",
     "showTitle": false,
     "title": ""
    },
    "colab": {
     "base_uri": "https://localhost:8080/"
    },
    "id": "3RIF_WwrbT_5",
    "outputId": "8275316c-ae70-4f02-abc6-5a2f8345fda9"
   },
   "outputs": [
    {
     "output_type": "stream",
     "name": "stdout",
     "output_type": "stream",
     "text": [
      "Collecting textblob\r\n  Using cached textblob-0.17.1-py2.py3-none-any.whl (636 kB)\r\nCollecting nltk>=3.1\r\n  Using cached nltk-3.8.1-py3-none-any.whl (1.5 MB)\r\nCollecting tqdm\r\n  Using cached tqdm-4.66.1-py3-none-any.whl (78 kB)\r\nRequirement already satisfied: click in /databricks/python3/lib/python3.9/site-packages (from nltk>=3.1->textblob) (8.0.4)\r\nCollecting regex>=2021.8.3\r\n  Using cached regex-2023.10.3-cp39-cp39-manylinux_2_17_x86_64.manylinux2014_x86_64.whl (773 kB)\r\nRequirement already satisfied: joblib in /databricks/python3/lib/python3.9/site-packages (from nltk>=3.1->textblob) (1.1.1)\r\nInstalling collected packages: tqdm, regex, nltk, textblob\r\nSuccessfully installed nltk-3.8.1 regex-2023.10.3 textblob-0.17.1 tqdm-4.66.1\r\n\u001B[33mWARNING: You are using pip version 21.2.4; however, version 23.2.1 is available.\r\nYou should consider upgrading via the '/local_disk0/.ephemeral_nfs/envs/pythonEnv-f985aff4-5238-4579-80f5-9267bb6d66d2/bin/python -m pip install --upgrade pip' command.\u001B[0m\r\nCollecting better-profanity\r\n  Using cached better_profanity-0.7.0-py3-none-any.whl (46 kB)\r\nInstalling collected packages: better-profanity\r\nSuccessfully installed better-profanity-0.7.0\r\n\u001B[33mWARNING: You are using pip version 21.2.4; however, version 23.2.1 is available.\r\nYou should consider upgrading via the '/local_disk0/.ephemeral_nfs/envs/pythonEnv-f985aff4-5238-4579-80f5-9267bb6d66d2/bin/python -m pip install --upgrade pip' command.\u001B[0m\r\n"
     ]
    }
   ],
   "source": [
    "\n",
    "!pip install textblob\n",
    "!pip install better-profanity"
   ]
  },
  {
   "cell_type": "code",
   "execution_count": 0,
   "metadata": {
    "application/vnd.databricks.v1+cell": {
     "cellMetadata": {
      "byteLimit": 2048000,
      "rowLimit": 10000
     },
     "inputWidgets": {},
     "nuid": "67b69eca-1aad-4b1a-a90a-d1e7b43acdf2",
     "showTitle": false,
     "title": ""
    }
   },
   "outputs": [
    {
     "output_type": "stream",
     "name": "stdout",
     "output_type": "stream",
     "text": [
      "Collecting wordcloud\r\n  Using cached wordcloud-1.9.2-cp39-cp39-manylinux_2_17_x86_64.manylinux2014_x86_64.whl (460 kB)\r\nRequirement already satisfied: matplotlib in /databricks/python3/lib/python3.9/site-packages (from wordcloud) (3.5.1)\r\nRequirement already satisfied: pillow in /databricks/python3/lib/python3.9/site-packages (from wordcloud) (9.0.1)\r\nRequirement already satisfied: numpy>=1.6.1 in /databricks/python3/lib/python3.9/site-packages (from wordcloud) (1.21.5)\r\nRequirement already satisfied: packaging>=20.0 in /databricks/python3/lib/python3.9/site-packages (from matplotlib->wordcloud) (21.3)\r\nRequirement already satisfied: python-dateutil>=2.7 in /databricks/python3/lib/python3.9/site-packages (from matplotlib->wordcloud) (2.8.2)\r\nRequirement already satisfied: fonttools>=4.22.0 in /databricks/python3/lib/python3.9/site-packages (from matplotlib->wordcloud) (4.25.0)\r\nRequirement already satisfied: kiwisolver>=1.0.1 in /databricks/python3/lib/python3.9/site-packages (from matplotlib->wordcloud) (1.3.2)\r\nRequirement already satisfied: pyparsing>=2.2.1 in /databricks/python3/lib/python3.9/site-packages (from matplotlib->wordcloud) (3.0.4)\r\nRequirement already satisfied: cycler>=0.10 in /databricks/python3/lib/python3.9/site-packages (from matplotlib->wordcloud) (0.11.0)\r\nRequirement already satisfied: six>=1.5 in /databricks/python3/lib/python3.9/site-packages (from python-dateutil>=2.7->matplotlib->wordcloud) (1.16.0)\r\nInstalling collected packages: wordcloud\r\nSuccessfully installed wordcloud-1.9.2\r\n\u001B[33mWARNING: You are using pip version 21.2.4; however, version 23.2.1 is available.\r\nYou should consider upgrading via the '/local_disk0/.ephemeral_nfs/envs/pythonEnv-f985aff4-5238-4579-80f5-9267bb6d66d2/bin/python -m pip install --upgrade pip' command.\u001B[0m\r\n"
     ]
    }
   ],
   "source": [
    "!pip install wordcloud"
   ]
  },
  {
   "cell_type": "code",
   "execution_count": 0,
   "metadata": {
    "application/vnd.databricks.v1+cell": {
     "cellMetadata": {
      "byteLimit": 2048000,
      "rowLimit": 10000
     },
     "inputWidgets": {},
     "nuid": "8719607e-988d-4caa-a09b-1bdb08c21404",
     "showTitle": false,
     "title": ""
    },
    "colab": {
     "base_uri": "https://localhost:8080/"
    },
    "id": "5nSU-epHdtlX",
    "outputId": "811fde3b-0d41-4768-d528-3f3e99695efc"
   },
   "outputs": [
    {
     "output_type": "display_data",
     "data": {
      "application/vnd.databricks.v1+bamboolib_hint": "{\"pd.DataFrames\": [], \"version\": \"0.0.1\"}",
      "text/plain": []
     },
     "metadata": {},
     "output_type": "display_data"
    },
    {
     "output_type": "stream",
     "name": "stderr",
     "output_type": "stream",
     "text": [
      "[nltk_data] Downloading package stopwords to /root/nltk_data...\n[nltk_data]   Package stopwords is already up-to-date!\n"
     ]
    }
   ],
   "source": [
    "# Import Basic Libraries\n",
    "import re\n",
    "import os\n",
    "import pandas as pd\n",
    "import numpy as np\n",
    "from datetime import datetime\n",
    "\n",
    "from better_profanity import profanity\n",
    "from textblob import TextBlob\n",
    "\n",
    "# Import Visualization Libraries\n",
    "import plotly.express as px\n",
    "import plotly.graph_objs as go\n",
    "from wordcloud import WordCloud\n",
    "import matplotlib.pyplot as plt\n",
    "\n",
    "# Import NLP Libraries\n",
    "import nltk\n",
    "from nltk.corpus import stopwords\n",
    "\n",
    "# downloading stopwords\n",
    "nltk.download('stopwords')\n",
    "\n",
    "# Remove distarcting warning\n",
    "import warnings\n",
    "warnings.filterwarnings('ignore')"
   ]
  },
  {
   "cell_type": "code",
   "execution_count": 0,
   "metadata": {
    "application/vnd.databricks.v1+cell": {
     "cellMetadata": {
      "byteLimit": 2048000,
      "rowLimit": 10000
     },
     "inputWidgets": {},
     "nuid": "0be4839f-d9ec-4ef4-99bf-419d5168af2e",
     "showTitle": false,
     "title": ""
    },
    "colab": {
     "base_uri": "https://localhost:8080/",
     "height": 415
    },
    "id": "EQ_VV_F5dy4l",
    "outputId": "d1d9461b-781f-42c2-ba77-6fe22941d485"
   },
   "outputs": [
    {
     "output_type": "stream",
     "name": "stdout",
     "output_type": "stream",
     "text": [
      "Data Shape is : (50001, 6)\n\nShow Top 10 Records\n"
     ]
    },
    {
     "output_type": "display_data",
     "data": {
      "text/html": [
       "<div>\n",
       "<style scoped>\n",
       "    .dataframe tbody tr th:only-of-type {\n",
       "        vertical-align: middle;\n",
       "    }\n",
       "\n",
       "    .dataframe tbody tr th {\n",
       "        vertical-align: top;\n",
       "    }\n",
       "\n",
       "    .dataframe thead th {\n",
       "        text-align: right;\n",
       "    }\n",
       "</style>\n",
       "<table border=\"1\" class=\"dataframe\">\n",
       "  <thead>\n",
       "    <tr style=\"text-align: right;\">\n",
       "      <th></th>\n",
       "      <th>Unnamed: 0</th>\n",
       "      <th>Date</th>\n",
       "      <th>User</th>\n",
       "      <th>Tweet</th>\n",
       "      <th>Likes</th>\n",
       "      <th>Retweets</th>\n",
       "    </tr>\n",
       "  </thead>\n",
       "  <tbody>\n",
       "    <tr>\n",
       "      <th>0</th>\n",
       "      <td>0</td>\n",
       "      <td>2023-03-29 15:42:36+00:00</td>\n",
       "      <td>AnandPatni8</td>\n",
       "      <td>@vinodkapri @RahulGandhi Respected Indian Citi...</td>\n",
       "      <td>0.0</td>\n",
       "      <td>0.0</td>\n",
       "    </tr>\n",
       "    <tr>\n",
       "      <th>1</th>\n",
       "      <td>1</td>\n",
       "      <td>2023-03-29 15:42:05+00:00</td>\n",
       "      <td>dhinamum</td>\n",
       "      <td>*Respected Indian Citizens,* Namaskaar I Am Th...</td>\n",
       "      <td>0.0</td>\n",
       "      <td>0.0</td>\n",
       "    </tr>\n",
       "    <tr>\n",
       "      <th>2</th>\n",
       "      <td>2</td>\n",
       "      <td>2023-03-29 15:34:29+00:00</td>\n",
       "      <td>PrincetonCGI</td>\n",
       "      <td>1/n-Meet Filmmaker Prakash Jha in New Jersey t...</td>\n",
       "      <td>0.0</td>\n",
       "      <td>0.0</td>\n",
       "    </tr>\n",
       "    <tr>\n",
       "      <th>3</th>\n",
       "      <td>3</td>\n",
       "      <td>2023-03-29 15:31:43+00:00</td>\n",
       "      <td>RishiJoeSanu</td>\n",
       "      <td>@MrinalWahal Why would politicians stop using ...</td>\n",
       "      <td>0.0</td>\n",
       "      <td>0.0</td>\n",
       "    </tr>\n",
       "    <tr>\n",
       "      <th>4</th>\n",
       "      <td>4</td>\n",
       "      <td>2023-03-29 15:26:48+00:00</td>\n",
       "      <td>itweetsensee</td>\n",
       "      <td>@annamalai_k @narendramodi A state level presi...</td>\n",
       "      <td>0.0</td>\n",
       "      <td>0.0</td>\n",
       "    </tr>\n",
       "    <tr>\n",
       "      <th>5</th>\n",
       "      <td>5</td>\n",
       "      <td>2023-03-29 15:21:29+00:00</td>\n",
       "      <td>FreeMindKeenEye</td>\n",
       "      <td>@IAMCouncil @POTUS @Ilhan @bridgeinit OK this ...</td>\n",
       "      <td>0.0</td>\n",
       "      <td>0.0</td>\n",
       "    </tr>\n",
       "    <tr>\n",
       "      <th>6</th>\n",
       "      <td>6</td>\n",
       "      <td>2023-03-29 15:20:41+00:00</td>\n",
       "      <td>SamsSamsson6</td>\n",
       "      <td>@darrengrimes_ Why are pakistani /indian dual ...</td>\n",
       "      <td>0.0</td>\n",
       "      <td>0.0</td>\n",
       "    </tr>\n",
       "    <tr>\n",
       "      <th>7</th>\n",
       "      <td>7</td>\n",
       "      <td>2023-03-29 15:20:16+00:00</td>\n",
       "      <td>SamsSamsson6</td>\n",
       "      <td>@PeterStefanovi2 Why are pakistani /indian dua...</td>\n",
       "      <td>0.0</td>\n",
       "      <td>0.0</td>\n",
       "    </tr>\n",
       "    <tr>\n",
       "      <th>8</th>\n",
       "      <td>8</td>\n",
       "      <td>2023-03-29 15:19:44+00:00</td>\n",
       "      <td>SamsSamsson6</td>\n",
       "      <td>Why are pakistani /indian dual nationals allow...</td>\n",
       "      <td>0.0</td>\n",
       "      <td>0.0</td>\n",
       "    </tr>\n",
       "    <tr>\n",
       "      <th>9</th>\n",
       "      <td>9</td>\n",
       "      <td>2023-03-29 15:19:32+00:00</td>\n",
       "      <td>ncsukumar1</td>\n",
       "      <td>@BesuraTaansane @KartiPC @PChidambaram_IN The ...</td>\n",
       "      <td>0.0</td>\n",
       "      <td>0.0</td>\n",
       "    </tr>\n",
       "  </tbody>\n",
       "</table>\n",
       "</div>"
      ]
     },
     "metadata": {
      "application/vnd.databricks.v1+output": {
       "addedWidgets": {},
       "arguments": {},
       "data": "<div>\n<style scoped>\n    .dataframe tbody tr th:only-of-type {\n        vertical-align: middle;\n    }\n\n    .dataframe tbody tr th {\n        vertical-align: top;\n    }\n\n    .dataframe thead th {\n        text-align: right;\n    }\n</style>\n<table border=\"1\" class=\"dataframe\">\n  <thead>\n    <tr style=\"text-align: right;\">\n      <th></th>\n      <th>Unnamed: 0</th>\n      <th>Date</th>\n      <th>User</th>\n      <th>Tweet</th>\n      <th>Likes</th>\n      <th>Retweets</th>\n    </tr>\n  </thead>\n  <tbody>\n    <tr>\n      <th>0</th>\n      <td>0</td>\n      <td>2023-03-29 15:42:36+00:00</td>\n      <td>AnandPatni8</td>\n      <td>@vinodkapri @RahulGandhi Respected Indian Citi...</td>\n      <td>0.0</td>\n      <td>0.0</td>\n    </tr>\n    <tr>\n      <th>1</th>\n      <td>1</td>\n      <td>2023-03-29 15:42:05+00:00</td>\n      <td>dhinamum</td>\n      <td>*Respected Indian Citizens,* Namaskaar I Am Th...</td>\n      <td>0.0</td>\n      <td>0.0</td>\n    </tr>\n    <tr>\n      <th>2</th>\n      <td>2</td>\n      <td>2023-03-29 15:34:29+00:00</td>\n      <td>PrincetonCGI</td>\n      <td>1/n-Meet Filmmaker Prakash Jha in New Jersey t...</td>\n      <td>0.0</td>\n      <td>0.0</td>\n    </tr>\n    <tr>\n      <th>3</th>\n      <td>3</td>\n      <td>2023-03-29 15:31:43+00:00</td>\n      <td>RishiJoeSanu</td>\n      <td>@MrinalWahal Why would politicians stop using ...</td>\n      <td>0.0</td>\n      <td>0.0</td>\n    </tr>\n    <tr>\n      <th>4</th>\n      <td>4</td>\n      <td>2023-03-29 15:26:48+00:00</td>\n      <td>itweetsensee</td>\n      <td>@annamalai_k @narendramodi A state level presi...</td>\n      <td>0.0</td>\n      <td>0.0</td>\n    </tr>\n    <tr>\n      <th>5</th>\n      <td>5</td>\n      <td>2023-03-29 15:21:29+00:00</td>\n      <td>FreeMindKeenEye</td>\n      <td>@IAMCouncil @POTUS @Ilhan @bridgeinit OK this ...</td>\n      <td>0.0</td>\n      <td>0.0</td>\n    </tr>\n    <tr>\n      <th>6</th>\n      <td>6</td>\n      <td>2023-03-29 15:20:41+00:00</td>\n      <td>SamsSamsson6</td>\n      <td>@darrengrimes_ Why are pakistani /indian dual ...</td>\n      <td>0.0</td>\n      <td>0.0</td>\n    </tr>\n    <tr>\n      <th>7</th>\n      <td>7</td>\n      <td>2023-03-29 15:20:16+00:00</td>\n      <td>SamsSamsson6</td>\n      <td>@PeterStefanovi2 Why are pakistani /indian dua...</td>\n      <td>0.0</td>\n      <td>0.0</td>\n    </tr>\n    <tr>\n      <th>8</th>\n      <td>8</td>\n      <td>2023-03-29 15:19:44+00:00</td>\n      <td>SamsSamsson6</td>\n      <td>Why are pakistani /indian dual nationals allow...</td>\n      <td>0.0</td>\n      <td>0.0</td>\n    </tr>\n    <tr>\n      <th>9</th>\n      <td>9</td>\n      <td>2023-03-29 15:19:32+00:00</td>\n      <td>ncsukumar1</td>\n      <td>@BesuraTaansane @KartiPC @PChidambaram_IN The ...</td>\n      <td>0.0</td>\n      <td>0.0</td>\n    </tr>\n  </tbody>\n</table>\n</div>",
       "datasetInfos": [],
       "metadata": {},
       "removedWidgets": [],
       "textData": null,
       "type": "htmlSandbox"
      }
     },
     "output_type": "display_data"
    }
   ],
   "source": [
    "#         print(os.path.join(dirname, filename))\n",
    "df = pd.read_csv(\"/Workspace/Users/sai.nagandla@insightglobal.com/tweets.csv\")\n",
    "print(\"Data Shape is :\",df.shape)\n",
    "print(\"\\nShow Top 10 Records\")\n",
    "df.head(10)"
   ]
  },
  {
   "cell_type": "markdown",
   "metadata": {
    "application/vnd.databricks.v1+cell": {
     "cellMetadata": {},
     "inputWidgets": {},
     "nuid": "88b57ad0-d0dc-426e-a6c5-12e3b8ad6c12",
     "showTitle": false,
     "title": ""
    },
    "id": "7yQ2EDFYLH_8"
   },
   "source": [
    "# New Section"
   ]
  },
  {
   "cell_type": "code",
   "execution_count": 0,
   "metadata": {
    "application/vnd.databricks.v1+cell": {
     "cellMetadata": {
      "byteLimit": 2048000,
      "rowLimit": 10000
     },
     "inputWidgets": {},
     "nuid": "1b9b0aaf-58d4-4b72-889c-c20a231a10b1",
     "showTitle": false,
     "title": ""
    },
    "colab": {
     "base_uri": "https://localhost:8080/"
    },
    "id": "hVAylgbXgoNJ",
    "outputId": "ddf97c11-6ce4-4b9a-f93b-5e7e5b5cc846"
   },
   "outputs": [
    {
     "output_type": "stream",
     "name": "stdout",
     "output_type": "stream",
     "text": [
      "Out[5]: Unnamed: 0    0\nDate          0\nUser          0\nTweet         1\nLikes         2\nRetweets      2\ndtype: int64"
     ]
    }
   ],
   "source": [
    "#Checking Missing Values\n",
    "\n",
    "df.isna().sum()"
   ]
  },
  {
   "cell_type": "code",
   "execution_count": 0,
   "metadata": {
    "application/vnd.databricks.v1+cell": {
     "cellMetadata": {
      "byteLimit": 2048000,
      "rowLimit": 10000
     },
     "inputWidgets": {},
     "nuid": "3a0c94a7-2329-4a9a-8d5f-b8e70a39c70e",
     "showTitle": false,
     "title": ""
    },
    "id": "ekew7EsMgsB4"
   },
   "outputs": [],
   "source": [
    "#Drop NA Value\n",
    "df.dropna(inplace=True)"
   ]
  },
  {
   "cell_type": "code",
   "execution_count": 0,
   "metadata": {
    "application/vnd.databricks.v1+cell": {
     "cellMetadata": {
      "byteLimit": 2048000,
      "rowLimit": 10000
     },
     "inputWidgets": {},
     "nuid": "f4afb245-47ad-497b-9ed9-843d2dadecfc",
     "showTitle": false,
     "title": ""
    },
    "colab": {
     "base_uri": "https://localhost:8080/"
    },
    "id": "bPEXXxg0gu1D",
    "outputId": "bb67dcac-f9b8-47cf-c73f-aec1ab56b578"
   },
   "outputs": [
    {
     "output_type": "stream",
     "name": "stdout",
     "output_type": "stream",
     "text": [
      "Out[7]: 0"
     ]
    }
   ],
   "source": [
    "#Checking Duplicates\n",
    "df.duplicated().sum()"
   ]
  },
  {
   "cell_type": "code",
   "execution_count": 0,
   "metadata": {
    "application/vnd.databricks.v1+cell": {
     "cellMetadata": {
      "byteLimit": 2048000,
      "rowLimit": 10000
     },
     "inputWidgets": {},
     "nuid": "fb84764c-e6f8-4189-8ce3-fdc2acc42c71",
     "showTitle": false,
     "title": ""
    },
    "colab": {
     "base_uri": "https://localhost:8080/"
    },
    "id": "Asm6vwoDgyhN",
    "outputId": "01a627af-e7a8-4871-efdc-d3ce0a9a93f3"
   },
   "outputs": [
    {
     "output_type": "stream",
     "name": "stdout",
     "output_type": "stream",
     "text": [
      "<class 'pandas.core.frame.DataFrame'>\nInt64Index: 49999 entries, 0 to 50000\nData columns (total 6 columns):\n #   Column      Non-Null Count  Dtype  \n---  ------      --------------  -----  \n 0   Unnamed: 0  49999 non-null  object \n 1   Date        49999 non-null  object \n 2   User        49999 non-null  object \n 3   Tweet       49999 non-null  object \n 4   Likes       49999 non-null  float64\n 5   Retweets    49999 non-null  float64\ndtypes: float64(2), object(4)\nmemory usage: 2.7+ MB\n"
     ]
    }
   ],
   "source": [
    "#Checking Data Types\n",
    "df.info()"
   ]
  },
  {
   "cell_type": "code",
   "execution_count": 0,
   "metadata": {
    "application/vnd.databricks.v1+cell": {
     "cellMetadata": {
      "byteLimit": 2048000,
      "rowLimit": 10000
     },
     "inputWidgets": {},
     "nuid": "646878c8-da61-4fee-9edc-dfc0e1198d97",
     "showTitle": false,
     "title": ""
    },
    "colab": {
     "base_uri": "https://localhost:8080/"
    },
    "id": "z26WjaUcg2XY",
    "outputId": "0c974f64-070d-467f-de76-da65018a48e3"
   },
   "outputs": [
    {
     "output_type": "stream",
     "name": "stdout",
     "output_type": "stream",
     "text": [
      "Out[9]: Unnamed: 0    49999\nDate          49820\nUser          35108\nTweet         49568\nLikes           598\nRetweets        312\ndtype: int64"
     ]
    }
   ],
   "source": [
    "#Checking the number of unique values of each column\n",
    "df.nunique()"
   ]
  },
  {
   "cell_type": "code",
   "execution_count": 0,
   "metadata": {
    "application/vnd.databricks.v1+cell": {
     "cellMetadata": {
      "byteLimit": 2048000,
      "rowLimit": 10000
     },
     "inputWidgets": {},
     "nuid": "be8d9b56-2344-4954-955a-2e15419f1998",
     "showTitle": false,
     "title": ""
    },
    "colab": {
     "base_uri": "https://localhost:8080/"
    },
    "id": "21jzv2P2g_5r",
    "outputId": "06b6aaf8-4d62-401b-afba-c8556408c1ff"
   },
   "outputs": [
    {
     "output_type": "stream",
     "name": "stdout",
     "output_type": "stream",
     "text": [
      "We have 2 numerical columns(features) : ['Likes', 'Retweets']\n\nWe have 4 categorical columns(features) : ['Unnamed: 0', 'Date', 'User', 'Tweet']\n"
     ]
    }
   ],
   "source": [
    "#Print numerical and categorical columns\n",
    "numeric_columns = [column for column in df.columns if df[column].dtype != 'O']\n",
    "categorical_columns = [column for column in df.columns if df[column].dtype == 'O']\n",
    "\n",
    "# print columns\n",
    "print('We have {} numerical columns(features) : {}'.format(len(numeric_columns), numeric_columns))\n",
    "print('\\nWe have {} categorical columns(features) : {}'.format(len(categorical_columns), categorical_columns))\n"
   ]
  },
  {
   "cell_type": "code",
   "execution_count": 0,
   "metadata": {
    "application/vnd.databricks.v1+cell": {
     "cellMetadata": {
      "byteLimit": 2048000,
      "rowLimit": 10000
     },
     "inputWidgets": {},
     "nuid": "ddbd604a-bc24-4a19-b1d3-51003cb90e37",
     "showTitle": false,
     "title": ""
    },
    "colab": {
     "base_uri": "https://localhost:8080/",
     "height": 310
    },
    "id": "iq5xQrU6hS3p",
    "outputId": "b1d8f271-8d76-4296-a93b-46e471ddcaf9"
   },
   "outputs": [
    {
     "output_type": "display_data",
     "data": {
      "text/html": [
       "<div>\n",
       "<style scoped>\n",
       "    .dataframe tbody tr th:only-of-type {\n",
       "        vertical-align: middle;\n",
       "    }\n",
       "\n",
       "    .dataframe tbody tr th {\n",
       "        vertical-align: top;\n",
       "    }\n",
       "\n",
       "    .dataframe thead th {\n",
       "        text-align: right;\n",
       "    }\n",
       "</style>\n",
       "<table border=\"1\" class=\"dataframe\">\n",
       "  <thead>\n",
       "    <tr style=\"text-align: right;\">\n",
       "      <th></th>\n",
       "      <th>Unnamed: 0</th>\n",
       "      <th>User</th>\n",
       "      <th>Tweet</th>\n",
       "      <th>Likes</th>\n",
       "      <th>Retweets</th>\n",
       "      <th>Original_Tweet</th>\n",
       "      <th>DateTime</th>\n",
       "      <th>date</th>\n",
       "      <th>month</th>\n",
       "      <th>year</th>\n",
       "      <th>hour</th>\n",
       "    </tr>\n",
       "  </thead>\n",
       "  <tbody>\n",
       "    <tr>\n",
       "      <th>0</th>\n",
       "      <td>0</td>\n",
       "      <td>AnandPatni8</td>\n",
       "      <td>@vinodkapri @RahulGandhi Respected Indian Citi...</td>\n",
       "      <td>0.0</td>\n",
       "      <td>0.0</td>\n",
       "      <td>@vinodkapri @RahulGandhi Respected Indian Citi...</td>\n",
       "      <td>2023-03-29 15:42:36</td>\n",
       "      <td>2023-03-29</td>\n",
       "      <td>3</td>\n",
       "      <td>2023</td>\n",
       "      <td>15</td>\n",
       "    </tr>\n",
       "    <tr>\n",
       "      <th>1</th>\n",
       "      <td>1</td>\n",
       "      <td>dhinamum</td>\n",
       "      <td>*Respected Indian Citizens,* Namaskaar I Am Th...</td>\n",
       "      <td>0.0</td>\n",
       "      <td>0.0</td>\n",
       "      <td>*Respected Indian Citizens,* Namaskaar I Am Th...</td>\n",
       "      <td>2023-03-29 15:42:05</td>\n",
       "      <td>2023-03-29</td>\n",
       "      <td>3</td>\n",
       "      <td>2023</td>\n",
       "      <td>15</td>\n",
       "    </tr>\n",
       "    <tr>\n",
       "      <th>2</th>\n",
       "      <td>2</td>\n",
       "      <td>PrincetonCGI</td>\n",
       "      <td>1/n-Meet Filmmaker Prakash Jha in New Jersey t...</td>\n",
       "      <td>0.0</td>\n",
       "      <td>0.0</td>\n",
       "      <td>1/n-Meet Filmmaker Prakash Jha in New Jersey t...</td>\n",
       "      <td>2023-03-29 15:34:29</td>\n",
       "      <td>2023-03-29</td>\n",
       "      <td>3</td>\n",
       "      <td>2023</td>\n",
       "      <td>15</td>\n",
       "    </tr>\n",
       "    <tr>\n",
       "      <th>3</th>\n",
       "      <td>3</td>\n",
       "      <td>RishiJoeSanu</td>\n",
       "      <td>@MrinalWahal Why would politicians stop using ...</td>\n",
       "      <td>0.0</td>\n",
       "      <td>0.0</td>\n",
       "      <td>@MrinalWahal Why would politicians stop using ...</td>\n",
       "      <td>2023-03-29 15:31:43</td>\n",
       "      <td>2023-03-29</td>\n",
       "      <td>3</td>\n",
       "      <td>2023</td>\n",
       "      <td>15</td>\n",
       "    </tr>\n",
       "    <tr>\n",
       "      <th>4</th>\n",
       "      <td>4</td>\n",
       "      <td>itweetsensee</td>\n",
       "      <td>@annamalai_k @narendramodi A state level presi...</td>\n",
       "      <td>0.0</td>\n",
       "      <td>0.0</td>\n",
       "      <td>@annamalai_k @narendramodi A state level presi...</td>\n",
       "      <td>2023-03-29 15:26:48</td>\n",
       "      <td>2023-03-29</td>\n",
       "      <td>3</td>\n",
       "      <td>2023</td>\n",
       "      <td>15</td>\n",
       "    </tr>\n",
       "  </tbody>\n",
       "</table>\n",
       "</div>"
      ]
     },
     "metadata": {
      "application/vnd.databricks.v1+output": {
       "addedWidgets": {},
       "arguments": {},
       "data": "<div>\n<style scoped>\n    .dataframe tbody tr th:only-of-type {\n        vertical-align: middle;\n    }\n\n    .dataframe tbody tr th {\n        vertical-align: top;\n    }\n\n    .dataframe thead th {\n        text-align: right;\n    }\n</style>\n<table border=\"1\" class=\"dataframe\">\n  <thead>\n    <tr style=\"text-align: right;\">\n      <th></th>\n      <th>Unnamed: 0</th>\n      <th>User</th>\n      <th>Tweet</th>\n      <th>Likes</th>\n      <th>Retweets</th>\n      <th>Original_Tweet</th>\n      <th>DateTime</th>\n      <th>date</th>\n      <th>month</th>\n      <th>year</th>\n      <th>hour</th>\n    </tr>\n  </thead>\n  <tbody>\n    <tr>\n      <th>0</th>\n      <td>0</td>\n      <td>AnandPatni8</td>\n      <td>@vinodkapri @RahulGandhi Respected Indian Citi...</td>\n      <td>0.0</td>\n      <td>0.0</td>\n      <td>@vinodkapri @RahulGandhi Respected Indian Citi...</td>\n      <td>2023-03-29 15:42:36</td>\n      <td>2023-03-29</td>\n      <td>3</td>\n      <td>2023</td>\n      <td>15</td>\n    </tr>\n    <tr>\n      <th>1</th>\n      <td>1</td>\n      <td>dhinamum</td>\n      <td>*Respected Indian Citizens,* Namaskaar I Am Th...</td>\n      <td>0.0</td>\n      <td>0.0</td>\n      <td>*Respected Indian Citizens,* Namaskaar I Am Th...</td>\n      <td>2023-03-29 15:42:05</td>\n      <td>2023-03-29</td>\n      <td>3</td>\n      <td>2023</td>\n      <td>15</td>\n    </tr>\n    <tr>\n      <th>2</th>\n      <td>2</td>\n      <td>PrincetonCGI</td>\n      <td>1/n-Meet Filmmaker Prakash Jha in New Jersey t...</td>\n      <td>0.0</td>\n      <td>0.0</td>\n      <td>1/n-Meet Filmmaker Prakash Jha in New Jersey t...</td>\n      <td>2023-03-29 15:34:29</td>\n      <td>2023-03-29</td>\n      <td>3</td>\n      <td>2023</td>\n      <td>15</td>\n    </tr>\n    <tr>\n      <th>3</th>\n      <td>3</td>\n      <td>RishiJoeSanu</td>\n      <td>@MrinalWahal Why would politicians stop using ...</td>\n      <td>0.0</td>\n      <td>0.0</td>\n      <td>@MrinalWahal Why would politicians stop using ...</td>\n      <td>2023-03-29 15:31:43</td>\n      <td>2023-03-29</td>\n      <td>3</td>\n      <td>2023</td>\n      <td>15</td>\n    </tr>\n    <tr>\n      <th>4</th>\n      <td>4</td>\n      <td>itweetsensee</td>\n      <td>@annamalai_k @narendramodi A state level presi...</td>\n      <td>0.0</td>\n      <td>0.0</td>\n      <td>@annamalai_k @narendramodi A state level presi...</td>\n      <td>2023-03-29 15:26:48</td>\n      <td>2023-03-29</td>\n      <td>3</td>\n      <td>2023</td>\n      <td>15</td>\n    </tr>\n  </tbody>\n</table>\n</div>",
       "datasetInfos": [],
       "metadata": {},
       "removedWidgets": [],
       "textData": null,
       "type": "htmlSandbox"
      }
     },
     "output_type": "display_data"
    }
   ],
   "source": [
    "df['Original_Tweet']=df['Tweet']\n",
    "df['DateTime'] = df['Date']\n",
    "df = df.drop('Date', axis=1)\n",
    "df['DateTime'] = df['DateTime'].astype(str).apply(lambda x: x.split('+')[0])\n",
    "# convert the 'DateTime' column to datetime format and replace invalid values with a default datetime\n",
    "df['DateTime'] = pd.to_datetime(df['DateTime'], errors='coerce', format='%Y-%m-%d %H:%M:%S').fillna(pd.Timestamp('1900-01-01'))\n",
    "\n",
    "df['date'] = df.DateTime.apply(lambda x: x.date())\n",
    "df['month'] = df.DateTime.apply(lambda x: x.month)\n",
    "df['year'] = df.DateTime.apply(lambda x: x.year)\n",
    "df['hour'] = df.DateTime.apply(lambda x: x.hour)\n",
    "df.head()"
   ]
  },
  {
   "cell_type": "code",
   "execution_count": 0,
   "metadata": {
    "application/vnd.databricks.v1+cell": {
     "cellMetadata": {
      "byteLimit": 2048000,
      "rowLimit": 10000
     },
     "inputWidgets": {},
     "nuid": "8dd38ea2-1715-4e81-a3ab-9c71e78c56e7",
     "showTitle": false,
     "title": ""
    },
    "id": "lpXopKiGh1YS"
   },
   "outputs": [],
   "source": [
    "# Create a function to clean the tweets. Remove profanity, unnecessary characters, spaces, and stopwords.\n",
    "\n",
    "\n",
    "# define the stopwords list\n",
    "stop_words = stopwords.words('english')\n",
    "\n",
    "def clean_tweet(tweet):\n",
    "    # convert to lower case\n",
    "    tweet = tweet.lower()\n",
    "\n",
    "    # remove twitter handlers\n",
    "    tweet = re.sub('@[^\\s]+', '', tweet)\n",
    "\n",
    "    # remove hashtags\n",
    "    tweet = re.sub(r'\\B#\\S+', '', tweet)\n",
    "\n",
    "    # remove urls\n",
    "    tweet = re.sub(r\"http\\S+\", \"\", tweet)\n",
    "\n",
    "    # remove special characters and punctuations\n",
    "    tweet = re.sub(r'\\W', ' ', tweet)\n",
    "\n",
    "    # remove single characters except for 'a' and 'i'\n",
    "    tweet = re.sub(r'\\s+[a-hj-z]\\s+', ' ', tweet)\n",
    "    tweet = re.sub(r'\\s+i\\s+', ' I ', tweet)\n",
    "    tweet = re.sub(r'\\s+a\\s+', ' a ', tweet)\n",
    "\n",
    "    # substitute multiple spaces with single space\n",
    "    tweet = re.sub(r'\\s+', ' ', tweet, flags=re.I)\n",
    "\n",
    "    # remove stop words\n",
    "    tweet = ' '.join([word for word in tweet.split() if word not in stop_words])\n",
    "\n",
    "    return tweet"
   ]
  },
  {
   "cell_type": "code",
   "execution_count": 0,
   "metadata": {
    "application/vnd.databricks.v1+cell": {
     "cellMetadata": {
      "byteLimit": 2048000,
      "rowLimit": 10000
     },
     "inputWidgets": {},
     "nuid": "826e49e2-7fcd-4190-a87a-91bafeb04870",
     "showTitle": false,
     "title": ""
    },
    "id": "YUiuIipajmOf"
   },
   "outputs": [],
   "source": [
    "df['Tweet'] = df['Tweet'].apply(clean_tweet)"
   ]
  },
  {
   "cell_type": "code",
   "execution_count": 0,
   "metadata": {
    "application/vnd.databricks.v1+cell": {
     "cellMetadata": {
      "byteLimit": 2048000,
      "rowLimit": 10000
     },
     "inputWidgets": {},
     "nuid": "3ef298f6-d5f9-4142-9cc0-c07edc0f35e9",
     "showTitle": false,
     "title": ""
    },
    "colab": {
     "base_uri": "https://localhost:8080/",
     "height": 293
    },
    "id": "ccpOIFj00VB6",
    "outputId": "cd931c54-6d01-4d46-eddc-706867677e02"
   },
   "outputs": [
    {
     "output_type": "display_data",
     "data": {
      "text/html": [
       "<div>\n",
       "<style scoped>\n",
       "    .dataframe tbody tr th:only-of-type {\n",
       "        vertical-align: middle;\n",
       "    }\n",
       "\n",
       "    .dataframe tbody tr th {\n",
       "        vertical-align: top;\n",
       "    }\n",
       "\n",
       "    .dataframe thead th {\n",
       "        text-align: right;\n",
       "    }\n",
       "</style>\n",
       "<table border=\"1\" class=\"dataframe\">\n",
       "  <thead>\n",
       "    <tr style=\"text-align: right;\">\n",
       "      <th></th>\n",
       "      <th>Unnamed: 0</th>\n",
       "      <th>User</th>\n",
       "      <th>Tweet</th>\n",
       "      <th>Likes</th>\n",
       "      <th>Retweets</th>\n",
       "      <th>Original_Tweet</th>\n",
       "      <th>DateTime</th>\n",
       "      <th>date</th>\n",
       "      <th>month</th>\n",
       "      <th>year</th>\n",
       "      <th>hour</th>\n",
       "    </tr>\n",
       "  </thead>\n",
       "  <tbody>\n",
       "    <tr>\n",
       "      <th>0</th>\n",
       "      <td>0</td>\n",
       "      <td>AnandPatni8</td>\n",
       "      <td>respected indian citizens namaskaar I original...</td>\n",
       "      <td>0.0</td>\n",
       "      <td>0.0</td>\n",
       "      <td>@vinodkapri @RahulGandhi Respected Indian Citi...</td>\n",
       "      <td>2023-03-29 15:42:36</td>\n",
       "      <td>2023-03-29</td>\n",
       "      <td>3</td>\n",
       "      <td>2023</td>\n",
       "      <td>15</td>\n",
       "    </tr>\n",
       "    <tr>\n",
       "      <th>1</th>\n",
       "      <td>1</td>\n",
       "      <td>dhinamum</td>\n",
       "      <td>respected indian citizens namaskaar I original...</td>\n",
       "      <td>0.0</td>\n",
       "      <td>0.0</td>\n",
       "      <td>*Respected Indian Citizens,* Namaskaar I Am Th...</td>\n",
       "      <td>2023-03-29 15:42:05</td>\n",
       "      <td>2023-03-29</td>\n",
       "      <td>3</td>\n",
       "      <td>2023</td>\n",
       "      <td>15</td>\n",
       "    </tr>\n",
       "    <tr>\n",
       "      <th>2</th>\n",
       "      <td>2</td>\n",
       "      <td>PrincetonCGI</td>\n",
       "      <td>1 meet filmmaker prakash jha new jersey talkin...</td>\n",
       "      <td>0.0</td>\n",
       "      <td>0.0</td>\n",
       "      <td>1/n-Meet Filmmaker Prakash Jha in New Jersey t...</td>\n",
       "      <td>2023-03-29 15:34:29</td>\n",
       "      <td>2023-03-29</td>\n",
       "      <td>3</td>\n",
       "      <td>2023</td>\n",
       "      <td>15</td>\n",
       "    </tr>\n",
       "    <tr>\n",
       "      <th>3</th>\n",
       "      <td>3</td>\n",
       "      <td>RishiJoeSanu</td>\n",
       "      <td>would politicians stop using religion politics...</td>\n",
       "      <td>0.0</td>\n",
       "      <td>0.0</td>\n",
       "      <td>@MrinalWahal Why would politicians stop using ...</td>\n",
       "      <td>2023-03-29 15:31:43</td>\n",
       "      <td>2023-03-29</td>\n",
       "      <td>3</td>\n",
       "      <td>2023</td>\n",
       "      <td>15</td>\n",
       "    </tr>\n",
       "    <tr>\n",
       "      <th>4</th>\n",
       "      <td>4</td>\n",
       "      <td>itweetsensee</td>\n",
       "      <td>state level president knows policy pm union mi...</td>\n",
       "      <td>0.0</td>\n",
       "      <td>0.0</td>\n",
       "      <td>@annamalai_k @narendramodi A state level presi...</td>\n",
       "      <td>2023-03-29 15:26:48</td>\n",
       "      <td>2023-03-29</td>\n",
       "      <td>3</td>\n",
       "      <td>2023</td>\n",
       "      <td>15</td>\n",
       "    </tr>\n",
       "  </tbody>\n",
       "</table>\n",
       "</div>"
      ]
     },
     "metadata": {
      "application/vnd.databricks.v1+output": {
       "addedWidgets": {},
       "arguments": {},
       "data": "<div>\n<style scoped>\n    .dataframe tbody tr th:only-of-type {\n        vertical-align: middle;\n    }\n\n    .dataframe tbody tr th {\n        vertical-align: top;\n    }\n\n    .dataframe thead th {\n        text-align: right;\n    }\n</style>\n<table border=\"1\" class=\"dataframe\">\n  <thead>\n    <tr style=\"text-align: right;\">\n      <th></th>\n      <th>Unnamed: 0</th>\n      <th>User</th>\n      <th>Tweet</th>\n      <th>Likes</th>\n      <th>Retweets</th>\n      <th>Original_Tweet</th>\n      <th>DateTime</th>\n      <th>date</th>\n      <th>month</th>\n      <th>year</th>\n      <th>hour</th>\n    </tr>\n  </thead>\n  <tbody>\n    <tr>\n      <th>0</th>\n      <td>0</td>\n      <td>AnandPatni8</td>\n      <td>respected indian citizens namaskaar I original...</td>\n      <td>0.0</td>\n      <td>0.0</td>\n      <td>@vinodkapri @RahulGandhi Respected Indian Citi...</td>\n      <td>2023-03-29 15:42:36</td>\n      <td>2023-03-29</td>\n      <td>3</td>\n      <td>2023</td>\n      <td>15</td>\n    </tr>\n    <tr>\n      <th>1</th>\n      <td>1</td>\n      <td>dhinamum</td>\n      <td>respected indian citizens namaskaar I original...</td>\n      <td>0.0</td>\n      <td>0.0</td>\n      <td>*Respected Indian Citizens,* Namaskaar I Am Th...</td>\n      <td>2023-03-29 15:42:05</td>\n      <td>2023-03-29</td>\n      <td>3</td>\n      <td>2023</td>\n      <td>15</td>\n    </tr>\n    <tr>\n      <th>2</th>\n      <td>2</td>\n      <td>PrincetonCGI</td>\n      <td>1 meet filmmaker prakash jha new jersey talkin...</td>\n      <td>0.0</td>\n      <td>0.0</td>\n      <td>1/n-Meet Filmmaker Prakash Jha in New Jersey t...</td>\n      <td>2023-03-29 15:34:29</td>\n      <td>2023-03-29</td>\n      <td>3</td>\n      <td>2023</td>\n      <td>15</td>\n    </tr>\n    <tr>\n      <th>3</th>\n      <td>3</td>\n      <td>RishiJoeSanu</td>\n      <td>would politicians stop using religion politics...</td>\n      <td>0.0</td>\n      <td>0.0</td>\n      <td>@MrinalWahal Why would politicians stop using ...</td>\n      <td>2023-03-29 15:31:43</td>\n      <td>2023-03-29</td>\n      <td>3</td>\n      <td>2023</td>\n      <td>15</td>\n    </tr>\n    <tr>\n      <th>4</th>\n      <td>4</td>\n      <td>itweetsensee</td>\n      <td>state level president knows policy pm union mi...</td>\n      <td>0.0</td>\n      <td>0.0</td>\n      <td>@annamalai_k @narendramodi A state level presi...</td>\n      <td>2023-03-29 15:26:48</td>\n      <td>2023-03-29</td>\n      <td>3</td>\n      <td>2023</td>\n      <td>15</td>\n    </tr>\n  </tbody>\n</table>\n</div>",
       "datasetInfos": [],
       "metadata": {},
       "removedWidgets": [],
       "textData": null,
       "type": "htmlSandbox"
      }
     },
     "output_type": "display_data"
    }
   ],
   "source": [
    "df.head()"
   ]
  },
  {
   "cell_type": "code",
   "execution_count": 0,
   "metadata": {
    "application/vnd.databricks.v1+cell": {
     "cellMetadata": {
      "byteLimit": 2048000,
      "rowLimit": 10000
     },
     "inputWidgets": {},
     "nuid": "1516d573-57c3-4eea-8a69-96c6efb75685",
     "showTitle": false,
     "title": ""
    },
    "colab": {
     "base_uri": "https://localhost:8080/"
    },
    "id": "hVC__CO516IH",
    "outputId": "a3c4b1cb-7357-406e-c6e3-ce2ca53ae0d5"
   },
   "outputs": [
    {
     "output_type": "stream",
     "name": "stderr",
     "output_type": "stream",
     "text": [
      "[nltk_data] Downloading package wordnet to /root/nltk_data...\n[nltk_data]   Package wordnet is already up-to-date!\n"
     ]
    }
   ],
   "source": [
    "import nltk\n",
    "#nltk.download('stopwords')\n",
    "nltk.download('wordnet')\n",
    "from nltk.corpus import stopwords\n",
    "from nltk.stem.porter import PorterStemmer\n",
    "from nltk.stem.snowball import SnowballStemmer\n",
    "from nltk.stem.wordnet import WordNetLemmatizer\n",
    "import pandas as pd\n",
    "import re\n",
    "import numpy as np\n",
    "from sklearn.feature_extraction.text import TfidfVectorizer"
   ]
  },
  {
   "cell_type": "code",
   "execution_count": 0,
   "metadata": {
    "application/vnd.databricks.v1+cell": {
     "cellMetadata": {
      "byteLimit": 2048000,
      "rowLimit": 10000
     },
     "inputWidgets": {},
     "nuid": "e9442228-c99b-49fa-bba9-e85daeb5befd",
     "showTitle": false,
     "title": ""
    },
    "id": "wNkcpTzY2LhP"
   },
   "outputs": [],
   "source": [
    "def lemmatize(corpus):\n",
    "    lem = WordNetLemmatizer()\n",
    "    corpus = [[lem.lemmatize(x, pos = 'v') for x in x] for x in corpus]\n",
    "    return corpus"
   ]
  },
  {
   "cell_type": "code",
   "execution_count": 0,
   "metadata": {
    "application/vnd.databricks.v1+cell": {
     "cellMetadata": {
      "byteLimit": 2048000,
      "rowLimit": 10000
     },
     "inputWidgets": {},
     "nuid": "20f0b977-9789-4444-82a3-f7267ebd426a",
     "showTitle": false,
     "title": ""
    },
    "id": "HaEjY6VP2utE"
   },
   "outputs": [],
   "source": [
    "def stem(corpus, stem_type = None):\n",
    "    if stem_type == 'snowball':\n",
    "        stemmer = SnowballStemmer(language = 'english')\n",
    "        corpus = [[stemmer.stem(x) for x in x] for x in corpus]\n",
    "    else :\n",
    "        stemmer = PorterStemmer()\n",
    "        corpus = [[stemmer.stem(x) for x in x] for x in corpus]\n",
    "    return corpus"
   ]
  },
  {
   "cell_type": "code",
   "execution_count": 0,
   "metadata": {
    "application/vnd.databricks.v1+cell": {
     "cellMetadata": {
      "byteLimit": 2048000,
      "rowLimit": 10000
     },
     "inputWidgets": {},
     "nuid": "dbb34785-b7f5-48fc-a992-e604fd4c09f8",
     "showTitle": false,
     "title": ""
    },
    "id": "5NONA8IF21KX"
   },
   "outputs": [],
   "source": [
    "def preprocess(corpus, keep_list=[], stemming = False, stem_type = None, lemmatization = False):\n",
    "    '''\n",
    "    Purpose : Function to perform all pre-processing tasks (cleaning, stemming, lemmatization, stopwords removal etc.)\n",
    "\n",
    "    Input :\n",
    "    'corpus' - Text corpus on which pre-processing tasks will be performed\n",
    "    'keep_list' - List of words to be retained during cleaning process\n",
    "    'stemming', 'lemmatization' - Boolean variables indicating whether a particular task should\n",
    "                                                                  be performed or not\n",
    "    'stem_type' - Choose between Porter stemmer or Snowball(Porter2) stemmer. Default is \"None\", which corresponds to Porter\n",
    "                  Stemmer. 'snowball' corresponds to Snowball Stemmer\n",
    "\n",
    "    Note : Either stemming or lemmatization should be used. There's no benefit of using both of them together\n",
    "\n",
    "    Output : Returns the processed text corpus\n",
    "\n",
    "    '''\n",
    "\n",
    "    if lemmatization == True:\n",
    "        corpus = lemmatize(corpus)\n",
    "\n",
    "\n",
    "    if stemming == True:\n",
    "        corpus = stem(corpus, stem_type)\n",
    "\n",
    "    corpus = [' '.join(tweet) for tweet in corpus]\n",
    "\n",
    "    return corpus"
   ]
  },
  {
   "cell_type": "code",
   "execution_count": 0,
   "metadata": {
    "application/vnd.databricks.v1+cell": {
     "cellMetadata": {
      "byteLimit": 2048000,
      "rowLimit": 10000
     },
     "inputWidgets": {},
     "nuid": "82beeba9-4496-4437-8757-be983cb7c68c",
     "showTitle": false,
     "title": ""
    },
    "id": "PgOyZKGh3MRP"
   },
   "outputs": [],
   "source": [
    "corpus = df['Tweet'].str.split().tolist()"
   ]
  },
  {
   "cell_type": "code",
   "execution_count": 0,
   "metadata": {
    "application/vnd.databricks.v1+cell": {
     "cellMetadata": {
      "byteLimit": 2048000,
      "rowLimit": 10000
     },
     "inputWidgets": {},
     "nuid": "be1dbb57-e6d3-42f3-8ff6-ec92974abc20",
     "showTitle": false,
     "title": ""
    },
    "colab": {
     "base_uri": "https://localhost:8080/"
    },
    "id": "2DVf15_M3OvX",
    "outputId": "10cb8b68-1f65-4e02-965c-81795b51dc7f"
   },
   "outputs": [
    {
     "output_type": "stream",
     "name": "stdout",
     "output_type": "stream",
     "text": [
      "Out[20]: list"
     ]
    }
   ],
   "source": [
    "type(corpus)"
   ]
  },
  {
   "cell_type": "code",
   "execution_count": 0,
   "metadata": {
    "application/vnd.databricks.v1+cell": {
     "cellMetadata": {
      "byteLimit": 2048000,
      "rowLimit": 10000
     },
     "inputWidgets": {},
     "nuid": "2981885a-4722-4d3a-b7b4-a95dc854c170",
     "showTitle": false,
     "title": ""
    },
    "id": "RJhnx3Sx3Qxi"
   },
   "outputs": [],
   "source": [
    "# Preprocessing with Lemmatization here\n",
    "preprocessed_corpus = preprocess(corpus, keep_list = [], stemming = False, stem_type = None,\n",
    "                                lemmatization = True)\n"
   ]
  },
  {
   "cell_type": "code",
   "execution_count": 0,
   "metadata": {
    "application/vnd.databricks.v1+cell": {
     "cellMetadata": {
      "byteLimit": 2048000,
      "rowLimit": 10000
     },
     "inputWidgets": {},
     "nuid": "a368dc1a-1f62-45d7-8d14-e2403ba2168c",
     "showTitle": false,
     "title": ""
    },
    "id": "_K3j3EOH-f2L"
   },
   "outputs": [],
   "source": [
    "df['Tweet']=preprocessed_corpus"
   ]
  },
  {
   "cell_type": "code",
   "execution_count": 0,
   "metadata": {
    "application/vnd.databricks.v1+cell": {
     "cellMetadata": {
      "byteLimit": 2048000,
      "rowLimit": 10000
     },
     "inputWidgets": {},
     "nuid": "186ec193-037a-40d0-a499-1754fa0f377a",
     "showTitle": false,
     "title": ""
    },
    "colab": {
     "base_uri": "https://localhost:8080/",
     "height": 614
    },
    "id": "dvG9oWZa-cqz",
    "outputId": "2e04a427-3cb9-42ef-bc57-eebc463f7f08"
   },
   "outputs": [
    {
     "output_type": "display_data",
     "data": {
      "text/html": [
       "<div>\n",
       "<style scoped>\n",
       "    .dataframe tbody tr th:only-of-type {\n",
       "        vertical-align: middle;\n",
       "    }\n",
       "\n",
       "    .dataframe tbody tr th {\n",
       "        vertical-align: top;\n",
       "    }\n",
       "\n",
       "    .dataframe thead th {\n",
       "        text-align: right;\n",
       "    }\n",
       "</style>\n",
       "<table border=\"1\" class=\"dataframe\">\n",
       "  <thead>\n",
       "    <tr style=\"text-align: right;\">\n",
       "      <th></th>\n",
       "      <th>Unnamed: 0</th>\n",
       "      <th>User</th>\n",
       "      <th>Tweet</th>\n",
       "      <th>Likes</th>\n",
       "      <th>Retweets</th>\n",
       "      <th>Original_Tweet</th>\n",
       "      <th>DateTime</th>\n",
       "      <th>date</th>\n",
       "      <th>month</th>\n",
       "      <th>year</th>\n",
       "      <th>hour</th>\n",
       "    </tr>\n",
       "  </thead>\n",
       "  <tbody>\n",
       "    <tr>\n",
       "      <th>0</th>\n",
       "      <td>0</td>\n",
       "      <td>AnandPatni8</td>\n",
       "      <td>respect indian citizens namaskaar I original g...</td>\n",
       "      <td>0.0</td>\n",
       "      <td>0.0</td>\n",
       "      <td>@vinodkapri @RahulGandhi Respected Indian Citi...</td>\n",
       "      <td>2023-03-29 15:42:36</td>\n",
       "      <td>2023-03-29</td>\n",
       "      <td>3</td>\n",
       "      <td>2023</td>\n",
       "      <td>15</td>\n",
       "    </tr>\n",
       "    <tr>\n",
       "      <th>1</th>\n",
       "      <td>1</td>\n",
       "      <td>dhinamum</td>\n",
       "      <td>respect indian citizens namaskaar I original g...</td>\n",
       "      <td>0.0</td>\n",
       "      <td>0.0</td>\n",
       "      <td>*Respected Indian Citizens,* Namaskaar I Am Th...</td>\n",
       "      <td>2023-03-29 15:42:05</td>\n",
       "      <td>2023-03-29</td>\n",
       "      <td>3</td>\n",
       "      <td>2023</td>\n",
       "      <td>15</td>\n",
       "    </tr>\n",
       "    <tr>\n",
       "      <th>2</th>\n",
       "      <td>2</td>\n",
       "      <td>PrincetonCGI</td>\n",
       "      <td>1 meet filmmaker prakash jha new jersey talk s...</td>\n",
       "      <td>0.0</td>\n",
       "      <td>0.0</td>\n",
       "      <td>1/n-Meet Filmmaker Prakash Jha in New Jersey t...</td>\n",
       "      <td>2023-03-29 15:34:29</td>\n",
       "      <td>2023-03-29</td>\n",
       "      <td>3</td>\n",
       "      <td>2023</td>\n",
       "      <td>15</td>\n",
       "    </tr>\n",
       "    <tr>\n",
       "      <th>3</th>\n",
       "      <td>3</td>\n",
       "      <td>RishiJoeSanu</td>\n",
       "      <td>would politicians stop use religion politics i...</td>\n",
       "      <td>0.0</td>\n",
       "      <td>0.0</td>\n",
       "      <td>@MrinalWahal Why would politicians stop using ...</td>\n",
       "      <td>2023-03-29 15:31:43</td>\n",
       "      <td>2023-03-29</td>\n",
       "      <td>3</td>\n",
       "      <td>2023</td>\n",
       "      <td>15</td>\n",
       "    </tr>\n",
       "    <tr>\n",
       "      <th>4</th>\n",
       "      <td>4</td>\n",
       "      <td>itweetsensee</td>\n",
       "      <td>state level president know policy pm union min...</td>\n",
       "      <td>0.0</td>\n",
       "      <td>0.0</td>\n",
       "      <td>@annamalai_k @narendramodi A state level presi...</td>\n",
       "      <td>2023-03-29 15:26:48</td>\n",
       "      <td>2023-03-29</td>\n",
       "      <td>3</td>\n",
       "      <td>2023</td>\n",
       "      <td>15</td>\n",
       "    </tr>\n",
       "    <tr>\n",
       "      <th>...</th>\n",
       "      <td>...</td>\n",
       "      <td>...</td>\n",
       "      <td>...</td>\n",
       "      <td>...</td>\n",
       "      <td>...</td>\n",
       "      <td>...</td>\n",
       "      <td>...</td>\n",
       "      <td>...</td>\n",
       "      <td>...</td>\n",
       "      <td>...</td>\n",
       "      <td>...</td>\n",
       "    </tr>\n",
       "    <tr>\n",
       "      <th>49996</th>\n",
       "      <td>49995</td>\n",
       "      <td>vinoims</td>\n",
       "      <td>cong rule 60 yrs center amp state level indian...</td>\n",
       "      <td>0.0</td>\n",
       "      <td>0.0</td>\n",
       "      <td>@kaushikcbasu Cong ruled for 60 +yrs at center...</td>\n",
       "      <td>2022-10-15 11:00:52</td>\n",
       "      <td>2022-10-15</td>\n",
       "      <td>10</td>\n",
       "      <td>2022</td>\n",
       "      <td>11</td>\n",
       "    </tr>\n",
       "    <tr>\n",
       "      <th>49997</th>\n",
       "      <td>49996</td>\n",
       "      <td>Dan_T129</td>\n",
       "      <td>indian lobbyists win pakistani busy fight war ...</td>\n",
       "      <td>0.0</td>\n",
       "      <td>0.0</td>\n",
       "      <td>@ARYSabirShakir @OfficialDGISPR It's indian lo...</td>\n",
       "      <td>2022-10-15 10:56:51</td>\n",
       "      <td>2022-10-15</td>\n",
       "      <td>10</td>\n",
       "      <td>2022</td>\n",
       "      <td>10</td>\n",
       "    </tr>\n",
       "    <tr>\n",
       "      <th>49998</th>\n",
       "      <td>49997</td>\n",
       "      <td>shivashan_</td>\n",
       "      <td>true leader put team front success failure acc...</td>\n",
       "      <td>4.0</td>\n",
       "      <td>1.0</td>\n",
       "      <td>@Schandillia A true leader puts the team in fr...</td>\n",
       "      <td>2022-10-15 10:50:52</td>\n",
       "      <td>2022-10-15</td>\n",
       "      <td>10</td>\n",
       "      <td>2022</td>\n",
       "      <td>10</td>\n",
       "    </tr>\n",
       "    <tr>\n",
       "      <th>49999</th>\n",
       "      <td>49998</td>\n",
       "      <td>SUNILKU74204938</td>\n",
       "      <td>rahul gandhi mahanayak india regard bharat jod...</td>\n",
       "      <td>0.0</td>\n",
       "      <td>0.0</td>\n",
       "      <td>Now' Rahul Gandhi is Mahanayak of\\nINDIA. Rega...</td>\n",
       "      <td>2022-10-15 10:41:17</td>\n",
       "      <td>2022-10-15</td>\n",
       "      <td>10</td>\n",
       "      <td>2022</td>\n",
       "      <td>10</td>\n",
       "    </tr>\n",
       "    <tr>\n",
       "      <th>50000</th>\n",
       "      <td>49999</td>\n",
       "      <td>Amateure_trader</td>\n",
       "      <td>new low indian politics want show anyone bad s...</td>\n",
       "      <td>0.0</td>\n",
       "      <td>0.0</td>\n",
       "      <td>@MajorPoonia New low in indian politics. If yo...</td>\n",
       "      <td>2022-10-15 10:28:05</td>\n",
       "      <td>2022-10-15</td>\n",
       "      <td>10</td>\n",
       "      <td>2022</td>\n",
       "      <td>10</td>\n",
       "    </tr>\n",
       "  </tbody>\n",
       "</table>\n",
       "<p>49999 rows × 11 columns</p>\n",
       "</div>"
      ]
     },
     "metadata": {
      "application/vnd.databricks.v1+output": {
       "addedWidgets": {},
       "arguments": {},
       "data": "<div>\n<style scoped>\n    .dataframe tbody tr th:only-of-type {\n        vertical-align: middle;\n    }\n\n    .dataframe tbody tr th {\n        vertical-align: top;\n    }\n\n    .dataframe thead th {\n        text-align: right;\n    }\n</style>\n<table border=\"1\" class=\"dataframe\">\n  <thead>\n    <tr style=\"text-align: right;\">\n      <th></th>\n      <th>Unnamed: 0</th>\n      <th>User</th>\n      <th>Tweet</th>\n      <th>Likes</th>\n      <th>Retweets</th>\n      <th>Original_Tweet</th>\n      <th>DateTime</th>\n      <th>date</th>\n      <th>month</th>\n      <th>year</th>\n      <th>hour</th>\n    </tr>\n  </thead>\n  <tbody>\n    <tr>\n      <th>0</th>\n      <td>0</td>\n      <td>AnandPatni8</td>\n      <td>respect indian citizens namaskaar I original g...</td>\n      <td>0.0</td>\n      <td>0.0</td>\n      <td>@vinodkapri @RahulGandhi Respected Indian Citi...</td>\n      <td>2023-03-29 15:42:36</td>\n      <td>2023-03-29</td>\n      <td>3</td>\n      <td>2023</td>\n      <td>15</td>\n    </tr>\n    <tr>\n      <th>1</th>\n      <td>1</td>\n      <td>dhinamum</td>\n      <td>respect indian citizens namaskaar I original g...</td>\n      <td>0.0</td>\n      <td>0.0</td>\n      <td>*Respected Indian Citizens,* Namaskaar I Am Th...</td>\n      <td>2023-03-29 15:42:05</td>\n      <td>2023-03-29</td>\n      <td>3</td>\n      <td>2023</td>\n      <td>15</td>\n    </tr>\n    <tr>\n      <th>2</th>\n      <td>2</td>\n      <td>PrincetonCGI</td>\n      <td>1 meet filmmaker prakash jha new jersey talk s...</td>\n      <td>0.0</td>\n      <td>0.0</td>\n      <td>1/n-Meet Filmmaker Prakash Jha in New Jersey t...</td>\n      <td>2023-03-29 15:34:29</td>\n      <td>2023-03-29</td>\n      <td>3</td>\n      <td>2023</td>\n      <td>15</td>\n    </tr>\n    <tr>\n      <th>3</th>\n      <td>3</td>\n      <td>RishiJoeSanu</td>\n      <td>would politicians stop use religion politics i...</td>\n      <td>0.0</td>\n      <td>0.0</td>\n      <td>@MrinalWahal Why would politicians stop using ...</td>\n      <td>2023-03-29 15:31:43</td>\n      <td>2023-03-29</td>\n      <td>3</td>\n      <td>2023</td>\n      <td>15</td>\n    </tr>\n    <tr>\n      <th>4</th>\n      <td>4</td>\n      <td>itweetsensee</td>\n      <td>state level president know policy pm union min...</td>\n      <td>0.0</td>\n      <td>0.0</td>\n      <td>@annamalai_k @narendramodi A state level presi...</td>\n      <td>2023-03-29 15:26:48</td>\n      <td>2023-03-29</td>\n      <td>3</td>\n      <td>2023</td>\n      <td>15</td>\n    </tr>\n    <tr>\n      <th>...</th>\n      <td>...</td>\n      <td>...</td>\n      <td>...</td>\n      <td>...</td>\n      <td>...</td>\n      <td>...</td>\n      <td>...</td>\n      <td>...</td>\n      <td>...</td>\n      <td>...</td>\n      <td>...</td>\n    </tr>\n    <tr>\n      <th>49996</th>\n      <td>49995</td>\n      <td>vinoims</td>\n      <td>cong rule 60 yrs center amp state level indian...</td>\n      <td>0.0</td>\n      <td>0.0</td>\n      <td>@kaushikcbasu Cong ruled for 60 +yrs at center...</td>\n      <td>2022-10-15 11:00:52</td>\n      <td>2022-10-15</td>\n      <td>10</td>\n      <td>2022</td>\n      <td>11</td>\n    </tr>\n    <tr>\n      <th>49997</th>\n      <td>49996</td>\n      <td>Dan_T129</td>\n      <td>indian lobbyists win pakistani busy fight war ...</td>\n      <td>0.0</td>\n      <td>0.0</td>\n      <td>@ARYSabirShakir @OfficialDGISPR It's indian lo...</td>\n      <td>2022-10-15 10:56:51</td>\n      <td>2022-10-15</td>\n      <td>10</td>\n      <td>2022</td>\n      <td>10</td>\n    </tr>\n    <tr>\n      <th>49998</th>\n      <td>49997</td>\n      <td>shivashan_</td>\n      <td>true leader put team front success failure acc...</td>\n      <td>4.0</td>\n      <td>1.0</td>\n      <td>@Schandillia A true leader puts the team in fr...</td>\n      <td>2022-10-15 10:50:52</td>\n      <td>2022-10-15</td>\n      <td>10</td>\n      <td>2022</td>\n      <td>10</td>\n    </tr>\n    <tr>\n      <th>49999</th>\n      <td>49998</td>\n      <td>SUNILKU74204938</td>\n      <td>rahul gandhi mahanayak india regard bharat jod...</td>\n      <td>0.0</td>\n      <td>0.0</td>\n      <td>Now' Rahul Gandhi is Mahanayak of\\nINDIA. Rega...</td>\n      <td>2022-10-15 10:41:17</td>\n      <td>2022-10-15</td>\n      <td>10</td>\n      <td>2022</td>\n      <td>10</td>\n    </tr>\n    <tr>\n      <th>50000</th>\n      <td>49999</td>\n      <td>Amateure_trader</td>\n      <td>new low indian politics want show anyone bad s...</td>\n      <td>0.0</td>\n      <td>0.0</td>\n      <td>@MajorPoonia New low in indian politics. If yo...</td>\n      <td>2022-10-15 10:28:05</td>\n      <td>2022-10-15</td>\n      <td>10</td>\n      <td>2022</td>\n      <td>10</td>\n    </tr>\n  </tbody>\n</table>\n<p>49999 rows × 11 columns</p>\n</div>",
       "datasetInfos": [],
       "metadata": {},
       "removedWidgets": [],
       "textData": null,
       "type": "htmlSandbox"
      }
     },
     "output_type": "display_data"
    }
   ],
   "source": [
    "df"
   ]
  },
  {
   "cell_type": "code",
   "execution_count": 0,
   "metadata": {
    "application/vnd.databricks.v1+cell": {
     "cellMetadata": {
      "byteLimit": 2048000,
      "rowLimit": 10000
     },
     "inputWidgets": {},
     "nuid": "ebc139fe-ab42-4ba9-939b-8b86f9645557",
     "showTitle": false,
     "title": ""
    },
    "id": "3AVrcavkjvjN"
   },
   "outputs": [],
   "source": [
    "# Define the sentiment objects using TextBlob\n",
    "\n",
    "sentiment_objects = [TextBlob(tweet) for tweet in df['Tweet']]\n",
    "\n",
    "# Create a list of polarity values and tweet text\n",
    "sentiment_values = [[tweet.sentiment.polarity, str(tweet)] for tweet in sentiment_objects]\n",
    "\n",
    "\n",
    "# Create a dataframe of each tweet against its polarity\n",
    "sentiment_df = pd.DataFrame(sentiment_values, columns=[\"polarity\", \"tweet\"])\n",
    "\n",
    "df['Polarity']=sentiment_df['polarity']"
   ]
  },
  {
   "cell_type": "code",
   "execution_count": 0,
   "metadata": {
    "application/vnd.databricks.v1+cell": {
     "cellMetadata": {
      "byteLimit": 2048000,
      "rowLimit": 10000
     },
     "inputWidgets": {},
     "nuid": "bb5a2c94-dd03-4282-80f5-b9844c7eebf5",
     "showTitle": false,
     "title": ""
    },
    "id": "fJx8AI7xkZQi"
   },
   "outputs": [],
   "source": [
    "# Create the new column using a lambda function and apply() to classify the tweets as Positive, Negative, or Neutral.\n",
    "df['Sentiment'] = df['Polarity'].apply(lambda x: 'Positive' if x > 0 else 'Negative' if x < 0 else 'Neutral')"
   ]
  },
  {
   "cell_type": "code",
   "execution_count": 0,
   "metadata": {
    "application/vnd.databricks.v1+cell": {
     "cellMetadata": {
      "byteLimit": 2048000,
      "rowLimit": 10000
     },
     "inputWidgets": {},
     "nuid": "c9fbbf69-656a-4839-a321-4ec3f37a2973",
     "showTitle": false,
     "title": ""
    },
    "colab": {
     "base_uri": "https://localhost:8080/",
     "height": 206
    },
    "id": "M6guRVudM6Fs",
    "outputId": "a9feeeb2-bb1e-4a4c-b1a0-9ff91679e796"
   },
   "outputs": [
    {
     "output_type": "display_data",
     "data": {
      "text/html": [
       "<div>\n",
       "<style scoped>\n",
       "    .dataframe tbody tr th:only-of-type {\n",
       "        vertical-align: middle;\n",
       "    }\n",
       "\n",
       "    .dataframe tbody tr th {\n",
       "        vertical-align: top;\n",
       "    }\n",
       "\n",
       "    .dataframe thead th {\n",
       "        text-align: right;\n",
       "    }\n",
       "</style>\n",
       "<table border=\"1\" class=\"dataframe\">\n",
       "  <thead>\n",
       "    <tr style=\"text-align: right;\">\n",
       "      <th></th>\n",
       "      <th>User</th>\n",
       "      <th>Tweet</th>\n",
       "      <th>Likes</th>\n",
       "      <th>Retweets</th>\n",
       "      <th>Polarity</th>\n",
       "      <th>Sentiment</th>\n",
       "    </tr>\n",
       "  </thead>\n",
       "  <tbody>\n",
       "    <tr>\n",
       "      <th>0</th>\n",
       "      <td>AnandPatni8</td>\n",
       "      <td>respect indian citizens namaskaar I original g...</td>\n",
       "      <td>0.0</td>\n",
       "      <td>0.0</td>\n",
       "      <td>-0.062500</td>\n",
       "      <td>Negative</td>\n",
       "    </tr>\n",
       "    <tr>\n",
       "      <th>1</th>\n",
       "      <td>dhinamum</td>\n",
       "      <td>respect indian citizens namaskaar I original g...</td>\n",
       "      <td>0.0</td>\n",
       "      <td>0.0</td>\n",
       "      <td>-0.062500</td>\n",
       "      <td>Negative</td>\n",
       "    </tr>\n",
       "    <tr>\n",
       "      <th>2</th>\n",
       "      <td>PrincetonCGI</td>\n",
       "      <td>1 meet filmmaker prakash jha new jersey talk s...</td>\n",
       "      <td>0.0</td>\n",
       "      <td>0.0</td>\n",
       "      <td>0.173232</td>\n",
       "      <td>Positive</td>\n",
       "    </tr>\n",
       "    <tr>\n",
       "      <th>3</th>\n",
       "      <td>RishiJoeSanu</td>\n",
       "      <td>would politicians stop use religion politics i...</td>\n",
       "      <td>0.0</td>\n",
       "      <td>0.0</td>\n",
       "      <td>0.000000</td>\n",
       "      <td>Neutral</td>\n",
       "    </tr>\n",
       "    <tr>\n",
       "      <th>4</th>\n",
       "      <td>itweetsensee</td>\n",
       "      <td>state level president know policy pm union min...</td>\n",
       "      <td>0.0</td>\n",
       "      <td>0.0</td>\n",
       "      <td>0.214286</td>\n",
       "      <td>Positive</td>\n",
       "    </tr>\n",
       "  </tbody>\n",
       "</table>\n",
       "</div>"
      ]
     },
     "metadata": {
      "application/vnd.databricks.v1+output": {
       "addedWidgets": {},
       "arguments": {},
       "data": "<div>\n<style scoped>\n    .dataframe tbody tr th:only-of-type {\n        vertical-align: middle;\n    }\n\n    .dataframe tbody tr th {\n        vertical-align: top;\n    }\n\n    .dataframe thead th {\n        text-align: right;\n    }\n</style>\n<table border=\"1\" class=\"dataframe\">\n  <thead>\n    <tr style=\"text-align: right;\">\n      <th></th>\n      <th>User</th>\n      <th>Tweet</th>\n      <th>Likes</th>\n      <th>Retweets</th>\n      <th>Polarity</th>\n      <th>Sentiment</th>\n    </tr>\n  </thead>\n  <tbody>\n    <tr>\n      <th>0</th>\n      <td>AnandPatni8</td>\n      <td>respect indian citizens namaskaar I original g...</td>\n      <td>0.0</td>\n      <td>0.0</td>\n      <td>-0.062500</td>\n      <td>Negative</td>\n    </tr>\n    <tr>\n      <th>1</th>\n      <td>dhinamum</td>\n      <td>respect indian citizens namaskaar I original g...</td>\n      <td>0.0</td>\n      <td>0.0</td>\n      <td>-0.062500</td>\n      <td>Negative</td>\n    </tr>\n    <tr>\n      <th>2</th>\n      <td>PrincetonCGI</td>\n      <td>1 meet filmmaker prakash jha new jersey talk s...</td>\n      <td>0.0</td>\n      <td>0.0</td>\n      <td>0.173232</td>\n      <td>Positive</td>\n    </tr>\n    <tr>\n      <th>3</th>\n      <td>RishiJoeSanu</td>\n      <td>would politicians stop use religion politics i...</td>\n      <td>0.0</td>\n      <td>0.0</td>\n      <td>0.000000</td>\n      <td>Neutral</td>\n    </tr>\n    <tr>\n      <th>4</th>\n      <td>itweetsensee</td>\n      <td>state level president know policy pm union min...</td>\n      <td>0.0</td>\n      <td>0.0</td>\n      <td>0.214286</td>\n      <td>Positive</td>\n    </tr>\n  </tbody>\n</table>\n</div>",
       "datasetInfos": [],
       "metadata": {},
       "removedWidgets": [],
       "textData": null,
       "type": "htmlSandbox"
      }
     },
     "output_type": "display_data"
    }
   ],
   "source": [
    "subset_df = df[['User', 'Tweet', 'Likes', 'Retweets', 'Polarity', 'Sentiment']]\n",
    "subset_df.head()\n",
    "\n"
   ]
  },
  {
   "cell_type": "code",
   "execution_count": 0,
   "metadata": {
    "application/vnd.databricks.v1+cell": {
     "cellMetadata": {
      "byteLimit": 2048000,
      "rowLimit": 10000
     },
     "inputWidgets": {},
     "nuid": "4cfae009-a14b-44d1-bd4f-f6dfd3cda237",
     "showTitle": false,
     "title": ""
    },
    "colab": {
     "base_uri": "https://localhost:8080/",
     "height": 310
    },
    "id": "RBYIvLbrkeN-",
    "outputId": "a36cd346-1f8c-4153-9b4b-6447b8adf707"
   },
   "outputs": [
    {
     "output_type": "display_data",
     "data": {
      "text/html": [
       "<div>\n",
       "<style scoped>\n",
       "    .dataframe tbody tr th:only-of-type {\n",
       "        vertical-align: middle;\n",
       "    }\n",
       "\n",
       "    .dataframe tbody tr th {\n",
       "        vertical-align: top;\n",
       "    }\n",
       "\n",
       "    .dataframe thead th {\n",
       "        text-align: right;\n",
       "    }\n",
       "</style>\n",
       "<table border=\"1\" class=\"dataframe\">\n",
       "  <thead>\n",
       "    <tr style=\"text-align: right;\">\n",
       "      <th></th>\n",
       "      <th>Unnamed: 0</th>\n",
       "      <th>User</th>\n",
       "      <th>Tweet</th>\n",
       "      <th>Likes</th>\n",
       "      <th>Retweets</th>\n",
       "      <th>Original_Tweet</th>\n",
       "      <th>DateTime</th>\n",
       "      <th>date</th>\n",
       "      <th>month</th>\n",
       "      <th>year</th>\n",
       "      <th>hour</th>\n",
       "      <th>Polarity</th>\n",
       "      <th>Sentiment</th>\n",
       "    </tr>\n",
       "  </thead>\n",
       "  <tbody>\n",
       "    <tr>\n",
       "      <th>0</th>\n",
       "      <td>0</td>\n",
       "      <td>AnandPatni8</td>\n",
       "      <td>respect indian citizens namaskaar I original g...</td>\n",
       "      <td>0.0</td>\n",
       "      <td>0.0</td>\n",
       "      <td>@vinodkapri @RahulGandhi Respected Indian Citi...</td>\n",
       "      <td>2023-03-29 15:42:36</td>\n",
       "      <td>2023-03-29</td>\n",
       "      <td>3</td>\n",
       "      <td>2023</td>\n",
       "      <td>15</td>\n",
       "      <td>-0.062500</td>\n",
       "      <td>Negative</td>\n",
       "    </tr>\n",
       "    <tr>\n",
       "      <th>1</th>\n",
       "      <td>1</td>\n",
       "      <td>dhinamum</td>\n",
       "      <td>respect indian citizens namaskaar I original g...</td>\n",
       "      <td>0.0</td>\n",
       "      <td>0.0</td>\n",
       "      <td>*Respected Indian Citizens,* Namaskaar I Am Th...</td>\n",
       "      <td>2023-03-29 15:42:05</td>\n",
       "      <td>2023-03-29</td>\n",
       "      <td>3</td>\n",
       "      <td>2023</td>\n",
       "      <td>15</td>\n",
       "      <td>-0.062500</td>\n",
       "      <td>Negative</td>\n",
       "    </tr>\n",
       "    <tr>\n",
       "      <th>2</th>\n",
       "      <td>2</td>\n",
       "      <td>PrincetonCGI</td>\n",
       "      <td>1 meet filmmaker prakash jha new jersey talk s...</td>\n",
       "      <td>0.0</td>\n",
       "      <td>0.0</td>\n",
       "      <td>1/n-Meet Filmmaker Prakash Jha in New Jersey t...</td>\n",
       "      <td>2023-03-29 15:34:29</td>\n",
       "      <td>2023-03-29</td>\n",
       "      <td>3</td>\n",
       "      <td>2023</td>\n",
       "      <td>15</td>\n",
       "      <td>0.173232</td>\n",
       "      <td>Positive</td>\n",
       "    </tr>\n",
       "    <tr>\n",
       "      <th>3</th>\n",
       "      <td>3</td>\n",
       "      <td>RishiJoeSanu</td>\n",
       "      <td>would politicians stop use religion politics i...</td>\n",
       "      <td>0.0</td>\n",
       "      <td>0.0</td>\n",
       "      <td>@MrinalWahal Why would politicians stop using ...</td>\n",
       "      <td>2023-03-29 15:31:43</td>\n",
       "      <td>2023-03-29</td>\n",
       "      <td>3</td>\n",
       "      <td>2023</td>\n",
       "      <td>15</td>\n",
       "      <td>0.000000</td>\n",
       "      <td>Neutral</td>\n",
       "    </tr>\n",
       "    <tr>\n",
       "      <th>4</th>\n",
       "      <td>4</td>\n",
       "      <td>itweetsensee</td>\n",
       "      <td>state level president know policy pm union min...</td>\n",
       "      <td>0.0</td>\n",
       "      <td>0.0</td>\n",
       "      <td>@annamalai_k @narendramodi A state level presi...</td>\n",
       "      <td>2023-03-29 15:26:48</td>\n",
       "      <td>2023-03-29</td>\n",
       "      <td>3</td>\n",
       "      <td>2023</td>\n",
       "      <td>15</td>\n",
       "      <td>0.214286</td>\n",
       "      <td>Positive</td>\n",
       "    </tr>\n",
       "  </tbody>\n",
       "</table>\n",
       "</div>"
      ]
     },
     "metadata": {
      "application/vnd.databricks.v1+output": {
       "addedWidgets": {},
       "arguments": {},
       "data": "<div>\n<style scoped>\n    .dataframe tbody tr th:only-of-type {\n        vertical-align: middle;\n    }\n\n    .dataframe tbody tr th {\n        vertical-align: top;\n    }\n\n    .dataframe thead th {\n        text-align: right;\n    }\n</style>\n<table border=\"1\" class=\"dataframe\">\n  <thead>\n    <tr style=\"text-align: right;\">\n      <th></th>\n      <th>Unnamed: 0</th>\n      <th>User</th>\n      <th>Tweet</th>\n      <th>Likes</th>\n      <th>Retweets</th>\n      <th>Original_Tweet</th>\n      <th>DateTime</th>\n      <th>date</th>\n      <th>month</th>\n      <th>year</th>\n      <th>hour</th>\n      <th>Polarity</th>\n      <th>Sentiment</th>\n    </tr>\n  </thead>\n  <tbody>\n    <tr>\n      <th>0</th>\n      <td>0</td>\n      <td>AnandPatni8</td>\n      <td>respect indian citizens namaskaar I original g...</td>\n      <td>0.0</td>\n      <td>0.0</td>\n      <td>@vinodkapri @RahulGandhi Respected Indian Citi...</td>\n      <td>2023-03-29 15:42:36</td>\n      <td>2023-03-29</td>\n      <td>3</td>\n      <td>2023</td>\n      <td>15</td>\n      <td>-0.062500</td>\n      <td>Negative</td>\n    </tr>\n    <tr>\n      <th>1</th>\n      <td>1</td>\n      <td>dhinamum</td>\n      <td>respect indian citizens namaskaar I original g...</td>\n      <td>0.0</td>\n      <td>0.0</td>\n      <td>*Respected Indian Citizens,* Namaskaar I Am Th...</td>\n      <td>2023-03-29 15:42:05</td>\n      <td>2023-03-29</td>\n      <td>3</td>\n      <td>2023</td>\n      <td>15</td>\n      <td>-0.062500</td>\n      <td>Negative</td>\n    </tr>\n    <tr>\n      <th>2</th>\n      <td>2</td>\n      <td>PrincetonCGI</td>\n      <td>1 meet filmmaker prakash jha new jersey talk s...</td>\n      <td>0.0</td>\n      <td>0.0</td>\n      <td>1/n-Meet Filmmaker Prakash Jha in New Jersey t...</td>\n      <td>2023-03-29 15:34:29</td>\n      <td>2023-03-29</td>\n      <td>3</td>\n      <td>2023</td>\n      <td>15</td>\n      <td>0.173232</td>\n      <td>Positive</td>\n    </tr>\n    <tr>\n      <th>3</th>\n      <td>3</td>\n      <td>RishiJoeSanu</td>\n      <td>would politicians stop use religion politics i...</td>\n      <td>0.0</td>\n      <td>0.0</td>\n      <td>@MrinalWahal Why would politicians stop using ...</td>\n      <td>2023-03-29 15:31:43</td>\n      <td>2023-03-29</td>\n      <td>3</td>\n      <td>2023</td>\n      <td>15</td>\n      <td>0.000000</td>\n      <td>Neutral</td>\n    </tr>\n    <tr>\n      <th>4</th>\n      <td>4</td>\n      <td>itweetsensee</td>\n      <td>state level president know policy pm union min...</td>\n      <td>0.0</td>\n      <td>0.0</td>\n      <td>@annamalai_k @narendramodi A state level presi...</td>\n      <td>2023-03-29 15:26:48</td>\n      <td>2023-03-29</td>\n      <td>3</td>\n      <td>2023</td>\n      <td>15</td>\n      <td>0.214286</td>\n      <td>Positive</td>\n    </tr>\n  </tbody>\n</table>\n</div>",
       "datasetInfos": [],
       "metadata": {},
       "removedWidgets": [],
       "textData": null,
       "type": "htmlSandbox"
      }
     },
     "output_type": "display_data"
    }
   ],
   "source": [
    "df.head()"
   ]
  },
  {
   "cell_type": "code",
   "execution_count": 0,
   "metadata": {
    "application/vnd.databricks.v1+cell": {
     "cellMetadata": {
      "byteLimit": 2048000,
      "rowLimit": 10000
     },
     "inputWidgets": {},
     "nuid": "b18ccf83-7fa6-4a57-aa65-750513b41467",
     "showTitle": false,
     "title": ""
    },
    "colab": {
     "base_uri": "https://localhost:8080/",
     "height": 564
    },
    "id": "a2ovQtcxLQ9Y",
    "outputId": "07601803-170e-41dc-bd2a-d4635584a5e0"
   },
   "outputs": [
    {
     "output_type": "display_data",
     "data": {
      "image/png": "[encoded data removed]"
     },
     "metadata": {
      "application/vnd.databricks.v1+output": {
       "addedWidgets": {},
       "arguments": {},
       "data": "data:image/png;base64,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\n",
       "datasetInfos": [],
       "metadata": {},
       "removedWidgets": [],
       "type": "image"
      }
     },
     "output_type": "display_data"
    }
   ],
   "source": [
    "import matplotlib.pyplot as plt\n",
    "\n",
    "# Grouping the data by hour and counting the number of tweets\n",
    "tweet_counts_by_hour = df.groupby('hour').size()\n",
    "\n",
    "# Creating the bar plot\n",
    "plt.figure(figsize=(10, 6))\n",
    "plt.bar(tweet_counts_by_hour.index, tweet_counts_by_hour.values, color='skyblue')\n",
    "plt.xlabel('Hour of the Day')\n",
    "plt.ylabel('Number of Tweets')\n",
    "plt.title('Number of Tweets by Hour of the Day')\n",
    "plt.xticks(range(24))  # Set the x-axis ticks to be the hours of the day (0 to 23)\n",
    "plt.show()\n",
    "\n"
   ]
  },
  {
   "cell_type": "code",
   "execution_count": 0,
   "metadata": {
    "application/vnd.databricks.v1+cell": {
     "cellMetadata": {
      "byteLimit": 2048000,
      "rowLimit": 10000
     },
     "inputWidgets": {},
     "nuid": "d1099a0d-7da5-4b76-b1f7-4f828b5308ec",
     "showTitle": false,
     "title": ""
    },
    "colab": {
     "base_uri": "https://localhost:8080/",
     "height": 638
    },
    "id": "p1uSNi9CMGWs",
    "outputId": "0375ecb1-ef57-4ed1-d32a-11b2bdae3c89"
   },
   "outputs": [
    {
     "output_type": "display_data",
     "data": {
      "image/png": "[encoded data removed]"
     },
     "metadata": {
      "application/vnd.databricks.v1+output": {
       "addedWidgets": {},
       "arguments": {},
       "data": "data:image/png;base64,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\n",
       "datasetInfos": [],
       "metadata": {},
       "removedWidgets": [],
       "type": "image"
      }
     },
     "output_type": "display_data"
    }
   ],
   "source": [
    "\n",
    "# Assuming df contains a column 'User' for usernames and 'Likes' for number of likes\n",
    "top_10_users = df.groupby('User')['Likes'].sum().nlargest(10)\n",
    "\n",
    "# Creating the line plot\n",
    "plt.figure(figsize=(10, 6))\n",
    "plt.plot(top_10_users.index, top_10_users.values, marker='o', color='green', linestyle='-')\n",
    "plt.xlabel('Top 10 Users')\n",
    "plt.ylabel('Likes')\n",
    "plt.title('Number of Likes by Top 10 Users')\n",
    "plt.xticks(rotation=45)  # Rotate x-axis labels for better visibility\n",
    "plt.grid(True)\n",
    "plt.show()\n"
   ]
  },
  {
   "cell_type": "code",
   "execution_count": 0,
   "metadata": {
    "application/vnd.databricks.v1+cell": {
     "cellMetadata": {
      "byteLimit": 2048000,
      "rowLimit": 10000
     },
     "inputWidgets": {},
     "nuid": "6bfeeaab-abb6-4bf2-a3d1-31bbc47bfaac",
     "showTitle": false,
     "title": ""
    },
    "colab": {
     "base_uri": "https://localhost:8080/",
     "height": 636
    },
    "id": "BNtXpYrsP4t0",
    "outputId": "f256d302-0235-431a-8dba-c4bdb9e1e260"
   },
   "outputs": [
    {
     "output_type": "display_data",
     "data": {
      "image/png": "[encoded data removed]"
     },
     "metadata": {
      "application/vnd.databricks.v1+output": {
       "addedWidgets": {},
       "arguments": {},
       "data": "data:image/png;base64,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\n",
       "datasetInfos": [],
       "metadata": {},
       "removedWidgets": [],
       "type": "image"
      }
     },
     "output_type": "display_data"
    }
   ],
   "source": [
    "\n",
    "\n",
    "# Assuming df contains a column 'User' for usernames and 'Retweets' for number of retweets\n",
    "top_10_users_retweets = df.groupby('User')['Retweets'].sum().nlargest(10)\n",
    "\n",
    "# Creating the line plot\n",
    "plt.figure(figsize=(10, 6))\n",
    "plt.plot(top_10_users_retweets.index, top_10_users_retweets.values, marker='o', color='blue', linestyle='-')\n",
    "plt.xlabel('Top 10 Users')\n",
    "plt.ylabel('Retweets')\n",
    "plt.title('Number of Retweets by Top 10 Users')\n",
    "plt.xticks(rotation=45)  # Rotate x-axis labels for better visibility\n",
    "plt.grid(True)\n",
    "plt.show()\n"
   ]
  },
  {
   "cell_type": "code",
   "execution_count": 0,
   "metadata": {
    "application/vnd.databricks.v1+cell": {
     "cellMetadata": {
      "byteLimit": 2048000,
      "rowLimit": 10000
     },
     "inputWidgets": {},
     "nuid": "c80f73e5-4968-4cc1-b921-71a69d5a2a7b",
     "showTitle": false,
     "title": ""
    },
    "colab": {
     "base_uri": "https://localhost:8080/",
     "height": 542
    },
    "id": "0WRLiY8dVIhR",
    "outputId": "2735a4a4-ba0d-4843-f91b-63ad1d4b0f51"
   },
   "outputs": [
    {
     "output_type": "display_data",
     "data": {
      "text/html": [
       "<html>\n",
       "<head><meta charset=\"utf-8\" /></head>\n",
       "<body>\n",
       "    <div>            <script src=\"https://cdnjs.cloudflare.com/ajax/libs/mathjax/2.7.5/MathJax.js?config=TeX-AMS-MML_SVG\"></script><script type=\"text/javascript\">if (window.MathJax) {MathJax.Hub.Config({SVG: {font: \"STIX-Web\"}});}</script>                <script type=\"text/javascript\">window.PlotlyConfig = {MathJaxConfig: 'local'};</script>\n",
       "        <script src=\"https://cdn.plot.ly/plotly-2.9.0.min.js\"></script>                <div id=\"5355876d-1908-47fd-bb11-ed40cf888119\" class=\"plotly-graph-div\" style=\"height:100%; width:100%;\"></div>            <script type=\"text/javascript\">                                    window.PLOTLYENV=window.PLOTLYENV || {};                                    if (document.getElementById(\"5355876d-1908-47fd-bb11-ed40cf888119\")) {                    Plotly.newPlot(                        \"5355876d-1908-47fd-bb11-ed40cf888119\",                        [{\"domain\":{\"x\":[0.0,1.0],\"y\":[0.0,1.0]},\"hovertemplate\":\"label=%{label}<br>value=%{value}<extra></extra>\",\"labels\":[\"Positive\",\"Negative\",\"Neutral\"],\"legendgroup\":\"\",\"name\":\"\",\"showlegend\":true,\"values\":[43.81887637752755,26.560531210624212,29.620592411848236],\"type\":\"pie\",\"textinfo\":\"percent+label\"}],                        {\"template\":{\"data\":{\"bar\":[{\"error_x\":{\"color\":\"#2a3f5f\"},\"error_y\":{\"color\":\"#2a3f5f\"},\"marker\":{\"line\":{\"color\":\"#E5ECF6\",\"width\":0.5},\"pattern\":{\"fillmode\":\"overlay\",\"size\":10,\"solidity\":0.2}},\"type\":\"bar\"}],\"barpolar\":[{\"marker\":{\"line\":{\"color\":\"#E5ECF6\",\"width\":0.5},\"pattern\":{\"fillmode\":\"overlay\",\"size\":10,\"solidity\":0.2}},\"type\":\"barpolar\"}],\"carpet\":[{\"aaxis\":{\"endlinecolor\":\"#2a3f5f\",\"gridcolor\":\"white\",\"linecolor\":\"white\",\"minorgridcolor\":\"white\",\"startlinecolor\":\"#2a3f5f\"},\"baxis\":{\"endlinecolor\":\"#2a3f5f\",\"gridcolor\":\"white\",\"linecolor\":\"white\",\"minorgridcolor\":\"white\",\"startlinecolor\":\"#2a3f5f\"},\"type\":\"carpet\"}],\"choropleth\":[{\"colorbar\":{\"outlinewidth\":0,\"ticks\":\"\"},\"type\":\"choropleth\"}],\"contour\":[{\"colorbar\":{\"outlinewidth\":0,\"ticks\":\"\"},\"colorscale\":[[0.0,\"#0d0887\"],[0.1111111111111111,\"#46039f\"],[0.2222222222222222,\"#7201a8\"],[0.3333333333333333,\"#9c179e\"],[0.4444444444444444,\"#bd3786\"],[0.5555555555555556,\"#d8576b\"],[0.6666666666666666,\"#ed7953\"],[0.7777777777777778,\"#fb9f3a\"],[0.8888888888888888,\"#fdca26\"],[1.0,\"#f0f921\"]],\"type\":\"contour\"}],\"contourcarpet\":[{\"colorbar\":{\"outlinewidth\":0,\"ticks\":\"\"},\"type\":\"contourcarpet\"}],\"heatmap\":[{\"colorbar\":{\"outlinewidth\":0,\"ticks\":\"\"},\"colorscale\":[[0.0,\"#0d0887\"],[0.1111111111111111,\"#46039f\"],[0.2222222222222222,\"#7201a8\"],[0.3333333333333333,\"#9c179e\"],[0.4444444444444444,\"#bd3786\"],[0.5555555555555556,\"#d8576b\"],[0.6666666666666666,\"#ed7953\"],[0.7777777777777778,\"#fb9f3a\"],[0.8888888888888888,\"#fdca26\"],[1.0,\"#f0f921\"]],\"type\":\"heatmap\"}],\"heatmapgl\":[{\"colorbar\":{\"outlinewidth\":0,\"ticks\":\"\"},\"colorscale\":[[0.0,\"#0d0887\"],[0.1111111111111111,\"#46039f\"],[0.2222222222222222,\"#7201a8\"],[0.3333333333333333,\"#9c179e\"],[0.4444444444444444,\"#bd3786\"],[0.5555555555555556,\"#d8576b\"],[0.6666666666666666,\"#ed7953\"],[0.7777777777777778,\"#fb9f3a\"],[0.8888888888888888,\"#fdca26\"],[1.0,\"#f0f921\"]],\"type\":\"heatmapgl\"}],\"histogram\":[{\"marker\":{\"pattern\":{\"fillmode\":\"overlay\",\"size\":10,\"solidity\":0.2}},\"type\":\"histogram\"}],\"histogram2d\":[{\"colorbar\":{\"outlinewidth\":0,\"ticks\":\"\"},\"colorscale\":[[0.0,\"#0d0887\"],[0.1111111111111111,\"#46039f\"],[0.2222222222222222,\"#7201a8\"],[0.3333333333333333,\"#9c179e\"],[0.4444444444444444,\"#bd3786\"],[0.5555555555555556,\"#d8576b\"],[0.6666666666666666,\"#ed7953\"],[0.7777777777777778,\"#fb9f3a\"],[0.8888888888888888,\"#fdca26\"],[1.0,\"#f0f921\"]],\"type\":\"histogram2d\"}],\"histogram2dcontour\":[{\"colorbar\":{\"outlinewidth\":0,\"ticks\":\"\"},\"colorscale\":[[0.0,\"#0d0887\"],[0.1111111111111111,\"#46039f\"],[0.2222222222222222,\"#7201a8\"],[0.3333333333333333,\"#9c179e\"],[0.4444444444444444,\"#bd3786\"],[0.5555555555555556,\"#d8576b\"],[0.6666666666666666,\"#ed7953\"],[0.7777777777777778,\"#fb9f3a\"],[0.8888888888888888,\"#fdca26\"],[1.0,\"#f0f921\"]],\"type\":\"histogram2dcontour\"}],\"mesh3d\":[{\"colorbar\":{\"outlinewidth\":0,\"ticks\":\"\"},\"type\":\"mesh3d\"}],\"parcoords\":[{\"line\":{\"colorbar\":{\"outlinewidth\":0,\"ticks\":\"\"}},\"type\":\"parcoords\"}],\"pie\":[{\"automargin\":true,\"type\":\"pie\"}],\"scatter\":[{\"marker\":{\"colorbar\":{\"outlinewidth\":0,\"ticks\":\"\"}},\"type\":\"scatter\"}],\"scatter3d\":[{\"line\":{\"colorbar\":{\"outlinewidth\":0,\"ticks\":\"\"}},\"marker\":{\"colorbar\":{\"outlinewidth\":0,\"ticks\":\"\"}},\"type\":\"scatter3d\"}],\"scattercarpet\":[{\"marker\":{\"colorbar\":{\"outlinewidth\":0,\"ticks\":\"\"}},\"type\":\"scattercarpet\"}],\"scattergeo\":[{\"marker\":{\"colorbar\":{\"outlinewidth\":0,\"ticks\":\"\"}},\"type\":\"scattergeo\"}],\"scattergl\":[{\"marker\":{\"colorbar\":{\"outlinewidth\":0,\"ticks\":\"\"}},\"type\":\"scattergl\"}],\"scattermapbox\":[{\"marker\":{\"colorbar\":{\"outlinewidth\":0,\"ticks\":\"\"}},\"type\":\"scattermapbox\"}],\"scatterpolar\":[{\"marker\":{\"colorbar\":{\"outlinewidth\":0,\"ticks\":\"\"}},\"type\":\"scatterpolar\"}],\"scatterpolargl\":[{\"marker\":{\"colorbar\":{\"outlinewidth\":0,\"ticks\":\"\"}},\"type\":\"scatterpolargl\"}],\"scatterternary\":[{\"marker\":{\"colorbar\":{\"outlinewidth\":0,\"ticks\":\"\"}},\"type\":\"scatterternary\"}],\"surface\":[{\"colorbar\":{\"outlinewidth\":0,\"ticks\":\"\"},\"colorscale\":[[0.0,\"#0d0887\"],[0.1111111111111111,\"#46039f\"],[0.2222222222222222,\"#7201a8\"],[0.3333333333333333,\"#9c179e\"],[0.4444444444444444,\"#bd3786\"],[0.5555555555555556,\"#d8576b\"],[0.6666666666666666,\"#ed7953\"],[0.7777777777777778,\"#fb9f3a\"],[0.8888888888888888,\"#fdca26\"],[1.0,\"#f0f921\"]],\"type\":\"surface\"}],\"table\":[{\"cells\":{\"fill\":{\"color\":\"#EBF0F8\"},\"line\":{\"color\":\"white\"}},\"header\":{\"fill\":{\"color\":\"#C8D4E3\"},\"line\":{\"color\":\"white\"}},\"type\":\"table\"}]},\"layout\":{\"annotationdefaults\":{\"arrowcolor\":\"#2a3f5f\",\"arrowhead\":0,\"arrowwidth\":1},\"autotypenumbers\":\"strict\",\"coloraxis\":{\"colorbar\":{\"outlinewidth\":0,\"ticks\":\"\"}},\"colorscale\":{\"diverging\":[[0,\"#8e0152\"],[0.1,\"#c51b7d\"],[0.2,\"#de77ae\"],[0.3,\"#f1b6da\"],[0.4,\"#fde0ef\"],[0.5,\"#f7f7f7\"],[0.6,\"#e6f5d0\"],[0.7,\"#b8e186\"],[0.8,\"#7fbc41\"],[0.9,\"#4d9221\"],[1,\"#276419\"]],\"sequential\":[[0.0,\"#0d0887\"],[0.1111111111111111,\"#46039f\"],[0.2222222222222222,\"#7201a8\"],[0.3333333333333333,\"#9c179e\"],[0.4444444444444444,\"#bd3786\"],[0.5555555555555556,\"#d8576b\"],[0.6666666666666666,\"#ed7953\"],[0.7777777777777778,\"#fb9f3a\"],[0.8888888888888888,\"#fdca26\"],[1.0,\"#f0f921\"]],\"sequentialminus\":[[0.0,\"#0d0887\"],[0.1111111111111111,\"#46039f\"],[0.2222222222222222,\"#7201a8\"],[0.3333333333333333,\"#9c179e\"],[0.4444444444444444,\"#bd3786\"],[0.5555555555555556,\"#d8576b\"],[0.6666666666666666,\"#ed7953\"],[0.7777777777777778,\"#fb9f3a\"],[0.8888888888888888,\"#fdca26\"],[1.0,\"#f0f921\"]]},\"colorway\":[\"#636efa\",\"#EF553B\",\"#00cc96\",\"#ab63fa\",\"#FFA15A\",\"#19d3f3\",\"#FF6692\",\"#B6E880\",\"#FF97FF\",\"#FECB52\"],\"font\":{\"color\":\"#2a3f5f\"},\"geo\":{\"bgcolor\":\"white\",\"lakecolor\":\"white\",\"landcolor\":\"#E5ECF6\",\"showlakes\":true,\"showland\":true,\"subunitcolor\":\"white\"},\"hoverlabel\":{\"align\":\"left\"},\"hovermode\":\"closest\",\"mapbox\":{\"style\":\"light\"},\"paper_bgcolor\":\"white\",\"plot_bgcolor\":\"#E5ECF6\",\"polar\":{\"angularaxis\":{\"gridcolor\":\"white\",\"linecolor\":\"white\",\"ticks\":\"\"},\"bgcolor\":\"#E5ECF6\",\"radialaxis\":{\"gridcolor\":\"white\",\"linecolor\":\"white\",\"ticks\":\"\"}},\"scene\":{\"xaxis\":{\"backgroundcolor\":\"#E5ECF6\",\"gridcolor\":\"white\",\"gridwidth\":2,\"linecolor\":\"white\",\"showbackground\":true,\"ticks\":\"\",\"zerolinecolor\":\"white\"},\"yaxis\":{\"backgroundcolor\":\"#E5ECF6\",\"gridcolor\":\"white\",\"gridwidth\":2,\"linecolor\":\"white\",\"showbackground\":true,\"ticks\":\"\",\"zerolinecolor\":\"white\"},\"zaxis\":{\"backgroundcolor\":\"#E5ECF6\",\"gridcolor\":\"white\",\"gridwidth\":2,\"linecolor\":\"white\",\"showbackground\":true,\"ticks\":\"\",\"zerolinecolor\":\"white\"}},\"shapedefaults\":{\"line\":{\"color\":\"#2a3f5f\"}},\"ternary\":{\"aaxis\":{\"gridcolor\":\"white\",\"linecolor\":\"white\",\"ticks\":\"\"},\"baxis\":{\"gridcolor\":\"white\",\"linecolor\":\"white\",\"ticks\":\"\"},\"bgcolor\":\"#E5ECF6\",\"caxis\":{\"gridcolor\":\"white\",\"linecolor\":\"white\",\"ticks\":\"\"}},\"title\":{\"x\":0.05},\"xaxis\":{\"automargin\":true,\"gridcolor\":\"white\",\"linecolor\":\"white\",\"ticks\":\"\",\"title\":{\"standoff\":15},\"zerolinecolor\":\"white\",\"zerolinewidth\":2},\"yaxis\":{\"automargin\":true,\"gridcolor\":\"white\",\"linecolor\":\"white\",\"ticks\":\"\",\"title\":{\"standoff\":15},\"zerolinecolor\":\"white\",\"zerolinewidth\":2}}},\"legend\":{\"tracegroupgap\":0},\"margin\":{\"t\":60},\"piecolorway\":[\"mediumseagreen\",\"crimson\",\"royalblue\"],\"title\":{\"font\":{\"size\":24},\"text\":\"Sentiment Distribution\"}},                        {\"responsive\": true}                    )                };                            </script>        </div>\n",
       "</body>\n",
       "</html>"
      ]
     },
     "metadata": {
      "application/vnd.databricks.v1+output": {
       "addedWidgets": {},
       "arguments": {},
       "data": "<html>\n<head><meta charset=\"utf-8\" /></head>\n<body>\n    <div>            <script src=\"https://cdnjs.cloudflare.com/ajax/libs/mathjax/2.7.5/MathJax.js?config=TeX-AMS-MML_SVG\"></script><script type=\"text/javascript\">if (window.MathJax) {MathJax.Hub.Config({SVG: {font: \"STIX-Web\"}});}</script>                <script type=\"text/javascript\">window.PlotlyConfig = {MathJaxConfig: 'local'};</script>\n        <script src=\"https://cdn.plot.ly/plotly-2.9.0.min.js\"></script>                <div id=\"5355876d-1908-47fd-bb11-ed40cf888119\" class=\"plotly-graph-div\" style=\"height:100%; width:100%;\"></div>            <script type=\"text/javascript\">                                    window.PLOTLYENV=window.PLOTLYENV || {};                                    if (document.getElementById(\"5355876d-1908-47fd-bb11-ed40cf888119\")) {                    Plotly.newPlot(                        \"5355876d-1908-47fd-bb11-ed40cf888119\",                        [{\"domain\":{\"x\":[0.0,1.0],\"y\":[0.0,1.0]},\"hovertemplate\":\"label=%{label}<br>value=%{value}<extra></extra>\",\"labels\":[\"Positive\",\"Negative\",\"Neutral\"],\"legendgroup\":\"\",\"name\":\"\",\"showlegend\":true,\"values\":[43.81887637752755,26.560531210624212,29.620592411848236],\"type\":\"pie\",\"textinfo\":\"percent+label\"}],                        {\"template\":{\"data\":{\"bar\":[{\"error_x\":{\"color\":\"#2a3f5f\"},\"error_y\":{\"color\":\"#2a3f5f\"},\"marker\":{\"line\":{\"color\":\"#E5ECF6\",\"width\":0.5},\"pattern\":{\"fillmode\":\"overlay\",\"size\":10,\"solidity\":0.2}},\"type\":\"bar\"}],\"barpolar\":[{\"marker\":{\"line\":{\"color\":\"#E5ECF6\",\"width\":0.5},\"pattern\":{\"fillmode\":\"overlay\",\"size\":10,\"solidity\":0.2}},\"type\":\"barpolar\"}],\"carpet\":[{\"aaxis\":{\"endlinecolor\":\"#2a3f5f\",\"gridcolor\":\"white\",\"linecolor\":\"white\",\"minorgridcolor\":\"white\",\"startlinecolor\":\"#2a3f5f\"},\"baxis\":{\"endlinecolor\":\"#2a3f5f\",\"gridcolor\":\"white\",\"linecolor\":\"white\",\"minorgridcolor\":\"white\",\"startlinecolor\":\"#2a3f5f\"},\"type\":\"carpet\"}],\"choropleth\":[{\"colorbar\":{\"outlinewidth\":0,\"ticks\":\"\"},\"type\":\"choropleth\"}],\"contour\":[{\"colorbar\":{\"outlinewidth\":0,\"ticks\":\"\"},\"colorscale\":[[0.0,\"#0d0887\"],[0.1111111111111111,\"#46039f\"],[0.2222222222222222,\"#7201a8\"],[0.3333333333333333,\"#9c179e\"],[0.4444444444444444,\"#bd3786\"],[0.5555555555555556,\"#d8576b\"],[0.6666666666666666,\"#ed7953\"],[0.7777777777777778,\"#fb9f3a\"],[0.8888888888888888,\"#fdca26\"],[1.0,\"#f0f921\"]],\"type\":\"contour\"}],\"contourcarpet\":[{\"colorbar\":{\"outlinewidth\":0,\"ticks\":\"\"},\"type\":\"contourcarpet\"}],\"heatmap\":[{\"colorbar\":{\"outlinewidth\":0,\"ticks\":\"\"},\"colorscale\":[[0.0,\"#0d0887\"],[0.1111111111111111,\"#46039f\"],[0.2222222222222222,\"#7201a8\"],[0.3333333333333333,\"#9c179e\"],[0.4444444444444444,\"#bd3786\"],[0.5555555555555556,\"#d8576b\"],[0.6666666666666666,\"#ed7953\"],[0.7777777777777778,\"#fb9f3a\"],[0.8888888888888888,\"#fdca26\"],[1.0,\"#f0f921\"]],\"type\":\"heatmap\"}],\"heatmapgl\":[{\"colorbar\":{\"outlinewidth\":0,\"ticks\":\"\"},\"colorscale\":[[0.0,\"#0d0887\"],[0.1111111111111111,\"#46039f\"],[0.2222222222222222,\"#7201a8\"],[0.3333333333333333,\"#9c179e\"],[0.4444444444444444,\"#bd3786\"],[0.5555555555555556,\"#d8576b\"],[0.6666666666666666,\"#ed7953\"],[0.7777777777777778,\"#fb9f3a\"],[0.8888888888888888,\"#fdca26\"],[1.0,\"#f0f921\"]],\"type\":\"heatmapgl\"}],\"histogram\":[{\"marker\":{\"pattern\":{\"fillmode\":\"overlay\",\"size\":10,\"solidity\":0.2}},\"type\":\"histogram\"}],\"histogram2d\":[{\"colorbar\":{\"outlinewidth\":0,\"ticks\":\"\"},\"colorscale\":[[0.0,\"#0d0887\"],[0.1111111111111111,\"#46039f\"],[0.2222222222222222,\"#7201a8\"],[0.3333333333333333,\"#9c179e\"],[0.4444444444444444,\"#bd3786\"],[0.5555555555555556,\"#d8576b\"],[0.6666666666666666,\"#ed7953\"],[0.7777777777777778,\"#fb9f3a\"],[0.8888888888888888,\"#fdca26\"],[1.0,\"#f0f921\"]],\"type\":\"histogram2d\"}],\"histogram2dcontour\":[{\"colorbar\":{\"outlinewidth\":0,\"ticks\":\"\"},\"colorscale\":[[0.0,\"#0d0887\"],[0.1111111111111111,\"#46039f\"],[0.2222222222222222,\"#7201a8\"],[0.3333333333333333,\"#9c179e\"],[0.4444444444444444,\"#bd3786\"],[0.5555555555555556,\"#d8576b\"],[0.6666666666666666,\"#ed7953\"],[0.7777777777777778,\"#fb9f3a\"],[0.8888888888888888,\"#fdca26\"],[1.0,\"#f0f921\"]],\"type\":\"histogram2dcontour\"}],\"mesh3d\":[{\"colorbar\":{\"outlinewidth\":0,\"ticks\":\"\"},\"type\":\"mesh3d\"}],\"parcoords\":[{\"line\":{\"colorbar\":{\"outlinewidth\":0,\"ticks\":\"\"}},\"type\":\"parcoords\"}],\"pie\":[{\"automargin\":true,\"type\":\"pie\"}],\"scatter\":[{\"marker\":{\"colorbar\":{\"outlinewidth\":0,\"ticks\":\"\"}},\"type\":\"scatter\"}],\"scatter3d\":[{\"line\":{\"colorbar\":{\"outlinewidth\":0,\"ticks\":\"\"}},\"marker\":{\"colorbar\":{\"outlinewidth\":0,\"ticks\":\"\"}},\"type\":\"scatter3d\"}],\"scattercarpet\":[{\"marker\":{\"colorbar\":{\"outlinewidth\":0,\"ticks\":\"\"}},\"type\":\"scattercarpet\"}],\"scattergeo\":[{\"marker\":{\"colorbar\":{\"outlinewidth\":0,\"ticks\":\"\"}},\"type\":\"scattergeo\"}],\"scattergl\":[{\"marker\":{\"colorbar\":{\"outlinewidth\":0,\"ticks\":\"\"}},\"type\":\"scattergl\"}],\"scattermapbox\":[{\"marker\":{\"colorbar\":{\"outlinewidth\":0,\"ticks\":\"\"}},\"type\":\"scattermapbox\"}],\"scatterpolar\":[{\"marker\":{\"colorbar\":{\"outlinewidth\":0,\"ticks\":\"\"}},\"type\":\"scatterpolar\"}],\"scatterpolargl\":[{\"marker\":{\"colorbar\":{\"outlinewidth\":0,\"ticks\":\"\"}},\"type\":\"scatterpolargl\"}],\"scatterternary\":[{\"marker\":{\"colorbar\":{\"outlinewidth\":0,\"ticks\":\"\"}},\"type\":\"scatterternary\"}],\"surface\":[{\"colorbar\":{\"outlinewidth\":0,\"ticks\":\"\"},\"colorscale\":[[0.0,\"#0d0887\"],[0.1111111111111111,\"#46039f\"],[0.2222222222222222,\"#7201a8\"],[0.3333333333333333,\"#9c179e\"],[0.4444444444444444,\"#bd3786\"],[0.5555555555555556,\"#d8576b\"],[0.6666666666666666,\"#ed7953\"],[0.7777777777777778,\"#fb9f3a\"],[0.8888888888888888,\"#fdca26\"],[1.0,\"#f0f921\"]],\"type\":\"surface\"}],\"table\":[{\"cells\":{\"fill\":{\"color\":\"#EBF0F8\"},\"line\":{\"color\":\"white\"}},\"header\":{\"fill\":{\"color\":\"#C8D4E3\"},\"line\":{\"color\":\"white\"}},\"type\":\"table\"}]},\"layout\":{\"annotationdefaults\":{\"arrowcolor\":\"#2a3f5f\",\"arrowhead\":0,\"arrowwidth\":1},\"autotypenumbers\":\"strict\",\"coloraxis\":{\"colorbar\":{\"outlinewidth\":0,\"ticks\":\"\"}},\"colorscale\":{\"diverging\":[[0,\"#8e0152\"],[0.1,\"#c51b7d\"],[0.2,\"#de77ae\"],[0.3,\"#f1b6da\"],[0.4,\"#fde0ef\"],[0.5,\"#f7f7f7\"],[0.6,\"#e6f5d0\"],[0.7,\"#b8e186\"],[0.8,\"#7fbc41\"],[0.9,\"#4d9221\"],[1,\"#276419\"]],\"sequential\":[[0.0,\"#0d0887\"],[0.1111111111111111,\"#46039f\"],[0.2222222222222222,\"#7201a8\"],[0.3333333333333333,\"#9c179e\"],[0.4444444444444444,\"#bd3786\"],[0.5555555555555556,\"#d8576b\"],[0.6666666666666666,\"#ed7953\"],[0.7777777777777778,\"#fb9f3a\"],[0.8888888888888888,\"#fdca26\"],[1.0,\"#f0f921\"]],\"sequentialminus\":[[0.0,\"#0d0887\"],[0.1111111111111111,\"#46039f\"],[0.2222222222222222,\"#7201a8\"],[0.3333333333333333,\"#9c179e\"],[0.4444444444444444,\"#bd3786\"],[0.5555555555555556,\"#d8576b\"],[0.6666666666666666,\"#ed7953\"],[0.7777777777777778,\"#fb9f3a\"],[0.8888888888888888,\"#fdca26\"],[1.0,\"#f0f921\"]]},\"colorway\":[\"#636efa\",\"#EF553B\",\"#00cc96\",\"#ab63fa\",\"#FFA15A\",\"#19d3f3\",\"#FF6692\",\"#B6E880\",\"#FF97FF\",\"#FECB52\"],\"font\":{\"color\":\"#2a3f5f\"},\"geo\":{\"bgcolor\":\"white\",\"lakecolor\":\"white\",\"landcolor\":\"#E5ECF6\",\"showlakes\":true,\"showland\":true,\"subunitcolor\":\"white\"},\"hoverlabel\":{\"align\":\"left\"},\"hovermode\":\"closest\",\"mapbox\":{\"style\":\"light\"},\"paper_bgcolor\":\"white\",\"plot_bgcolor\":\"#E5ECF6\",\"polar\":{\"angularaxis\":{\"gridcolor\":\"white\",\"linecolor\":\"white\",\"ticks\":\"\"},\"bgcolor\":\"#E5ECF6\",\"radialaxis\":{\"gridcolor\":\"white\",\"linecolor\":\"white\",\"ticks\":\"\"}},\"scene\":{\"xaxis\":{\"backgroundcolor\":\"#E5ECF6\",\"gridcolor\":\"white\",\"gridwidth\":2,\"linecolor\":\"white\",\"showbackground\":true,\"ticks\":\"\",\"zerolinecolor\":\"white\"},\"yaxis\":{\"backgroundcolor\":\"#E5ECF6\",\"gridcolor\":\"white\",\"gridwidth\":2,\"linecolor\":\"white\",\"showbackground\":true,\"ticks\":\"\",\"zerolinecolor\":\"white\"},\"zaxis\":{\"backgroundcolor\":\"#E5ECF6\",\"gridcolor\":\"white\",\"gridwidth\":2,\"linecolor\":\"white\",\"showbackground\":true,\"ticks\":\"\",\"zerolinecolor\":\"white\"}},\"shapedefaults\":{\"line\":{\"color\":\"#2a3f5f\"}},\"ternary\":{\"aaxis\":{\"gridcolor\":\"white\",\"linecolor\":\"white\",\"ticks\":\"\"},\"baxis\":{\"gridcolor\":\"white\",\"linecolor\":\"white\",\"ticks\":\"\"},\"bgcolor\":\"#E5ECF6\",\"caxis\":{\"gridcolor\":\"white\",\"linecolor\":\"white\",\"ticks\":\"\"}},\"title\":{\"x\":0.05},\"xaxis\":{\"automargin\":true,\"gridcolor\":\"white\",\"linecolor\":\"white\",\"ticks\":\"\",\"title\":{\"standoff\":15},\"zerolinecolor\":\"white\",\"zerolinewidth\":2},\"yaxis\":{\"automargin\":true,\"gridcolor\":\"white\",\"linecolor\":\"white\",\"ticks\":\"\",\"title\":{\"standoff\":15},\"zerolinecolor\":\"white\",\"zerolinewidth\":2}}},\"legend\":{\"tracegroupgap\":0},\"margin\":{\"t\":60},\"piecolorway\":[\"mediumseagreen\",\"crimson\",\"royalblue\"],\"title\":{\"font\":{\"size\":24},\"text\":\"Sentiment Distribution\"}},                        {\"responsive\": true}                    )                };                            </script>        </div>\n</body>\n</html>",
       "datasetInfos": [],
       "metadata": {},
       "removedWidgets": [],
       "textData": null,
       "type": "htmlSandbox"
      }
     },
     "output_type": "display_data"
    }
   ],
   "source": [
    "# Count the number of occurrences for each sentiment\n",
    "sentiment_counts = df['Sentiment'].value_counts()\n",
    "\n",
    "# Calculate the percentage for each sentiment\n",
    "positive_percent = sentiment_counts['Positive'] / len(df) * 100\n",
    "negative_percent = sentiment_counts['Negative'] / len(df) * 100\n",
    "neutral_percent = sentiment_counts['Neutral'] / len(df) * 100\n",
    "\n",
    "# Create a pie chart\n",
    "labels = ['Positive', 'Negative', 'Neutral']\n",
    "values = [positive_percent, negative_percent, neutral_percent]\n",
    "colors = ['mediumseagreen', 'crimson', 'royalblue']\n",
    "fig = px.pie(values=values, names=labels, color_discrete_sequence=colors)\n",
    "fig.update_traces(textinfo='percent+label')\n",
    "\n",
    "# Set the chart title and font size\n",
    "fig.update_layout(title_text='Sentiment Distribution', title_font_size=24)\n",
    "\n",
    "# Display the chart\n",
    "fig.show()"
   ]
  },
  {
   "cell_type": "code",
   "execution_count": 0,
   "metadata": {
    "application/vnd.databricks.v1+cell": {
     "cellMetadata": {
      "byteLimit": 2048000,
      "rowLimit": 10000
     },
     "inputWidgets": {},
     "nuid": "bbc3e8fa-8c03-4f14-a2f9-19ef8f13ab0c",
     "showTitle": false,
     "title": ""
    }
   },
   "outputs": [
    {
     "output_type": "stream",
     "name": "stdout",
     "output_type": "stream",
     "text": [
      "Requirement already satisfied: plotly in /databricks/python3/lib/python3.9/site-packages (5.6.0)\r\nCollecting plotly\r\n  Using cached plotly-5.17.0-py2.py3-none-any.whl (15.6 MB)\r\nRequirement already satisfied: packaging in /databricks/python3/lib/python3.9/site-packages (from plotly) (21.3)\r\nRequirement already satisfied: tenacity>=6.2.0 in /databricks/python3/lib/python3.9/site-packages (from plotly) (8.0.1)\r\nRequirement already satisfied: pyparsing!=3.0.5,>=2.0.2 in /databricks/python3/lib/python3.9/site-packages (from packaging->plotly) (3.0.4)\r\nInstalling collected packages: plotly\r\n  Attempting uninstall: plotly\r\n    Found existing installation: plotly 5.6.0\r\n    Not uninstalling plotly at /databricks/python3/lib/python3.9/site-packages, outside environment /local_disk0/.ephemeral_nfs/envs/pythonEnv-f985aff4-5238-4579-80f5-9267bb6d66d2\r\n    Can't uninstall 'plotly'. No files were found to uninstall.\r\nSuccessfully installed plotly-5.17.0\r\n\u001B[33mWARNING: You are using pip version 21.2.4; however, version 23.2.1 is available.\r\nYou should consider upgrading via the '/local_disk0/.ephemeral_nfs/envs/pythonEnv-f985aff4-5238-4579-80f5-9267bb6d66d2/bin/python -m pip install --upgrade pip' command.\u001B[0m\r\nRequirement already satisfied: pandas in /databricks/python3/lib/python3.9/site-packages (1.4.2)\r\nCollecting pandas\r\n  Using cached pandas-2.1.1-cp39-cp39-manylinux_2_17_x86_64.manylinux2014_x86_64.whl (12.3 MB)\r\nRequirement already satisfied: python-dateutil>=2.8.2 in /databricks/python3/lib/python3.9/site-packages (from pandas) (2.8.2)\r\nCollecting tzdata>=2022.1\r\n  Using cached tzdata-2023.3-py2.py3-none-any.whl (341 kB)\r\nRequirement already satisfied: pytz>=2020.1 in /databricks/python3/lib/python3.9/site-packages (from pandas) (2021.3)\r\nCollecting numpy>=1.22.4\r\n  Using cached numpy-1.26.0-cp39-cp39-manylinux_2_17_x86_64.manylinux2014_x86_64.whl (18.2 MB)\r\nRequirement already satisfied: six>=1.5 in /databricks/python3/lib/python3.9/site-packages (from python-dateutil>=2.8.2->pandas) (1.16.0)\r\nInstalling collected packages: tzdata, numpy, pandas\r\n  Attempting uninstall: numpy\r\n    Found existing installation: numpy 1.21.5\r\n    Not uninstalling numpy at /databricks/python3/lib/python3.9/site-packages, outside environment /local_disk0/.ephemeral_nfs/envs/pythonEnv-f985aff4-5238-4579-80f5-9267bb6d66d2\r\n    Can't uninstall 'numpy'. No files were found to uninstall.\r\n  Attempting uninstall: pandas\r\n    Found existing installation: pandas 1.4.2\r\n    Not uninstalling pandas at /databricks/python3/lib/python3.9/site-packages, outside environment /local_disk0/.ephemeral_nfs/envs/pythonEnv-f985aff4-5238-4579-80f5-9267bb6d66d2\r\n    Can't uninstall 'pandas'. No files were found to uninstall.\r\n\u001B[31mERROR: pip's dependency resolver does not currently take into account all the packages that are installed. This behaviour is the source of the following dependency conflicts.\r\nscipy 1.7.3 requires numpy<1.23.0,>=1.16.5, but you have numpy 1.26.0 which is incompatible.\u001B[0m\r\nSuccessfully installed numpy-1.26.0 pandas-2.1.1 tzdata-2023.3\r\n\u001B[33mWARNING: You are using pip version 21.2.4; however, version 23.2.1 is available.\r\nYou should consider upgrading via the '/local_disk0/.ephemeral_nfs/envs/pythonEnv-f985aff4-5238-4579-80f5-9267bb6d66d2/bin/python -m pip install --upgrade pip' command.\u001B[0m\r\n"
     ]
    }
   ],
   "source": [
    "!pip install plotly --upgrade \n",
    "\n",
    "!pip install pandas --upgrade \n"
   ]
  },
  {
   "cell_type": "code",
   "execution_count": 0,
   "metadata": {
    "application/vnd.databricks.v1+cell": {
     "cellMetadata": {
      "byteLimit": 2048000,
      "rowLimit": 10000
     },
     "inputWidgets": {},
     "nuid": "a3fb2624-9745-44f4-9515-b2e123e33ba6",
     "showTitle": false,
     "title": ""
    },
    "colab": {
     "base_uri": "https://localhost:8080/",
     "height": 542
    },
    "id": "TUhw6L99V_rT",
    "outputId": "2761e6a7-4416-498a-9f8e-5296c3faf6d8"
   },
   "outputs": [
    {
     "output_type": "display_data",
     "data": {
      "text/html": [
       "<html>\n",
       "<head><meta charset=\"utf-8\" /></head>\n",
       "<body>\n",
       "    <div>            <script src=\"https://cdnjs.cloudflare.com/ajax/libs/mathjax/2.7.5/MathJax.js?config=TeX-AMS-MML_SVG\"></script><script type=\"text/javascript\">if (window.MathJax) {MathJax.Hub.Config({SVG: {font: \"STIX-Web\"}});}</script>                <script type=\"text/javascript\">window.PlotlyConfig = {MathJaxConfig: 'local'};</script>\n",
       "        <script src=\"https://cdn.plot.ly/plotly-2.9.0.min.js\"></script>                <div id=\"c011887d-6f25-4ab7-8afd-148a25498831\" class=\"plotly-graph-div\" style=\"height:100%; width:100%;\"></div>            <script type=\"text/javascript\">                                    window.PLOTLYENV=window.PLOTLYENV || {};                                    if (document.getElementById(\"c011887d-6f25-4ab7-8afd-148a25498831\")) {                    Plotly.newPlot(                        \"c011887d-6f25-4ab7-8afd-148a25498831\",                        [{\"hovertemplate\":\"Sentiment=Negative<br>Number of Tweets=%{r}<br>Hour of Day=%{theta}<extra></extra>\",\"legendgroup\":\"Negative\",\"line\":{\"color\":\"crimson\",\"dash\":\"solid\"},\"marker\":{\"symbol\":\"circle\"},\"mode\":\"lines\",\"name\":\"Negative\",\"r\":[226,347,494,612,630,713,764,730,641,649,645,638,671,677,723,791,798,735,560,383,279,199,198,177,226],\"showlegend\":true,\"subplot\":\"polar\",\"theta\":[\"00:00\",\"01:00\",\"02:00\",\"03:00\",\"04:00\",\"05:00\",\"06:00\",\"07:00\",\"08:00\",\"09:00\",\"10:00\",\"11:00\",\"12:00\",\"13:00\",\"14:00\",\"15:00\",\"16:00\",\"17:00\",\"18:00\",\"19:00\",\"20:00\",\"21:00\",\"22:00\",\"23:00\",\"00:00\"],\"type\":\"scatterpolar\"},{\"hovertemplate\":\"Sentiment=Neutral<br>Number of Tweets=%{r}<br>Hour of Day=%{theta}<extra></extra>\",\"legendgroup\":\"Neutral\",\"line\":{\"color\":\"royalblue\",\"dash\":\"dot\"},\"marker\":{\"symbol\":\"circle\"},\"mode\":\"lines\",\"name\":\"Neutral\",\"r\":[205,273,484,674,887,954,883,814,738,754,687,712,779,843,846,885,829,808,614,386,256,177,163,159,205],\"showlegend\":true,\"subplot\":\"polar\",\"theta\":[\"00:00\",\"01:00\",\"02:00\",\"03:00\",\"04:00\",\"05:00\",\"06:00\",\"07:00\",\"08:00\",\"09:00\",\"10:00\",\"11:00\",\"12:00\",\"13:00\",\"14:00\",\"15:00\",\"16:00\",\"17:00\",\"18:00\",\"19:00\",\"20:00\",\"21:00\",\"22:00\",\"23:00\",\"00:00\"],\"type\":\"scatterpolar\"},{\"hovertemplate\":\"Sentiment=Positive<br>Number of Tweets=%{r}<br>Hour of Day=%{theta}<extra></extra>\",\"legendgroup\":\"Positive\",\"line\":{\"color\":\"mediumseagreen\",\"dash\":\"dash\"},\"marker\":{\"symbol\":\"circle\"},\"mode\":\"lines\",\"name\":\"Positive\",\"r\":[368,500,715,1013,1142,1272,1334,1173,1118,1017,1047,1088,1058,1184,1405,1313,1194,1124,921,607,456,322,266,272,368],\"showlegend\":true,\"subplot\":\"polar\",\"theta\":[\"00:00\",\"01:00\",\"02:00\",\"03:00\",\"04:00\",\"05:00\",\"06:00\",\"07:00\",\"08:00\",\"09:00\",\"10:00\",\"11:00\",\"12:00\",\"13:00\",\"14:00\",\"15:00\",\"16:00\",\"17:00\",\"18:00\",\"19:00\",\"20:00\",\"21:00\",\"22:00\",\"23:00\",\"00:00\"],\"type\":\"scatterpolar\"}],                        {\"template\":{\"data\":{\"barpolar\":[{\"marker\":{\"line\":{\"color\":\"rgb(237,237,237)\",\"width\":0.5},\"pattern\":{\"fillmode\":\"overlay\",\"size\":10,\"solidity\":0.2}},\"type\":\"barpolar\"}],\"bar\":[{\"error_x\":{\"color\":\"rgb(51,51,51)\"},\"error_y\":{\"color\":\"rgb(51,51,51)\"},\"marker\":{\"line\":{\"color\":\"rgb(237,237,237)\",\"width\":0.5},\"pattern\":{\"fillmode\":\"overlay\",\"size\":10,\"solidity\":0.2}},\"type\":\"bar\"}],\"carpet\":[{\"aaxis\":{\"endlinecolor\":\"rgb(51,51,51)\",\"gridcolor\":\"white\",\"linecolor\":\"white\",\"minorgridcolor\":\"white\",\"startlinecolor\":\"rgb(51,51,51)\"},\"baxis\":{\"endlinecolor\":\"rgb(51,51,51)\",\"gridcolor\":\"white\",\"linecolor\":\"white\",\"minorgridcolor\":\"white\",\"startlinecolor\":\"rgb(51,51,51)\"},\"type\":\"carpet\"}],\"choropleth\":[{\"colorbar\":{\"outlinewidth\":0,\"tickcolor\":\"rgb(237,237,237)\",\"ticklen\":6,\"ticks\":\"inside\"},\"type\":\"choropleth\"}],\"contourcarpet\":[{\"colorbar\":{\"outlinewidth\":0,\"tickcolor\":\"rgb(237,237,237)\",\"ticklen\":6,\"ticks\":\"inside\"},\"type\":\"contourcarpet\"}],\"contour\":[{\"colorbar\":{\"outlinewidth\":0,\"tickcolor\":\"rgb(237,237,237)\",\"ticklen\":6,\"ticks\":\"inside\"},\"colorscale\":[[0,\"rgb(20,44,66)\"],[1,\"rgb(90,179,244)\"]],\"type\":\"contour\"}],\"heatmapgl\":[{\"colorbar\":{\"outlinewidth\":0,\"tickcolor\":\"rgb(237,237,237)\",\"ticklen\":6,\"ticks\":\"inside\"},\"colorscale\":[[0,\"rgb(20,44,66)\"],[1,\"rgb(90,179,244)\"]],\"type\":\"heatmapgl\"}],\"heatmap\":[{\"colorbar\":{\"outlinewidth\":0,\"tickcolor\":\"rgb(237,237,237)\",\"ticklen\":6,\"ticks\":\"inside\"},\"colorscale\":[[0,\"rgb(20,44,66)\"],[1,\"rgb(90,179,244)\"]],\"type\":\"heatmap\"}],\"histogram2dcontour\":[{\"colorbar\":{\"outlinewidth\":0,\"tickcolor\":\"rgb(237,237,237)\",\"ticklen\":6,\"ticks\":\"inside\"},\"colorscale\":[[0,\"rgb(20,44,66)\"],[1,\"rgb(90,179,244)\"]],\"type\":\"histogram2dcontour\"}],\"histogram2d\":[{\"colorbar\":{\"outlinewidth\":0,\"tickcolor\":\"rgb(237,237,237)\",\"ticklen\":6,\"ticks\":\"inside\"},\"colorscale\":[[0,\"rgb(20,44,66)\"],[1,\"rgb(90,179,244)\"]],\"type\":\"histogram2d\"}],\"histogram\":[{\"marker\":{\"pattern\":{\"fillmode\":\"overlay\",\"size\":10,\"solidity\":0.2}},\"type\":\"histogram\"}],\"mesh3d\":[{\"colorbar\":{\"outlinewidth\":0,\"tickcolor\":\"rgb(237,237,237)\",\"ticklen\":6,\"ticks\":\"inside\"},\"type\":\"mesh3d\"}],\"parcoords\":[{\"line\":{\"colorbar\":{\"outlinewidth\":0,\"tickcolor\":\"rgb(237,237,237)\",\"ticklen\":6,\"ticks\":\"inside\"}},\"type\":\"parcoords\"}],\"pie\":[{\"automargin\":true,\"type\":\"pie\"}],\"scatter3d\":[{\"line\":{\"colorbar\":{\"outlinewidth\":0,\"tickcolor\":\"rgb(237,237,237)\",\"ticklen\":6,\"ticks\":\"inside\"}},\"marker\":{\"colorbar\":{\"outlinewidth\":0,\"tickcolor\":\"rgb(237,237,237)\",\"ticklen\":6,\"ticks\":\"inside\"}},\"type\":\"scatter3d\"}],\"scattercarpet\":[{\"marker\":{\"colorbar\":{\"outlinewidth\":0,\"tickcolor\":\"rgb(237,237,237)\",\"ticklen\":6,\"ticks\":\"inside\"}},\"type\":\"scattercarpet\"}],\"scattergeo\":[{\"marker\":{\"colorbar\":{\"outlinewidth\":0,\"tickcolor\":\"rgb(237,237,237)\",\"ticklen\":6,\"ticks\":\"inside\"}},\"type\":\"scattergeo\"}],\"scattergl\":[{\"marker\":{\"colorbar\":{\"outlinewidth\":0,\"tickcolor\":\"rgb(237,237,237)\",\"ticklen\":6,\"ticks\":\"inside\"}},\"type\":\"scattergl\"}],\"scattermapbox\":[{\"marker\":{\"colorbar\":{\"outlinewidth\":0,\"tickcolor\":\"rgb(237,237,237)\",\"ticklen\":6,\"ticks\":\"inside\"}},\"type\":\"scattermapbox\"}],\"scatterpolargl\":[{\"marker\":{\"colorbar\":{\"outlinewidth\":0,\"tickcolor\":\"rgb(237,237,237)\",\"ticklen\":6,\"ticks\":\"inside\"}},\"type\":\"scatterpolargl\"}],\"scatterpolar\":[{\"marker\":{\"colorbar\":{\"outlinewidth\":0,\"tickcolor\":\"rgb(237,237,237)\",\"ticklen\":6,\"ticks\":\"inside\"}},\"type\":\"scatterpolar\"}],\"scatter\":[{\"marker\":{\"colorbar\":{\"outlinewidth\":0,\"tickcolor\":\"rgb(237,237,237)\",\"ticklen\":6,\"ticks\":\"inside\"}},\"type\":\"scatter\"}],\"scatterternary\":[{\"marker\":{\"colorbar\":{\"outlinewidth\":0,\"tickcolor\":\"rgb(237,237,237)\",\"ticklen\":6,\"ticks\":\"inside\"}},\"type\":\"scatterternary\"}],\"surface\":[{\"colorbar\":{\"outlinewidth\":0,\"tickcolor\":\"rgb(237,237,237)\",\"ticklen\":6,\"ticks\":\"inside\"},\"colorscale\":[[0,\"rgb(20,44,66)\"],[1,\"rgb(90,179,244)\"]],\"type\":\"surface\"}],\"table\":[{\"cells\":{\"fill\":{\"color\":\"rgb(237,237,237)\"},\"line\":{\"color\":\"white\"}},\"header\":{\"fill\":{\"color\":\"rgb(217,217,217)\"},\"line\":{\"color\":\"white\"}},\"type\":\"table\"}]},\"layout\":{\"annotationdefaults\":{\"arrowhead\":0,\"arrowwidth\":1},\"autotypenumbers\":\"strict\",\"coloraxis\":{\"colorbar\":{\"outlinewidth\":0,\"tickcolor\":\"rgb(237,237,237)\",\"ticklen\":6,\"ticks\":\"inside\"}},\"colorscale\":{\"sequential\":[[0,\"rgb(20,44,66)\"],[1,\"rgb(90,179,244)\"]],\"sequentialminus\":[[0,\"rgb(20,44,66)\"],[1,\"rgb(90,179,244)\"]]},\"colorway\":[\"#F8766D\",\"#A3A500\",\"#00BF7D\",\"#00B0F6\",\"#E76BF3\"],\"font\":{\"color\":\"rgb(51,51,51)\"},\"geo\":{\"bgcolor\":\"white\",\"lakecolor\":\"white\",\"landcolor\":\"rgb(237,237,237)\",\"showlakes\":true,\"showland\":true,\"subunitcolor\":\"white\"},\"hoverlabel\":{\"align\":\"left\"},\"hovermode\":\"closest\",\"paper_bgcolor\":\"white\",\"plot_bgcolor\":\"rgb(237,237,237)\",\"polar\":{\"angularaxis\":{\"gridcolor\":\"white\",\"linecolor\":\"white\",\"showgrid\":true,\"tickcolor\":\"rgb(51,51,51)\",\"ticks\":\"outside\"},\"bgcolor\":\"rgb(237,237,237)\",\"radialaxis\":{\"gridcolor\":\"white\",\"linecolor\":\"white\",\"showgrid\":true,\"tickcolor\":\"rgb(51,51,51)\",\"ticks\":\"outside\"}},\"scene\":{\"xaxis\":{\"backgroundcolor\":\"rgb(237,237,237)\",\"gridcolor\":\"white\",\"gridwidth\":2,\"linecolor\":\"white\",\"showbackground\":true,\"showgrid\":true,\"tickcolor\":\"rgb(51,51,51)\",\"ticks\":\"outside\",\"zerolinecolor\":\"white\"},\"yaxis\":{\"backgroundcolor\":\"rgb(237,237,237)\",\"gridcolor\":\"white\",\"gridwidth\":2,\"linecolor\":\"white\",\"showbackground\":true,\"showgrid\":true,\"tickcolor\":\"rgb(51,51,51)\",\"ticks\":\"outside\",\"zerolinecolor\":\"white\"},\"zaxis\":{\"backgroundcolor\":\"rgb(237,237,237)\",\"gridcolor\":\"white\",\"gridwidth\":2,\"linecolor\":\"white\",\"showbackground\":true,\"showgrid\":true,\"tickcolor\":\"rgb(51,51,51)\",\"ticks\":\"outside\",\"zerolinecolor\":\"white\"}},\"shapedefaults\":{\"fillcolor\":\"black\",\"line\":{\"width\":0},\"opacity\":0.3},\"ternary\":{\"aaxis\":{\"gridcolor\":\"white\",\"linecolor\":\"white\",\"showgrid\":true,\"tickcolor\":\"rgb(51,51,51)\",\"ticks\":\"outside\"},\"baxis\":{\"gridcolor\":\"white\",\"linecolor\":\"white\",\"showgrid\":true,\"tickcolor\":\"rgb(51,51,51)\",\"ticks\":\"outside\"},\"bgcolor\":\"rgb(237,237,237)\",\"caxis\":{\"gridcolor\":\"white\",\"linecolor\":\"white\",\"showgrid\":true,\"tickcolor\":\"rgb(51,51,51)\",\"ticks\":\"outside\"}},\"xaxis\":{\"automargin\":true,\"gridcolor\":\"white\",\"linecolor\":\"white\",\"showgrid\":true,\"tickcolor\":\"rgb(51,51,51)\",\"ticks\":\"outside\",\"title\":{\"standoff\":15},\"zerolinecolor\":\"white\"},\"yaxis\":{\"automargin\":true,\"gridcolor\":\"white\",\"linecolor\":\"white\",\"showgrid\":true,\"tickcolor\":\"rgb(51,51,51)\",\"ticks\":\"outside\",\"title\":{\"standoff\":15},\"zerolinecolor\":\"white\"}}},\"polar\":{\"domain\":{\"x\":[0.0,1.0],\"y\":[0.0,1.0]},\"angularaxis\":{\"direction\":\"clockwise\",\"rotation\":90}},\"legend\":{\"title\":{\"text\":\"Sentiment\"},\"tracegroupgap\":0},\"margin\":{\"t\":60},\"title\":{\"text\":\"Time of Day no. of positive tweet, no. of negative tweet, no. of neutral tweet\",\"x\":0.5}},                        {\"responsive\": true}                    )                };                            </script>        </div>\n",
       "</body>\n",
       "</html>"
      ]
     },
     "metadata": {
      "application/vnd.databricks.v1+output": {
       "addedWidgets": {},
       "arguments": {},
       "data": "<html>\n<head><meta charset=\"utf-8\" /></head>\n<body>\n    <div>            <script src=\"https://cdnjs.cloudflare.com/ajax/libs/mathjax/2.7.5/MathJax.js?config=TeX-AMS-MML_SVG\"></script><script type=\"text/javascript\">if (window.MathJax) {MathJax.Hub.Config({SVG: {font: \"STIX-Web\"}});}</script>                <script type=\"text/javascript\">window.PlotlyConfig = {MathJaxConfig: 'local'};</script>\n        <script src=\"https://cdn.plot.ly/plotly-2.9.0.min.js\"></script>                <div id=\"c011887d-6f25-4ab7-8afd-148a25498831\" class=\"plotly-graph-div\" style=\"height:100%; width:100%;\"></div>            <script type=\"text/javascript\">                                    window.PLOTLYENV=window.PLOTLYENV || {};                                    if (document.getElementById(\"c011887d-6f25-4ab7-8afd-148a25498831\")) {                    Plotly.newPlot(                        \"c011887d-6f25-4ab7-8afd-148a25498831\",                        [{\"hovertemplate\":\"Sentiment=Negative<br>Number of Tweets=%{r}<br>Hour of Day=%{theta}<extra></extra>\",\"legendgroup\":\"Negative\",\"line\":{\"color\":\"crimson\",\"dash\":\"solid\"},\"marker\":{\"symbol\":\"circle\"},\"mode\":\"lines\",\"name\":\"Negative\",\"r\":[226,347,494,612,630,713,764,730,641,649,645,638,671,677,723,791,798,735,560,383,279,199,198,177,226],\"showlegend\":true,\"subplot\":\"polar\",\"theta\":[\"00:00\",\"01:00\",\"02:00\",\"03:00\",\"04:00\",\"05:00\",\"06:00\",\"07:00\",\"08:00\",\"09:00\",\"10:00\",\"11:00\",\"12:00\",\"13:00\",\"14:00\",\"15:00\",\"16:00\",\"17:00\",\"18:00\",\"19:00\",\"20:00\",\"21:00\",\"22:00\",\"23:00\",\"00:00\"],\"type\":\"scatterpolar\"},{\"hovertemplate\":\"Sentiment=Neutral<br>Number of Tweets=%{r}<br>Hour of Day=%{theta}<extra></extra>\",\"legendgroup\":\"Neutral\",\"line\":{\"color\":\"royalblue\",\"dash\":\"dot\"},\"marker\":{\"symbol\":\"circle\"},\"mode\":\"lines\",\"name\":\"Neutral\",\"r\":[205,273,484,674,887,954,883,814,738,754,687,712,779,843,846,885,829,808,614,386,256,177,163,159,205],\"showlegend\":true,\"subplot\":\"polar\",\"theta\":[\"00:00\",\"01:00\",\"02:00\",\"03:00\",\"04:00\",\"05:00\",\"06:00\",\"07:00\",\"08:00\",\"09:00\",\"10:00\",\"11:00\",\"12:00\",\"13:00\",\"14:00\",\"15:00\",\"16:00\",\"17:00\",\"18:00\",\"19:00\",\"20:00\",\"21:00\",\"22:00\",\"23:00\",\"00:00\"],\"type\":\"scatterpolar\"},{\"hovertemplate\":\"Sentiment=Positive<br>Number of Tweets=%{r}<br>Hour of Day=%{theta}<extra></extra>\",\"legendgroup\":\"Positive\",\"line\":{\"color\":\"mediumseagreen\",\"dash\":\"dash\"},\"marker\":{\"symbol\":\"circle\"},\"mode\":\"lines\",\"name\":\"Positive\",\"r\":[368,500,715,1013,1142,1272,1334,1173,1118,1017,1047,1088,1058,1184,1405,1313,1194,1124,921,607,456,322,266,272,368],\"showlegend\":true,\"subplot\":\"polar\",\"theta\":[\"00:00\",\"01:00\",\"02:00\",\"03:00\",\"04:00\",\"05:00\",\"06:00\",\"07:00\",\"08:00\",\"09:00\",\"10:00\",\"11:00\",\"12:00\",\"13:00\",\"14:00\",\"15:00\",\"16:00\",\"17:00\",\"18:00\",\"19:00\",\"20:00\",\"21:00\",\"22:00\",\"23:00\",\"00:00\"],\"type\":\"scatterpolar\"}],                        {\"template\":{\"data\":{\"barpolar\":[{\"marker\":{\"line\":{\"color\":\"rgb(237,237,237)\",\"width\":0.5},\"pattern\":{\"fillmode\":\"overlay\",\"size\":10,\"solidity\":0.2}},\"type\":\"barpolar\"}],\"bar\":[{\"error_x\":{\"color\":\"rgb(51,51,51)\"},\"error_y\":{\"color\":\"rgb(51,51,51)\"},\"marker\":{\"line\":{\"color\":\"rgb(237,237,237)\",\"width\":0.5},\"pattern\":{\"fillmode\":\"overlay\",\"size\":10,\"solidity\":0.2}},\"type\":\"bar\"}],\"carpet\":[{\"aaxis\":{\"endlinecolor\":\"rgb(51,51,51)\",\"gridcolor\":\"white\",\"linecolor\":\"white\",\"minorgridcolor\":\"white\",\"startlinecolor\":\"rgb(51,51,51)\"},\"baxis\":{\"endlinecolor\":\"rgb(51,51,51)\",\"gridcolor\":\"white\",\"linecolor\":\"white\",\"minorgridcolor\":\"white\",\"startlinecolor\":\"rgb(51,51,51)\"},\"type\":\"carpet\"}],\"choropleth\":[{\"colorbar\":{\"outlinewidth\":0,\"tickcolor\":\"rgb(237,237,237)\",\"ticklen\":6,\"ticks\":\"inside\"},\"type\":\"choropleth\"}],\"contourcarpet\":[{\"colorbar\":{\"outlinewidth\":0,\"tickcolor\":\"rgb(237,237,237)\",\"ticklen\":6,\"ticks\":\"inside\"},\"type\":\"contourcarpet\"}],\"contour\":[{\"colorbar\":{\"outlinewidth\":0,\"tickcolor\":\"rgb(237,237,237)\",\"ticklen\":6,\"ticks\":\"inside\"},\"colorscale\":[[0,\"rgb(20,44,66)\"],[1,\"rgb(90,179,244)\"]],\"type\":\"contour\"}],\"heatmapgl\":[{\"colorbar\":{\"outlinewidth\":0,\"tickcolor\":\"rgb(237,237,237)\",\"ticklen\":6,\"ticks\":\"inside\"},\"colorscale\":[[0,\"rgb(20,44,66)\"],[1,\"rgb(90,179,244)\"]],\"type\":\"heatmapgl\"}],\"heatmap\":[{\"colorbar\":{\"outlinewidth\":0,\"tickcolor\":\"rgb(237,237,237)\",\"ticklen\":6,\"ticks\":\"inside\"},\"colorscale\":[[0,\"rgb(20,44,66)\"],[1,\"rgb(90,179,244)\"]],\"type\":\"heatmap\"}],\"histogram2dcontour\":[{\"colorbar\":{\"outlinewidth\":0,\"tickcolor\":\"rgb(237,237,237)\",\"ticklen\":6,\"ticks\":\"inside\"},\"colorscale\":[[0,\"rgb(20,44,66)\"],[1,\"rgb(90,179,244)\"]],\"type\":\"histogram2dcontour\"}],\"histogram2d\":[{\"colorbar\":{\"outlinewidth\":0,\"tickcolor\":\"rgb(237,237,237)\",\"ticklen\":6,\"ticks\":\"inside\"},\"colorscale\":[[0,\"rgb(20,44,66)\"],[1,\"rgb(90,179,244)\"]],\"type\":\"histogram2d\"}],\"histogram\":[{\"marker\":{\"pattern\":{\"fillmode\":\"overlay\",\"size\":10,\"solidity\":0.2}},\"type\":\"histogram\"}],\"mesh3d\":[{\"colorbar\":{\"outlinewidth\":0,\"tickcolor\":\"rgb(237,237,237)\",\"ticklen\":6,\"ticks\":\"inside\"},\"type\":\"mesh3d\"}],\"parcoords\":[{\"line\":{\"colorbar\":{\"outlinewidth\":0,\"tickcolor\":\"rgb(237,237,237)\",\"ticklen\":6,\"ticks\":\"inside\"}},\"type\":\"parcoords\"}],\"pie\":[{\"automargin\":true,\"type\":\"pie\"}],\"scatter3d\":[{\"line\":{\"colorbar\":{\"outlinewidth\":0,\"tickcolor\":\"rgb(237,237,237)\",\"ticklen\":6,\"ticks\":\"inside\"}},\"marker\":{\"colorbar\":{\"outlinewidth\":0,\"tickcolor\":\"rgb(237,237,237)\",\"ticklen\":6,\"ticks\":\"inside\"}},\"type\":\"scatter3d\"}],\"scattercarpet\":[{\"marker\":{\"colorbar\":{\"outlinewidth\":0,\"tickcolor\":\"rgb(237,237,237)\",\"ticklen\":6,\"ticks\":\"inside\"}},\"type\":\"scattercarpet\"}],\"scattergeo\":[{\"marker\":{\"colorbar\":{\"outlinewidth\":0,\"tickcolor\":\"rgb(237,237,237)\",\"ticklen\":6,\"ticks\":\"inside\"}},\"type\":\"scattergeo\"}],\"scattergl\":[{\"marker\":{\"colorbar\":{\"outlinewidth\":0,\"tickcolor\":\"rgb(237,237,237)\",\"ticklen\":6,\"ticks\":\"inside\"}},\"type\":\"scattergl\"}],\"scattermapbox\":[{\"marker\":{\"colorbar\":{\"outlinewidth\":0,\"tickcolor\":\"rgb(237,237,237)\",\"ticklen\":6,\"ticks\":\"inside\"}},\"type\":\"scattermapbox\"}],\"scatterpolargl\":[{\"marker\":{\"colorbar\":{\"outlinewidth\":0,\"tickcolor\":\"rgb(237,237,237)\",\"ticklen\":6,\"ticks\":\"inside\"}},\"type\":\"scatterpolargl\"}],\"scatterpolar\":[{\"marker\":{\"colorbar\":{\"outlinewidth\":0,\"tickcolor\":\"rgb(237,237,237)\",\"ticklen\":6,\"ticks\":\"inside\"}},\"type\":\"scatterpolar\"}],\"scatter\":[{\"marker\":{\"colorbar\":{\"outlinewidth\":0,\"tickcolor\":\"rgb(237,237,237)\",\"ticklen\":6,\"ticks\":\"inside\"}},\"type\":\"scatter\"}],\"scatterternary\":[{\"marker\":{\"colorbar\":{\"outlinewidth\":0,\"tickcolor\":\"rgb(237,237,237)\",\"ticklen\":6,\"ticks\":\"inside\"}},\"type\":\"scatterternary\"}],\"surface\":[{\"colorbar\":{\"outlinewidth\":0,\"tickcolor\":\"rgb(237,237,237)\",\"ticklen\":6,\"ticks\":\"inside\"},\"colorscale\":[[0,\"rgb(20,44,66)\"],[1,\"rgb(90,179,244)\"]],\"type\":\"surface\"}],\"table\":[{\"cells\":{\"fill\":{\"color\":\"rgb(237,237,237)\"},\"line\":{\"color\":\"white\"}},\"header\":{\"fill\":{\"color\":\"rgb(217,217,217)\"},\"line\":{\"color\":\"white\"}},\"type\":\"table\"}]},\"layout\":{\"annotationdefaults\":{\"arrowhead\":0,\"arrowwidth\":1},\"autotypenumbers\":\"strict\",\"coloraxis\":{\"colorbar\":{\"outlinewidth\":0,\"tickcolor\":\"rgb(237,237,237)\",\"ticklen\":6,\"ticks\":\"inside\"}},\"colorscale\":{\"sequential\":[[0,\"rgb(20,44,66)\"],[1,\"rgb(90,179,244)\"]],\"sequentialminus\":[[0,\"rgb(20,44,66)\"],[1,\"rgb(90,179,244)\"]]},\"colorway\":[\"#F8766D\",\"#A3A500\",\"#00BF7D\",\"#00B0F6\",\"#E76BF3\"],\"font\":{\"color\":\"rgb(51,51,51)\"},\"geo\":{\"bgcolor\":\"white\",\"lakecolor\":\"white\",\"landcolor\":\"rgb(237,237,237)\",\"showlakes\":true,\"showland\":true,\"subunitcolor\":\"white\"},\"hoverlabel\":{\"align\":\"left\"},\"hovermode\":\"closest\",\"paper_bgcolor\":\"white\",\"plot_bgcolor\":\"rgb(237,237,237)\",\"polar\":{\"angularaxis\":{\"gridcolor\":\"white\",\"linecolor\":\"white\",\"showgrid\":true,\"tickcolor\":\"rgb(51,51,51)\",\"ticks\":\"outside\"},\"bgcolor\":\"rgb(237,237,237)\",\"radialaxis\":{\"gridcolor\":\"white\",\"linecolor\":\"white\",\"showgrid\":true,\"tickcolor\":\"rgb(51,51,51)\",\"ticks\":\"outside\"}},\"scene\":{\"xaxis\":{\"backgroundcolor\":\"rgb(237,237,237)\",\"gridcolor\":\"white\",\"gridwidth\":2,\"linecolor\":\"white\",\"showbackground\":true,\"showgrid\":true,\"tickcolor\":\"rgb(51,51,51)\",\"ticks\":\"outside\",\"zerolinecolor\":\"white\"},\"yaxis\":{\"backgroundcolor\":\"rgb(237,237,237)\",\"gridcolor\":\"white\",\"gridwidth\":2,\"linecolor\":\"white\",\"showbackground\":true,\"showgrid\":true,\"tickcolor\":\"rgb(51,51,51)\",\"ticks\":\"outside\",\"zerolinecolor\":\"white\"},\"zaxis\":{\"backgroundcolor\":\"rgb(237,237,237)\",\"gridcolor\":\"white\",\"gridwidth\":2,\"linecolor\":\"white\",\"showbackground\":true,\"showgrid\":true,\"tickcolor\":\"rgb(51,51,51)\",\"ticks\":\"outside\",\"zerolinecolor\":\"white\"}},\"shapedefaults\":{\"fillcolor\":\"black\",\"line\":{\"width\":0},\"opacity\":0.3},\"ternary\":{\"aaxis\":{\"gridcolor\":\"white\",\"linecolor\":\"white\",\"showgrid\":true,\"tickcolor\":\"rgb(51,51,51)\",\"ticks\":\"outside\"},\"baxis\":{\"gridcolor\":\"white\",\"linecolor\":\"white\",\"showgrid\":true,\"tickcolor\":\"rgb(51,51,51)\",\"ticks\":\"outside\"},\"bgcolor\":\"rgb(237,237,237)\",\"caxis\":{\"gridcolor\":\"white\",\"linecolor\":\"white\",\"showgrid\":true,\"tickcolor\":\"rgb(51,51,51)\",\"ticks\":\"outside\"}},\"xaxis\":{\"automargin\":true,\"gridcolor\":\"white\",\"linecolor\":\"white\",\"showgrid\":true,\"tickcolor\":\"rgb(51,51,51)\",\"ticks\":\"outside\",\"title\":{\"standoff\":15},\"zerolinecolor\":\"white\"},\"yaxis\":{\"automargin\":true,\"gridcolor\":\"white\",\"linecolor\":\"white\",\"showgrid\":true,\"tickcolor\":\"rgb(51,51,51)\",\"ticks\":\"outside\",\"title\":{\"standoff\":15},\"zerolinecolor\":\"white\"}}},\"polar\":{\"domain\":{\"x\":[0.0,1.0],\"y\":[0.0,1.0]},\"angularaxis\":{\"direction\":\"clockwise\",\"rotation\":90}},\"legend\":{\"title\":{\"text\":\"Sentiment\"},\"tracegroupgap\":0},\"margin\":{\"t\":60},\"title\":{\"text\":\"Time of Day no. of positive tweet, no. of negative tweet, no. of neutral tweet\",\"x\":0.5}},                        {\"responsive\": true}                    )                };                            </script>        </div>\n</body>\n</html>",
       "datasetInfos": [],
       "metadata": {},
       "removedWidgets": [],
       "textData": null,
       "type": "htmlSandbox"
      }
     },
     "output_type": "display_data"
    }
   ],
   "source": [
    "def format_hour(h: int):\n",
    "    h = str(h)\n",
    "    if len(h) == 1:\n",
    "        h = '0'+h\n",
    "    h = h+ \":00\"\n",
    "    return h\n",
    "\n",
    "sentiment_hourly = df.groupby(['Sentiment', 'hour'])['Tweet'].count()\n",
    "sentiment_hourly = pd.DataFrame(sentiment_hourly).reset_index()\n",
    "sentiment_hourly.columns = ['Sentiment', 'Hour of Day', 'Number of Tweets']\n",
    "sentiment_hourly['Hour of Day'] = sentiment_hourly['Hour of Day'].apply(format_hour)\n",
    "\n",
    "fig = px.line_polar(\n",
    "    data_frame=sentiment_hourly,\n",
    "    r=sentiment_hourly['Number of Tweets'],\n",
    "    theta='Hour of Day',\n",
    "    line_close=True,\n",
    "    color='Sentiment',\n",
    "    color_discrete_sequence=['crimson', 'royalblue', 'mediumseagreen'],\n",
    "    line_dash='Sentiment'\n",
    ")\n",
    "fig.update_layout(\n",
    "    title=\"Time of Day no. of positive tweet, no. of negative tweet, no. of neutral tweet\",\n",
    "    title_x=0.5,\n",
    "    template=\"ggplot2\"\n",
    ")\n",
    "fig.show()"
   ]
  },
  {
   "cell_type": "code",
   "execution_count": 0,
   "metadata": {
    "application/vnd.databricks.v1+cell": {
     "cellMetadata": {
      "byteLimit": 2048000,
      "rowLimit": 10000
     },
     "inputWidgets": {},
     "nuid": "7a49d403-fba8-4bd9-87b0-60be68c480eb",
     "showTitle": false,
     "title": ""
    }
   },
   "outputs": [
    {
     "output_type": "display_data",
     "data": {
      "text/html": [
       "<html>\n",
       "<head><meta charset=\"utf-8\" /></head>\n",
       "<body>\n",
       "    <div>            <script src=\"https://cdnjs.cloudflare.com/ajax/libs/mathjax/2.7.5/MathJax.js?config=TeX-AMS-MML_SVG\"></script><script type=\"text/javascript\">if (window.MathJax) {MathJax.Hub.Config({SVG: {font: \"STIX-Web\"}});}</script>                <script type=\"text/javascript\">window.PlotlyConfig = {MathJaxConfig: 'local'};</script>\n",
       "        <script src=\"https://cdn.plot.ly/plotly-2.9.0.min.js\"></script>                <div id=\"ca45d380-438a-43dc-83d6-77195b033192\" class=\"plotly-graph-div\" style=\"height:100%; width:100%;\"></div>            <script type=\"text/javascript\">                                    window.PLOTLYENV=window.PLOTLYENV || {};                                    if (document.getElementById(\"ca45d380-438a-43dc-83d6-77195b033192\")) {                    Plotly.newPlot(                        \"ca45d380-438a-43dc-83d6-77195b033192\",                        [{\"hovertemplate\":\"Sentiment=Negative<br>Value=%{r}<br>Hour of Day=%{theta}<extra></extra>\",\"legendgroup\":\"Negative\",\"line\":{\"color\":\"crimson\",\"dash\":\"solid\"},\"marker\":{\"symbol\":\"circle\"},\"mode\":\"lines\",\"name\":\"Negative\",\"r\":[226,347,494,612,630,713,764,730,641,649,645,638,671,677,723,791,798,735,560,383,279,199,198,177,226],\"showlegend\":true,\"subplot\":\"polar\",\"theta\":[\"00:00\",\"01:00\",\"02:00\",\"03:00\",\"04:00\",\"05:00\",\"06:00\",\"07:00\",\"08:00\",\"09:00\",\"10:00\",\"11:00\",\"12:00\",\"13:00\",\"14:00\",\"15:00\",\"16:00\",\"17:00\",\"18:00\",\"19:00\",\"20:00\",\"21:00\",\"22:00\",\"23:00\",\"00:00\"],\"type\":\"scatterpolar\"},{\"hovertemplate\":\"Sentiment=Neutral<br>Value=%{r}<br>Hour of Day=%{theta}<extra></extra>\",\"legendgroup\":\"Neutral\",\"line\":{\"color\":\"royalblue\",\"dash\":\"dot\"},\"marker\":{\"symbol\":\"circle\"},\"mode\":\"lines\",\"name\":\"Neutral\",\"r\":[205,273,484,674,887,954,883,814,738,754,687,712,779,843,846,885,829,808,614,386,256,177,163,159,205],\"showlegend\":true,\"subplot\":\"polar\",\"theta\":[\"00:00\",\"01:00\",\"02:00\",\"03:00\",\"04:00\",\"05:00\",\"06:00\",\"07:00\",\"08:00\",\"09:00\",\"10:00\",\"11:00\",\"12:00\",\"13:00\",\"14:00\",\"15:00\",\"16:00\",\"17:00\",\"18:00\",\"19:00\",\"20:00\",\"21:00\",\"22:00\",\"23:00\",\"00:00\"],\"type\":\"scatterpolar\"},{\"hovertemplate\":\"Sentiment=Positive<br>Value=%{r}<br>Hour of Day=%{theta}<extra></extra>\",\"legendgroup\":\"Positive\",\"line\":{\"color\":\"mediumseagreen\",\"dash\":\"dash\"},\"marker\":{\"symbol\":\"circle\"},\"mode\":\"lines\",\"name\":\"Positive\",\"r\":[368,500,715,1013,1142,1272,1334,1173,1118,1017,1047,1088,1058,1184,1405,1313,1194,1124,921,607,456,322,266,272,368],\"showlegend\":true,\"subplot\":\"polar\",\"theta\":[\"00:00\",\"01:00\",\"02:00\",\"03:00\",\"04:00\",\"05:00\",\"06:00\",\"07:00\",\"08:00\",\"09:00\",\"10:00\",\"11:00\",\"12:00\",\"13:00\",\"14:00\",\"15:00\",\"16:00\",\"17:00\",\"18:00\",\"19:00\",\"20:00\",\"21:00\",\"22:00\",\"23:00\",\"00:00\"],\"type\":\"scatterpolar\"}],                        {\"template\":{\"data\":{\"barpolar\":[{\"marker\":{\"line\":{\"color\":\"rgb(237,237,237)\",\"width\":0.5},\"pattern\":{\"fillmode\":\"overlay\",\"size\":10,\"solidity\":0.2}},\"type\":\"barpolar\"}],\"bar\":[{\"error_x\":{\"color\":\"rgb(51,51,51)\"},\"error_y\":{\"color\":\"rgb(51,51,51)\"},\"marker\":{\"line\":{\"color\":\"rgb(237,237,237)\",\"width\":0.5},\"pattern\":{\"fillmode\":\"overlay\",\"size\":10,\"solidity\":0.2}},\"type\":\"bar\"}],\"carpet\":[{\"aaxis\":{\"endlinecolor\":\"rgb(51,51,51)\",\"gridcolor\":\"white\",\"linecolor\":\"white\",\"minorgridcolor\":\"white\",\"startlinecolor\":\"rgb(51,51,51)\"},\"baxis\":{\"endlinecolor\":\"rgb(51,51,51)\",\"gridcolor\":\"white\",\"linecolor\":\"white\",\"minorgridcolor\":\"white\",\"startlinecolor\":\"rgb(51,51,51)\"},\"type\":\"carpet\"}],\"choropleth\":[{\"colorbar\":{\"outlinewidth\":0,\"tickcolor\":\"rgb(237,237,237)\",\"ticklen\":6,\"ticks\":\"inside\"},\"type\":\"choropleth\"}],\"contourcarpet\":[{\"colorbar\":{\"outlinewidth\":0,\"tickcolor\":\"rgb(237,237,237)\",\"ticklen\":6,\"ticks\":\"inside\"},\"type\":\"contourcarpet\"}],\"contour\":[{\"colorbar\":{\"outlinewidth\":0,\"tickcolor\":\"rgb(237,237,237)\",\"ticklen\":6,\"ticks\":\"inside\"},\"colorscale\":[[0,\"rgb(20,44,66)\"],[1,\"rgb(90,179,244)\"]],\"type\":\"contour\"}],\"heatmapgl\":[{\"colorbar\":{\"outlinewidth\":0,\"tickcolor\":\"rgb(237,237,237)\",\"ticklen\":6,\"ticks\":\"inside\"},\"colorscale\":[[0,\"rgb(20,44,66)\"],[1,\"rgb(90,179,244)\"]],\"type\":\"heatmapgl\"}],\"heatmap\":[{\"colorbar\":{\"outlinewidth\":0,\"tickcolor\":\"rgb(237,237,237)\",\"ticklen\":6,\"ticks\":\"inside\"},\"colorscale\":[[0,\"rgb(20,44,66)\"],[1,\"rgb(90,179,244)\"]],\"type\":\"heatmap\"}],\"histogram2dcontour\":[{\"colorbar\":{\"outlinewidth\":0,\"tickcolor\":\"rgb(237,237,237)\",\"ticklen\":6,\"ticks\":\"inside\"},\"colorscale\":[[0,\"rgb(20,44,66)\"],[1,\"rgb(90,179,244)\"]],\"type\":\"histogram2dcontour\"}],\"histogram2d\":[{\"colorbar\":{\"outlinewidth\":0,\"tickcolor\":\"rgb(237,237,237)\",\"ticklen\":6,\"ticks\":\"inside\"},\"colorscale\":[[0,\"rgb(20,44,66)\"],[1,\"rgb(90,179,244)\"]],\"type\":\"histogram2d\"}],\"histogram\":[{\"marker\":{\"pattern\":{\"fillmode\":\"overlay\",\"size\":10,\"solidity\":0.2}},\"type\":\"histogram\"}],\"mesh3d\":[{\"colorbar\":{\"outlinewidth\":0,\"tickcolor\":\"rgb(237,237,237)\",\"ticklen\":6,\"ticks\":\"inside\"},\"type\":\"mesh3d\"}],\"parcoords\":[{\"line\":{\"colorbar\":{\"outlinewidth\":0,\"tickcolor\":\"rgb(237,237,237)\",\"ticklen\":6,\"ticks\":\"inside\"}},\"type\":\"parcoords\"}],\"pie\":[{\"automargin\":true,\"type\":\"pie\"}],\"scatter3d\":[{\"line\":{\"colorbar\":{\"outlinewidth\":0,\"tickcolor\":\"rgb(237,237,237)\",\"ticklen\":6,\"ticks\":\"inside\"}},\"marker\":{\"colorbar\":{\"outlinewidth\":0,\"tickcolor\":\"rgb(237,237,237)\",\"ticklen\":6,\"ticks\":\"inside\"}},\"type\":\"scatter3d\"}],\"scattercarpet\":[{\"marker\":{\"colorbar\":{\"outlinewidth\":0,\"tickcolor\":\"rgb(237,237,237)\",\"ticklen\":6,\"ticks\":\"inside\"}},\"type\":\"scattercarpet\"}],\"scattergeo\":[{\"marker\":{\"colorbar\":{\"outlinewidth\":0,\"tickcolor\":\"rgb(237,237,237)\",\"ticklen\":6,\"ticks\":\"inside\"}},\"type\":\"scattergeo\"}],\"scattergl\":[{\"marker\":{\"colorbar\":{\"outlinewidth\":0,\"tickcolor\":\"rgb(237,237,237)\",\"ticklen\":6,\"ticks\":\"inside\"}},\"type\":\"scattergl\"}],\"scattermapbox\":[{\"marker\":{\"colorbar\":{\"outlinewidth\":0,\"tickcolor\":\"rgb(237,237,237)\",\"ticklen\":6,\"ticks\":\"inside\"}},\"type\":\"scattermapbox\"}],\"scatterpolargl\":[{\"marker\":{\"colorbar\":{\"outlinewidth\":0,\"tickcolor\":\"rgb(237,237,237)\",\"ticklen\":6,\"ticks\":\"inside\"}},\"type\":\"scatterpolargl\"}],\"scatterpolar\":[{\"marker\":{\"colorbar\":{\"outlinewidth\":0,\"tickcolor\":\"rgb(237,237,237)\",\"ticklen\":6,\"ticks\":\"inside\"}},\"type\":\"scatterpolar\"}],\"scatter\":[{\"marker\":{\"colorbar\":{\"outlinewidth\":0,\"tickcolor\":\"rgb(237,237,237)\",\"ticklen\":6,\"ticks\":\"inside\"}},\"type\":\"scatter\"}],\"scatterternary\":[{\"marker\":{\"colorbar\":{\"outlinewidth\":0,\"tickcolor\":\"rgb(237,237,237)\",\"ticklen\":6,\"ticks\":\"inside\"}},\"type\":\"scatterternary\"}],\"surface\":[{\"colorbar\":{\"outlinewidth\":0,\"tickcolor\":\"rgb(237,237,237)\",\"ticklen\":6,\"ticks\":\"inside\"},\"colorscale\":[[0,\"rgb(20,44,66)\"],[1,\"rgb(90,179,244)\"]],\"type\":\"surface\"}],\"table\":[{\"cells\":{\"fill\":{\"color\":\"rgb(237,237,237)\"},\"line\":{\"color\":\"white\"}},\"header\":{\"fill\":{\"color\":\"rgb(217,217,217)\"},\"line\":{\"color\":\"white\"}},\"type\":\"table\"}]},\"layout\":{\"annotationdefaults\":{\"arrowhead\":0,\"arrowwidth\":1},\"autotypenumbers\":\"strict\",\"coloraxis\":{\"colorbar\":{\"outlinewidth\":0,\"tickcolor\":\"rgb(237,237,237)\",\"ticklen\":6,\"ticks\":\"inside\"}},\"colorscale\":{\"sequential\":[[0,\"rgb(20,44,66)\"],[1,\"rgb(90,179,244)\"]],\"sequentialminus\":[[0,\"rgb(20,44,66)\"],[1,\"rgb(90,179,244)\"]]},\"colorway\":[\"#F8766D\",\"#A3A500\",\"#00BF7D\",\"#00B0F6\",\"#E76BF3\"],\"font\":{\"color\":\"rgb(51,51,51)\"},\"geo\":{\"bgcolor\":\"white\",\"lakecolor\":\"white\",\"landcolor\":\"rgb(237,237,237)\",\"showlakes\":true,\"showland\":true,\"subunitcolor\":\"white\"},\"hoverlabel\":{\"align\":\"left\"},\"hovermode\":\"closest\",\"paper_bgcolor\":\"white\",\"plot_bgcolor\":\"rgb(237,237,237)\",\"polar\":{\"angularaxis\":{\"gridcolor\":\"white\",\"linecolor\":\"white\",\"showgrid\":true,\"tickcolor\":\"rgb(51,51,51)\",\"ticks\":\"outside\"},\"bgcolor\":\"rgb(237,237,237)\",\"radialaxis\":{\"gridcolor\":\"white\",\"linecolor\":\"white\",\"showgrid\":true,\"tickcolor\":\"rgb(51,51,51)\",\"ticks\":\"outside\"}},\"scene\":{\"xaxis\":{\"backgroundcolor\":\"rgb(237,237,237)\",\"gridcolor\":\"white\",\"gridwidth\":2,\"linecolor\":\"white\",\"showbackground\":true,\"showgrid\":true,\"tickcolor\":\"rgb(51,51,51)\",\"ticks\":\"outside\",\"zerolinecolor\":\"white\"},\"yaxis\":{\"backgroundcolor\":\"rgb(237,237,237)\",\"gridcolor\":\"white\",\"gridwidth\":2,\"linecolor\":\"white\",\"showbackground\":true,\"showgrid\":true,\"tickcolor\":\"rgb(51,51,51)\",\"ticks\":\"outside\",\"zerolinecolor\":\"white\"},\"zaxis\":{\"backgroundcolor\":\"rgb(237,237,237)\",\"gridcolor\":\"white\",\"gridwidth\":2,\"linecolor\":\"white\",\"showbackground\":true,\"showgrid\":true,\"tickcolor\":\"rgb(51,51,51)\",\"ticks\":\"outside\",\"zerolinecolor\":\"white\"}},\"shapedefaults\":{\"fillcolor\":\"black\",\"line\":{\"width\":0},\"opacity\":0.3},\"ternary\":{\"aaxis\":{\"gridcolor\":\"white\",\"linecolor\":\"white\",\"showgrid\":true,\"tickcolor\":\"rgb(51,51,51)\",\"ticks\":\"outside\"},\"baxis\":{\"gridcolor\":\"white\",\"linecolor\":\"white\",\"showgrid\":true,\"tickcolor\":\"rgb(51,51,51)\",\"ticks\":\"outside\"},\"bgcolor\":\"rgb(237,237,237)\",\"caxis\":{\"gridcolor\":\"white\",\"linecolor\":\"white\",\"showgrid\":true,\"tickcolor\":\"rgb(51,51,51)\",\"ticks\":\"outside\"}},\"xaxis\":{\"automargin\":true,\"gridcolor\":\"white\",\"linecolor\":\"white\",\"showgrid\":true,\"tickcolor\":\"rgb(51,51,51)\",\"ticks\":\"outside\",\"title\":{\"standoff\":15},\"zerolinecolor\":\"white\"},\"yaxis\":{\"automargin\":true,\"gridcolor\":\"white\",\"linecolor\":\"white\",\"showgrid\":true,\"tickcolor\":\"rgb(51,51,51)\",\"ticks\":\"outside\",\"title\":{\"standoff\":15},\"zerolinecolor\":\"white\"}}},\"polar\":{\"domain\":{\"x\":[0.0,1.0],\"y\":[0.0,1.0]},\"angularaxis\":{\"direction\":\"clockwise\",\"rotation\":90}},\"legend\":{\"title\":{\"text\":\"Sentiment\"},\"tracegroupgap\":0},\"margin\":{\"t\":60},\"title\":{\"text\":\"Time of Day no. of positive tweet, no. of negative tweet, no. of neutral tweet\",\"x\":0.5}},                        {\"responsive\": true}                    )                };                            </script>        </div>\n",
       "</body>\n",
       "</html>"
      ]
     },
     "metadata": {
      "application/vnd.databricks.v1+output": {
       "addedWidgets": {},
       "arguments": {},
       "data": "<html>\n<head><meta charset=\"utf-8\" /></head>\n<body>\n    <div>            <script src=\"https://cdnjs.cloudflare.com/ajax/libs/mathjax/2.7.5/MathJax.js?config=TeX-AMS-MML_SVG\"></script><script type=\"text/javascript\">if (window.MathJax) {MathJax.Hub.Config({SVG: {font: \"STIX-Web\"}});}</script>                <script type=\"text/javascript\">window.PlotlyConfig = {MathJaxConfig: 'local'};</script>\n        <script src=\"https://cdn.plot.ly/plotly-2.9.0.min.js\"></script>                <div id=\"ca45d380-438a-43dc-83d6-77195b033192\" class=\"plotly-graph-div\" style=\"height:100%; width:100%;\"></div>            <script type=\"text/javascript\">                                    window.PLOTLYENV=window.PLOTLYENV || {};                                    if (document.getElementById(\"ca45d380-438a-43dc-83d6-77195b033192\")) {                    Plotly.newPlot(                        \"ca45d380-438a-43dc-83d6-77195b033192\",                        [{\"hovertemplate\":\"Sentiment=Negative<br>Value=%{r}<br>Hour of Day=%{theta}<extra></extra>\",\"legendgroup\":\"Negative\",\"line\":{\"color\":\"crimson\",\"dash\":\"solid\"},\"marker\":{\"symbol\":\"circle\"},\"mode\":\"lines\",\"name\":\"Negative\",\"r\":[226,347,494,612,630,713,764,730,641,649,645,638,671,677,723,791,798,735,560,383,279,199,198,177,226],\"showlegend\":true,\"subplot\":\"polar\",\"theta\":[\"00:00\",\"01:00\",\"02:00\",\"03:00\",\"04:00\",\"05:00\",\"06:00\",\"07:00\",\"08:00\",\"09:00\",\"10:00\",\"11:00\",\"12:00\",\"13:00\",\"14:00\",\"15:00\",\"16:00\",\"17:00\",\"18:00\",\"19:00\",\"20:00\",\"21:00\",\"22:00\",\"23:00\",\"00:00\"],\"type\":\"scatterpolar\"},{\"hovertemplate\":\"Sentiment=Neutral<br>Value=%{r}<br>Hour of Day=%{theta}<extra></extra>\",\"legendgroup\":\"Neutral\",\"line\":{\"color\":\"royalblue\",\"dash\":\"dot\"},\"marker\":{\"symbol\":\"circle\"},\"mode\":\"lines\",\"name\":\"Neutral\",\"r\":[205,273,484,674,887,954,883,814,738,754,687,712,779,843,846,885,829,808,614,386,256,177,163,159,205],\"showlegend\":true,\"subplot\":\"polar\",\"theta\":[\"00:00\",\"01:00\",\"02:00\",\"03:00\",\"04:00\",\"05:00\",\"06:00\",\"07:00\",\"08:00\",\"09:00\",\"10:00\",\"11:00\",\"12:00\",\"13:00\",\"14:00\",\"15:00\",\"16:00\",\"17:00\",\"18:00\",\"19:00\",\"20:00\",\"21:00\",\"22:00\",\"23:00\",\"00:00\"],\"type\":\"scatterpolar\"},{\"hovertemplate\":\"Sentiment=Positive<br>Value=%{r}<br>Hour of Day=%{theta}<extra></extra>\",\"legendgroup\":\"Positive\",\"line\":{\"color\":\"mediumseagreen\",\"dash\":\"dash\"},\"marker\":{\"symbol\":\"circle\"},\"mode\":\"lines\",\"name\":\"Positive\",\"r\":[368,500,715,1013,1142,1272,1334,1173,1118,1017,1047,1088,1058,1184,1405,1313,1194,1124,921,607,456,322,266,272,368],\"showlegend\":true,\"subplot\":\"polar\",\"theta\":[\"00:00\",\"01:00\",\"02:00\",\"03:00\",\"04:00\",\"05:00\",\"06:00\",\"07:00\",\"08:00\",\"09:00\",\"10:00\",\"11:00\",\"12:00\",\"13:00\",\"14:00\",\"15:00\",\"16:00\",\"17:00\",\"18:00\",\"19:00\",\"20:00\",\"21:00\",\"22:00\",\"23:00\",\"00:00\"],\"type\":\"scatterpolar\"}],                        {\"template\":{\"data\":{\"barpolar\":[{\"marker\":{\"line\":{\"color\":\"rgb(237,237,237)\",\"width\":0.5},\"pattern\":{\"fillmode\":\"overlay\",\"size\":10,\"solidity\":0.2}},\"type\":\"barpolar\"}],\"bar\":[{\"error_x\":{\"color\":\"rgb(51,51,51)\"},\"error_y\":{\"color\":\"rgb(51,51,51)\"},\"marker\":{\"line\":{\"color\":\"rgb(237,237,237)\",\"width\":0.5},\"pattern\":{\"fillmode\":\"overlay\",\"size\":10,\"solidity\":0.2}},\"type\":\"bar\"}],\"carpet\":[{\"aaxis\":{\"endlinecolor\":\"rgb(51,51,51)\",\"gridcolor\":\"white\",\"linecolor\":\"white\",\"minorgridcolor\":\"white\",\"startlinecolor\":\"rgb(51,51,51)\"},\"baxis\":{\"endlinecolor\":\"rgb(51,51,51)\",\"gridcolor\":\"white\",\"linecolor\":\"white\",\"minorgridcolor\":\"white\",\"startlinecolor\":\"rgb(51,51,51)\"},\"type\":\"carpet\"}],\"choropleth\":[{\"colorbar\":{\"outlinewidth\":0,\"tickcolor\":\"rgb(237,237,237)\",\"ticklen\":6,\"ticks\":\"inside\"},\"type\":\"choropleth\"}],\"contourcarpet\":[{\"colorbar\":{\"outlinewidth\":0,\"tickcolor\":\"rgb(237,237,237)\",\"ticklen\":6,\"ticks\":\"inside\"},\"type\":\"contourcarpet\"}],\"contour\":[{\"colorbar\":{\"outlinewidth\":0,\"tickcolor\":\"rgb(237,237,237)\",\"ticklen\":6,\"ticks\":\"inside\"},\"colorscale\":[[0,\"rgb(20,44,66)\"],[1,\"rgb(90,179,244)\"]],\"type\":\"contour\"}],\"heatmapgl\":[{\"colorbar\":{\"outlinewidth\":0,\"tickcolor\":\"rgb(237,237,237)\",\"ticklen\":6,\"ticks\":\"inside\"},\"colorscale\":[[0,\"rgb(20,44,66)\"],[1,\"rgb(90,179,244)\"]],\"type\":\"heatmapgl\"}],\"heatmap\":[{\"colorbar\":{\"outlinewidth\":0,\"tickcolor\":\"rgb(237,237,237)\",\"ticklen\":6,\"ticks\":\"inside\"},\"colorscale\":[[0,\"rgb(20,44,66)\"],[1,\"rgb(90,179,244)\"]],\"type\":\"heatmap\"}],\"histogram2dcontour\":[{\"colorbar\":{\"outlinewidth\":0,\"tickcolor\":\"rgb(237,237,237)\",\"ticklen\":6,\"ticks\":\"inside\"},\"colorscale\":[[0,\"rgb(20,44,66)\"],[1,\"rgb(90,179,244)\"]],\"type\":\"histogram2dcontour\"}],\"histogram2d\":[{\"colorbar\":{\"outlinewidth\":0,\"tickcolor\":\"rgb(237,237,237)\",\"ticklen\":6,\"ticks\":\"inside\"},\"colorscale\":[[0,\"rgb(20,44,66)\"],[1,\"rgb(90,179,244)\"]],\"type\":\"histogram2d\"}],\"histogram\":[{\"marker\":{\"pattern\":{\"fillmode\":\"overlay\",\"size\":10,\"solidity\":0.2}},\"type\":\"histogram\"}],\"mesh3d\":[{\"colorbar\":{\"outlinewidth\":0,\"tickcolor\":\"rgb(237,237,237)\",\"ticklen\":6,\"ticks\":\"inside\"},\"type\":\"mesh3d\"}],\"parcoords\":[{\"line\":{\"colorbar\":{\"outlinewidth\":0,\"tickcolor\":\"rgb(237,237,237)\",\"ticklen\":6,\"ticks\":\"inside\"}},\"type\":\"parcoords\"}],\"pie\":[{\"automargin\":true,\"type\":\"pie\"}],\"scatter3d\":[{\"line\":{\"colorbar\":{\"outlinewidth\":0,\"tickcolor\":\"rgb(237,237,237)\",\"ticklen\":6,\"ticks\":\"inside\"}},\"marker\":{\"colorbar\":{\"outlinewidth\":0,\"tickcolor\":\"rgb(237,237,237)\",\"ticklen\":6,\"ticks\":\"inside\"}},\"type\":\"scatter3d\"}],\"scattercarpet\":[{\"marker\":{\"colorbar\":{\"outlinewidth\":0,\"tickcolor\":\"rgb(237,237,237)\",\"ticklen\":6,\"ticks\":\"inside\"}},\"type\":\"scattercarpet\"}],\"scattergeo\":[{\"marker\":{\"colorbar\":{\"outlinewidth\":0,\"tickcolor\":\"rgb(237,237,237)\",\"ticklen\":6,\"ticks\":\"inside\"}},\"type\":\"scattergeo\"}],\"scattergl\":[{\"marker\":{\"colorbar\":{\"outlinewidth\":0,\"tickcolor\":\"rgb(237,237,237)\",\"ticklen\":6,\"ticks\":\"inside\"}},\"type\":\"scattergl\"}],\"scattermapbox\":[{\"marker\":{\"colorbar\":{\"outlinewidth\":0,\"tickcolor\":\"rgb(237,237,237)\",\"ticklen\":6,\"ticks\":\"inside\"}},\"type\":\"scattermapbox\"}],\"scatterpolargl\":[{\"marker\":{\"colorbar\":{\"outlinewidth\":0,\"tickcolor\":\"rgb(237,237,237)\",\"ticklen\":6,\"ticks\":\"inside\"}},\"type\":\"scatterpolargl\"}],\"scatterpolar\":[{\"marker\":{\"colorbar\":{\"outlinewidth\":0,\"tickcolor\":\"rgb(237,237,237)\",\"ticklen\":6,\"ticks\":\"inside\"}},\"type\":\"scatterpolar\"}],\"scatter\":[{\"marker\":{\"colorbar\":{\"outlinewidth\":0,\"tickcolor\":\"rgb(237,237,237)\",\"ticklen\":6,\"ticks\":\"inside\"}},\"type\":\"scatter\"}],\"scatterternary\":[{\"marker\":{\"colorbar\":{\"outlinewidth\":0,\"tickcolor\":\"rgb(237,237,237)\",\"ticklen\":6,\"ticks\":\"inside\"}},\"type\":\"scatterternary\"}],\"surface\":[{\"colorbar\":{\"outlinewidth\":0,\"tickcolor\":\"rgb(237,237,237)\",\"ticklen\":6,\"ticks\":\"inside\"},\"colorscale\":[[0,\"rgb(20,44,66)\"],[1,\"rgb(90,179,244)\"]],\"type\":\"surface\"}],\"table\":[{\"cells\":{\"fill\":{\"color\":\"rgb(237,237,237)\"},\"line\":{\"color\":\"white\"}},\"header\":{\"fill\":{\"color\":\"rgb(217,217,217)\"},\"line\":{\"color\":\"white\"}},\"type\":\"table\"}]},\"layout\":{\"annotationdefaults\":{\"arrowhead\":0,\"arrowwidth\":1},\"autotypenumbers\":\"strict\",\"coloraxis\":{\"colorbar\":{\"outlinewidth\":0,\"tickcolor\":\"rgb(237,237,237)\",\"ticklen\":6,\"ticks\":\"inside\"}},\"colorscale\":{\"sequential\":[[0,\"rgb(20,44,66)\"],[1,\"rgb(90,179,244)\"]],\"sequentialminus\":[[0,\"rgb(20,44,66)\"],[1,\"rgb(90,179,244)\"]]},\"colorway\":[\"#F8766D\",\"#A3A500\",\"#00BF7D\",\"#00B0F6\",\"#E76BF3\"],\"font\":{\"color\":\"rgb(51,51,51)\"},\"geo\":{\"bgcolor\":\"white\",\"lakecolor\":\"white\",\"landcolor\":\"rgb(237,237,237)\",\"showlakes\":true,\"showland\":true,\"subunitcolor\":\"white\"},\"hoverlabel\":{\"align\":\"left\"},\"hovermode\":\"closest\",\"paper_bgcolor\":\"white\",\"plot_bgcolor\":\"rgb(237,237,237)\",\"polar\":{\"angularaxis\":{\"gridcolor\":\"white\",\"linecolor\":\"white\",\"showgrid\":true,\"tickcolor\":\"rgb(51,51,51)\",\"ticks\":\"outside\"},\"bgcolor\":\"rgb(237,237,237)\",\"radialaxis\":{\"gridcolor\":\"white\",\"linecolor\":\"white\",\"showgrid\":true,\"tickcolor\":\"rgb(51,51,51)\",\"ticks\":\"outside\"}},\"scene\":{\"xaxis\":{\"backgroundcolor\":\"rgb(237,237,237)\",\"gridcolor\":\"white\",\"gridwidth\":2,\"linecolor\":\"white\",\"showbackground\":true,\"showgrid\":true,\"tickcolor\":\"rgb(51,51,51)\",\"ticks\":\"outside\",\"zerolinecolor\":\"white\"},\"yaxis\":{\"backgroundcolor\":\"rgb(237,237,237)\",\"gridcolor\":\"white\",\"gridwidth\":2,\"linecolor\":\"white\",\"showbackground\":true,\"showgrid\":true,\"tickcolor\":\"rgb(51,51,51)\",\"ticks\":\"outside\",\"zerolinecolor\":\"white\"},\"zaxis\":{\"backgroundcolor\":\"rgb(237,237,237)\",\"gridcolor\":\"white\",\"gridwidth\":2,\"linecolor\":\"white\",\"showbackground\":true,\"showgrid\":true,\"tickcolor\":\"rgb(51,51,51)\",\"ticks\":\"outside\",\"zerolinecolor\":\"white\"}},\"shapedefaults\":{\"fillcolor\":\"black\",\"line\":{\"width\":0},\"opacity\":0.3},\"ternary\":{\"aaxis\":{\"gridcolor\":\"white\",\"linecolor\":\"white\",\"showgrid\":true,\"tickcolor\":\"rgb(51,51,51)\",\"ticks\":\"outside\"},\"baxis\":{\"gridcolor\":\"white\",\"linecolor\":\"white\",\"showgrid\":true,\"tickcolor\":\"rgb(51,51,51)\",\"ticks\":\"outside\"},\"bgcolor\":\"rgb(237,237,237)\",\"caxis\":{\"gridcolor\":\"white\",\"linecolor\":\"white\",\"showgrid\":true,\"tickcolor\":\"rgb(51,51,51)\",\"ticks\":\"outside\"}},\"xaxis\":{\"automargin\":true,\"gridcolor\":\"white\",\"linecolor\":\"white\",\"showgrid\":true,\"tickcolor\":\"rgb(51,51,51)\",\"ticks\":\"outside\",\"title\":{\"standoff\":15},\"zerolinecolor\":\"white\"},\"yaxis\":{\"automargin\":true,\"gridcolor\":\"white\",\"linecolor\":\"white\",\"showgrid\":true,\"tickcolor\":\"rgb(51,51,51)\",\"ticks\":\"outside\",\"title\":{\"standoff\":15},\"zerolinecolor\":\"white\"}}},\"polar\":{\"domain\":{\"x\":[0.0,1.0],\"y\":[0.0,1.0]},\"angularaxis\":{\"direction\":\"clockwise\",\"rotation\":90}},\"legend\":{\"title\":{\"text\":\"Sentiment\"},\"tracegroupgap\":0},\"margin\":{\"t\":60},\"title\":{\"text\":\"Time of Day no. of positive tweet, no. of negative tweet, no. of neutral tweet\",\"x\":0.5}},                        {\"responsive\": true}                    )                };                            </script>        </div>\n</body>\n</html>",
       "datasetInfos": [],
       "metadata": {},
       "removedWidgets": [],
       "textData": null,
       "type": "htmlSandbox"
      }
     },
     "output_type": "display_data"
    }
   ],
   "source": [
    "import pandas as pd\n",
    "import plotly.express as px\n",
    "\n",
    "def format_hour(h: int):\n",
    "    h = str(h)\n",
    "    if len(h) == 1:\n",
    "        h = '0' + h\n",
    "    h = h + \":00\"\n",
    "    return h\n",
    "\n",
    "sentiment_hourly = df.groupby(['Sentiment', 'hour'])['Tweet'].count()\n",
    "sentiment_hourly = pd.DataFrame(sentiment_hourly).reset_index()\n",
    "sentiment_hourly.columns = ['Sentiment', 'Hour of Day', 'Number of Tweets']\n",
    "sentiment_hourly['Hour of Day'] = sentiment_hourly['Hour of Day'].apply(format_hour)\n",
    "\n",
    "# Reshape the DataFrame to long-form\n",
    "sentiment_hourly_long = sentiment_hourly.melt(id_vars=['Sentiment', 'Hour of Day'], value_vars=['Number of Tweets'],\n",
    "                                               var_name='Metric', value_name='Value')\n",
    "\n",
    "fig = px.line_polar(\n",
    "    data_frame=sentiment_hourly_long,\n",
    "    r='Value',\n",
    "    theta='Hour of Day',\n",
    "    line_close=True,\n",
    "    color='Sentiment',\n",
    "    color_discrete_sequence=['crimson', 'royalblue', 'mediumseagreen'],\n",
    "    line_dash='Sentiment'\n",
    ")\n",
    "fig.update_layout(\n",
    "    title=\"Time of Day no. of positive tweet, no. of negative tweet, no. of neutral tweet\",\n",
    "    title_x=0.5,\n",
    "    template=\"ggplot2\"\n",
    ")\n",
    "fig.show()\n"
   ]
  },
  {
   "cell_type": "code",
   "execution_count": 0,
   "metadata": {
    "application/vnd.databricks.v1+cell": {
     "cellMetadata": {
      "byteLimit": 2048000,
      "rowLimit": 10000
     },
     "inputWidgets": {},
     "nuid": "eddfaaa8-20c5-461e-b6ca-5bd0311cf7ac",
     "showTitle": false,
     "title": ""
    },
    "colab": {
     "base_uri": "https://localhost:8080/",
     "height": 1000
    },
    "id": "8YPQxXAIV6mS",
    "outputId": "9b74cf43-88e7-4bb2-9bdb-953cbbd1ba35"
   },
   "outputs": [
    {
     "output_type": "display_data",
     "data": {
      "text/plain": [
       "\u001B[0;31m---------------------------------------------------------------------------\u001B[0m\n",
       "\u001B[0;31mValueError\u001B[0m                                Traceback (most recent call last)\n",
       "File \u001B[0;32m<command-1825911620133404>:18\u001B[0m\n",
       "\u001B[1;32m     15\u001B[0m max_words \u001B[38;5;241m=\u001B[39m \u001B[38;5;241m100\u001B[39m  \u001B[38;5;66;03m# Adjust this number as per your preference\u001B[39;00m\n",
       "\u001B[1;32m     17\u001B[0m \u001B[38;5;28;01mfor\u001B[39;00m sentiment, text \u001B[38;5;129;01min\u001B[39;00m text_by_sentiment\u001B[38;5;241m.\u001B[39mitems():\n",
       "\u001B[0;32m---> 18\u001B[0m     wordcloud \u001B[38;5;241m=\u001B[39m WordCloud(\n",
       "\u001B[1;32m     19\u001B[0m         background_color\u001B[38;5;241m=\u001B[39m\u001B[38;5;124m'\u001B[39m\u001B[38;5;124mwhite\u001B[39m\u001B[38;5;124m'\u001B[39m,\n",
       "\u001B[1;32m     20\u001B[0m         width\u001B[38;5;241m=\u001B[39m\u001B[38;5;241m300\u001B[39m,\n",
       "\u001B[1;32m     21\u001B[0m         height\u001B[38;5;241m=\u001B[39m\u001B[38;5;241m200\u001B[39m,\n",
       "\u001B[1;32m     22\u001B[0m         max_words\u001B[38;5;241m=\u001B[39mmax_words,\n",
       "\u001B[1;32m     23\u001B[0m         stopwords\u001B[38;5;241m=\u001B[39mexclude_words  \u001B[38;5;66;03m# Exclude specified words from the word cloud\u001B[39;00m\n",
       "\u001B[1;32m     24\u001B[0m     )\u001B[38;5;241m.\u001B[39mgenerate(text)\n",
       "\u001B[1;32m     25\u001B[0m     plt\u001B[38;5;241m.\u001B[39mfigure(figsize\u001B[38;5;241m=\u001B[39m(\u001B[38;5;241m8\u001B[39m, \u001B[38;5;241m4\u001B[39m))\n",
       "\u001B[1;32m     26\u001B[0m     plt\u001B[38;5;241m.\u001B[39mimshow(wordcloud, interpolation\u001B[38;5;241m=\u001B[39m\u001B[38;5;124m'\u001B[39m\u001B[38;5;124mbilinear\u001B[39m\u001B[38;5;124m'\u001B[39m)\n",
       "\n",
       "File \u001B[0;32m/local_disk0/.ephemeral_nfs/envs/pythonEnv-f985aff4-5238-4579-80f5-9267bb6d66d2/lib/python3.9/site-packages/wordcloud/wordcloud.py:639\u001B[0m, in \u001B[0;36mWordCloud.generate\u001B[0;34m(self, text)\u001B[0m\n",
       "\u001B[1;32m    624\u001B[0m \u001B[38;5;28;01mdef\u001B[39;00m \u001B[38;5;21mgenerate\u001B[39m(\u001B[38;5;28mself\u001B[39m, text):\n",
       "\u001B[1;32m    625\u001B[0m     \u001B[38;5;124;03m\"\"\"Generate wordcloud from text.\u001B[39;00m\n",
       "\u001B[1;32m    626\u001B[0m \n",
       "\u001B[1;32m    627\u001B[0m \u001B[38;5;124;03m    The input \"text\" is expected to be a natural text. If you pass a sorted\u001B[39;00m\n",
       "\u001B[0;32m   (...)\u001B[0m\n",
       "\u001B[1;32m    637\u001B[0m \u001B[38;5;124;03m    self\u001B[39;00m\n",
       "\u001B[1;32m    638\u001B[0m \u001B[38;5;124;03m    \"\"\"\u001B[39;00m\n",
       "\u001B[0;32m--> 639\u001B[0m     \u001B[38;5;28;01mreturn\u001B[39;00m \u001B[38;5;28;43mself\u001B[39;49m\u001B[38;5;241;43m.\u001B[39;49m\u001B[43mgenerate_from_text\u001B[49m\u001B[43m(\u001B[49m\u001B[43mtext\u001B[49m\u001B[43m)\u001B[49m\n",
       "\n",
       "File \u001B[0;32m/local_disk0/.ephemeral_nfs/envs/pythonEnv-f985aff4-5238-4579-80f5-9267bb6d66d2/lib/python3.9/site-packages/wordcloud/wordcloud.py:621\u001B[0m, in \u001B[0;36mWordCloud.generate_from_text\u001B[0;34m(self, text)\u001B[0m\n",
       "\u001B[1;32m    604\u001B[0m \u001B[38;5;124;03m\"\"\"Generate wordcloud from text.\u001B[39;00m\n",
       "\u001B[1;32m    605\u001B[0m \n",
       "\u001B[1;32m    606\u001B[0m \u001B[38;5;124;03mThe input \"text\" is expected to be a natural text. If you pass a sorted\u001B[39;00m\n",
       "\u001B[0;32m   (...)\u001B[0m\n",
       "\u001B[1;32m    618\u001B[0m \u001B[38;5;124;03mself\u001B[39;00m\n",
       "\u001B[1;32m    619\u001B[0m \u001B[38;5;124;03m\"\"\"\u001B[39;00m\n",
       "\u001B[1;32m    620\u001B[0m words \u001B[38;5;241m=\u001B[39m \u001B[38;5;28mself\u001B[39m\u001B[38;5;241m.\u001B[39mprocess_text(text)\n",
       "\u001B[0;32m--> 621\u001B[0m \u001B[38;5;28;43mself\u001B[39;49m\u001B[38;5;241;43m.\u001B[39;49m\u001B[43mgenerate_from_frequencies\u001B[49m\u001B[43m(\u001B[49m\u001B[43mwords\u001B[49m\u001B[43m)\u001B[49m\n",
       "\u001B[1;32m    622\u001B[0m \u001B[38;5;28;01mreturn\u001B[39;00m \u001B[38;5;28mself\u001B[39m\n",
       "\n",
       "File \u001B[0;32m/local_disk0/.ephemeral_nfs/envs/pythonEnv-f985aff4-5238-4579-80f5-9267bb6d66d2/lib/python3.9/site-packages/wordcloud/wordcloud.py:453\u001B[0m, in \u001B[0;36mWordCloud.generate_from_frequencies\u001B[0;34m(self, frequencies, max_font_size)\u001B[0m\n",
       "\u001B[1;32m    451\u001B[0m     font_size \u001B[38;5;241m=\u001B[39m \u001B[38;5;28mself\u001B[39m\u001B[38;5;241m.\u001B[39mheight\n",
       "\u001B[1;32m    452\u001B[0m \u001B[38;5;28;01melse\u001B[39;00m:\n",
       "\u001B[0;32m--> 453\u001B[0m     \u001B[38;5;28;43mself\u001B[39;49m\u001B[38;5;241;43m.\u001B[39;49m\u001B[43mgenerate_from_frequencies\u001B[49m\u001B[43m(\u001B[49m\u001B[38;5;28;43mdict\u001B[39;49m\u001B[43m(\u001B[49m\u001B[43mfrequencies\u001B[49m\u001B[43m[\u001B[49m\u001B[43m:\u001B[49m\u001B[38;5;241;43m2\u001B[39;49m\u001B[43m]\u001B[49m\u001B[43m)\u001B[49m\u001B[43m,\u001B[49m\n",
       "\u001B[1;32m    454\u001B[0m \u001B[43m                                   \u001B[49m\u001B[43mmax_font_size\u001B[49m\u001B[38;5;241;43m=\u001B[39;49m\u001B[38;5;28;43mself\u001B[39;49m\u001B[38;5;241;43m.\u001B[39;49m\u001B[43mheight\u001B[49m\u001B[43m)\u001B[49m\n",
       "\u001B[1;32m    455\u001B[0m     \u001B[38;5;66;03m# find font sizes\u001B[39;00m\n",
       "\u001B[1;32m    456\u001B[0m     sizes \u001B[38;5;241m=\u001B[39m [x[\u001B[38;5;241m1\u001B[39m] \u001B[38;5;28;01mfor\u001B[39;00m x \u001B[38;5;129;01min\u001B[39;00m \u001B[38;5;28mself\u001B[39m\u001B[38;5;241m.\u001B[39mlayout_]\n",
       "\n",
       "File \u001B[0;32m/local_disk0/.ephemeral_nfs/envs/pythonEnv-f985aff4-5238-4579-80f5-9267bb6d66d2/lib/python3.9/site-packages/wordcloud/wordcloud.py:508\u001B[0m, in \u001B[0;36mWordCloud.generate_from_frequencies\u001B[0;34m(self, frequencies, max_font_size)\u001B[0m\n",
       "\u001B[1;32m    505\u001B[0m transposed_font \u001B[38;5;241m=\u001B[39m ImageFont\u001B[38;5;241m.\u001B[39mTransposedFont(\n",
       "\u001B[1;32m    506\u001B[0m     font, orientation\u001B[38;5;241m=\u001B[39morientation)\n",
       "\u001B[1;32m    507\u001B[0m \u001B[38;5;66;03m# get size of resulting text\u001B[39;00m\n",
       "\u001B[0;32m--> 508\u001B[0m box_size \u001B[38;5;241m=\u001B[39m \u001B[43mdraw\u001B[49m\u001B[38;5;241;43m.\u001B[39;49m\u001B[43mtextbbox\u001B[49m\u001B[43m(\u001B[49m\u001B[43m(\u001B[49m\u001B[38;5;241;43m0\u001B[39;49m\u001B[43m,\u001B[49m\u001B[43m \u001B[49m\u001B[38;5;241;43m0\u001B[39;49m\u001B[43m)\u001B[49m\u001B[43m,\u001B[49m\u001B[43m \u001B[49m\u001B[43mword\u001B[49m\u001B[43m,\u001B[49m\u001B[43m \u001B[49m\u001B[43mfont\u001B[49m\u001B[38;5;241;43m=\u001B[39;49m\u001B[43mtransposed_font\u001B[49m\u001B[43m,\u001B[49m\u001B[43m \u001B[49m\u001B[43manchor\u001B[49m\u001B[38;5;241;43m=\u001B[39;49m\u001B[38;5;124;43m\"\u001B[39;49m\u001B[38;5;124;43mlt\u001B[39;49m\u001B[38;5;124;43m\"\u001B[39;49m\u001B[43m)\u001B[49m\n",
       "\u001B[1;32m    509\u001B[0m \u001B[38;5;66;03m# find possible places using integral image:\u001B[39;00m\n",
       "\u001B[1;32m    510\u001B[0m result \u001B[38;5;241m=\u001B[39m occupancy\u001B[38;5;241m.\u001B[39msample_position(box_size[\u001B[38;5;241m3\u001B[39m] \u001B[38;5;241m+\u001B[39m \u001B[38;5;28mself\u001B[39m\u001B[38;5;241m.\u001B[39mmargin,\n",
       "\u001B[1;32m    511\u001B[0m                                    box_size[\u001B[38;5;241m2\u001B[39m] \u001B[38;5;241m+\u001B[39m \u001B[38;5;28mself\u001B[39m\u001B[38;5;241m.\u001B[39mmargin,\n",
       "\u001B[1;32m    512\u001B[0m                                    random_state)\n",
       "\n",
       "File \u001B[0;32m/databricks/python/lib/python3.9/site-packages/PIL/ImageDraw.py:671\u001B[0m, in \u001B[0;36mImageDraw.textbbox\u001B[0;34m(self, xy, text, font, anchor, spacing, align, direction, features, language, stroke_width, embedded_color)\u001B[0m\n",
       "\u001B[1;32m    669\u001B[0m     font \u001B[38;5;241m=\u001B[39m \u001B[38;5;28mself\u001B[39m\u001B[38;5;241m.\u001B[39mgetfont()\n",
       "\u001B[1;32m    670\u001B[0m \u001B[38;5;28;01mif\u001B[39;00m \u001B[38;5;129;01mnot\u001B[39;00m \u001B[38;5;28misinstance\u001B[39m(font, ImageFont\u001B[38;5;241m.\u001B[39mFreeTypeFont):\n",
       "\u001B[0;32m--> 671\u001B[0m     \u001B[38;5;28;01mraise\u001B[39;00m \u001B[38;5;167;01mValueError\u001B[39;00m(\u001B[38;5;124m\"\u001B[39m\u001B[38;5;124mOnly supported for TrueType fonts\u001B[39m\u001B[38;5;124m\"\u001B[39m)\n",
       "\u001B[1;32m    672\u001B[0m mode \u001B[38;5;241m=\u001B[39m \u001B[38;5;124m\"\u001B[39m\u001B[38;5;124mRGBA\u001B[39m\u001B[38;5;124m\"\u001B[39m \u001B[38;5;28;01mif\u001B[39;00m embedded_color \u001B[38;5;28;01melse\u001B[39;00m \u001B[38;5;28mself\u001B[39m\u001B[38;5;241m.\u001B[39mfontmode\n",
       "\u001B[1;32m    673\u001B[0m bbox \u001B[38;5;241m=\u001B[39m font\u001B[38;5;241m.\u001B[39mgetbbox(\n",
       "\u001B[1;32m    674\u001B[0m     text, mode, direction, features, language, stroke_width, anchor\n",
       "\u001B[1;32m    675\u001B[0m )\n",
       "\n",
       "\u001B[0;31mValueError\u001B[0m: Only supported for TrueType fonts"
      ]
     },
     "metadata": {
      "application/vnd.databricks.v1+output": {
       "arguments": {},
       "data": "\u001B[0;31m---------------------------------------------------------------------------\u001B[0m\n\u001B[0;31mValueError\u001B[0m                                Traceback (most recent call last)\nFile \u001B[0;32m<command-1825911620133404>:18\u001B[0m\n\u001B[1;32m     15\u001B[0m max_words \u001B[38;5;241m=\u001B[39m \u001B[38;5;241m100\u001B[39m  \u001B[38;5;66;03m# Adjust this number as per your preference\u001B[39;00m\n\u001B[1;32m     17\u001B[0m \u001B[38;5;28;01mfor\u001B[39;00m sentiment, text \u001B[38;5;129;01min\u001B[39;00m text_by_sentiment\u001B[38;5;241m.\u001B[39mitems():\n\u001B[0;32m---> 18\u001B[0m     wordcloud \u001B[38;5;241m=\u001B[39m WordCloud(\n\u001B[1;32m     19\u001B[0m         background_color\u001B[38;5;241m=\u001B[39m\u001B[38;5;124m'\u001B[39m\u001B[38;5;124mwhite\u001B[39m\u001B[38;5;124m'\u001B[39m,\n\u001B[1;32m     20\u001B[0m         width\u001B[38;5;241m=\u001B[39m\u001B[38;5;241m300\u001B[39m,\n\u001B[1;32m     21\u001B[0m         height\u001B[38;5;241m=\u001B[39m\u001B[38;5;241m200\u001B[39m,\n\u001B[1;32m     22\u001B[0m         max_words\u001B[38;5;241m=\u001B[39mmax_words,\n\u001B[1;32m     23\u001B[0m         stopwords\u001B[38;5;241m=\u001B[39mexclude_words  \u001B[38;5;66;03m# Exclude specified words from the word cloud\u001B[39;00m\n\u001B[1;32m     24\u001B[0m     )\u001B[38;5;241m.\u001B[39mgenerate(text)\n\u001B[1;32m     25\u001B[0m     plt\u001B[38;5;241m.\u001B[39mfigure(figsize\u001B[38;5;241m=\u001B[39m(\u001B[38;5;241m8\u001B[39m, \u001B[38;5;241m4\u001B[39m))\n\u001B[1;32m     26\u001B[0m     plt\u001B[38;5;241m.\u001B[39mimshow(wordcloud, interpolation\u001B[38;5;241m=\u001B[39m\u001B[38;5;124m'\u001B[39m\u001B[38;5;124mbilinear\u001B[39m\u001B[38;5;124m'\u001B[39m)\n\nFile \u001B[0;32m/local_disk0/.ephemeral_nfs/envs/pythonEnv-f985aff4-5238-4579-80f5-9267bb6d66d2/lib/python3.9/site-packages/wordcloud/wordcloud.py:639\u001B[0m, in \u001B[0;36mWordCloud.generate\u001B[0;34m(self, text)\u001B[0m\n\u001B[1;32m    624\u001B[0m \u001B[38;5;28;01mdef\u001B[39;00m \u001B[38;5;21mgenerate\u001B[39m(\u001B[38;5;28mself\u001B[39m, text):\n\u001B[1;32m    625\u001B[0m     \u001B[38;5;124;03m\"\"\"Generate wordcloud from text.\u001B[39;00m\n\u001B[1;32m    626\u001B[0m \n\u001B[1;32m    627\u001B[0m \u001B[38;5;124;03m    The input \"text\" is expected to be a natural text. If you pass a sorted\u001B[39;00m\n\u001B[0;32m   (...)\u001B[0m\n\u001B[1;32m    637\u001B[0m \u001B[38;5;124;03m    self\u001B[39;00m\n\u001B[1;32m    638\u001B[0m \u001B[38;5;124;03m    \"\"\"\u001B[39;00m\n\u001B[0;32m--> 639\u001B[0m     \u001B[38;5;28;01mreturn\u001B[39;00m \u001B[38;5;28;43mself\u001B[39;49m\u001B[38;5;241;43m.\u001B[39;49m\u001B[43mgenerate_from_text\u001B[49m\u001B[43m(\u001B[49m\u001B[43mtext\u001B[49m\u001B[43m)\u001B[49m\n\nFile \u001B[0;32m/local_disk0/.ephemeral_nfs/envs/pythonEnv-f985aff4-5238-4579-80f5-9267bb6d66d2/lib/python3.9/site-packages/wordcloud/wordcloud.py:621\u001B[0m, in \u001B[0;36mWordCloud.generate_from_text\u001B[0;34m(self, text)\u001B[0m\n\u001B[1;32m    604\u001B[0m \u001B[38;5;124;03m\"\"\"Generate wordcloud from text.\u001B[39;00m\n\u001B[1;32m    605\u001B[0m \n\u001B[1;32m    606\u001B[0m \u001B[38;5;124;03mThe input \"text\" is expected to be a natural text. If you pass a sorted\u001B[39;00m\n\u001B[0;32m   (...)\u001B[0m\n\u001B[1;32m    618\u001B[0m \u001B[38;5;124;03mself\u001B[39;00m\n\u001B[1;32m    619\u001B[0m \u001B[38;5;124;03m\"\"\"\u001B[39;00m\n\u001B[1;32m    620\u001B[0m words \u001B[38;5;241m=\u001B[39m \u001B[38;5;28mself\u001B[39m\u001B[38;5;241m.\u001B[39mprocess_text(text)\n\u001B[0;32m--> 621\u001B[0m \u001B[38;5;28;43mself\u001B[39;49m\u001B[38;5;241;43m.\u001B[39;49m\u001B[43mgenerate_from_frequencies\u001B[49m\u001B[43m(\u001B[49m\u001B[43mwords\u001B[49m\u001B[43m)\u001B[49m\n\u001B[1;32m    622\u001B[0m \u001B[38;5;28;01mreturn\u001B[39;00m \u001B[38;5;28mself\u001B[39m\n\nFile \u001B[0;32m/local_disk0/.ephemeral_nfs/envs/pythonEnv-f985aff4-5238-4579-80f5-9267bb6d66d2/lib/python3.9/site-packages/wordcloud/wordcloud.py:453\u001B[0m, in \u001B[0;36mWordCloud.generate_from_frequencies\u001B[0;34m(self, frequencies, max_font_size)\u001B[0m\n\u001B[1;32m    451\u001B[0m     font_size \u001B[38;5;241m=\u001B[39m \u001B[38;5;28mself\u001B[39m\u001B[38;5;241m.\u001B[39mheight\n\u001B[1;32m    452\u001B[0m \u001B[38;5;28;01melse\u001B[39;00m:\n\u001B[0;32m--> 453\u001B[0m     \u001B[38;5;28;43mself\u001B[39;49m\u001B[38;5;241;43m.\u001B[39;49m\u001B[43mgenerate_from_frequencies\u001B[49m\u001B[43m(\u001B[49m\u001B[38;5;28;43mdict\u001B[39;49m\u001B[43m(\u001B[49m\u001B[43mfrequencies\u001B[49m\u001B[43m[\u001B[49m\u001B[43m:\u001B[49m\u001B[38;5;241;43m2\u001B[39;49m\u001B[43m]\u001B[49m\u001B[43m)\u001B[49m\u001B[43m,\u001B[49m\n\u001B[1;32m    454\u001B[0m \u001B[43m                                   \u001B[49m\u001B[43mmax_font_size\u001B[49m\u001B[38;5;241;43m=\u001B[39;49m\u001B[38;5;28;43mself\u001B[39;49m\u001B[38;5;241;43m.\u001B[39;49m\u001B[43mheight\u001B[49m\u001B[43m)\u001B[49m\n\u001B[1;32m    455\u001B[0m     \u001B[38;5;66;03m# find font sizes\u001B[39;00m\n\u001B[1;32m    456\u001B[0m     sizes \u001B[38;5;241m=\u001B[39m [x[\u001B[38;5;241m1\u001B[39m] \u001B[38;5;28;01mfor\u001B[39;00m x \u001B[38;5;129;01min\u001B[39;00m \u001B[38;5;28mself\u001B[39m\u001B[38;5;241m.\u001B[39mlayout_]\n\nFile \u001B[0;32m/local_disk0/.ephemeral_nfs/envs/pythonEnv-f985aff4-5238-4579-80f5-9267bb6d66d2/lib/python3.9/site-packages/wordcloud/wordcloud.py:508\u001B[0m, in \u001B[0;36mWordCloud.generate_from_frequencies\u001B[0;34m(self, frequencies, max_font_size)\u001B[0m\n\u001B[1;32m    505\u001B[0m transposed_font \u001B[38;5;241m=\u001B[39m ImageFont\u001B[38;5;241m.\u001B[39mTransposedFont(\n\u001B[1;32m    506\u001B[0m     font, orientation\u001B[38;5;241m=\u001B[39morientation)\n\u001B[1;32m    507\u001B[0m \u001B[38;5;66;03m# get size of resulting text\u001B[39;00m\n\u001B[0;32m--> 508\u001B[0m box_size \u001B[38;5;241m=\u001B[39m \u001B[43mdraw\u001B[49m\u001B[38;5;241;43m.\u001B[39;49m\u001B[43mtextbbox\u001B[49m\u001B[43m(\u001B[49m\u001B[43m(\u001B[49m\u001B[38;5;241;43m0\u001B[39;49m\u001B[43m,\u001B[49m\u001B[43m \u001B[49m\u001B[38;5;241;43m0\u001B[39;49m\u001B[43m)\u001B[49m\u001B[43m,\u001B[49m\u001B[43m \u001B[49m\u001B[43mword\u001B[49m\u001B[43m,\u001B[49m\u001B[43m \u001B[49m\u001B[43mfont\u001B[49m\u001B[38;5;241;43m=\u001B[39;49m\u001B[43mtransposed_font\u001B[49m\u001B[43m,\u001B[49m\u001B[43m \u001B[49m\u001B[43manchor\u001B[49m\u001B[38;5;241;43m=\u001B[39;49m\u001B[38;5;124;43m\"\u001B[39;49m\u001B[38;5;124;43mlt\u001B[39;49m\u001B[38;5;124;43m\"\u001B[39;49m\u001B[43m)\u001B[49m\n\u001B[1;32m    509\u001B[0m \u001B[38;5;66;03m# find possible places using integral image:\u001B[39;00m\n\u001B[1;32m    510\u001B[0m result \u001B[38;5;241m=\u001B[39m occupancy\u001B[38;5;241m.\u001B[39msample_position(box_size[\u001B[38;5;241m3\u001B[39m] \u001B[38;5;241m+\u001B[39m \u001B[38;5;28mself\u001B[39m\u001B[38;5;241m.\u001B[39mmargin,\n\u001B[1;32m    511\u001B[0m                                    box_size[\u001B[38;5;241m2\u001B[39m] \u001B[38;5;241m+\u001B[39m \u001B[38;5;28mself\u001B[39m\u001B[38;5;241m.\u001B[39mmargin,\n\u001B[1;32m    512\u001B[0m                                    random_state)\n\nFile \u001B[0;32m/databricks/python/lib/python3.9/site-packages/PIL/ImageDraw.py:671\u001B[0m, in \u001B[0;36mImageDraw.textbbox\u001B[0;34m(self, xy, text, font, anchor, spacing, align, direction, features, language, stroke_width, embedded_color)\u001B[0m\n\u001B[1;32m    669\u001B[0m     font \u001B[38;5;241m=\u001B[39m \u001B[38;5;28mself\u001B[39m\u001B[38;5;241m.\u001B[39mgetfont()\n\u001B[1;32m    670\u001B[0m \u001B[38;5;28;01mif\u001B[39;00m \u001B[38;5;129;01mnot\u001B[39;00m \u001B[38;5;28misinstance\u001B[39m(font, ImageFont\u001B[38;5;241m.\u001B[39mFreeTypeFont):\n\u001B[0;32m--> 671\u001B[0m     \u001B[38;5;28;01mraise\u001B[39;00m \u001B[38;5;167;01mValueError\u001B[39;00m(\u001B[38;5;124m\"\u001B[39m\u001B[38;5;124mOnly supported for TrueType fonts\u001B[39m\u001B[38;5;124m\"\u001B[39m)\n\u001B[1;32m    672\u001B[0m mode \u001B[38;5;241m=\u001B[39m \u001B[38;5;124m\"\u001B[39m\u001B[38;5;124mRGBA\u001B[39m\u001B[38;5;124m\"\u001B[39m \u001B[38;5;28;01mif\u001B[39;00m embedded_color \u001B[38;5;28;01melse\u001B[39;00m \u001B[38;5;28mself\u001B[39m\u001B[38;5;241m.\u001B[39mfontmode\n\u001B[1;32m    673\u001B[0m bbox \u001B[38;5;241m=\u001B[39m font\u001B[38;5;241m.\u001B[39mgetbbox(\n\u001B[1;32m    674\u001B[0m     text, mode, direction, features, language, stroke_width, anchor\n\u001B[1;32m    675\u001B[0m )\n\n\u001B[0;31mValueError\u001B[0m: Only supported for TrueType fonts",
       "errorSummary": "<span class='ansi-red-fg'>ValueError</span>: Only supported for TrueType fonts",
       "errorTraceType": "ansi",
       "metadata": {},
       "type": "ipynbError"
      }
     },
     "output_type": "display_data"
    }
   ],
   "source": [
    "from wordcloud import WordCloud\n",
    "import matplotlib.pyplot as plt\n",
    "\n",
    "# Define a set of words to exclude from the word cloud\n",
    "exclude_words = ['indian', 'politic', 'politics','amp','people','india']  # Add the words you want to exclude\n",
    "\n",
    "# Group the tweets by sentiment and concatenate them into a single string\n",
    "sentiment_groups = df.groupby('Sentiment')\n",
    "text_by_sentiment = {}\n",
    "\n",
    "for sentiment, group in sentiment_groups:\n",
    "    text_by_sentiment[sentiment] = ' '.join(group['Tweet'].tolist())\n",
    "\n",
    "# Generate a wordcloud for each sentiment with a maximum number of words and excluding specified words\n",
    "max_words = 100  # Adjust this number as per your preference\n",
    "\n",
    "for sentiment, text in text_by_sentiment.items():\n",
    "    wordcloud = WordCloud(\n",
    "        background_color='white',\n",
    "        width=300,\n",
    "        height=200,\n",
    "        max_words=max_words,\n",
    "        stopwords=exclude_words  # Exclude specified words from the word cloud\n",
    "    ).generate(text)\n",
    "    plt.figure(figsize=(8, 4))\n",
    "    plt.imshow(wordcloud, interpolation='bilinear')\n",
    "    plt.axis('off')\n",
    "    plt.title(sentiment)\n",
    "    plt.show()\n"
   ]
  },
  {
   "cell_type": "code",
   "execution_count": 0,
   "metadata": {
    "application/vnd.databricks.v1+cell": {
     "cellMetadata": {
      "byteLimit": 2048000,
      "rowLimit": 10000
     },
     "inputWidgets": {},
     "nuid": "b7c5cbf8-b0f1-40c3-95c9-323b796f9da0",
     "showTitle": false,
     "title": ""
    },
    "colab": {
     "base_uri": "https://localhost:8080/"
    },
    "id": "EnqySoCIOgRu",
    "outputId": "fecc5b6d-3118-43eb-ab17-3e0c42d9eec3"
   },
   "outputs": [
    {
     "output_type": "stream",
     "name": "stdout",
     "output_type": "stream",
     "text": [
      "Out[36]: Index(['Unnamed: 0', 'User', 'Tweet', 'Likes', 'Retweets', 'Original_Tweet',\n       'DateTime', 'date', 'month', 'year', 'hour', 'Polarity', 'Sentiment'],\n      dtype='object')"
     ]
    }
   ],
   "source": [
    "df.columns"
   ]
  },
  {
   "cell_type": "code",
   "execution_count": 0,
   "metadata": {
    "application/vnd.databricks.v1+cell": {
     "cellMetadata": {
      "byteLimit": 2048000,
      "rowLimit": 10000
     },
     "inputWidgets": {},
     "nuid": "7d3ee28c-b121-4467-88de-595ce5ecabc9",
     "showTitle": false,
     "title": ""
    },
    "id": "DLMb_ccUo9dJ"
   },
   "outputs": [],
   "source": []
  },
  {
   "cell_type": "code",
   "execution_count": 0,
   "metadata": {
    "application/vnd.databricks.v1+cell": {
     "cellMetadata": {
      "byteLimit": 2048000,
      "rowLimit": 10000
     },
     "inputWidgets": {},
     "nuid": "419bb472-a1b9-4ef0-ab50-c89aaf5c10dc",
     "showTitle": false,
     "title": ""
    },
    "id": "C7Dzx55DVZSs"
   },
   "outputs": [],
   "source": [
    "vectorizer = TfidfVectorizer()\n",
    "tf_idf_matrix = vectorizer.fit_transform(preprocessed_corpus)"
   ]
  },
  {
   "cell_type": "code",
   "execution_count": 0,
   "metadata": {
    "application/vnd.databricks.v1+cell": {
     "cellMetadata": {
      "byteLimit": 2048000,
      "rowLimit": 10000
     },
     "inputWidgets": {},
     "nuid": "4557aab1-9d21-40c3-98c6-ab7c86b69932",
     "showTitle": false,
     "title": ""
    },
    "colab": {
     "base_uri": "https://localhost:8080/"
    },
    "id": "Hhc4H6t4VmyL",
    "outputId": "c71764a5-7acd-4e9f-8093-bd9e8c0b82a3"
   },
   "outputs": [
    {
     "output_type": "stream",
     "name": "stdout",
     "output_type": "stream",
     "text": [
      "['00' '000' '0001' ... '𝗣𝗶𝗹𝗹𝗮𝘆' '𝗥𝗲𝗽𝗿𝗲𝘀𝗲𝗻𝘁𝗮𝘁𝗶𝗼𝗻' '𝙙𝙤𝙜𝙨']\n[[0. 0. 0. ... 0. 0. 0.]\n [0. 0. 0. ... 0. 0. 0.]\n [0. 0. 0. ... 0. 0. 0.]\n ...\n [0. 0. 0. ... 0. 0. 0.]\n [0. 0. 0. ... 0. 0. 0.]\n [0. 0. 0. ... 0. 0. 0.]]\n\nThe shape of the TF-IDF matrix is:  (49999, 38566)\n"
     ]
    }
   ],
   "source": [
    "print(vectorizer.get_feature_names_out())\n",
    "print(tf_idf_matrix.toarray())\n",
    "print(\"\\nThe shape of the TF-IDF matrix is: \", tf_idf_matrix.shape)"
   ]
  },
  {
   "cell_type": "code",
   "execution_count": 0,
   "metadata": {
    "application/vnd.databricks.v1+cell": {
     "cellMetadata": {
      "byteLimit": 2048000,
      "rowLimit": 10000
     },
     "inputWidgets": {},
     "nuid": "bc5b4224-b4b0-458c-be96-75a628f050cd",
     "showTitle": false,
     "title": ""
    },
    "id": "aDDUpjlmZQL7"
   },
   "outputs": [],
   "source": [
    "f_tweets = df['Tweet'].tolist()\n"
   ]
  },
  {
   "cell_type": "code",
   "execution_count": 0,
   "metadata": {
    "application/vnd.databricks.v1+cell": {
     "cellMetadata": {
      "byteLimit": 2048000,
      "rowLimit": 10000
     },
     "inputWidgets": {},
     "nuid": "c3be6d7b-2c01-4aa0-a5eb-09e1ca358d59",
     "showTitle": false,
     "title": ""
    }
   },
   "outputs": [
    {
     "output_type": "stream",
     "name": "stdout",
     "output_type": "stream",
     "text": [
      "Collecting gensim\r\n  Using cached gensim-4.3.2-cp39-cp39-manylinux_2_17_x86_64.manylinux2014_x86_64.whl (26.6 MB)\r\nRequirement already satisfied: scipy>=1.7.0 in /databricks/python3/lib/python3.9/site-packages (from gensim) (1.7.3)\r\nCollecting smart-open>=1.8.1\r\n  Using cached smart_open-6.4.0-py3-none-any.whl (57 kB)\r\nRequirement already satisfied: numpy>=1.18.5 in /local_disk0/.ephemeral_nfs/envs/pythonEnv-f985aff4-5238-4579-80f5-9267bb6d66d2/lib/python3.9/site-packages (from gensim) (1.26.0)\r\nCollecting numpy>=1.18.5\r\n  Downloading numpy-1.22.4-cp39-cp39-manylinux_2_17_x86_64.manylinux2014_x86_64.whl (16.8 MB)\r\n\u001B[?25l\r\u001B[K     |                                | 10 kB 35.7 MB/s eta 0:00:01\r\u001B[K     |                                | 20 kB 16.4 MB/s eta 0:00:02\r\u001B[K     |                                | 30 kB 22.7 MB/s eta 0:00:01\r\u001B[K     |                                | 40 kB 7.6 MB/s eta 0:00:03\r\u001B[K     |                                | 51 kB 8.9 MB/s eta 0:00:02\r\u001B[K     |▏                               | 61 kB 10.6 MB/s eta 0:00:02\r\u001B[K     |▏                               | 71 kB 10.0 MB/s eta 0:00:02\r\u001B[K     |▏                               | 81 kB 9.5 MB/s eta 0:00:02\r\u001B[K     |▏                               | 92 kB 10.6 MB/s eta 0:00:02\r\u001B[K     |▏                               | 102 kB 9.8 MB/s eta 0:00:02\r\u001B[K     |▏                               | 112 kB 9.8 MB/s eta 0:00:02\r\u001B[K     |▎                               | 122 kB 9.8 MB/s eta 0:00:02\r\u001B[K     |▎                               | 133 kB 9.8 MB/s eta 0:00:02\r\u001B[K     |▎                               | 143 kB 9.8 MB/s eta 0:00:02\r\u001B[K     |▎                               | 153 kB 9.8 MB/s eta 0:00:02\r\u001B[K     |▎                               | 163 kB 9.8 MB/s eta 0:00:02\r\u001B[K     |▎                               | 174 kB 9.8 MB/s eta 0:00:02\r\u001B[K     |▍                               | 184 kB 9.8 MB/s eta 0:00:02\r\u001B[K     |▍                               | 194 kB 9.8 MB/s eta 0:00:02\r\u001B[K     |▍                               | 204 kB 9.8 MB/s eta 0:00:02\r\u001B[K     |▍                               | 215 kB 9.8 MB/s eta 0:00:02\r\u001B[K     |▍                               | 225 kB 9.8 MB/s eta 0:00:02\r\u001B[K     |▌                               | 235 kB 9.8 MB/s eta 0:00:02\r\u001B[K     |▌                               | 245 kB 9.8 MB/s eta 0:00:02\r\u001B[K     |▌                               | 256 kB 9.8 MB/s eta 0:00:02\r\u001B[K     |▌                               | 266 kB 9.8 MB/s eta 0:00:02\r\u001B[K     |▌                               | 276 kB 9.8 MB/s eta 0:00:02\r\u001B[K     |▌                               | 286 kB 9.8 MB/s eta 0:00:02\r\u001B[K     |▋                               | 296 kB 9.8 MB/s eta 0:00:02\r\u001B[K     |▋                               | 307 kB 9.8 MB/s eta 0:00:02\r\u001B[K     |▋                               | 317 kB 9.8 MB/s eta 0:00:02\r\u001B[K     |▋                               | 327 kB 9.8 MB/s eta 0:00:02\r\u001B[K     |▋                               | 337 kB 9.8 MB/s eta 0:00:02\r\u001B[K     |▋                               | 348 kB 9.8 MB/s eta 0:00:02\r\u001B[K     |▊                               | 358 kB 9.8 MB/s eta 0:00:02\r\u001B[K     |▊                               | 368 kB 9.8 MB/s eta 0:00:02\r\u001B[K     |▊                               | 378 kB 9.8 MB/s eta 0:00:02\r\u001B[K     |▊                               | 389 kB 9.8 MB/s eta 0:00:02\r\u001B[K     |▊                               | 399 kB 9.8 MB/s eta 0:00:02\r\u001B[K     |▉                               | 409 kB 9.8 MB/s eta 0:00:02\r\u001B[K     |▉                               | 419 kB 9.8 MB/s eta 0:00:02\r\u001B[K     |▉                               | 430 kB 9.8 MB/s eta 0:00:02\r\u001B[K     |▉                               | 440 kB 9.8 MB/s eta 0:00:02\r\u001B[K     |▉                               | 450 kB 9.8 MB/s eta 0:00:02\r\u001B[K     |▉                               | 460 kB 9.8 MB/s eta 0:00:02\r\u001B[K     |█                               | 471 kB 9.8 MB/s eta 0:00:02\r\u001B[K     |█                               | 481 kB 9.8 MB/s eta 0:00:02\r\u001B[K     |█                               | 491 kB 9.8 MB/s eta 0:00:02\r\u001B[K     |█                               | 501 kB 9.8 MB/s eta 0:00:02\r\u001B[K     |█                               | 512 kB 9.8 MB/s eta 0:00:02\r\u001B[K     |█                               | 522 kB 9.8 MB/s eta 0:00:02\r\u001B[K     |█                               | 532 kB 9.8 MB/s eta 0:00:02\r\u001B[K     |█                               | 542 kB 9.8 MB/s eta 0:00:02\r\u001B[K     |█                               | 552 kB 9.8 MB/s eta 0:00:02\r\u001B[K     |█                               | 563 kB 9.8 MB/s eta 0:00:02\r\u001B[K     |█                               | 573 kB 9.8 MB/s eta 0:00:02\r\u001B[K     |█                               | 583 kB 9.8 MB/s eta 0:00:02\r\u001B[K     |█▏                              | 593 kB 9.8 MB/s eta 0:00:02\r\u001B[K     |█▏                              | 604 kB 9.8 MB/s eta 0:00:02\r\u001B[K     |█▏                              | 614 kB 9.8 MB/s eta 0:00:02\r\u001B[K     |█▏                              | 624 kB 9.8 MB/s eta 0:00:02\r\u001B[K     |█▏                              | 634 kB 9.8 MB/s eta 0:00:02\r\u001B[K     |█▎                              | 645 kB 9.8 MB/s eta 0:00:02\r\u001B[K     |█▎                              | 655 kB 9.8 MB/s eta 0:00:02\r\u001B[K     |█▎                              | 665 kB 9.8 MB/s eta 0:00:02\r\u001B[K     |█▎                              | 675 kB 9.8 MB/s eta 0:00:02\r\u001B[K     |█▎                              | 686 kB 9.8 MB/s eta 0:00:02\r\u001B[K     |█▎                              | 696 kB 9.8 MB/s eta 0:00:02\r\u001B[K     |█▍                              | 706 kB 9.8 MB/s eta 0:00:02\r\u001B[K     |█▍                              | 716 kB 9.8 MB/s eta 0:00:02\r\u001B[K     |█▍                              | 727 kB 9.8 MB/s eta 0:00:02\r\u001B[K     |█▍                              | 737 kB 9.8 MB/s eta 0:00:02\r\u001B[K     |█▍                              | 747 kB 9.8 MB/s eta 0:00:02\r\u001B[K     |█▍                              | 757 kB 9.8 MB/s eta 0:00:02\r\u001B[K     |█▌                              | 768 kB 9.8 MB/s eta 0:00:02\r\u001B[K     |█▌                              | 778 kB 9.8 MB/s eta 0:00:02\r\u001B[K     |█▌                              | 788 kB 9.8 MB/s eta 0:00:02\r\u001B[K     |█▌                              | 798 kB 9.8 MB/s eta 0:00:02\r\u001B[K     |█▌                              | 808 kB 9.8 MB/s eta 0:00:02\r\u001B[K     |█▋                              | 819 kB 9.8 MB/s eta 0:00:02\r\u001B[K     |█▋                              | 829 kB 9.8 MB/s eta 0:00:02\r\u001B[K     |█▋                              | 839 kB 9.8 MB/s eta 0:00:02\r\u001B[K     |█▋                              | 849 kB 9.8 MB/s eta 0:00:02\r\u001B[K     |█▋                              | 860 kB 9.8 MB/s eta 0:00:02\r\u001B[K     |█▋                              | 870 kB 9.8 MB/s eta 0:00:02\r\u001B[K     |█▊                              | 880 kB 9.8 MB/s eta 0:00:02\r\u001B[K     |█▊                              | 890 kB 9.8 MB/s eta 0:00:02\r\u001B[K     |█▊                              | 901 kB 9.8 MB/s eta 0:00:02\r\u001B[K     |█▊                              | 911 kB 9.8 MB/s eta 0:00:02\r\u001B[K     |█▊                              | 921 kB 9.8 MB/s eta 0:00:02\r\u001B[K     |█▊                              | 931 kB 9.8 MB/s eta 0:00:02\r\u001B[K     |█▉                              | 942 kB 9.8 MB/s eta 0:00:02\r\u001B[K     |█▉                              | 952 kB 9.8 MB/s eta 0:00:02\r\u001B[K     |█▉                              | 962 kB 9.8 MB/s eta 0:00:02\r\u001B[K     |█▉                              | 972 kB 9.8 MB/s eta 0:00:02\r\u001B[K     |█▉                              | 983 kB 9.8 MB/s eta 0:00:02\r\u001B[K     |█▉                              | 993 kB 9.8 MB/s eta 0:00:02\r\u001B[K     |██                              | 1.0 MB 9.8 MB/s eta 0:00:02\r\u001B[K     |██                              | 1.0 MB 9.8 MB/s eta 0:00:02\r\u001B[K     |██                              | 1.0 MB 9.8 MB/s eta 0:00:02\r\u001B[K     |██                              | 1.0 MB 9.8 MB/s eta 0:00:02\r\u001B[K     |██                              | 1.0 MB 9.8 MB/s eta 0:00:02\r\u001B[K     |██                              | 1.1 MB 9.8 MB/s eta 0:00:02\r\u001B[K     |██                              | 1.1 MB 9.8 MB/s eta 0:00:02\r\u001B[K     |██                              | 1.1 MB 9.8 MB/s eta 0:00:02\r\u001B[K     |██                              | 1.1 MB 9.8 MB/s eta 0:00:02\r\u001B[K     |██                              | 1.1 MB 9.8 MB/s eta 0:00:02\r\u001B[K     |██                              | 1.1 MB 9.8 MB/s eta 0:00:02\r\u001B[K     |██▏                             | 1.1 MB 9.8 MB/s eta 0:00:02\r\u001B[K     |██▏                             | 1.1 MB 9.8 MB/s eta 0:00:02\r\u001B[K     |██▏                             | 1.1 MB 9.8 MB/s eta 0:00:02\r\u001B[K     |██▏                             | 1.1 MB 9.8 MB/s eta 0:00:02\r\u001B[K     |██▏                             | 1.2 MB 9.8 MB/s eta 0:00:02\r\u001B[K     |██▏                             | 1.2 MB 9.8 MB/s eta 0:00:02\r\u001B[K     |██▎                             | 1.2 MB 9.8 MB/s eta 0:00:02\r\u001B[K     |██▎                             | 1.2 MB 9.8 MB/s eta 0:00:02\r\u001B[K     |██▎                             | 1.2 MB 9.8 MB/s eta 0:00:02\r\u001B[K     |██▎                             | 1.2 MB 9.8 MB/s eta 0:00:02\r\u001B[K     |██▎                             | 1.2 MB 9.8 MB/s eta 0:00:02\r\u001B[K     |██▍                             | 1.2 MB 9.8 MB/s eta 0:00:02\r\u001B[K     |██▍                             | 1.2 MB 9.8 MB/s eta 0:00:02\r\u001B[K     |██▍                             | 1.2 MB 9.8 MB/s eta 0:00:02\r\u001B[K     |██▍                             | 1.3 MB 9.8 MB/s eta 0:00:02\r\u001B[K     |██▍                             | 1.3 MB 9.8 MB/s eta 0:00:02\r\u001B[K     |██▍                             | 1.3 MB 9.8 MB/s eta 0:00:02\r\u001B[K     |██▌                             | 1.3 MB 9.8 MB/s eta 0:00:02\r\u001B[K     |██▌                             | 1.3 MB 9.8 MB/s eta 0:00:02\r\u001B[K     |██▌                             | 1.3 MB 9.8 MB/s eta 0:00:02\r\u001B[K     |██▌                             | 1.3 MB 9.8 MB/s eta 0:00:02\r\u001B[K     |██▌                             | 1.3 MB 9.8 MB/s eta 0:00:02\r\u001B[K     |██▌                             | 1.3 MB 9.8 MB/s eta 0:00:02\r\u001B[K     |██▋                             | 1.4 MB 9.8 MB/s eta 0:00:02\r\u001B[K     |██▋                             | 1.4 MB 9.8 MB/s eta 0:00:02\r\u001B[K     |██▋                             | 1.4 MB 9.8 MB/s eta 0:00:02\r\u001B[K     |██▋                             | 1.4 MB 9.8 MB/s eta 0:00:02\r\u001B[K     |██▋                             | 1.4 MB 9.8 MB/s eta 0:00:02\r\u001B[K     |██▋                             | 1.4 MB 9.8 MB/s eta 0:00:02\r\u001B[K     |██▊                             | 1.4 MB 9.8 MB/s eta 0:00:02\r\u001B[K     |██▊                             | 1.4 MB 9.8 MB/s eta 0:00:02\r\u001B[K     |██▊                             | 1.4 MB 9.8 MB/s eta 0:00:02\r\u001B[K     |██▊                             | 1.4 MB 9.8 MB/s eta 0:00:02\r\u001B[K     |██▊                             | 1.5 MB 9.8 MB/s eta 0:00:02\r\u001B[K     |██▉                             | 1.5 MB 9.8 MB/s eta 0:00:02\r\u001B[K     |██▉                             | 1.5 MB 9.8 MB/s eta 0:00:02\r\u001B[K     |██▉                             | 1.5 MB 9.8 MB/s eta 0:00:02\r\u001B[K     |██▉                             | 1.5 MB 9.8 MB/s eta 0:00:02\r\u001B[K     |██▉                             | 1.5 MB 9.8 MB/s eta 0:00:02\r\u001B[K     |██▉                             | 1.5 MB 9.8 MB/s eta 0:00:02\r\u001B[K     |███                             | 1.5 MB 9.8 MB/s eta 0:00:02\r\u001B[K     |███                             | 1.5 MB 9.8 MB/s eta 0:00:02\r\u001B[K     |███                             | 1.5 MB 9.8 MB/s eta 0:00:02\r\u001B[K     |███                             | 1.6 MB 9.8 MB/s eta 0:00:02\r\u001B[K     |███                             | 1.6 MB 9.8 MB/s eta 0:00:02\r\u001B[K     |███                             | 1.6 MB 9.8 MB/s eta 0:00:02\r\u001B[K     |███                             | 1.6 MB 9.8 MB/s eta 0:00:02\r\u001B[K     |███                             | 1.6 MB 9.8 MB/s eta 0:00:02\r\u001B[K     |███                             | 1.6 MB 9.8 MB/s eta 0:00:02\r\u001B[K     |███                             | 1.6 MB 9.8 MB/s eta 0:00:02\r\u001B[K     |███                             | 1.6 MB 9.8 MB/s eta 0:00:02\r\u001B[K     |███▏                            | 1.6 MB 9.8 MB/s eta 0:00:02\r\u001B[K     |███▏                            | 1.6 MB 9.8 MB/s eta 0:00:02\r\u001B[K     |███▏                            | 1.7 MB 9.8 MB/s eta 0:00:02\r\u001B[K     |███▏                            | 1.7 MB 9.8 MB/s eta 0:00:02\r\u001B[K     |███▏                            | 1.7 MB 9.8 MB/s eta 0:00:02\r\u001B[K     |███▏                            | 1.7 MB 9.8 MB/s eta 0:00:02\r\u001B[K     |███▎                            | 1.7 MB 9.8 MB/s eta 0:00:02\r\u001B[K     |███▎                            | 1.7 MB 9.8 MB/s eta 0:00:02\r\u001B[K     |███▎                            | 1.7 MB 9.8 MB/s eta 0:00:02\r\u001B[K     |███▎                            | 1.7 MB 9.8 MB/s eta 0:00:02\r\u001B[K     |███▎                            | 1.7 MB 9.8 MB/s eta 0:00:02\r\u001B[K     |███▎                            | 1.8 MB 9.8 MB/s eta 0:00:02\r\u001B[K     |███▍                            | 1.8 MB 9.8 MB/s eta 0:00:02\r\u001B[K     |███▍                            | 1.8 MB 9.8 MB/s eta 0:00:02\r\u001B[K     |███▍                            | 1.8 MB 9.8 MB/s eta 0:00:02\r\u001B[K     |███▍                            | 1.8 MB 9.8 MB/s eta 0:00:02\r\u001B[K     |███▍                            | 1.8 MB 9.8 MB/s eta 0:00:02\r\u001B[K     |███▍                            | 1.8 MB 9.8 MB/s eta 0:00:02\r\u001B[K     |███▌                            | 1.8 MB 9.8 MB/s eta 0:00:02\r\u001B[K     |███▌                            | 1.8 MB 9.8 MB/s eta 0:00:02\r\u001B[K     |███▌                            | 1.8 MB 9.8 MB/s eta 0:00:02\r\u001B[K     |███▌                            | 1.9 MB 9.8 MB/s eta 0:00:02\r\u001B[K     |███▌                            | 1.9 MB 9.8 MB/s eta 0:00:02\r\u001B[K     |███▋                            | 1.9 MB 9.8 MB/s eta 0:00:02\r\u001B[K     |███▋                            | 1.9 MB 9.8 MB/s eta 0:00:02\r\u001B[K     |███▋                            | 1.9 MB 9.8 MB/s eta 0:00:02\r\u001B[K     |███▋                            | 1.9 MB 9.8 MB/s eta 0:00:02\r\u001B[K     |███▋                            | 1.9 MB 9.8 MB/s eta 0:00:02\r\u001B[K     |███▋                            | 1.9 MB 9.8 MB/s eta 0:00:02\r\u001B[K     |███▊                            | 1.9 MB 9.8 MB/s eta 0:00:02\r\u001B[K     |███▊                            | 1.9 MB 9.8 MB/s eta 0:00:02\r\u001B[K     |███▊                            | 2.0 MB 9.8 MB/s eta 0:00:02\r\u001B[K     |███▊                            | 2.0 MB 9.8 MB/s eta 0:00:02\r\u001B[K     |███▊                            | 2.0 MB 9.8 MB/s eta 0:00:02\r\u001B[K     |███▊                            | 2.0 MB 9.8 MB/s eta 0:00:02\r\u001B[K     |███▉                            | 2.0 MB 9.8 MB/s eta 0:00:02\r\u001B[K     |███▉                            | 2.0 MB 9.8 MB/s eta 0:00:02\r\u001B[K     |███▉                            | 2.0 MB 9.8 MB/s eta 0:00:02\r\u001B[K     |███▉                            | 2.0 MB 9.8 MB/s eta 0:00:02\r\u001B[K     |███▉                            | 2.0 MB 9.8 MB/s eta 0:00:02\r\u001B[K     |████                            | 2.0 MB 9.8 MB/s eta 0:00:02\r\u001B[K     |████                            | 2.1 MB 9.8 MB/s eta 0:00:02\r\u001B[K     |████                            | 2.1 MB 9.8 MB/s eta 0:00:02\r\u001B[K     |████                            | 2.1 MB 9.8 MB/s eta 0:00:02\r\u001B[K     |████                            | 2.1 MB 9.8 MB/s eta 0:00:02\r\u001B[K     |████                            | 2.1 MB 9.8 MB/s eta 0:00:02\r\u001B[K     |████                            | 2.1 MB 9.8 MB/s eta 0:00:02\r\u001B[K     |████                            | 2.1 MB 9.8 MB/s eta 0:00:02\r\u001B[K     |████                            | 2.1 MB 9.8 MB/s eta 0:00:02\r\u001B[K     |████                            | 2.1 MB 9.8 MB/s eta 0:00:02\r\u001B[K     |████                            | 2.2 MB 9.8 MB/s eta 0:00:02\r\u001B[K     |████                            | 2.2 MB 9.8 MB/s eta 0:00:02\r\u001B[K     |████▏                           | 2.2 MB 9.8 MB/s eta 0:00:02\r\u001B[K     |████▏                           | 2.2 MB 9.8 MB/s eta 0:00:02\r\u001B[K     |████▏                           | 2.2 MB 9.8 MB/s eta 0:00:02\r\u001B[K     |████▏                           | 2.2 MB 9.8 MB/s eta 0:00:02\r\u001B[K     |████▏                           | 2.2 MB 9.8 MB/s eta 0:00:02\r\u001B[K     |████▎                           | 2.2 MB 9.8 MB/s eta 0:00:02\r\u001B[K     |████▎                           | 2.2 MB 9.8 MB/s eta 0:00:02\r\u001B[K     |████▎                           | 2.2 MB 9.8 MB/s eta 0:00:02\r\u001B[K     |████▎                           | 2.3 MB 9.8 MB/s eta 0:00:02\r\u001B[K     |████▎                           | 2.3 MB 9.8 MB/s eta 0:00:02\r\u001B[K     |████▎                           | 2.3 MB 9.8 MB/s eta 0:00:02\r\u001B[K     |████▍                           | 2.3 MB 9.8 MB/s eta 0:00:02\r\u001B[K     |████▍                           | 2.3 MB 9.8 MB/s eta 0:00:02\r\u001B[K     |████▍                           | 2.3 MB 9.8 MB/s eta 0:00:02\r\u001B[K     |████▍                           | 2.3 MB 9.8 MB/s eta 0:00:02\r\u001B[K     |████▍                           | 2.3 MB 9.8 MB/s eta 0:00:02\r\u001B[K     |████▍                           | 2.3 MB 9.8 MB/s eta 0:00:02\r\u001B[K     |████▌                           | 2.3 MB 9.8 MB/s eta 0:00:02\r\u001B[K     |████▌                           | 2.4 MB 9.8 MB/s eta 0:00:02\r\u001B[K     |████▌                           | 2.4 MB 9.8 MB/s eta 0:00:02\r\u001B[K     |████▌                           | 2.4 MB 9.8 MB/s eta 0:00:02\r\u001B[K     |████▌                           | 2.4 MB 9.8 MB/s eta 0:00:02\r\u001B[K     |████▌                           | 2.4 MB 9.8 MB/s eta 0:00:02\r\u001B[K     |████▋                           | 2.4 MB 9.8 MB/s eta 0:00:02\r\u001B[K     |████▋                           | 2.4 MB 9.8 MB/s eta 0:00:02\r\u001B[K     |████▋                           | 2.4 MB 9.8 MB/s eta 0:00:02\r\u001B[K     |████▋                           | 2.4 MB 9.8 MB/s eta 0:00:02\r\u001B[K     |████▋                           | 2.4 MB 9.8 MB/s eta 0:00:02\r\u001B[K     |████▊                           | 2.5 MB 9.8 MB/s eta 0:00:02\r\u001B[K     |████▊                           | 2.5 MB 9.8 MB/s eta 0:00:02\r\u001B[K     |████▊                           | 2.5 MB 9.8 MB/s eta 0:00:02\r\u001B[K     |████▊                           | 2.5 MB 9.8 MB/s eta 0:00:02\r\u001B[K     |████▊                           | 2.5 MB 9.8 MB/s eta 0:00:02\r\u001B[K     |████▊                           | 2.5 MB 9.8 MB/s eta 0:00:02\r\u001B[K     |████▉                           | 2.5 MB 9.8 MB/s eta 0:00:02\r\u001B[K     |████▉                           | 2.5 MB 9.8 MB/s eta 0:00:02\r\u001B[K     |████▉                           | 2.5 MB 9.8 MB/s eta 0:00:02\r\u001B[K     |████▉                           | 2.5 MB 9.8 MB/s eta 0:00:02\r\u001B[K     |████▉                           | 2.6 MB 9.8 MB/s eta 0:00:02\r\u001B[K     |████▉                           | 2.6 MB 9.8 MB/s eta 0:00:02\r\u001B[K     |█████                           | 2.6 MB 9.8 MB/s eta 0:00:02\r\u001B[K     |█████                           | 2.6 MB 9.8 MB/s eta 0:00:02\r\u001B[K     |█████                           | 2.6 MB 9.8 MB/s eta 0:00:02\r\u001B[K     |█████                           | 2.6 MB 9.8 MB/s eta 0:00:02\r\u001B[K     |█████                           | 2.6 MB 9.8 MB/s eta 0:00:02\r\u001B[K     |█████                           | 2.6 MB 9.8 MB/s eta 0:00:02\r\u001B[K     |█████                           | 2.6 MB 9.8 MB/s eta 0:00:02\r\u001B[K     |█████                           | 2.7 MB 9.8 MB/s eta 0:00:02\r\u001B[K     |█████                           | 2.7 MB 9.8 MB/s eta 0:00:02\r\u001B[K     |█████                           | 2.7 MB 9.8 MB/s eta 0:00:02\r\u001B[K     |█████                           | 2.7 MB 9.8 MB/s eta 0:00:02\r\u001B[K     |█████▏                          | 2.7 MB 9.8 MB/s eta 0:00:02\r\u001B[K     |█████▏                          | 2.7 MB 9.8 MB/s eta 0:00:02\r\u001B[K     |█████▏                          | 2.7 MB 9.8 MB/s eta 0:00:02\r\u001B[K     |█████▏                          | 2.7 MB 9.8 MB/s eta 0:00:02\r\u001B[K     |█████▏                          | 2.7 MB 9.8 MB/s eta 0:00:02\r\u001B[K     |█████▏                          | 2.7 MB 9.8 MB/s eta 0:00:02\r\u001B[K     |█████▎                          | 2.8 MB 9.8 MB/s eta 0:00:02\r\u001B[K     |█████▎                          | 2.8 MB 9.8 MB/s eta 0:00:02\r\u001B[K     |█████▎                          | 2.8 MB 9.8 MB/s eta 0:00:02\r\u001B[K     |█████▎                          | 2.8 MB 9.8 MB/s eta 0:00:02\r\u001B[K     |█████▎                          | 2.8 MB 9.8 MB/s eta 0:00:02\r\u001B[K     |█████▎                          | 2.8 MB 9.8 MB/s eta 0:00:02\r\u001B[K     |█████▍                          | 2.8 MB 9.8 MB/s eta 0:00:02\r\u001B[K     |█████▍                          | 2.8 MB 9.8 MB/s eta 0:00:02\r\u001B[K     |█████▍                          | 2.8 MB 9.8 MB/s eta 0:00:02\r\u001B[K     |█████▍                          | 2.8 MB 9.8 MB/s eta 0:00:02\r\u001B[K     |█████▍                          | 2.9 MB 9.8 MB/s eta 0:00:02\r\u001B[K     |█████▌                          | 2.9 MB 9.8 MB/s eta 0:00:02\r\u001B[K     |█████▌                          | 2.9 MB 9.8 MB/s eta 0:00:02\r\u001B[K     |█████▌                          | 2.9 MB 9.8 MB/s eta 0:00:02\r\u001B[K     |█████▌                          | 2.9 MB 9.8 MB/s eta 0:00:02\r\u001B[K     |█████▌                          | 2.9 MB 9.8 MB/s eta 0:00:02\r\u001B[K     |█████▌                          | 2.9 MB 9.8 MB/s eta 0:00:02\r\u001B[K     |█████▋                          | 2.9 MB 9.8 MB/s eta 0:00:02\r\u001B[K     |█████▋                          | 2.9 MB 9.8 MB/s eta 0:00:02\r\u001B[K     |█████▋                          | 2.9 MB 9.8 MB/s eta 0:00:02\r\u001B[K     |█████▋                          | 3.0 MB 9.8 MB/s eta 0:00:02\r\u001B[K     |█████▋                          | 3.0 MB 9.8 MB/s eta 0:00:02\r\u001B[K     |█████▋                          | 3.0 MB 9.8 MB/s eta 0:00:02\r\u001B[K     |█████▊                          | 3.0 MB 9.8 MB/s eta 0:00:02\r\u001B[K     |█████▊                          | 3.0 MB 9.8 MB/s eta 0:00:02\r\u001B[K     |█████▊                          | 3.0 MB 9.8 MB/s eta 0:00:02\r\u001B[K     |█████▊                          | 3.0 MB 9.8 MB/s eta 0:00:02\r\u001B[K     |█████▊                          | 3.0 MB 9.8 MB/s eta 0:00:02\r\u001B[K     |█████▉                          | 3.0 MB 9.8 MB/s eta 0:00:02\r\u001B[K     |█████▉                          | 3.1 MB 9.8 MB/s eta 0:00:02\r\u001B[K     |█████▉                          | 3.1 MB 9.8 MB/s eta 0:00:02\r\u001B[K     |█████▉                          | 3.1 MB 9.8 MB/s eta 0:00:02\r\u001B[K     |█████▉                          | 3.1 MB 9.8 MB/s eta 0:00:02\r\u001B[K     |█████▉                          | 3.1 MB 9.8 MB/s eta 0:00:02\r\u001B[K     |██████                          | 3.1 MB 9.8 MB/s eta 0:00:02\r\u001B[K     |██████                          | 3.1 MB 9.8 MB/s eta 0:00:02\r\u001B[K     |██████                          | 3.1 MB 9.8 MB/s eta 0:00:02\r\u001B[K     |██████                          | 3.1 MB 9.8 MB/s eta 0:00:02\r\u001B[K     |██████                          | 3.1 MB 9.8 MB/s eta 0:00:02\r\u001B[K     |██████                          | 3.2 MB 9.8 MB/s eta 0:00:02\r\u001B[K     |██████                          | 3.2 MB 9.8 MB/s eta 0:00:02\r\u001B[K     |██████                          | 3.2 MB 9.8 MB/s eta 0:00:02\r\u001B[K     |██████                          | 3.2 MB 9.8 MB/s eta 0:00:02\r\u001B[K     |██████                          | 3.2 MB 9.8 MB/s eta 0:00:02\r\u001B[K     |██████                          | 3.2 MB 9.8 MB/s eta 0:00:02\r\u001B[K     |██████                          | 3.2 MB 9.8 MB/s eta 0:00:02\r\u001B[K     |██████▏                         | 3.2 MB 9.8 MB/s eta 0:00:02\r\u001B[K     |██████▏                         | 3.2 MB 9.8 MB/s eta 0:00:02\r\u001B[K     |██████▏                         | 3.2 MB 9.8 MB/s eta 0:00:02\r\u001B[K     |██████▏                         | 3.3 MB 9.8 MB/s eta 0:00:02\r\u001B[K     |██████▏                         | 3.3 MB 9.8 MB/s eta 0:00:02\r\u001B[K     |██████▎                         | 3.3 MB 9.8 MB/s eta 0:00:02\r\u001B[K     |██████▎                         | 3.3 MB 9.8 MB/s eta 0:00:02\r\u001B[K     |██████▎                         | 3.3 MB 9.8 MB/s eta 0:00:02\r\u001B[K     |██████▎                         | 3.3 MB 9.8 MB/s eta 0:00:02\r\u001B[K     |██████▎                         | 3.3 MB 9.8 MB/s eta 0:00:02\r\u001B[K     |██████▎                         | 3.3 MB 9.8 MB/s eta 0:00:02\r\u001B[K     |██████▍                         | 3.3 MB 9.8 MB/s eta 0:00:02\r\u001B[K     |██████▍                         | 3.3 MB 9.8 MB/s eta 0:00:02\r\u001B[K     |██████▍                         | 3.4 MB 9.8 MB/s eta 0:00:02\r\u001B[K     |██████▍                         | 3.4 MB 9.8 MB/s eta 0:00:02\r\u001B[K     |██████▍                         | 3.4 MB 9.8 MB/s eta 0:00:02\r\u001B[K     |██████▍                         | 3.4 MB 9.8 MB/s eta 0:00:02\r\u001B[K     |██████▌                         | 3.4 MB 9.8 MB/s eta 0:00:02\r\u001B[K     |██████▌                         | 3.4 MB 9.8 MB/s eta 0:00:02\r\u001B[K     |██████▌                         | 3.4 MB 9.8 MB/s eta 0:00:02\r\u001B[K     |██████▌                         | 3.4 MB 9.8 MB/s eta 0:00:02\r\u001B[K     |██████▌                         | 3.4 MB 9.8 MB/s eta 0:00:02\r\u001B[K     |██████▋                         | 3.5 MB 9.8 MB/s eta 0:00:02\r\u001B[K     |██████▋                         | 3.5 MB 9.8 MB/s eta 0:00:02\r\u001B[K     |██████▋                         | 3.5 MB 9.8 MB/s eta 0:00:02\r\u001B[K     |██████▋                         | 3.5 MB 9.8 MB/s eta 0:00:02\r\u001B[K     |██████▋                         | 3.5 MB 9.8 MB/s eta 0:00:02\r\u001B[K     |██████▋                         | 3.5 MB 9.8 MB/s eta 0:00:02\r\u001B[K     |██████▊                         | 3.5 MB 9.8 MB/s eta 0:00:02\r\u001B[K     |██████▊     \n\n*** WARNING: max output size exceeded, skipping output. ***\n\n█████████████████▍      | 13.4 MB 9.8 MB/s eta 0:00:01\r\u001B[K     |█████████████████████████▍      | 13.4 MB 9.8 MB/s eta 0:00:01\r\u001B[K     |█████████████████████████▌      | 13.4 MB 9.8 MB/s eta 0:00:01\r\u001B[K     |█████████████████████████▌      | 13.4 MB 9.8 MB/s eta 0:00:01\r\u001B[K     |█████████████████████████▌      | 13.4 MB 9.8 MB/s eta 0:00:01\r\u001B[K     |█████████████████████████▌      | 13.4 MB 9.8 MB/s eta 0:00:01\r\u001B[K     |█████████████████████████▌      | 13.4 MB 9.8 MB/s eta 0:00:01\r\u001B[K     |█████████████████████████▌      | 13.4 MB 9.8 MB/s eta 0:00:01\r\u001B[K     |█████████████████████████▋      | 13.5 MB 9.8 MB/s eta 0:00:01\r\u001B[K     |█████████████████████████▋      | 13.5 MB 9.8 MB/s eta 0:00:01\r\u001B[K     |█████████████████████████▋      | 13.5 MB 9.8 MB/s eta 0:00:01\r\u001B[K     |█████████████████████████▋      | 13.5 MB 9.8 MB/s eta 0:00:01\r\u001B[K     |█████████████████████████▋      | 13.5 MB 9.8 MB/s eta 0:00:01\r\u001B[K     |█████████████████████████▋      | 13.5 MB 9.8 MB/s eta 0:00:01\r\u001B[K     |█████████████████████████▊      | 13.5 MB 9.8 MB/s eta 0:00:01\r\u001B[K     |█████████████████████████▊      | 13.5 MB 9.8 MB/s eta 0:00:01\r\u001B[K     |█████████████████████████▊      | 13.5 MB 9.8 MB/s eta 0:00:01\r\u001B[K     |█████████████████████████▊      | 13.5 MB 9.8 MB/s eta 0:00:01\r\u001B[K     |█████████████████████████▊      | 13.6 MB 9.8 MB/s eta 0:00:01\r\u001B[K     |█████████████████████████▉      | 13.6 MB 9.8 MB/s eta 0:00:01\r\u001B[K     |█████████████████████████▉      | 13.6 MB 9.8 MB/s eta 0:00:01\r\u001B[K     |█████████████████████████▉      | 13.6 MB 9.8 MB/s eta 0:00:01\r\u001B[K     |█████████████████████████▉      | 13.6 MB 9.8 MB/s eta 0:00:01\r\u001B[K     |█████████████████████████▉      | 13.6 MB 9.8 MB/s eta 0:00:01\r\u001B[K     |█████████████████████████▉      | 13.6 MB 9.8 MB/s eta 0:00:01\r\u001B[K     |██████████████████████████      | 13.6 MB 9.8 MB/s eta 0:00:01\r\u001B[K     |██████████████████████████      | 13.6 MB 9.8 MB/s eta 0:00:01\r\u001B[K     |██████████████████████████      | 13.6 MB 9.8 MB/s eta 0:00:01\r\u001B[K     |██████████████████████████      | 13.7 MB 9.8 MB/s eta 0:00:01\r\u001B[K     |██████████████████████████      | 13.7 MB 9.8 MB/s eta 0:00:01\r\u001B[K     |██████████████████████████      | 13.7 MB 9.8 MB/s eta 0:00:01\r\u001B[K     |██████████████████████████      | 13.7 MB 9.8 MB/s eta 0:00:01\r\u001B[K     |██████████████████████████      | 13.7 MB 9.8 MB/s eta 0:00:01\r\u001B[K     |██████████████████████████      | 13.7 MB 9.8 MB/s eta 0:00:01\r\u001B[K     |██████████████████████████      | 13.7 MB 9.8 MB/s eta 0:00:01\r\u001B[K     |██████████████████████████      | 13.7 MB 9.8 MB/s eta 0:00:01\r\u001B[K     |██████████████████████████▏     | 13.7 MB 9.8 MB/s eta 0:00:01\r\u001B[K     |██████████████████████████▏     | 13.8 MB 9.8 MB/s eta 0:00:01\r\u001B[K     |██████████████████████████▏     | 13.8 MB 9.8 MB/s eta 0:00:01\r\u001B[K     |██████████████████████████▏     | 13.8 MB 9.8 MB/s eta 0:00:01\r\u001B[K     |██████████████████████████▏     | 13.8 MB 9.8 MB/s eta 0:00:01\r\u001B[K     |██████████████████████████▏     | 13.8 MB 9.8 MB/s eta 0:00:01\r\u001B[K     |██████████████████████████▎     | 13.8 MB 9.8 MB/s eta 0:00:01\r\u001B[K     |██████████████████████████▎     | 13.8 MB 9.8 MB/s eta 0:00:01\r\u001B[K     |██████████████████████████▎     | 13.8 MB 9.8 MB/s eta 0:00:01\r\u001B[K     |██████████████████████████▎     | 13.8 MB 9.8 MB/s eta 0:00:01\r\u001B[K     |██████████████████████████▎     | 13.8 MB 9.8 MB/s eta 0:00:01\r\u001B[K     |██████████████████████████▎     | 13.9 MB 9.8 MB/s eta 0:00:01\r\u001B[K     |██████████████████████████▍     | 13.9 MB 9.8 MB/s eta 0:00:01\r\u001B[K     |██████████████████████████▍     | 13.9 MB 9.8 MB/s eta 0:00:01\r\u001B[K     |██████████████████████████▍     | 13.9 MB 9.8 MB/s eta 0:00:01\r\u001B[K     |██████████████████████████▍     | 13.9 MB 9.8 MB/s eta 0:00:01\r\u001B[K     |██████████████████████████▍     | 13.9 MB 9.8 MB/s eta 0:00:01\r\u001B[K     |██████████████████████████▍     | 13.9 MB 9.8 MB/s eta 0:00:01\r\u001B[K     |██████████████████████████▌     | 13.9 MB 9.8 MB/s eta 0:00:01\r\u001B[K     |██████████████████████████▌     | 13.9 MB 9.8 MB/s eta 0:00:01\r\u001B[K     |██████████████████████████▌     | 13.9 MB 9.8 MB/s eta 0:00:01\r\u001B[K     |██████████████████████████▌     | 14.0 MB 9.8 MB/s eta 0:00:01\r\u001B[K     |██████████████████████████▌     | 14.0 MB 9.8 MB/s eta 0:00:01\r\u001B[K     |██████████████████████████▋     | 14.0 MB 9.8 MB/s eta 0:00:01\r\u001B[K     |██████████████████████████▋     | 14.0 MB 9.8 MB/s eta 0:00:01\r\u001B[K     |██████████████████████████▋     | 14.0 MB 9.8 MB/s eta 0:00:01\r\u001B[K     |██████████████████████████▋     | 14.0 MB 9.8 MB/s eta 0:00:01\r\u001B[K     |██████████████████████████▋     | 14.0 MB 9.8 MB/s eta 0:00:01\r\u001B[K     |██████████████████████████▋     | 14.0 MB 9.8 MB/s eta 0:00:01\r\u001B[K     |██████████████████████████▊     | 14.0 MB 9.8 MB/s eta 0:00:01\r\u001B[K     |██████████████████████████▊     | 14.0 MB 9.8 MB/s eta 0:00:01\r\u001B[K     |██████████████████████████▊     | 14.1 MB 9.8 MB/s eta 0:00:01\r\u001B[K     |██████████████████████████▊     | 14.1 MB 9.8 MB/s eta 0:00:01\r\u001B[K     |██████████████████████████▊     | 14.1 MB 9.8 MB/s eta 0:00:01\r\u001B[K     |██████████████████████████▊     | 14.1 MB 9.8 MB/s eta 0:00:01\r\u001B[K     |██████████████████████████▉     | 14.1 MB 9.8 MB/s eta 0:00:01\r\u001B[K     |██████████████████████████▉     | 14.1 MB 9.8 MB/s eta 0:00:01\r\u001B[K     |██████████████████████████▉     | 14.1 MB 9.8 MB/s eta 0:00:01\r\u001B[K     |██████████████████████████▉     | 14.1 MB 9.8 MB/s eta 0:00:01\r\u001B[K     |██████████████████████████▉     | 14.1 MB 9.8 MB/s eta 0:00:01\r\u001B[K     |███████████████████████████     | 14.2 MB 9.8 MB/s eta 0:00:01\r\u001B[K     |███████████████████████████     | 14.2 MB 9.8 MB/s eta 0:00:01\r\u001B[K     |███████████████████████████     | 14.2 MB 9.8 MB/s eta 0:00:01\r\u001B[K     |███████████████████████████     | 14.2 MB 9.8 MB/s eta 0:00:01\r\u001B[K     |███████████████████████████     | 14.2 MB 9.8 MB/s eta 0:00:01\r\u001B[K     |███████████████████████████     | 14.2 MB 9.8 MB/s eta 0:00:01\r\u001B[K     |███████████████████████████     | 14.2 MB 9.8 MB/s eta 0:00:01\r\u001B[K     |███████████████████████████     | 14.2 MB 9.8 MB/s eta 0:00:01\r\u001B[K     |███████████████████████████     | 14.2 MB 9.8 MB/s eta 0:00:01\r\u001B[K     |███████████████████████████     | 14.2 MB 9.8 MB/s eta 0:00:01\r\u001B[K     |███████████████████████████     | 14.3 MB 9.8 MB/s eta 0:00:01\r\u001B[K     |███████████████████████████     | 14.3 MB 9.8 MB/s eta 0:00:01\r\u001B[K     |███████████████████████████▏    | 14.3 MB 9.8 MB/s eta 0:00:01\r\u001B[K     |███████████████████████████▏    | 14.3 MB 9.8 MB/s eta 0:00:01\r\u001B[K     |███████████████████████████▏    | 14.3 MB 9.8 MB/s eta 0:00:01\r\u001B[K     |███████████████████████████▏    | 14.3 MB 9.8 MB/s eta 0:00:01\r\u001B[K     |███████████████████████████▏    | 14.3 MB 9.8 MB/s eta 0:00:01\r\u001B[K     |███████████████████████████▏    | 14.3 MB 9.8 MB/s eta 0:00:01\r\u001B[K     |███████████████████████████▎    | 14.3 MB 9.8 MB/s eta 0:00:01\r\u001B[K     |███████████████████████████▎    | 14.3 MB 9.8 MB/s eta 0:00:01\r\u001B[K     |███████████████████████████▎    | 14.4 MB 9.8 MB/s eta 0:00:01\r\u001B[K     |███████████████████████████▎    | 14.4 MB 9.8 MB/s eta 0:00:01\r\u001B[K     |███████████████████████████▎    | 14.4 MB 9.8 MB/s eta 0:00:01\r\u001B[K     |███████████████████████████▍    | 14.4 MB 9.8 MB/s eta 0:00:01\r\u001B[K     |███████████████████████████▍    | 14.4 MB 9.8 MB/s eta 0:00:01\r\u001B[K     |███████████████████████████▍    | 14.4 MB 9.8 MB/s eta 0:00:01\r\u001B[K     |███████████████████████████▍    | 14.4 MB 9.8 MB/s eta 0:00:01\r\u001B[K     |███████████████████████████▍    | 14.4 MB 9.8 MB/s eta 0:00:01\r\u001B[K     |███████████████████████████▍    | 14.4 MB 9.8 MB/s eta 0:00:01\r\u001B[K     |███████████████████████████▌    | 14.4 MB 9.8 MB/s eta 0:00:01\r\u001B[K     |███████████████████████████▌    | 14.5 MB 9.8 MB/s eta 0:00:01\r\u001B[K     |███████████████████████████▌    | 14.5 MB 9.8 MB/s eta 0:00:01\r\u001B[K     |███████████████████████████▌    | 14.5 MB 9.8 MB/s eta 0:00:01\r\u001B[K     |███████████████████████████▌    | 14.5 MB 9.8 MB/s eta 0:00:01\r\u001B[K     |███████████████████████████▌    | 14.5 MB 9.8 MB/s eta 0:00:01\r\u001B[K     |███████████████████████████▋    | 14.5 MB 9.8 MB/s eta 0:00:01\r\u001B[K     |███████████████████████████▋    | 14.5 MB 9.8 MB/s eta 0:00:01\r\u001B[K     |███████████████████████████▋    | 14.5 MB 9.8 MB/s eta 0:00:01\r\u001B[K     |███████████████████████████▋    | 14.5 MB 9.8 MB/s eta 0:00:01\r\u001B[K     |███████████████████████████▋    | 14.6 MB 9.8 MB/s eta 0:00:01\r\u001B[K     |███████████████████████████▊    | 14.6 MB 9.8 MB/s eta 0:00:01\r\u001B[K     |███████████████████████████▊    | 14.6 MB 9.8 MB/s eta 0:00:01\r\u001B[K     |███████████████████████████▊    | 14.6 MB 9.8 MB/s eta 0:00:01\r\u001B[K     |███████████████████████████▊    | 14.6 MB 9.8 MB/s eta 0:00:01\r\u001B[K     |███████████████████████████▊    | 14.6 MB 9.8 MB/s eta 0:00:01\r\u001B[K     |███████████████████████████▊    | 14.6 MB 9.8 MB/s eta 0:00:01\r\u001B[K     |███████████████████████████▉    | 14.6 MB 9.8 MB/s eta 0:00:01\r\u001B[K     |███████████████████████████▉    | 14.6 MB 9.8 MB/s eta 0:00:01\r\u001B[K     |███████████████████████████▉    | 14.6 MB 9.8 MB/s eta 0:00:01\r\u001B[K     |███████████████████████████▉    | 14.7 MB 9.8 MB/s eta 0:00:01\r\u001B[K     |███████████████████████████▉    | 14.7 MB 9.8 MB/s eta 0:00:01\r\u001B[K     |███████████████████████████▉    | 14.7 MB 9.8 MB/s eta 0:00:01\r\u001B[K     |████████████████████████████    | 14.7 MB 9.8 MB/s eta 0:00:01\r\u001B[K     |████████████████████████████    | 14.7 MB 9.8 MB/s eta 0:00:01\r\u001B[K     |████████████████████████████    | 14.7 MB 9.8 MB/s eta 0:00:01\r\u001B[K     |████████████████████████████    | 14.7 MB 9.8 MB/s eta 0:00:01\r\u001B[K     |████████████████████████████    | 14.7 MB 9.8 MB/s eta 0:00:01\r\u001B[K     |████████████████████████████    | 14.7 MB 9.8 MB/s eta 0:00:01\r\u001B[K     |████████████████████████████    | 14.7 MB 9.8 MB/s eta 0:00:01\r\u001B[K     |████████████████████████████    | 14.8 MB 9.8 MB/s eta 0:00:01\r\u001B[K     |████████████████████████████    | 14.8 MB 9.8 MB/s eta 0:00:01\r\u001B[K     |████████████████████████████    | 14.8 MB 9.8 MB/s eta 0:00:01\r\u001B[K     |████████████████████████████    | 14.8 MB 9.8 MB/s eta 0:00:01\r\u001B[K     |████████████████████████████▏   | 14.8 MB 9.8 MB/s eta 0:00:01\r\u001B[K     |████████████████████████████▏   | 14.8 MB 9.8 MB/s eta 0:00:01\r\u001B[K     |████████████████████████████▏   | 14.8 MB 9.8 MB/s eta 0:00:01\r\u001B[K     |████████████████████████████▏   | 14.8 MB 9.8 MB/s eta 0:00:01\r\u001B[K     |████████████████████████████▏   | 14.8 MB 9.8 MB/s eta 0:00:01\r\u001B[K     |████████████████████████████▏   | 14.8 MB 9.8 MB/s eta 0:00:01\r\u001B[K     |████████████████████████████▎   | 14.9 MB 9.8 MB/s eta 0:00:01\r\u001B[K     |████████████████████████████▎   | 14.9 MB 9.8 MB/s eta 0:00:01\r\u001B[K     |████████████████████████████▎   | 14.9 MB 9.8 MB/s eta 0:00:01\r\u001B[K     |████████████████████████████▎   | 14.9 MB 9.8 MB/s eta 0:00:01\r\u001B[K     |████████████████████████████▎   | 14.9 MB 9.8 MB/s eta 0:00:01\r\u001B[K     |████████████████████████████▎   | 14.9 MB 9.8 MB/s eta 0:00:01\r\u001B[K     |████████████████████████████▍   | 14.9 MB 9.8 MB/s eta 0:00:01\r\u001B[K     |████████████████████████████▍   | 14.9 MB 9.8 MB/s eta 0:00:01\r\u001B[K     |████████████████████████████▍   | 14.9 MB 9.8 MB/s eta 0:00:01\r\u001B[K     |████████████████████████████▍   | 15.0 MB 9.8 MB/s eta 0:00:01\r\u001B[K     |████████████████████████████▍   | 15.0 MB 9.8 MB/s eta 0:00:01\r\u001B[K     |████████████████████████████▌   | 15.0 MB 9.8 MB/s eta 0:00:01\r\u001B[K     |████████████████████████████▌   | 15.0 MB 9.8 MB/s eta 0:00:01\r\u001B[K     |████████████████████████████▌   | 15.0 MB 9.8 MB/s eta 0:00:01\r\u001B[K     |████████████████████████████▌   | 15.0 MB 9.8 MB/s eta 0:00:01\r\u001B[K     |████████████████████████████▌   | 15.0 MB 9.8 MB/s eta 0:00:01\r\u001B[K     |████████████████████████████▌   | 15.0 MB 9.8 MB/s eta 0:00:01\r\u001B[K     |████████████████████████████▋   | 15.0 MB 9.8 MB/s eta 0:00:01\r\u001B[K     |████████████████████████████▋   | 15.0 MB 9.8 MB/s eta 0:00:01\r\u001B[K     |████████████████████████████▋   | 15.1 MB 9.8 MB/s eta 0:00:01\r\u001B[K     |████████████████████████████▋   | 15.1 MB 9.8 MB/s eta 0:00:01\r\u001B[K     |████████████████████████████▋   | 15.1 MB 9.8 MB/s eta 0:00:01\r\u001B[K     |████████████████████████████▋   | 15.1 MB 9.8 MB/s eta 0:00:01\r\u001B[K     |████████████████████████████▊   | 15.1 MB 9.8 MB/s eta 0:00:01\r\u001B[K     |████████████████████████████▊   | 15.1 MB 9.8 MB/s eta 0:00:01\r\u001B[K     |████████████████████████████▊   | 15.1 MB 9.8 MB/s eta 0:00:01\r\u001B[K     |████████████████████████████▊   | 15.1 MB 9.8 MB/s eta 0:00:01\r\u001B[K     |████████████████████████████▊   | 15.1 MB 9.8 MB/s eta 0:00:01\r\u001B[K     |████████████████████████████▉   | 15.1 MB 9.8 MB/s eta 0:00:01\r\u001B[K     |████████████████████████████▉   | 15.2 MB 9.8 MB/s eta 0:00:01\r\u001B[K     |████████████████████████████▉   | 15.2 MB 9.8 MB/s eta 0:00:01\r\u001B[K     |████████████████████████████▉   | 15.2 MB 9.8 MB/s eta 0:00:01\r\u001B[K     |████████████████████████████▉   | 15.2 MB 9.8 MB/s eta 0:00:01\r\u001B[K     |████████████████████████████▉   | 15.2 MB 9.8 MB/s eta 0:00:01\r\u001B[K     |█████████████████████████████   | 15.2 MB 9.8 MB/s eta 0:00:01\r\u001B[K     |█████████████████████████████   | 15.2 MB 9.8 MB/s eta 0:00:01\r\u001B[K     |█████████████████████████████   | 15.2 MB 9.8 MB/s eta 0:00:01\r\u001B[K     |█████████████████████████████   | 15.2 MB 9.8 MB/s eta 0:00:01\r\u001B[K     |█████████████████████████████   | 15.2 MB 9.8 MB/s eta 0:00:01\r\u001B[K     |█████████████████████████████   | 15.3 MB 9.8 MB/s eta 0:00:01\r\u001B[K     |█████████████████████████████   | 15.3 MB 9.8 MB/s eta 0:00:01\r\u001B[K     |█████████████████████████████   | 15.3 MB 9.8 MB/s eta 0:00:01\r\u001B[K     |█████████████████████████████   | 15.3 MB 9.8 MB/s eta 0:00:01\r\u001B[K     |█████████████████████████████   | 15.3 MB 9.8 MB/s eta 0:00:01\r\u001B[K     |█████████████████████████████   | 15.3 MB 9.8 MB/s eta 0:00:01\r\u001B[K     |█████████████████████████████   | 15.3 MB 9.8 MB/s eta 0:00:01\r\u001B[K     |█████████████████████████████▏  | 15.3 MB 9.8 MB/s eta 0:00:01\r\u001B[K     |█████████████████████████████▏  | 15.3 MB 9.8 MB/s eta 0:00:01\r\u001B[K     |█████████████████████████████▏  | 15.3 MB 9.8 MB/s eta 0:00:01\r\u001B[K     |█████████████████████████████▏  | 15.4 MB 9.8 MB/s eta 0:00:01\r\u001B[K     |█████████████████████████████▏  | 15.4 MB 9.8 MB/s eta 0:00:01\r\u001B[K     |█████████████████████████████▎  | 15.4 MB 9.8 MB/s eta 0:00:01\r\u001B[K     |█████████████████████████████▎  | 15.4 MB 9.8 MB/s eta 0:00:01\r\u001B[K     |█████████████████████████████▎  | 15.4 MB 9.8 MB/s eta 0:00:01\r\u001B[K     |█████████████████████████████▎  | 15.4 MB 9.8 MB/s eta 0:00:01\r\u001B[K     |█████████████████████████████▎  | 15.4 MB 9.8 MB/s eta 0:00:01\r\u001B[K     |█████████████████████████████▎  | 15.4 MB 9.8 MB/s eta 0:00:01\r\u001B[K     |█████████████████████████████▍  | 15.4 MB 9.8 MB/s eta 0:00:01\r\u001B[K     |█████████████████████████████▍  | 15.5 MB 9.8 MB/s eta 0:00:01\r\u001B[K     |█████████████████████████████▍  | 15.5 MB 9.8 MB/s eta 0:00:01\r\u001B[K     |█████████████████████████████▍  | 15.5 MB 9.8 MB/s eta 0:00:01\r\u001B[K     |█████████████████████████████▍  | 15.5 MB 9.8 MB/s eta 0:00:01\r\u001B[K     |█████████████████████████████▍  | 15.5 MB 9.8 MB/s eta 0:00:01\r\u001B[K     |█████████████████████████████▌  | 15.5 MB 9.8 MB/s eta 0:00:01\r\u001B[K     |█████████████████████████████▌  | 15.5 MB 9.8 MB/s eta 0:00:01\r\u001B[K     |█████████████████████████████▌  | 15.5 MB 9.8 MB/s eta 0:00:01\r\u001B[K     |█████████████████████████████▌  | 15.5 MB 9.8 MB/s eta 0:00:01\r\u001B[K     |█████████████████████████████▌  | 15.5 MB 9.8 MB/s eta 0:00:01\r\u001B[K     |█████████████████████████████▋  | 15.6 MB 9.8 MB/s eta 0:00:01\r\u001B[K     |█████████████████████████████▋  | 15.6 MB 9.8 MB/s eta 0:00:01\r\u001B[K     |█████████████████████████████▋  | 15.6 MB 9.8 MB/s eta 0:00:01\r\u001B[K     |█████████████████████████████▋  | 15.6 MB 9.8 MB/s eta 0:00:01\r\u001B[K     |█████████████████████████████▋  | 15.6 MB 9.8 MB/s eta 0:00:01\r\u001B[K     |█████████████████████████████▋  | 15.6 MB 9.8 MB/s eta 0:00:01\r\u001B[K     |█████████████████████████████▊  | 15.6 MB 9.8 MB/s eta 0:00:01\r\u001B[K     |█████████████████████████████▊  | 15.6 MB 9.8 MB/s eta 0:00:01\r\u001B[K     |█████████████████████████████▊  | 15.6 MB 9.8 MB/s eta 0:00:01\r\u001B[K     |█████████████████████████████▊  | 15.6 MB 9.8 MB/s eta 0:00:01\r\u001B[K     |█████████████████████████████▊  | 15.7 MB 9.8 MB/s eta 0:00:01\r\u001B[K     |█████████████████████████████▊  | 15.7 MB 9.8 MB/s eta 0:00:01\r\u001B[K     |█████████████████████████████▉  | 15.7 MB 9.8 MB/s eta 0:00:01\r\u001B[K     |█████████████████████████████▉  | 15.7 MB 9.8 MB/s eta 0:00:01\r\u001B[K     |█████████████████████████████▉  | 15.7 MB 9.8 MB/s eta 0:00:01\r\u001B[K     |█████████████████████████████▉  | 15.7 MB 9.8 MB/s eta 0:00:01\r\u001B[K     |█████████████████████████████▉  | 15.7 MB 9.8 MB/s eta 0:00:01\r\u001B[K     |█████████████████████████████▉  | 15.7 MB 9.8 MB/s eta 0:00:01\r\u001B[K     |██████████████████████████████  | 15.7 MB 9.8 MB/s eta 0:00:01\r\u001B[K     |██████████████████████████████  | 15.7 MB 9.8 MB/s eta 0:00:01\r\u001B[K     |██████████████████████████████  | 15.8 MB 9.8 MB/s eta 0:00:01\r\u001B[K     |██████████████████████████████  | 15.8 MB 9.8 MB/s eta 0:00:01\r\u001B[K     |██████████████████████████████  | 15.8 MB 9.8 MB/s eta 0:00:01\r\u001B[K     |██████████████████████████████  | 15.8 MB 9.8 MB/s eta 0:00:01\r\u001B[K     |██████████████████████████████  | 15.8 MB 9.8 MB/s eta 0:00:01\r\u001B[K     |██████████████████████████████  | 15.8 MB 9.8 MB/s eta 0:00:01\r\u001B[K     |██████████████████████████████  | 15.8 MB 9.8 MB/s eta 0:00:01\r\u001B[K     |██████████████████████████████  | 15.8 MB 9.8 MB/s eta 0:00:01\r\u001B[K     |██████████████████████████████  | 15.8 MB 9.8 MB/s eta 0:00:01\r\u001B[K     |██████████████████████████████▏ | 15.9 MB 9.8 MB/s eta 0:00:01\r\u001B[K     |██████████████████████████████▏ | 15.9 MB 9.8 MB/s eta 0:00:01\r\u001B[K     |██████████████████████████████▏ | 15.9 MB 9.8 MB/s eta 0:00:01\r\u001B[K     |██████████████████████████████▏ | 15.9 MB 9.8 MB/s eta 0:00:01\r\u001B[K     |██████████████████████████████▏ | 15.9 MB 9.8 MB/s eta 0:00:01\r\u001B[K     |██████████████████████████████▏ | 15.9 MB 9.8 MB/s eta 0:00:01\r\u001B[K     |██████████████████████████████▎ | 15.9 MB 9.8 MB/s eta 0:00:01\r\u001B[K     |██████████████████████████████▎ | 15.9 MB 9.8 MB/s eta 0:00:01\r\u001B[K     |██████████████████████████████▎ | 15.9 MB 9.8 MB/s eta 0:00:01\r\u001B[K     |██████████████████████████████▎ | 15.9 MB 9.8 MB/s eta 0:00:01\r\u001B[K     |██████████████████████████████▎ | 16.0 MB 9.8 MB/s eta 0:00:01\r\u001B[K     |██████████████████████████████▍ | 16.0 MB 9.8 MB/s eta 0:00:01\r\u001B[K     |██████████████████████████████▍ | 16.0 MB 9.8 MB/s eta 0:00:01\r\u001B[K     |██████████████████████████████▍ | 16.0 MB 9.8 MB/s eta 0:00:01\r\u001B[K     |██████████████████████████████▍ | 16.0 MB 9.8 MB/s eta 0:00:01\r\u001B[K     |██████████████████████████████▍ | 16.0 MB 9.8 MB/s eta 0:00:01\r\u001B[K     |██████████████████████████████▍ | 16.0 MB 9.8 MB/s eta 0:00:01\r\u001B[K     |██████████████████████████████▌ | 16.0 MB 9.8 MB/s eta 0:00:01\r\u001B[K     |██████████████████████████████▌ | 16.0 MB 9.8 MB/s eta 0:00:01\r\u001B[K     |██████████████████████████████▌ | 16.0 MB 9.8 MB/s eta 0:00:01\r\u001B[K     |██████████████████████████████▌ | 16.1 MB 9.8 MB/s eta 0:00:01\r\u001B[K     |██████████████████████████████▌ | 16.1 MB 9.8 MB/s eta 0:00:01\r\u001B[K     |██████████████████████████████▌ | 16.1 MB 9.8 MB/s eta 0:00:01\r\u001B[K     |██████████████████████████████▋ | 16.1 MB 9.8 MB/s eta 0:00:01\r\u001B[K     |██████████████████████████████▋ | 16.1 MB 9.8 MB/s eta 0:00:01\r\u001B[K     |██████████████████████████████▋ | 16.1 MB 9.8 MB/s eta 0:00:01\r\u001B[K     |██████████████████████████████▋ | 16.1 MB 9.8 MB/s eta 0:00:01\r\u001B[K     |██████████████████████████████▋ | 16.1 MB 9.8 MB/s eta 0:00:01\r\u001B[K     |██████████████████████████████▋ | 16.1 MB 9.8 MB/s eta 0:00:01\r\u001B[K     |██████████████████████████████▊ | 16.1 MB 9.8 MB/s eta 0:00:01\r\u001B[K     |██████████████████████████████▊ | 16.2 MB 9.8 MB/s eta 0:00:01\r\u001B[K     |██████████████████████████████▊ | 16.2 MB 9.8 MB/s eta 0:00:01\r\u001B[K     |██████████████████████████████▊ | 16.2 MB 9.8 MB/s eta 0:00:01\r\u001B[K     |██████████████████████████████▊ | 16.2 MB 9.8 MB/s eta 0:00:01\r\u001B[K     |██████████████████████████████▉ | 16.2 MB 9.8 MB/s eta 0:00:01\r\u001B[K     |██████████████████████████████▉ | 16.2 MB 9.8 MB/s eta 0:00:01\r\u001B[K     |██████████████████████████████▉ | 16.2 MB 9.8 MB/s eta 0:00:01\r\u001B[K     |██████████████████████████████▉ | 16.2 MB 9.8 MB/s eta 0:00:01\r\u001B[K     |██████████████████████████████▉ | 16.2 MB 9.8 MB/s eta 0:00:01\r\u001B[K     |██████████████████████████████▉ | 16.3 MB 9.8 MB/s eta 0:00:01\r\u001B[K     |███████████████████████████████ | 16.3 MB 9.8 MB/s eta 0:00:01\r\u001B[K     |███████████████████████████████ | 16.3 MB 9.8 MB/s eta 0:00:01\r\u001B[K     |███████████████████████████████ | 16.3 MB 9.8 MB/s eta 0:00:01\r\u001B[K     |███████████████████████████████ | 16.3 MB 9.8 MB/s eta 0:00:01\r\u001B[K     |███████████████████████████████ | 16.3 MB 9.8 MB/s eta 0:00:01\r\u001B[K     |███████████████████████████████ | 16.3 MB 9.8 MB/s eta 0:00:01\r\u001B[K     |███████████████████████████████ | 16.3 MB 9.8 MB/s eta 0:00:01\r\u001B[K     |███████████████████████████████ | 16.3 MB 9.8 MB/s eta 0:00:01\r\u001B[K     |███████████████████████████████ | 16.3 MB 9.8 MB/s eta 0:00:01\r\u001B[K     |███████████████████████████████ | 16.4 MB 9.8 MB/s eta 0:00:01\r\u001B[K     |███████████████████████████████ | 16.4 MB 9.8 MB/s eta 0:00:01\r\u001B[K     |███████████████████████████████▏| 16.4 MB 9.8 MB/s eta 0:00:01\r\u001B[K     |███████████████████████████████▏| 16.4 MB 9.8 MB/s eta 0:00:01\r\u001B[K     |███████████████████████████████▏| 16.4 MB 9.8 MB/s eta 0:00:01\r\u001B[K     |███████████████████████████████▏| 16.4 MB 9.8 MB/s eta 0:00:01\r\u001B[K     |███████████████████████████████▏| 16.4 MB 9.8 MB/s eta 0:00:01\r\u001B[K     |███████████████████████████████▏| 16.4 MB 9.8 MB/s eta 0:00:01\r\u001B[K     |███████████████████████████████▎| 16.4 MB 9.8 MB/s eta 0:00:01\r\u001B[K     |███████████████████████████████▎| 16.4 MB 9.8 MB/s eta 0:00:01\r\u001B[K     |███████████████████████████████▎| 16.5 MB 9.8 MB/s eta 0:00:01\r\u001B[K     |███████████████████████████████▎| 16.5 MB 9.8 MB/s eta 0:00:01\r\u001B[K     |███████████████████████████████▎| 16.5 MB 9.8 MB/s eta 0:00:01\r\u001B[K     |███████████████████████████████▎| 16.5 MB 9.8 MB/s eta 0:00:01\r\u001B[K     |███████████████████████████████▍| 16.5 MB 9.8 MB/s eta 0:00:01\r\u001B[K     |███████████████████████████████▍| 16.5 MB 9.8 MB/s eta 0:00:01\r\u001B[K     |███████████████████████████████▍| 16.5 MB 9.8 MB/s eta 0:00:01\r\u001B[K     |███████████████████████████████▍| 16.5 MB 9.8 MB/s eta 0:00:01\r\u001B[K     |███████████████████████████████▍| 16.5 MB 9.8 MB/s eta 0:00:01\r\u001B[K     |███████████████████████████████▌| 16.5 MB 9.8 MB/s eta 0:00:01\r\u001B[K     |███████████████████████████████▌| 16.6 MB 9.8 MB/s eta 0:00:01\r\u001B[K     |███████████████████████████████▌| 16.6 MB 9.8 MB/s eta 0:00:01\r\u001B[K     |███████████████████████████████▌| 16.6 MB 9.8 MB/s eta 0:00:01\r\u001B[K     |███████████████████████████████▌| 16.6 MB 9.8 MB/s eta 0:00:01\r\u001B[K     |███████████████████████████████▌| 16.6 MB 9.8 MB/s eta 0:00:01\r\u001B[K     |███████████████████████████████▋| 16.6 MB 9.8 MB/s eta 0:00:01\r\u001B[K     |███████████████████████████████▋| 16.6 MB 9.8 MB/s eta 0:00:01\r\u001B[K     |███████████████████████████████▋| 16.6 MB 9.8 MB/s eta 0:00:01\r\u001B[K     |███████████████████████████████▋| 16.6 MB 9.8 MB/s eta 0:00:01\r\u001B[K     |███████████████████████████████▋| 16.7 MB 9.8 MB/s eta 0:00:01\r\u001B[K     |███████████████████████████████▋| 16.7 MB 9.8 MB/s eta 0:00:01\r\u001B[K     |███████████████████████████████▊| 16.7 MB 9.8 MB/s eta 0:00:01\r\u001B[K     |███████████████████████████████▊| 16.7 MB 9.8 MB/s eta 0:00:01\r\u001B[K     |███████████████████████████████▊| 16.7 MB 9.8 MB/s eta 0:00:01\r\u001B[K     |███████████████████████████████▊| 16.7 MB 9.8 MB/s eta 0:00:01\r\u001B[K     |███████████████████████████████▊| 16.7 MB 9.8 MB/s eta 0:00:01\r\u001B[K     |███████████████████████████████▊| 16.7 MB 9.8 MB/s eta 0:00:01\r\u001B[K     |███████████████████████████████▉| 16.7 MB 9.8 MB/s eta 0:00:01\r\u001B[K     |███████████████████████████████▉| 16.7 MB 9.8 MB/s eta 0:00:01\r\u001B[K     |███████████████████████████████▉| 16.8 MB 9.8 MB/s eta 0:00:01\r\u001B[K     |███████████████████████████████▉| 16.8 MB 9.8 MB/s eta 0:00:01\r\u001B[K     |███████████████████████████████▉| 16.8 MB 9.8 MB/s eta 0:00:01\r\u001B[K     |████████████████████████████████| 16.8 MB 9.8 MB/s eta 0:00:01\r\u001B[K     |████████████████████████████████| 16.8 MB 9.8 MB/s eta 0:00:01\r\u001B[K     |████████████████████████████████| 16.8 MB 9.8 MB/s eta 0:00:01\r\u001B[K     |████████████████████████████████| 16.8 MB 9.8 MB/s eta 0:00:01\r\u001B[K     |████████████████████████████████| 16.8 MB 9.8 MB/s eta 0:00:01\r\u001B[K     |████████████████████████████████| 16.8 MB 9.8 MB/s eta 0:00:01\r\u001B[K     |████████████████████████████████| 16.8 MB 9.8 MB/s \r\n\u001B[?25hInstalling collected packages: numpy, smart-open, gensim\r\n  Attempting uninstall: numpy\r\n    Found existing installation: numpy 1.26.0\r\n    Uninstalling numpy-1.26.0:\r\n      Successfully uninstalled numpy-1.26.0\r\nSuccessfully installed gensim-4.3.2 numpy-1.22.4 smart-open-6.4.0\r\n\u001B[33mWARNING: You are using pip version 21.2.4; however, version 23.2.1 is available.\r\nYou should consider upgrading via the '/local_disk0/.ephemeral_nfs/envs/pythonEnv-f985aff4-5238-4579-80f5-9267bb6d66d2/bin/python -m pip install --upgrade pip' command.\u001B[0m\r\n"
     ]
    }
   ],
   "source": [
    "!pip install gensim"
   ]
  },
  {
   "cell_type": "code",
   "execution_count": 0,
   "metadata": {
    "application/vnd.databricks.v1+cell": {
     "cellMetadata": {
      "byteLimit": 2048000,
      "rowLimit": 10000
     },
     "inputWidgets": {},
     "nuid": "b4388723-fc15-42d4-b1b3-fa6a8924718d",
     "showTitle": false,
     "title": ""
    },
    "colab": {
     "base_uri": "https://localhost:8080/"
    },
    "id": "lCOtKHOWgtWK",
    "outputId": "f0857098-92e7-42d8-ff31-bc6b421e511f"
   },
   "outputs": [
    {
     "output_type": "stream",
     "name": "stdout",
     "output_type": "stream",
     "text": [
      "['respect', 'indian', 'citizens', 'namaskaar', 'original', 'gandhi', 'branch', 'franchise', 'none', 'relatives', 'politics', 'beware', 'fake', 'gandhi', 'take', 'care', 'mohandas', 'karamchand', 'gandhi']\n"
     ]
    }
   ],
   "source": [
    "import gensim\n",
    "from gensim.utils import simple_preprocess\n",
    "\n",
    "def text_to_words(texts):\n",
    "    return [[word for word in simple_preprocess(str(text), deacc=True)]\n",
    "            for text in texts]\n",
    "\n",
    "text = df.Tweet.values.tolist()\n",
    "text_words = text_to_words(text)\n",
    "print(text_words[0])"
   ]
  },
  {
   "cell_type": "code",
   "execution_count": 0,
   "metadata": {
    "application/vnd.databricks.v1+cell": {
     "cellMetadata": {
      "byteLimit": 2048000,
      "rowLimit": 10000
     },
     "inputWidgets": {},
     "nuid": "b8e74985-4ca1-48f7-b83f-33e72c8bf0b0",
     "showTitle": false,
     "title": ""
    },
    "colab": {
     "base_uri": "https://localhost:8080/"
    },
    "id": "h8kXciQTgk7m",
    "outputId": "e117ff51-4916-4b77-fd0c-d8df021eb0d2"
   },
   "outputs": [
    {
     "output_type": "stream",
     "name": "stdout",
     "output_type": "stream",
     "text": [
      "[(0, 1), (1, 1), (2, 1), (3, 1), (4, 3), (5, 1), (6, 1), (7, 1), (8, 1)]\n"
     ]
    }
   ],
   "source": [
    "import gensim.corpora as corpora\n",
    "from gensim.models import TfidfModel\n",
    "\n",
    "# Create Dictionary\n",
    "word_dict = corpora.Dictionary(text_words)\n",
    "word_dict.filter_extremes(no_below=5, no_above=0.1, keep_n=2000)\n",
    "# Create Corpus\n",
    "texts = text_words\n",
    "# Term Count Frequency\n",
    "corpus_vec = [word_dict.doc2bow(text) for text in texts]\n",
    "\n",
    "# View\n",
    "print(corpus_vec[0])"
   ]
  },
  {
   "cell_type": "code",
   "execution_count": 0,
   "metadata": {
    "application/vnd.databricks.v1+cell": {
     "cellMetadata": {
      "byteLimit": 2048000,
      "rowLimit": 10000
     },
     "inputWidgets": {},
     "nuid": "5ac63c06-61e2-4da1-9ce0-3502d798a2c8",
     "showTitle": false,
     "title": ""
    },
    "id": "5ykmRd0Jg7em"
   },
   "outputs": [],
   "source": []
  },
  {
   "cell_type": "code",
   "execution_count": 0,
   "metadata": {
    "application/vnd.databricks.v1+cell": {
     "cellMetadata": {
      "byteLimit": 2048000,
      "rowLimit": 10000
     },
     "inputWidgets": {},
     "nuid": "69bfb4a0-30fc-4673-96e0-7a72c3a7fdad",
     "showTitle": false,
     "title": ""
    },
    "colab": {
     "base_uri": "https://localhost:8080/"
    },
    "id": "7_oAWfH3hCs1",
    "outputId": "4716276d-be79-4379-9f47-493816060602"
   },
   "outputs": [
    {
     "output_type": "stream",
     "name": "stdout",
     "output_type": "stream",
     "text": [
      "[(24,\n  '0.041*\"chanakya\" + 0.036*\"bring\" + 0.034*\"read\" + 0.027*\"book\" + '\n  '0.025*\"bjp\" + 0.024*\"set\" + 0.023*\"singh\" + 0.021*\"heritage\" + 0.021*\"new\" '\n  '+ 0.018*\"rss\" + 0.017*\"young\" + 0.016*\"line\" + 0.015*\"relevant\" + '\n  '0.014*\"write\" + 0.014*\"party\" + 0.013*\"defeat\" + 0.012*\"success\" + '\n  '0.012*\"rich\" + 0.012*\"buy\" + 0.012*\"quite\"'),\n (14,\n  '0.101*\"vote\" + 0.036*\"party\" + 0.022*\"political\" + 0.021*\"dear\" + '\n  '0.021*\"play\" + 0.020*\"bank\" + 0.019*\"game\" + 0.019*\"govt\" + 0.018*\"blame\" + '\n  '0.018*\"rule\" + 0.017*\"forget\" + 0.017*\"system\" + 0.016*\"expect\" + '\n  '0.015*\"bjp\" + 0.015*\"justice\" + 0.013*\"yet\" + 0.012*\"completely\" + '\n  '0.010*\"democracy\" + 0.010*\"never\" + 0.010*\"social\"'),\n (20,\n  '0.066*\"people\" + 0.037*\"god\" + 0.029*\"like\" + 0.029*\"thank\" + '\n  '0.029*\"believe\" + 0.021*\"star\" + 0.021*\"things\" + 0.021*\"mass\" + '\n  '0.018*\"whatever\" + 0.018*\"kill\" + 0.017*\"move\" + 0.017*\"concern\" + '\n  '0.016*\"beyond\" + 0.014*\"price\" + 0.014*\"hear\" + 0.014*\"unemployment\" + '\n  '0.013*\"rise\" + 0.013*\"members\" + 0.013*\"allow\" + 0.013*\"pray\"'),\n (23,\n  '0.052*\"understand\" + 0.031*\"think\" + 0.030*\"post\" + 0.025*\"twitter\" + '\n  '0.024*\"question\" + 0.023*\"identity\" + 0.023*\"reason\" + 0.019*\"would\" + '\n  '0.019*\"something\" + 0.019*\"pay\" + 0.018*\"ask\" + 0.017*\"even\" + 0.016*\"hold\" '\n  '+ 0.014*\"english\" + 0.013*\"say\" + 0.013*\"many\" + 0.012*\"knowledge\" + '\n  '0.012*\"people\" + 0.012*\"though\" + 0.012*\"find\"'),\n (4,\n  '0.064*\"hindu\" + 0.056*\"religion\" + 0.048*\"happy\" + 0.047*\"birthday\" + '\n  '0.034*\"muslim\" + 0.031*\"muslims\" + 0.029*\"name\" + 0.025*\"hindus\" + '\n  '0.023*\"caste\" + 0.020*\"anti\" + 0.020*\"hate\" + 0.019*\"health\" + '\n  '0.019*\"business\" + 0.016*\"base\" + 0.014*\"aside\" + 0.014*\"may\" + '\n  '0.013*\"life\" + 0.013*\"media\" + 0.011*\"development\" + 0.010*\"inspiration\"'),\n (15,\n  '0.077*\"years\" + 0.069*\"take\" + 0.051*\"act\" + 0.023*\"express\" + '\n  '0.020*\"asian\" + 0.019*\"interest\" + 0.019*\"two\" + 0.019*\"note\" + '\n  '0.017*\"release\" + 0.016*\"dangerous\" + 0.015*\"go\" + 0.015*\"study\" + '\n  '0.015*\"last\" + 0.015*\"back\" + 0.015*\"war\" + 0.014*\"action\" + 0.014*\"sell\" + '\n  '0.014*\"court\" + 0.012*\"decide\" + 0.012*\"supreme\"'),\n (26,\n  '0.056*\"man\" + 0.055*\"dirty\" + 0.037*\"long\" + 0.032*\"sonia\" + 0.026*\"party\" '\n  '+ 0.024*\"time\" + 0.022*\"ruin\" + 0.019*\"power\" + 0.018*\"rise\" + 0.016*\"one\" '\n  '+ 0.016*\"position\" + 0.015*\"nd\" + 0.015*\"important\" + 0.015*\"st\" + '\n  '0.013*\"term\" + 0.013*\"lol\" + 0.013*\"result\" + 0.012*\"see\" + 0.012*\"day\" + '\n  '0.010*\"come\"'),\n (7,\n  '0.067*\"people\" + 0.060*\"leader\" + 0.041*\"country\" + 0.027*\"top\" + '\n  '0.026*\"ultimate\" + 0.024*\"institute\" + 0.024*\"unbeatable\" + 0.022*\"citizen\" '\n  '+ 0.019*\"matter\" + 0.017*\"first\" + 0.016*\"problem\" + 0.016*\"attack\" + '\n  '0.015*\"ppl\" + 0.014*\"internal\" + 0.014*\"like\" + 0.014*\"voters\" + '\n  '0.014*\"foreign\" + 0.013*\"link\" + 0.012*\"interfere\" + 0.012*\"politicians\"'),\n (2,\n  '0.067*\"news\" + 0.039*\"proud\" + 0.034*\"moment\" + 0.030*\"hope\" + 0.026*\"bjp\" '\n  '+ 0.025*\"era\" + 0.023*\"channel\" + 0.022*\"year\" + 0.022*\"cricketers\" + '\n  '0.022*\"attention\" + 0.021*\"change\" + 0.018*\"via\" + 0.017*\"listen\" + '\n  '0.015*\"world\" + 0.015*\"historic\" + 0.014*\"om\" + 0.014*\"show\" + '\n  '0.014*\"death\" + 0.014*\"award\" + 0.014*\"relate\"'),\n (5,\n  '0.041*\"bear\" + 0.036*\"etc\" + 0.029*\"american\" + 0.027*\"poor\" + 0.025*\"days\" '\n  '+ 0.021*\"british\" + 0.019*\"descent\" + 0.018*\"parent\" + 0.018*\"promote\" + '\n  '0.017*\"soon\" + 0.017*\"king\" + 0.017*\"policies\" + 0.016*\"full\" + '\n  '0.015*\"citizenship\" + 0.014*\"go\" + 0.014*\"pm\" + 0.013*\"talk\" + '\n  '0.013*\"local\" + 0.013*\"racist\" + 0.012*\"debate\"'),\n (25,\n  '0.049*\"shame\" + 0.028*\"globe\" + 0.026*\"look\" + 0.026*\"politicians\" + '\n  '0.026*\"constitution\" + 0.026*\"job\" + 0.024*\"create\" + 0.022*\"like\" + '\n  '0.020*\"get\" + 0.019*\"much\" + 0.016*\"enjoy\" + 0.016*\"give\" + '\n  '0.015*\"political\" + 0.015*\"decades\" + 0.014*\"pappu\" + 0.014*\"people\" + '\n  '0.013*\"across\" + 0.012*\"benefit\" + 0.012*\"life\" + 0.012*\"career\"'),\n (6,\n  '0.074*\"origin\" + 0.042*\"politician\" + 0.041*\"corruption\" + 0.039*\"corrupt\" '\n  '+ 0.035*\"centre\" + 0.027*\"worst\" + 0.025*\"economy\" + 0.022*\"sanju\" + '\n  '0.021*\"ever\" + 0.020*\"case\" + 0.019*\"leaders\" + 0.018*\"experience\" + '\n  '0.017*\"party\" + 0.017*\"one\" + 0.016*\"consider\" + 0.016*\"include\" + '\n  '0.016*\"criminal\" + 0.015*\"poverty\" + 0.015*\"especially\" + 0.015*\"history\"'),\n (3,\n  '0.038*\"happen\" + 0.037*\"thing\" + 0.030*\"know\" + 0.021*\"white\" + '\n  '0.019*\"point\" + 0.018*\"say\" + 0.017*\"seem\" + 0.017*\"hindutva\" + '\n  '0.016*\"comment\" + 0.016*\"indians\" + 0.014*\"one\" + 0.014*\"black\" + '\n  '0.014*\"view\" + 0.012*\"agree\" + 0.012*\"go\" + 0.012*\"think\" + 0.012*\"less\" + '\n  '0.011*\"chinese\" + 0.010*\"always\" + 0.010*\"compare\"'),\n (17,\n  '0.042*\"gujarat\" + 0.034*\"lie\" + 0.031*\"word\" + 0.027*\"must\" + 0.024*\"fake\" '\n  '+ 0.023*\"heart\" + 0.023*\"ideology\" + 0.022*\"video\" + 0.022*\"tell\" + '\n  '0.020*\"dr\" + 0.020*\"already\" + 0.017*\"entire\" + 0.016*\"miss\" + '\n  '0.013*\"western\" + 0.013*\"step\" + 0.013*\"call\" + 0.012*\"picture\" + '\n  '0.011*\"use\" + 0.011*\"political\" + 0.011*\"wc\"'),\n (1,\n  '0.100*\"good\" + 0.030*\"bad\" + 0.027*\"anything\" + 0.024*\"minority\" + '\n  '0.020*\"say\" + 0.020*\"nothing\" + 0.019*\"know\" + 0.017*\"people\" + '\n  '0.017*\"someone\" + 0.016*\"one\" + 0.016*\"fool\" + 0.015*\"really\" + '\n  '0.015*\"anyone\" + 0.015*\"else\" + 0.013*\"everything\" + 0.013*\"majority\" + '\n  '0.013*\"religious\" + 0.012*\"excellent\" + 0.012*\"change\" + 0.012*\"selection\"'),\n (16,\n  '0.083*\"uk\" + 0.067*\"sunak\" + 0.060*\"rishi\" + 0.048*\"great\" + '\n  '0.043*\"british\" + 0.022*\"science\" + 0.017*\"pakistani\" + 0.017*\"side\" + '\n  '0.014*\"make\" + 0.014*\"like\" + 0.014*\"issue\" + 0.014*\"us\" + 0.014*\"past\" + '\n  '0.013*\"international\" + 0.013*\"kashmir\" + 0.012*\"indians\" + 0.012*\"share\" + '\n  '0.012*\"influence\" + 0.011*\"truth\" + 0.010*\"joke\"'),\n (21,\n  '0.043*\"delhi\" + 0.040*\"election\" + 0.032*\"public\" + 0.028*\"level\" + '\n  '0.025*\"global\" + 0.024*\"bharat\" + 0.023*\"well\" + 0.021*\"force\" + '\n  '0.019*\"general\" + 0.018*\"enough\" + 0.016*\"win\" + 0.015*\"th\" + '\n  '0.015*\"secular\" + 0.015*\"huge\" + 0.014*\"know\" + 0.013*\"impact\" + '\n  '0.013*\"jodo\" + 0.012*\"land\" + 0.012*\"speak\" + 0.012*\"emerge\"'),\n (10,\n  '0.066*\"state\" + 0.037*\"love\" + 0.033*\"tamil\" + 0.033*\"respect\" + '\n  '0.032*\"north\" + 0.032*\"language\" + 0.031*\"hindi\" + 0.024*\"south\" + '\n  '0.022*\"statement\" + 0.021*\"film\" + 0.020*\"hatred\" + 0.019*\"people\" + '\n  '0.019*\"cheap\" + 0.016*\"ignore\" + 0.014*\"among\" + 0.013*\"like\" + '\n  '0.012*\"nadu\" + 0.012*\"successful\" + 0.011*\"electoral\" + 0.011*\"speak\"'),\n (8,\n  '0.075*\"ji\" + 0.067*\"modi\" + 0.062*\"pm\" + 0.061*\"minister\" + 0.046*\"prime\" + '\n  '0.029*\"become\" + 0.028*\"shri\" + 0.028*\"big\" + 0.021*\"elections\" + '\n  '0.021*\"elect\" + 0.020*\"guy\" + 0.018*\"next\" + 0.014*\"shah\" + 0.014*\"new\" + '\n  '0.014*\"change\" + 0.014*\"leader\" + 0.011*\"come\" + 0.011*\"youth\" + '\n  '0.011*\"like\" + 0.011*\"story\"'),\n (9,\n  '0.059*\"right\" + 0.045*\"leave\" + 0.022*\"last\" + 0.021*\"cup\" + 0.019*\"far\" + '\n  '0.018*\"better\" + 0.018*\"wing\" + 0.017*\"deserve\" + 0.017*\"world\" + '\n  '0.017*\"stay\" + 0.015*\"choose\" + 0.015*\"welcome\" + 0.015*\"get\" + '\n  '0.015*\"week\" + 0.014*\"focus\" + 0.014*\"campaign\" + 0.014*\"place\" + '\n  '0.014*\"away\" + 0.014*\"meet\" + 0.013*\"vs\"')]\n"
     ]
    }
   ],
   "source": [
    "from pprint import pprint\n",
    "# number of topics\n",
    "num_topics = 30\n",
    "# Build LDA model\n",
    "lda_model = gensim.models.LdaModel(corpus=corpus_vec, id2word=word_dict, num_topics=num_topics, iterations=20)\n",
    "# Print the Keyword in the 30 topics\n",
    "pprint(lda_model.print_topics(num_words=20))"
   ]
  },
  {
   "cell_type": "code",
   "execution_count": 0,
   "metadata": {
    "application/vnd.databricks.v1+cell": {
     "cellMetadata": {
      "byteLimit": 2048000,
      "rowLimit": 10000
     },
     "inputWidgets": {},
     "nuid": "3b3bec86-5a3f-409c-8e6a-6e4e7460c7cb",
     "showTitle": false,
     "title": ""
    },
    "colab": {
     "base_uri": "https://localhost:8080/"
    },
    "id": "DgUHGEdyhE8D",
    "outputId": "ce211735-d938-469b-f47f-6f5732401760"
   },
   "outputs": [
    {
     "output_type": "stream",
     "name": "stdout",
     "output_type": "stream",
     "text": [
      "[(0, 0.39072112867061215), (1, 0.26859568897475666), (2, 0.276398995812088), (3, 0.2708278317925911), (4, 0.5455465314190142), (5, 0.31892636063247815), (6, 0.36503025646505133), (7, 0.24554327901549966), (8, 0.18048713156597188)]\n"
     ]
    }
   ],
   "source": [
    "import gensim.corpora as corpora\n",
    "from gensim.models import TfidfModel\n",
    "\n",
    "# Create Dictionary\n",
    "dict_word = corpora.Dictionary(text_words)\n",
    "dict_word.filter_extremes(no_below=5, no_above=0.1, keep_n=2000)\n",
    "# Create Corpus\n",
    "texts = text_words\n",
    "# Term Count Frequency\n",
    "corpus_vec = [dict_word.doc2bow(text) for text in texts]\n",
    "\n",
    "model = TfidfModel(corpus=corpus_vec, id2word=dict_word)  # fit model\n",
    "corpus_tfidf = [model[c] for c in corpus_vec]  # apply model to corpus document\n",
    "\n",
    "# View\n",
    "print(corpus_tfidf[0])"
   ]
  },
  {
   "cell_type": "code",
   "execution_count": 0,
   "metadata": {
    "application/vnd.databricks.v1+cell": {
     "cellMetadata": {
      "byteLimit": 2048000,
      "rowLimit": 10000
     },
     "inputWidgets": {},
     "nuid": "e2d500b4-cbfc-48a9-be2f-6bf58309dc1c",
     "showTitle": false,
     "title": ""
    },
    "colab": {
     "base_uri": "https://localhost:8080/"
    },
    "id": "5Qo63jgohLOZ",
    "outputId": "c80b8ab0-666a-4ceb-b94b-4ac8285b0aba"
   },
   "outputs": [
    {
     "output_type": "stream",
     "name": "stdout",
     "output_type": "stream",
     "text": [
      "[(29,\n  '0.041*\"hai\" + 0.024*\"greatest\" + 0.021*\"se\" + 0.020*\"lady\" + 0.019*\"ke\" + '\n  '0.019*\"ka\" + 0.019*\"ki\" + 0.018*\"aap\" + 0.017*\"root\" + 0.017*\"ko\" + '\n  '0.016*\"joker\" + 0.015*\"strong\" + 0.015*\"narrative\" + 0.015*\"union\" + '\n  '0.014*\"successful\" + 0.014*\"push\" + 0.014*\"source\" + 0.014*\"nahi\" + '\n  '0.013*\"ye\" + 0.013*\"hi\"'),\n (24,\n  '0.017*\"expect\" + 0.016*\"journalism\" + 0.015*\"old\" + 0.015*\"stick\" + '\n  '0.015*\"secular\" + 0.015*\"english\" + 0.014*\"religion\" + 0.014*\"etc\" + '\n  '0.014*\"excellent\" + 0.014*\"seat\" + 0.013*\"progressive\" + 0.013*\"sir\" + '\n  '0.013*\"promote\" + 0.012*\"youth\" + 0.011*\"days\" + 0.011*\"rich\" + 0.011*\"lot\" '\n  '+ 0.011*\"people\" + 0.010*\"divert\" + 0.010*\"territory\"'),\n (12,\n  '0.026*\"thing\" + 0.023*\"health\" + 0.022*\"liar\" + 0.019*\"god\" + '\n  '0.016*\"relevant\" + 0.016*\"happen\" + 0.015*\"big\" + 0.014*\"next\" + '\n  '0.014*\"comment\" + 0.013*\"captain\" + 0.013*\"trend\" + 0.012*\"pray\" + '\n  '0.012*\"know\" + 0.012*\"colour\" + 0.011*\"ur\" + 0.011*\"listen\" + '\n  '0.011*\"difficult\" + 0.010*\"life\" + 0.010*\"way\" + 0.010*\"achievement\"'),\n (14,\n  '0.025*\"level\" + 0.020*\"lie\" + 0.017*\"completely\" + 0.016*\"cheap\" + '\n  '0.016*\"conservative\" + 0.013*\"rajiv\" + 0.013*\"beyond\" + 0.013*\"hypocrisy\" + '\n  '0.013*\"involve\" + 0.013*\"governance\" + 0.012*\"pay\" + 0.011*\"expose\" + '\n  '0.011*\"together\" + 0.011*\"remarkable\" + 0.010*\"telangana\" + 0.010*\"honest\" '\n  '+ 0.010*\"victory\" + 0.010*\"indira\" + 0.009*\"th\" + 0.009*\"troll\"'),\n (11,\n  '0.032*\"real\" + 0.029*\"economy\" + 0.025*\"bless\" + 0.023*\"video\" + '\n  '0.022*\"set\" + 0.020*\"compare\" + 0.019*\"hero\" + 0.017*\"star\" + '\n  '0.017*\"poverty\" + 0.015*\"price\" + 0.014*\"course\" + 0.014*\"abuse\" + '\n  '0.014*\"worse\" + 0.014*\"unemployment\" + 0.013*\"merit\" + 0.013*\"page\" + '\n  '0.013*\"week\" + 0.013*\"rise\" + 0.013*\"fellow\" + 0.012*\"typical\"'),\n (2,\n  '0.048*\"chanakya\" + 0.035*\"shri\" + 0.033*\"ji\" + 0.024*\"race\" + 0.021*\"cup\" + '\n  '0.020*\"modern\" + 0.018*\"minister\" + 0.017*\"home\" + 0.016*\"day\" + '\n  '0.016*\"age\" + 0.014*\"jai\" + 0.013*\"ex\" + 0.013*\"ram\" + 0.013*\"event\" + '\n  '0.012*\"ethics\" + 0.011*\"contribution\" + 0.010*\"crores\" + 0.010*\"policy\" + '\n  '0.010*\"three\" + 0.010*\"indeed\"'),\n (13,\n  '0.032*\"science\" + 0.023*\"true\" + 0.023*\"women\" + 0.021*\"wait\" + '\n  '0.020*\"influence\" + 0.018*\"channel\" + 0.015*\"candidate\" + 0.015*\"believe\" + '\n  '0.015*\"link\" + 0.014*\"grind\" + 0.014*\"millions\" + 0.013*\"order\" + '\n  '0.012*\"inspire\" + 0.012*\"justice\" + 0.012*\"men\" + 0.011*\"agree\" + '\n  '0.011*\"define\" + 0.011*\"dominate\" + 0.010*\"example\" + 0.010*\"change\"'),\n (19,\n  '0.026*\"congratulations\" + 0.023*\"non\" + 0.022*\"hindutva\" + 0.020*\"twitter\" '\n  '+ 0.019*\"right\" + 0.016*\"note\" + 0.014*\"wing\" + 0.013*\"leave\" + '\n  '0.012*\"electoral\" + 0.011*\"debate\" + 0.011*\"sign\" + 0.011*\"enjoy\" + '\n  '0.011*\"decide\" + 0.011*\"something\" + 0.010*\"bite\" + 0.010*\"talk\" + '\n  '0.010*\"far\" + 0.010*\"serious\" + 0.010*\"know\" + 0.009*\"strengthen\"'),\n (25,\n  '0.033*\"king\" + 0.030*\"shah\" + 0.024*\"player\" + 0.023*\"book\" + 0.021*\"form\" '\n  '+ 0.020*\"inspiration\" + 0.020*\"great\" + 0.020*\"amit\" + 0.017*\"study\" + '\n  '0.017*\"type\" + 0.016*\"fund\" + 0.016*\"shameful\" + 0.015*\"voters\" + '\n  '0.015*\"interest\" + 0.013*\"situation\" + 0.013*\"two\" + 0.013*\"neither\" + '\n  '0.012*\"pure\" + 0.012*\"finish\" + 0.011*\"regional\"'),\n (6,\n  '0.092*\"biggest\" + 0.085*\"fraud\" + 0.054*\"origin\" + 0.024*\"hindi\" + '\n  '0.020*\"cricketers\" + 0.020*\"parent\" + 0.018*\"selection\" + 0.018*\"shame\" + '\n  '0.017*\"miss\" + 0.014*\"film\" + 0.014*\"south\" + 0.014*\"zero\" + 0.013*\"safe\" + '\n  '0.013*\"disgrace\" + 0.013*\"disgust\" + 0.013*\"movie\" + 0.012*\"movies\" + '\n  '0.012*\"ok\" + 0.011*\"watch\" + 0.011*\"drop\"'),\n (15,\n  '0.032*\"mass\" + 0.030*\"tv\" + 0.024*\"turn\" + 0.023*\"drama\" + 0.023*\"possible\" '\n  '+ 0.021*\"card\" + 0.021*\"exactly\" + 0.018*\"resign\" + 0.017*\"point\" + '\n  '0.017*\"decades\" + 0.017*\"wife\" + 0.017*\"background\" + 0.017*\"busy\" + '\n  '0.016*\"almost\" + 0.015*\"require\" + 0.014*\"dream\" + 0.014*\"friend\" + '\n  '0.013*\"ho\" + 0.013*\"trust\" + 0.013*\"care\"'),\n (21,\n  '0.023*\"ji\" + 0.018*\"top\" + 0.017*\"present\" + 0.016*\"sri\" + 0.014*\"bhi\" + '\n  '0.013*\"wake\" + 0.013*\"friends\" + 0.012*\"answer\" + 0.012*\"hear\" + '\n  '0.011*\"campaign\" + 0.011*\"guess\" + 0.011*\"wonder\" + 0.011*\"simply\" + '\n  '0.011*\"patel\" + 0.011*\"past\" + 0.011*\"date\" + 0.010*\"future\" + '\n  '0.010*\"develop\" + 0.010*\"university\" + 0.010*\"cross\"'),\n (1,\n  '0.029*\"kejriwal\" + 0.022*\"globe\" + 0.020*\"dear\" + 0.018*\"arvind\" + '\n  '0.018*\"retweet\" + 0.017*\"fan\" + 0.017*\"create\" + 0.012*\"politicians\" + '\n  '0.011*\"unfortunately\" + 0.011*\"pappu\" + 0.011*\"press\" + 0.011*\"shit\" + '\n  '0.010*\"head\" + 0.010*\"father\" + 0.010*\"imagine\" + 0.010*\"responsible\" + '\n  '0.010*\"icc\" + 0.010*\"spend\" + 0.010*\"opinion\" + 0.010*\"seriously\"'),\n (28,\n  '0.038*\"request\" + 0.034*\"tamil\" + 0.027*\"future\" + 0.025*\"news\" + '\n  '0.023*\"dangerous\" + 0.020*\"express\" + 0.019*\"promise\" + 0.018*\"corruption\" '\n  '+ 0.018*\"role\" + 0.017*\"shift\" + 0.017*\"st\" + 0.017*\"poll\" + '\n  '0.017*\"deserve\" + 0.016*\"person\" + 0.015*\"nadu\" + 0.015*\"late\" + '\n  '0.014*\"educate\" + 0.014*\"else\" + 0.013*\"entertainment\" + 0.013*\"journey\"'),\n (22,\n  '0.063*\"ultimate\" + 0.062*\"unbeatable\" + 0.056*\"leader\" + 0.022*\"criminal\" + '\n  '0.022*\"space\" + 0.021*\"begin\" + 0.019*\"historic\" + 0.018*\"report\" + '\n  '0.018*\"people\" + 0.017*\"ideology\" + 0.017*\"nd\" + 0.017*\"eye\" + 0.016*\"less\" '\n  '+ 0.016*\"cast\" + 0.015*\"step\" + 0.015*\"little\" + 0.014*\"dynasty\" + '\n  '0.014*\"lack\" + 0.014*\"positive\" + 0.014*\"surprise\"'),\n (27,\n  '0.052*\"sunak\" + 0.049*\"rishi\" + 0.043*\"uk\" + 0.040*\"british\" + '\n  '0.018*\"proud\" + 0.017*\"pm\" + 0.016*\"ruin\" + 0.014*\"prime\" + 0.011*\"become\" '\n  '+ 0.010*\"minister\" + 0.010*\"game\" + 0.010*\"serve\" + 0.010*\"china\" + '\n  '0.009*\"mix\" + 0.009*\"top\" + 0.009*\"piece\" + 0.009*\"citizenship\" + '\n  '0.008*\"success\" + 0.008*\"economics\" + 0.008*\"absolutely\"'),\n (10,\n  '0.030*\"elect\" + 0.028*\"welcome\" + 0.024*\"rise\" + 0.023*\"see\" + '\n  '0.023*\"experience\" + 0.020*\"common\" + 0.020*\"global\" + 0.019*\"join\" + '\n  '0.017*\"tory\" + 0.017*\"talent\" + 0.016*\"personality\" + 0.015*\"hope\" + '\n  '0.015*\"however\" + 0.015*\"political\" + 0.014*\"silence\" + 0.014*\"field\" + '\n  '0.013*\"decent\" + 0.013*\"touch\" + 0.012*\"unite\" + 0.012*\"italian\"'),\n (5,\n  '0.028*\"president\" + 0.023*\"kharge\" + 0.019*\"totally\" + 0.018*\"remember\" + '\n  '0.016*\"forget\" + 0.015*\"son\" + 0.014*\"forever\" + 0.014*\"diversity\" + '\n  '0.014*\"curse\" + 0.014*\"khan\" + 0.013*\"bad\" + 0.013*\"sorry\" + 0.012*\"launch\" '\n  '+ 0.012*\"open\" + 0.012*\"contest\" + 0.012*\"congress\" + 0.011*\"walk\" + '\n  '0.011*\"clown\" + 0.011*\"bollywood\" + 0.010*\"modiji\"'),\n (18,\n  '0.018*\"aside\" + 0.015*\"young\" + 0.015*\"base\" + 0.015*\"vote\" + 0.013*\"bjp\" + '\n  '0.013*\"via\" + 0.012*\"party\" + 0.012*\"nobody\" + 0.011*\"buy\" + '\n  '0.011*\"generation\" + 0.011*\"defeat\" + 0.011*\"pls\" + 0.011*\"money\" + '\n  '0.011*\"development\" + 0.010*\"football\" + 0.009*\"suggest\" + 0.009*\"bank\" + '\n  '0.009*\"crook\" + 0.009*\"list\" + 0.008*\"mla\"'),\n (3,\n  '0.023*\"sonia\" + 0.015*\"side\" + 0.015*\"asian\" + 0.014*\"continue\" + '\n  '0.014*\"heart\" + 0.013*\"singh\" + 0.013*\"difference\" + 0.012*\"ppl\" + '\n  '0.012*\"hindu\" + 0.011*\"especially\" + 0.011*\"independence\" + 0.011*\"black\" + '\n  '0.010*\"communal\" + 0.010*\"identity\" + 0.010*\"marry\" + 0.009*\"exist\" + '\n  '0.008*\"mindset\" + 0.008*\"limit\" + 0.008*\"ready\" + 0.008*\"british\"')]\n"
     ]
    }
   ],
   "source": [
    "from pprint import pprint\n",
    "# number of topics\n",
    "num_topics = 30\n",
    "# Build LDA model\n",
    "lda_model = gensim.models.LdaModel(corpus=corpus_tfidf, id2word=dict_word, num_topics=num_topics, iterations=20)\n",
    "# Print the Keyword in the 30 topics\n",
    "pprint(lda_model.print_topics(num_words=20))"
   ]
  },
  {
   "cell_type": "code",
   "execution_count": 0,
   "metadata": {
    "application/vnd.databricks.v1+cell": {
     "cellMetadata": {
      "byteLimit": 2048000,
      "rowLimit": 10000
     },
     "inputWidgets": {},
     "nuid": "6fe61a6b-e222-4dbb-bb7a-1b06434c1014",
     "showTitle": false,
     "title": ""
    },
    "colab": {
     "base_uri": "https://localhost:8080/"
    },
    "id": "3eiyjq7qhR0z",
    "outputId": "de544936-c483-4371-de10-56fc370191b5"
   },
   "outputs": [
    {
     "output_type": "stream",
     "name": "stdout",
     "output_type": "stream",
     "text": [
      "Collecting pyLDAvis\r\n  Using cached pyLDAvis-3.4.1-py3-none-any.whl (2.6 MB)\r\nRequirement already satisfied: scipy in /databricks/python3/lib/python3.9/site-packages (from pyLDAvis) (1.7.3)\r\nRequirement already satisfied: jinja2 in /databricks/python3/lib/python3.9/site-packages (from pyLDAvis) (2.11.3)\r\nCollecting numexpr\r\n  Using cached numexpr-2.8.7-cp39-cp39-manylinux_2_17_x86_64.manylinux2014_x86_64.whl (383 kB)\r\nCollecting funcy\r\n  Using cached funcy-2.0-py2.py3-none-any.whl (30 kB)\r\nCollecting numpy>=1.24.2\r\n  Using cached numpy-1.26.0-cp39-cp39-manylinux_2_17_x86_64.manylinux2014_x86_64.whl (18.2 MB)\r\nRequirement already satisfied: setuptools in /databricks/python3/lib/python3.9/site-packages (from pyLDAvis) (61.2.0)\r\nCollecting joblib>=1.2.0\r\n  Using cached joblib-1.3.2-py3-none-any.whl (302 kB)\r\nRequirement already satisfied: pandas>=2.0.0 in /local_disk0/.ephemeral_nfs/envs/pythonEnv-f985aff4-5238-4579-80f5-9267bb6d66d2/lib/python3.9/site-packages (from pyLDAvis) (2.1.1)\r\nRequirement already satisfied: gensim in /local_disk0/.ephemeral_nfs/envs/pythonEnv-f985aff4-5238-4579-80f5-9267bb6d66d2/lib/python3.9/site-packages (from pyLDAvis) (4.3.2)\r\nRequirement already satisfied: scikit-learn>=1.0.0 in /databricks/python3/lib/python3.9/site-packages (from pyLDAvis) (1.0.2)\r\nRequirement already satisfied: python-dateutil>=2.8.2 in /databricks/python3/lib/python3.9/site-packages (from pandas>=2.0.0->pyLDAvis) (2.8.2)\r\nRequirement already satisfied: tzdata>=2022.1 in /local_disk0/.ephemeral_nfs/envs/pythonEnv-f985aff4-5238-4579-80f5-9267bb6d66d2/lib/python3.9/site-packages (from pandas>=2.0.0->pyLDAvis) (2023.3)\r\nRequirement already satisfied: pytz>=2020.1 in /databricks/python3/lib/python3.9/site-packages (from pandas>=2.0.0->pyLDAvis) (2021.3)\r\nRequirement already satisfied: six>=1.5 in /databricks/python3/lib/python3.9/site-packages (from python-dateutil>=2.8.2->pandas>=2.0.0->pyLDAvis) (1.16.0)\r\nRequirement already satisfied: threadpoolctl>=2.0.0 in /databricks/python3/lib/python3.9/site-packages (from scikit-learn>=1.0.0->pyLDAvis) (2.2.0)\r\nCollecting scipy\r\n  Using cached scipy-1.11.3-cp39-cp39-manylinux_2_17_x86_64.manylinux2014_x86_64.whl (36.6 MB)\r\nRequirement already satisfied: smart-open>=1.8.1 in /local_disk0/.ephemeral_nfs/envs/pythonEnv-f985aff4-5238-4579-80f5-9267bb6d66d2/lib/python3.9/site-packages (from gensim->pyLDAvis) (6.4.0)\r\nRequirement already satisfied: MarkupSafe>=0.23 in /databricks/python3/lib/python3.9/site-packages (from jinja2->pyLDAvis) (2.0.1)\r\nInstalling collected packages: numpy, scipy, joblib, numexpr, funcy, pyLDAvis\r\n  Attempting uninstall: numpy\r\n    Found existing installation: numpy 1.22.4\r\n    Uninstalling numpy-1.22.4:\r\n      Successfully uninstalled numpy-1.22.4\r\n  Attempting uninstall: scipy\r\n    Found existing installation: scipy 1.7.3\r\n    Not uninstalling scipy at /databricks/python3/lib/python3.9/site-packages, outside environment /local_disk0/.ephemeral_nfs/envs/pythonEnv-f985aff4-5238-4579-80f5-9267bb6d66d2\r\n    Can't uninstall 'scipy'. No files were found to uninstall.\r\n  Attempting uninstall: joblib\r\n    Found existing installation: joblib 1.1.1\r\n    Not uninstalling joblib at /databricks/python3/lib/python3.9/site-packages, outside environment /local_disk0/.ephemeral_nfs/envs/pythonEnv-f985aff4-5238-4579-80f5-9267bb6d66d2\r\n    Can't uninstall 'joblib'. No files were found to uninstall.\r\nSuccessfully installed funcy-2.0 joblib-1.3.2 numexpr-2.8.7 numpy-1.26.0 pyLDAvis-3.4.1 scipy-1.11.3\r\n\u001B[33mWARNING: You are using pip version 21.2.4; however, version 23.2.1 is available.\r\nYou should consider upgrading via the '/local_disk0/.ephemeral_nfs/envs/pythonEnv-f985aff4-5238-4579-80f5-9267bb6d66d2/bin/python -m pip install --upgrade pip' command.\u001B[0m\r\n"
     ]
    }
   ],
   "source": [
    "!pip install pyLDAvis"
   ]
  },
  {
   "cell_type": "code",
   "execution_count": 0,
   "metadata": {
    "application/vnd.databricks.v1+cell": {
     "cellMetadata": {
      "byteLimit": 2048000,
      "rowLimit": 10000
     },
     "inputWidgets": {},
     "nuid": "339e8168-329d-4844-a2aa-f158ae729ec2",
     "showTitle": false,
     "title": ""
    },
    "colab": {
     "base_uri": "https://localhost:8080/",
     "height": 862
    },
    "id": "tbdlnD-0hWtC",
    "outputId": "dfb4657a-c808-43d8-97bd-bfa8e76e8657"
   },
   "outputs": [
    {
     "output_type": "stream",
     "name": "stderr",
     "output_type": "stream",
     "text": [
      "ERROR:concurrent.futures:exception calling callback for <Future at 0x7fb15f84c9a0 state=finished raised BrokenProcessPool>\njoblib.externals.loky.process_executor._RemoteTraceback: \n\"\"\"\nTraceback (most recent call last):\n  File \"/local_disk0/.ephemeral_nfs/envs/pythonEnv-f985aff4-5238-4579-80f5-9267bb6d66d2/lib/python3.9/site-packages/joblib/externals/loky/process_executor.py\", line 426, in _process_worker\n    call_item = call_queue.get(block=True, timeout=timeout)\n  File \"/usr/lib/python3.9/multiprocessing/queues.py\", line 122, in get\n    return _ForkingPickler.loads(res)\nAttributeError: Can't get attribute 'SafeFunction' on <module 'joblib._parallel_backends' from '/local_disk0/.ephemeral_nfs/envs/pythonEnv-f985aff4-5238-4579-80f5-9267bb6d66d2/lib/python3.9/site-packages/joblib/_parallel_backends.py'>\n\"\"\"\n\nThe above exception was the direct cause of the following exception:\n\nTraceback (most recent call last):\n  File \"/databricks/python/lib/python3.9/site-packages/joblib/externals/loky/_base.py\", line 625, in _invoke_callbacks\n    callback(self)\n  File \"/databricks/python/lib/python3.9/site-packages/joblib/parallel.py\", line 360, in __call__\n    self.parallel.dispatch_next()\n  File \"/databricks/python/lib/python3.9/site-packages/joblib/parallel.py\", line 797, in dispatch_next\n    if not self.dispatch_one_batch(self._original_iterator):\n  File \"/databricks/python/lib/python3.9/site-packages/joblib/parallel.py\", line 864, in dispatch_one_batch\n    self._dispatch(tasks)\n  File \"/databricks/python/lib/python3.9/site-packages/joblib/parallel.py\", line 782, in _dispatch\n    job = self._backend.apply_async(batch, callback=cb)\n  File \"/databricks/python/lib/python3.9/site-packages/joblib/_parallel_backends.py\", line 531, in apply_async\n    future = self._workers.submit(SafeFunction(func))\n  File \"/databricks/python/lib/python3.9/site-packages/joblib/externals/loky/reusable_executor.py\", line 177, in submit\n    return super(_ReusablePoolExecutor, self).submit(\n  File \"/databricks/python/lib/python3.9/site-packages/joblib/externals/loky/process_executor.py\", line 1115, in submit\n    raise self._flags.broken\njoblib.externals.loky.process_executor.BrokenProcessPool: A task has failed to un-serialize. Please ensure that the arguments of the function are all picklable.\n"
     ]
    },
    {
     "output_type": "display_data",
     "data": {
      "text/plain": [
       "\u001B[0;31m---------------------------------------------------------------------------\u001B[0m\n",
       "\u001B[0;31m_RemoteTraceback\u001B[0m                          Traceback (most recent call last)\n",
       "\u001B[0;31m_RemoteTraceback\u001B[0m: \n",
       "\"\"\"\n",
       "Traceback (most recent call last):\n",
       "  File \"/local_disk0/.ephemeral_nfs/envs/pythonEnv-f985aff4-5238-4579-80f5-9267bb6d66d2/lib/python3.9/site-packages/joblib/externals/loky/process_executor.py\", line 426, in _process_worker\n",
       "    call_item = call_queue.get(block=True, timeout=timeout)\n",
       "  File \"/usr/lib/python3.9/multiprocessing/queues.py\", line 122, in get\n",
       "    return _ForkingPickler.loads(res)\n",
       "AttributeError: Can't get attribute 'SafeFunction' on <module 'joblib._parallel_backends' from '/local_disk0/.ephemeral_nfs/envs/pythonEnv-f985aff4-5238-4579-80f5-9267bb6d66d2/lib/python3.9/site-packages/joblib/_parallel_backends.py'>\n",
       "\"\"\"\n",
       "\n",
       "The above exception was the direct cause of the following exception:\n",
       "\n",
       "\u001B[0;31mBrokenProcessPool\u001B[0m                         Traceback (most recent call last)\n",
       "File \u001B[0;32m<command-1825911620133417>:6\u001B[0m\n",
       "\u001B[1;32m      4\u001B[0m \u001B[38;5;66;03m# Visualize the topics\u001B[39;00m\n",
       "\u001B[1;32m      5\u001B[0m pyLDAvis\u001B[38;5;241m.\u001B[39menable_notebook()\n",
       "\u001B[0;32m----> 6\u001B[0m LDAvis_prepared \u001B[38;5;241m=\u001B[39m pyLDAvis\u001B[38;5;241m.\u001B[39mgensim_models\u001B[38;5;241m.\u001B[39mprepare(lda_model, corpus_tfidf, dict_word)\n",
       "\u001B[1;32m      7\u001B[0m pyLDAvis\u001B[38;5;241m.\u001B[39mdisplay(LDAvis_prepared)\n",
       "\n",
       "File \u001B[0;32m/local_disk0/.ephemeral_nfs/envs/pythonEnv-f985aff4-5238-4579-80f5-9267bb6d66d2/lib/python3.9/site-packages/pyLDAvis/gensim_models.py:123\u001B[0m, in \u001B[0;36mprepare\u001B[0;34m(topic_model, corpus, dictionary, doc_topic_dist, **kwargs)\u001B[0m\n",
       "\u001B[1;32m     78\u001B[0m \u001B[38;5;124;03m\"\"\"Transforms the Gensim TopicModel and related corpus and dictionary into\u001B[39;00m\n",
       "\u001B[1;32m     79\u001B[0m \u001B[38;5;124;03mthe data structures needed for the visualization.\u001B[39;00m\n",
       "\u001B[1;32m     80\u001B[0m \n",
       "\u001B[0;32m   (...)\u001B[0m\n",
       "\u001B[1;32m    120\u001B[0m \u001B[38;5;124;03mSee `pyLDAvis.prepare` for **kwargs.\u001B[39;00m\n",
       "\u001B[1;32m    121\u001B[0m \u001B[38;5;124;03m\"\"\"\u001B[39;00m\n",
       "\u001B[1;32m    122\u001B[0m opts \u001B[38;5;241m=\u001B[39m fp\u001B[38;5;241m.\u001B[39mmerge(_extract_data(topic_model, corpus, dictionary, doc_topic_dist), kwargs)\n",
       "\u001B[0;32m--> 123\u001B[0m \u001B[38;5;28;01mreturn\u001B[39;00m \u001B[43mpyLDAvis\u001B[49m\u001B[38;5;241;43m.\u001B[39;49m\u001B[43mprepare\u001B[49m\u001B[43m(\u001B[49m\u001B[38;5;241;43m*\u001B[39;49m\u001B[38;5;241;43m*\u001B[39;49m\u001B[43mopts\u001B[49m\u001B[43m)\u001B[49m\n",
       "\n",
       "File \u001B[0;32m/local_disk0/.ephemeral_nfs/envs/pythonEnv-f985aff4-5238-4579-80f5-9267bb6d66d2/lib/python3.9/site-packages/pyLDAvis/_prepare.py:432\u001B[0m, in \u001B[0;36mprepare\u001B[0;34m(topic_term_dists, doc_topic_dists, doc_lengths, vocab, term_frequency, R, lambda_step, mds, n_jobs, plot_opts, sort_topics, start_index)\u001B[0m\n",
       "\u001B[1;32m    426\u001B[0m \u001B[38;5;66;03m# Quick fix for red bar width bug.  We calculate the\u001B[39;00m\n",
       "\u001B[1;32m    427\u001B[0m \u001B[38;5;66;03m# term frequencies internally, using the topic term distributions and the\u001B[39;00m\n",
       "\u001B[1;32m    428\u001B[0m \u001B[38;5;66;03m# topic frequencies, rather than using the user-supplied term frequencies.\u001B[39;00m\n",
       "\u001B[1;32m    429\u001B[0m \u001B[38;5;66;03m# For a detailed discussion, see: https://github.com/cpsievert/LDAvis/pull/41\u001B[39;00m\n",
       "\u001B[1;32m    430\u001B[0m term_frequency \u001B[38;5;241m=\u001B[39m np\u001B[38;5;241m.\u001B[39msum(term_topic_freq, axis\u001B[38;5;241m=\u001B[39m\u001B[38;5;241m0\u001B[39m)\n",
       "\u001B[0;32m--> 432\u001B[0m topic_info \u001B[38;5;241m=\u001B[39m \u001B[43m_topic_info\u001B[49m\u001B[43m(\u001B[49m\u001B[43mtopic_term_dists\u001B[49m\u001B[43m,\u001B[49m\u001B[43m \u001B[49m\u001B[43mtopic_proportion\u001B[49m\u001B[43m,\u001B[49m\n",
       "\u001B[1;32m    433\u001B[0m \u001B[43m                         \u001B[49m\u001B[43mterm_frequency\u001B[49m\u001B[43m,\u001B[49m\u001B[43m \u001B[49m\u001B[43mterm_topic_freq\u001B[49m\u001B[43m,\u001B[49m\u001B[43m \u001B[49m\u001B[43mvocab\u001B[49m\u001B[43m,\u001B[49m\u001B[43m \u001B[49m\u001B[43mlambda_step\u001B[49m\u001B[43m,\u001B[49m\u001B[43m \u001B[49m\u001B[43mR\u001B[49m\u001B[43m,\u001B[49m\n",
       "\u001B[1;32m    434\u001B[0m \u001B[43m                         \u001B[49m\u001B[43mn_jobs\u001B[49m\u001B[43m,\u001B[49m\u001B[43m \u001B[49m\u001B[43mstart_index\u001B[49m\u001B[43m)\u001B[49m\n",
       "\u001B[1;32m    435\u001B[0m token_table \u001B[38;5;241m=\u001B[39m _token_table(topic_info, term_topic_freq, vocab, term_frequency, start_index)\n",
       "\u001B[1;32m    436\u001B[0m topic_coordinates \u001B[38;5;241m=\u001B[39m _topic_coordinates(mds, topic_term_dists, topic_proportion, start_index)\n",
       "\n",
       "File \u001B[0;32m/local_disk0/.ephemeral_nfs/envs/pythonEnv-f985aff4-5238-4579-80f5-9267bb6d66d2/lib/python3.9/site-packages/pyLDAvis/_prepare.py:273\u001B[0m, in \u001B[0;36m_topic_info\u001B[0;34m(topic_term_dists, topic_proportion, term_frequency, term_topic_freq, vocab, lambda_step, R, n_jobs, start_index)\u001B[0m\n",
       "\u001B[1;32m    262\u001B[0m     df \u001B[38;5;241m=\u001B[39m pd\u001B[38;5;241m.\u001B[39mDataFrame({\u001B[38;5;124m'\u001B[39m\u001B[38;5;124mTerm\u001B[39m\u001B[38;5;124m'\u001B[39m: vocab[term_ix],\n",
       "\u001B[1;32m    263\u001B[0m                        \u001B[38;5;124m'\u001B[39m\u001B[38;5;124mFreq\u001B[39m\u001B[38;5;124m'\u001B[39m: term_topic_freq\u001B[38;5;241m.\u001B[39mloc[original_topic_id, term_ix],\n",
       "\u001B[1;32m    264\u001B[0m                        \u001B[38;5;124m'\u001B[39m\u001B[38;5;124mTotal\u001B[39m\u001B[38;5;124m'\u001B[39m: term_frequency[term_ix],\n",
       "\u001B[0;32m   (...)\u001B[0m\n",
       "\u001B[1;32m    267\u001B[0m                        \u001B[38;5;124m'\u001B[39m\u001B[38;5;124mloglift\u001B[39m\u001B[38;5;124m'\u001B[39m: log_lift\u001B[38;5;241m.\u001B[39mloc[original_topic_id, term_ix]\u001B[38;5;241m.\u001B[39mround(\u001B[38;5;241m4\u001B[39m),\n",
       "\u001B[1;32m    268\u001B[0m                        })\n",
       "\u001B[1;32m    269\u001B[0m     \u001B[38;5;28;01mreturn\u001B[39;00m df\u001B[38;5;241m.\u001B[39mreindex(columns\u001B[38;5;241m=\u001B[39m[\n",
       "\u001B[1;32m    270\u001B[0m         \u001B[38;5;124m\"\u001B[39m\u001B[38;5;124mTerm\u001B[39m\u001B[38;5;124m\"\u001B[39m, \u001B[38;5;124m\"\u001B[39m\u001B[38;5;124mFreq\u001B[39m\u001B[38;5;124m\"\u001B[39m, \u001B[38;5;124m\"\u001B[39m\u001B[38;5;124mTotal\u001B[39m\u001B[38;5;124m\"\u001B[39m, \u001B[38;5;124m\"\u001B[39m\u001B[38;5;124mCategory\u001B[39m\u001B[38;5;124m\"\u001B[39m, \u001B[38;5;124m\"\u001B[39m\u001B[38;5;124mlogprob\u001B[39m\u001B[38;5;124m\"\u001B[39m, \u001B[38;5;124m\"\u001B[39m\u001B[38;5;124mloglift\u001B[39m\u001B[38;5;124m\"\u001B[39m\n",
       "\u001B[1;32m    271\u001B[0m     ])\n",
       "\u001B[0;32m--> 273\u001B[0m top_terms \u001B[38;5;241m=\u001B[39m pd\u001B[38;5;241m.\u001B[39mconcat(\u001B[43mParallel\u001B[49m\u001B[43m(\u001B[49m\u001B[43mn_jobs\u001B[49m\u001B[38;5;241;43m=\u001B[39;49m\u001B[43mn_jobs\u001B[49m\u001B[43m)\u001B[49m\n",
       "\u001B[1;32m    274\u001B[0m \u001B[43m                      \u001B[49m\u001B[43m(\u001B[49m\u001B[43mdelayed\u001B[49m\u001B[43m(\u001B[49m\u001B[43m_find_relevance_chunks\u001B[49m\u001B[43m)\u001B[49m\u001B[43m(\u001B[49m\u001B[43mlog_ttd\u001B[49m\u001B[43m,\u001B[49m\u001B[43m \u001B[49m\u001B[43mlog_lift\u001B[49m\u001B[43m,\u001B[49m\u001B[43m \u001B[49m\u001B[43mR\u001B[49m\u001B[43m,\u001B[49m\u001B[43m \u001B[49m\u001B[43mls\u001B[49m\u001B[43m)\u001B[49m\n",
       "\u001B[1;32m    275\u001B[0m \u001B[43m                      \u001B[49m\u001B[38;5;28;43;01mfor\u001B[39;49;00m\u001B[43m \u001B[49m\u001B[43mls\u001B[49m\u001B[43m \u001B[49m\u001B[38;5;129;43;01min\u001B[39;49;00m\u001B[43m \u001B[49m\u001B[43m_job_chunks\u001B[49m\u001B[43m(\u001B[49m\u001B[43mlambda_seq\u001B[49m\u001B[43m,\u001B[49m\u001B[43m \u001B[49m\u001B[43mn_jobs\u001B[49m\u001B[43m)\u001B[49m\u001B[43m)\u001B[49m)\n",
       "\u001B[1;32m    276\u001B[0m topic_dfs \u001B[38;5;241m=\u001B[39m \u001B[38;5;28mmap\u001B[39m(topic_top_term_df, \u001B[38;5;28menumerate\u001B[39m(top_terms\u001B[38;5;241m.\u001B[39mT\u001B[38;5;241m.\u001B[39miterrows(), start_index))\n",
       "\u001B[1;32m    277\u001B[0m \u001B[38;5;28;01mreturn\u001B[39;00m pd\u001B[38;5;241m.\u001B[39mconcat([default_term_info] \u001B[38;5;241m+\u001B[39m \u001B[38;5;28mlist\u001B[39m(topic_dfs))\n",
       "\n",
       "File \u001B[0;32m/databricks/python/lib/python3.9/site-packages/joblib/parallel.py:1061\u001B[0m, in \u001B[0;36mParallel.__call__\u001B[0;34m(self, iterable)\u001B[0m\n",
       "\u001B[1;32m   1058\u001B[0m     \u001B[38;5;28mself\u001B[39m\u001B[38;5;241m.\u001B[39m_iterating \u001B[38;5;241m=\u001B[39m \u001B[38;5;28;01mFalse\u001B[39;00m\n",
       "\u001B[1;32m   1060\u001B[0m \u001B[38;5;28;01mwith\u001B[39;00m \u001B[38;5;28mself\u001B[39m\u001B[38;5;241m.\u001B[39m_backend\u001B[38;5;241m.\u001B[39mretrieval_context():\n",
       "\u001B[0;32m-> 1061\u001B[0m     \u001B[38;5;28;43mself\u001B[39;49m\u001B[38;5;241;43m.\u001B[39;49m\u001B[43mretrieve\u001B[49m\u001B[43m(\u001B[49m\u001B[43m)\u001B[49m\n",
       "\u001B[1;32m   1062\u001B[0m \u001B[38;5;66;03m# Make sure that we get a last message telling us we are done\u001B[39;00m\n",
       "\u001B[1;32m   1063\u001B[0m elapsed_time \u001B[38;5;241m=\u001B[39m time\u001B[38;5;241m.\u001B[39mtime() \u001B[38;5;241m-\u001B[39m \u001B[38;5;28mself\u001B[39m\u001B[38;5;241m.\u001B[39m_start_time\n",
       "\n",
       "File \u001B[0;32m/databricks/python/lib/python3.9/site-packages/joblib/parallel.py:938\u001B[0m, in \u001B[0;36mParallel.retrieve\u001B[0;34m(self)\u001B[0m\n",
       "\u001B[1;32m    936\u001B[0m \u001B[38;5;28;01mtry\u001B[39;00m:\n",
       "\u001B[1;32m    937\u001B[0m     \u001B[38;5;28;01mif\u001B[39;00m \u001B[38;5;28mgetattr\u001B[39m(\u001B[38;5;28mself\u001B[39m\u001B[38;5;241m.\u001B[39m_backend, \u001B[38;5;124m'\u001B[39m\u001B[38;5;124msupports_timeout\u001B[39m\u001B[38;5;124m'\u001B[39m, \u001B[38;5;28;01mFalse\u001B[39;00m):\n",
       "\u001B[0;32m--> 938\u001B[0m         \u001B[38;5;28mself\u001B[39m\u001B[38;5;241m.\u001B[39m_output\u001B[38;5;241m.\u001B[39mextend(\u001B[43mjob\u001B[49m\u001B[38;5;241;43m.\u001B[39;49m\u001B[43mget\u001B[49m\u001B[43m(\u001B[49m\u001B[43mtimeout\u001B[49m\u001B[38;5;241;43m=\u001B[39;49m\u001B[38;5;28;43mself\u001B[39;49m\u001B[38;5;241;43m.\u001B[39;49m\u001B[43mtimeout\u001B[49m\u001B[43m)\u001B[49m)\n",
       "\u001B[1;32m    939\u001B[0m     \u001B[38;5;28;01melse\u001B[39;00m:\n",
       "\u001B[1;32m    940\u001B[0m         \u001B[38;5;28mself\u001B[39m\u001B[38;5;241m.\u001B[39m_output\u001B[38;5;241m.\u001B[39mextend(job\u001B[38;5;241m.\u001B[39mget())\n",
       "\n",
       "File \u001B[0;32m/databricks/python/lib/python3.9/site-packages/joblib/_parallel_backends.py:542\u001B[0m, in \u001B[0;36mLokyBackend.wrap_future_result\u001B[0;34m(future, timeout)\u001B[0m\n",
       "\u001B[1;32m    539\u001B[0m \u001B[38;5;124;03m\"\"\"Wrapper for Future.result to implement the same behaviour as\u001B[39;00m\n",
       "\u001B[1;32m    540\u001B[0m \u001B[38;5;124;03mAsyncResults.get from multiprocessing.\"\"\"\u001B[39;00m\n",
       "\u001B[1;32m    541\u001B[0m \u001B[38;5;28;01mtry\u001B[39;00m:\n",
       "\u001B[0;32m--> 542\u001B[0m     \u001B[38;5;28;01mreturn\u001B[39;00m \u001B[43mfuture\u001B[49m\u001B[38;5;241;43m.\u001B[39;49m\u001B[43mresult\u001B[49m\u001B[43m(\u001B[49m\u001B[43mtimeout\u001B[49m\u001B[38;5;241;43m=\u001B[39;49m\u001B[43mtimeout\u001B[49m\u001B[43m)\u001B[49m\n",
       "\u001B[1;32m    543\u001B[0m \u001B[38;5;28;01mexcept\u001B[39;00m CfTimeoutError \u001B[38;5;28;01mas\u001B[39;00m e:\n",
       "\u001B[1;32m    544\u001B[0m     \u001B[38;5;28;01mraise\u001B[39;00m \u001B[38;5;167;01mTimeoutError\u001B[39;00m \u001B[38;5;28;01mfrom\u001B[39;00m \u001B[38;5;21;01me\u001B[39;00m\n",
       "\n",
       "File \u001B[0;32m/usr/lib/python3.9/concurrent/futures/_base.py:445\u001B[0m, in \u001B[0;36mFuture.result\u001B[0;34m(self, timeout)\u001B[0m\n",
       "\u001B[1;32m    443\u001B[0m     \u001B[38;5;28;01mraise\u001B[39;00m CancelledError()\n",
       "\u001B[1;32m    444\u001B[0m \u001B[38;5;28;01melif\u001B[39;00m \u001B[38;5;28mself\u001B[39m\u001B[38;5;241m.\u001B[39m_state \u001B[38;5;241m==\u001B[39m FINISHED:\n",
       "\u001B[0;32m--> 445\u001B[0m     \u001B[38;5;28;01mreturn\u001B[39;00m \u001B[38;5;28;43mself\u001B[39;49m\u001B[38;5;241;43m.\u001B[39;49m\u001B[43m__get_result\u001B[49m\u001B[43m(\u001B[49m\u001B[43m)\u001B[49m\n",
       "\u001B[1;32m    446\u001B[0m \u001B[38;5;28;01melse\u001B[39;00m:\n",
       "\u001B[1;32m    447\u001B[0m     \u001B[38;5;28;01mraise\u001B[39;00m \u001B[38;5;167;01mTimeoutError\u001B[39;00m()\n",
       "\n",
       "File \u001B[0;32m/usr/lib/python3.9/concurrent/futures/_base.py:390\u001B[0m, in \u001B[0;36mFuture.__get_result\u001B[0;34m(self)\u001B[0m\n",
       "\u001B[1;32m    388\u001B[0m \u001B[38;5;28;01mif\u001B[39;00m \u001B[38;5;28mself\u001B[39m\u001B[38;5;241m.\u001B[39m_exception:\n",
       "\u001B[1;32m    389\u001B[0m     \u001B[38;5;28;01mtry\u001B[39;00m:\n",
       "\u001B[0;32m--> 390\u001B[0m         \u001B[38;5;28;01mraise\u001B[39;00m \u001B[38;5;28mself\u001B[39m\u001B[38;5;241m.\u001B[39m_exception\n",
       "\u001B[1;32m    391\u001B[0m     \u001B[38;5;28;01mfinally\u001B[39;00m:\n",
       "\u001B[1;32m    392\u001B[0m         \u001B[38;5;66;03m# Break a reference cycle with the exception in self._exception\u001B[39;00m\n",
       "\u001B[1;32m    393\u001B[0m         \u001B[38;5;28mself\u001B[39m \u001B[38;5;241m=\u001B[39m \u001B[38;5;28;01mNone\u001B[39;00m\n",
       "\n",
       "File \u001B[0;32m/databricks/python/lib/python3.9/site-packages/joblib/externals/loky/_base.py:625\u001B[0m, in \u001B[0;36mFuture._invoke_callbacks\u001B[0;34m(self)\u001B[0m\n",
       "\u001B[1;32m    623\u001B[0m \u001B[38;5;28;01mfor\u001B[39;00m callback \u001B[38;5;129;01min\u001B[39;00m \u001B[38;5;28mself\u001B[39m\u001B[38;5;241m.\u001B[39m_done_callbacks:\n",
       "\u001B[1;32m    624\u001B[0m     \u001B[38;5;28;01mtry\u001B[39;00m:\n",
       "\u001B[0;32m--> 625\u001B[0m         \u001B[43mcallback\u001B[49m\u001B[43m(\u001B[49m\u001B[38;5;28;43mself\u001B[39;49m\u001B[43m)\u001B[49m\n",
       "\u001B[1;32m    626\u001B[0m     \u001B[38;5;28;01mexcept\u001B[39;00m \u001B[38;5;167;01mBaseException\u001B[39;00m:\n",
       "\u001B[1;32m    627\u001B[0m         LOGGER\u001B[38;5;241m.\u001B[39mexception(\u001B[38;5;124m'\u001B[39m\u001B[38;5;124mexception calling callback for \u001B[39m\u001B[38;5;132;01m%r\u001B[39;00m\u001B[38;5;124m'\u001B[39m, \u001B[38;5;28mself\u001B[39m)\n",
       "\n",
       "File \u001B[0;32m/databricks/python/lib/python3.9/site-packages/joblib/parallel.py:360\u001B[0m, in \u001B[0;36mBatchCompletionCallBack.__call__\u001B[0;34m(self, out)\u001B[0m\n",
       "\u001B[1;32m    358\u001B[0m \u001B[38;5;28;01mwith\u001B[39;00m \u001B[38;5;28mself\u001B[39m\u001B[38;5;241m.\u001B[39mparallel\u001B[38;5;241m.\u001B[39m_lock:\n",
       "\u001B[1;32m    359\u001B[0m     \u001B[38;5;28;01mif\u001B[39;00m \u001B[38;5;28mself\u001B[39m\u001B[38;5;241m.\u001B[39mparallel\u001B[38;5;241m.\u001B[39m_original_iterator \u001B[38;5;129;01mis\u001B[39;00m \u001B[38;5;129;01mnot\u001B[39;00m \u001B[38;5;28;01mNone\u001B[39;00m:\n",
       "\u001B[0;32m--> 360\u001B[0m         \u001B[38;5;28;43mself\u001B[39;49m\u001B[38;5;241;43m.\u001B[39;49m\u001B[43mparallel\u001B[49m\u001B[38;5;241;43m.\u001B[39;49m\u001B[43mdispatch_next\u001B[49m\u001B[43m(\u001B[49m\u001B[43m)\u001B[49m\n",
       "\n",
       "File \u001B[0;32m/databricks/python/lib/python3.9/site-packages/joblib/parallel.py:797\u001B[0m, in \u001B[0;36mParallel.dispatch_next\u001B[0;34m(self)\u001B[0m\n",
       "\u001B[1;32m    789\u001B[0m \u001B[38;5;28;01mdef\u001B[39;00m \u001B[38;5;21mdispatch_next\u001B[39m(\u001B[38;5;28mself\u001B[39m):\n",
       "\u001B[1;32m    790\u001B[0m     \u001B[38;5;124;03m\"\"\"Dispatch more data for parallel processing\u001B[39;00m\n",
       "\u001B[1;32m    791\u001B[0m \n",
       "\u001B[1;32m    792\u001B[0m \u001B[38;5;124;03m    This method is meant to be called concurrently by the multiprocessing\u001B[39;00m\n",
       "\u001B[0;32m   (...)\u001B[0m\n",
       "\u001B[1;32m    795\u001B[0m \n",
       "\u001B[1;32m    796\u001B[0m \u001B[38;5;124;03m    \"\"\"\u001B[39;00m\n",
       "\u001B[0;32m--> 797\u001B[0m     \u001B[38;5;28;01mif\u001B[39;00m \u001B[38;5;129;01mnot\u001B[39;00m \u001B[38;5;28;43mself\u001B[39;49m\u001B[38;5;241;43m.\u001B[39;49m\u001B[43mdispatch_one_batch\u001B[49m\u001B[43m(\u001B[49m\u001B[38;5;28;43mself\u001B[39;49m\u001B[38;5;241;43m.\u001B[39;49m\u001B[43m_original_iterator\u001B[49m\u001B[43m)\u001B[49m:\n",
       "\u001B[1;32m    798\u001B[0m         \u001B[38;5;28mself\u001B[39m\u001B[38;5;241m.\u001B[39m_iterating \u001B[38;5;241m=\u001B[39m \u001B[38;5;28;01mFalse\u001B[39;00m\n",
       "\u001B[1;32m    799\u001B[0m         \u001B[38;5;28mself\u001B[39m\u001B[38;5;241m.\u001B[39m_original_iterator \u001B[38;5;241m=\u001B[39m \u001B[38;5;28;01mNone\u001B[39;00m\n",
       "\n",
       "File \u001B[0;32m/databricks/python/lib/python3.9/site-packages/joblib/parallel.py:864\u001B[0m, in \u001B[0;36mParallel.dispatch_one_batch\u001B[0;34m(self, iterator)\u001B[0m\n",
       "\u001B[1;32m    862\u001B[0m     \u001B[38;5;28;01mreturn\u001B[39;00m \u001B[38;5;28;01mFalse\u001B[39;00m\n",
       "\u001B[1;32m    863\u001B[0m \u001B[38;5;28;01melse\u001B[39;00m:\n",
       "\u001B[0;32m--> 864\u001B[0m     \u001B[38;5;28;43mself\u001B[39;49m\u001B[38;5;241;43m.\u001B[39;49m\u001B[43m_dispatch\u001B[49m\u001B[43m(\u001B[49m\u001B[43mtasks\u001B[49m\u001B[43m)\u001B[49m\n",
       "\u001B[1;32m    865\u001B[0m     \u001B[38;5;28;01mreturn\u001B[39;00m \u001B[38;5;28;01mTrue\u001B[39;00m\n",
       "\n",
       "File \u001B[0;32m/databricks/python/lib/python3.9/site-packages/joblib/parallel.py:782\u001B[0m, in \u001B[0;36mParallel._dispatch\u001B[0;34m(self, batch)\u001B[0m\n",
       "\u001B[1;32m    780\u001B[0m \u001B[38;5;28;01mwith\u001B[39;00m \u001B[38;5;28mself\u001B[39m\u001B[38;5;241m.\u001B[39m_lock:\n",
       "\u001B[1;32m    781\u001B[0m     job_idx \u001B[38;5;241m=\u001B[39m \u001B[38;5;28mlen\u001B[39m(\u001B[38;5;28mself\u001B[39m\u001B[38;5;241m.\u001B[39m_jobs)\n",
       "\u001B[0;32m--> 782\u001B[0m     job \u001B[38;5;241m=\u001B[39m \u001B[38;5;28;43mself\u001B[39;49m\u001B[38;5;241;43m.\u001B[39;49m\u001B[43m_backend\u001B[49m\u001B[38;5;241;43m.\u001B[39;49m\u001B[43mapply_async\u001B[49m\u001B[43m(\u001B[49m\u001B[43mbatch\u001B[49m\u001B[43m,\u001B[49m\u001B[43m \u001B[49m\u001B[43mcallback\u001B[49m\u001B[38;5;241;43m=\u001B[39;49m\u001B[43mcb\u001B[49m\u001B[43m)\u001B[49m\n",
       "\u001B[1;32m    783\u001B[0m     \u001B[38;5;66;03m# A job can complete so quickly than its callback is\u001B[39;00m\n",
       "\u001B[1;32m    784\u001B[0m     \u001B[38;5;66;03m# called before we get here, causing self._jobs to\u001B[39;00m\n",
       "\u001B[1;32m    785\u001B[0m     \u001B[38;5;66;03m# grow. To ensure correct results ordering, .insert is\u001B[39;00m\n",
       "\u001B[1;32m    786\u001B[0m     \u001B[38;5;66;03m# used (rather than .append) in the following line\u001B[39;00m\n",
       "\u001B[1;32m    787\u001B[0m     \u001B[38;5;28mself\u001B[39m\u001B[38;5;241m.\u001B[39m_jobs\u001B[38;5;241m.\u001B[39minsert(job_idx, job)\n",
       "\n",
       "File \u001B[0;32m/databricks/python/lib/python3.9/site-packages/joblib/_parallel_backends.py:531\u001B[0m, in \u001B[0;36mLokyBackend.apply_async\u001B[0;34m(self, func, callback)\u001B[0m\n",
       "\u001B[1;32m    529\u001B[0m \u001B[38;5;28;01mdef\u001B[39;00m \u001B[38;5;21mapply_async\u001B[39m(\u001B[38;5;28mself\u001B[39m, func, callback\u001B[38;5;241m=\u001B[39m\u001B[38;5;28;01mNone\u001B[39;00m):\n",
       "\u001B[1;32m    530\u001B[0m     \u001B[38;5;124;03m\"\"\"Schedule a func to be run\"\"\"\u001B[39;00m\n",
       "\u001B[0;32m--> 531\u001B[0m     future \u001B[38;5;241m=\u001B[39m \u001B[38;5;28;43mself\u001B[39;49m\u001B[38;5;241;43m.\u001B[39;49m\u001B[43m_workers\u001B[49m\u001B[38;5;241;43m.\u001B[39;49m\u001B[43msubmit\u001B[49m\u001B[43m(\u001B[49m\u001B[43mSafeFunction\u001B[49m\u001B[43m(\u001B[49m\u001B[43mfunc\u001B[49m\u001B[43m)\u001B[49m\u001B[43m)\u001B[49m\n",
       "\u001B[1;32m    532\u001B[0m     future\u001B[38;5;241m.\u001B[39mget \u001B[38;5;241m=\u001B[39m functools\u001B[38;5;241m.\u001B[39mpartial(\u001B[38;5;28mself\u001B[39m\u001B[38;5;241m.\u001B[39mwrap_future_result, future)\n",
       "\u001B[1;32m    533\u001B[0m     \u001B[38;5;28;01mif\u001B[39;00m callback \u001B[38;5;129;01mis\u001B[39;00m \u001B[38;5;129;01mnot\u001B[39;00m \u001B[38;5;28;01mNone\u001B[39;00m:\n",
       "\n",
       "File \u001B[0;32m/databricks/python/lib/python3.9/site-packages/joblib/externals/loky/reusable_executor.py:177\u001B[0m, in \u001B[0;36m_ReusablePoolExecutor.submit\u001B[0;34m(self, fn, *args, **kwargs)\u001B[0m\n",
       "\u001B[1;32m    175\u001B[0m \u001B[38;5;28;01mdef\u001B[39;00m \u001B[38;5;21msubmit\u001B[39m(\u001B[38;5;28mself\u001B[39m, fn, \u001B[38;5;241m*\u001B[39margs, \u001B[38;5;241m*\u001B[39m\u001B[38;5;241m*\u001B[39mkwargs):\n",
       "\u001B[1;32m    176\u001B[0m     \u001B[38;5;28;01mwith\u001B[39;00m \u001B[38;5;28mself\u001B[39m\u001B[38;5;241m.\u001B[39m_submit_resize_lock:\n",
       "\u001B[0;32m--> 177\u001B[0m         \u001B[38;5;28;01mreturn\u001B[39;00m \u001B[38;5;28;43msuper\u001B[39;49m\u001B[43m(\u001B[49m\u001B[43m_ReusablePoolExecutor\u001B[49m\u001B[43m,\u001B[49m\u001B[43m \u001B[49m\u001B[38;5;28;43mself\u001B[39;49m\u001B[43m)\u001B[49m\u001B[38;5;241;43m.\u001B[39;49m\u001B[43msubmit\u001B[49m\u001B[43m(\u001B[49m\n",
       "\u001B[1;32m    178\u001B[0m \u001B[43m            \u001B[49m\u001B[43mfn\u001B[49m\u001B[43m,\u001B[49m\u001B[43m \u001B[49m\u001B[38;5;241;43m*\u001B[39;49m\u001B[43margs\u001B[49m\u001B[43m,\u001B[49m\u001B[43m \u001B[49m\u001B[38;5;241;43m*\u001B[39;49m\u001B[38;5;241;43m*\u001B[39;49m\u001B[43mkwargs\u001B[49m\u001B[43m)\u001B[49m\n",
       "\n",
       "File \u001B[0;32m/databricks/python/lib/python3.9/site-packages/joblib/externals/loky/process_executor.py:1115\u001B[0m, in \u001B[0;36mProcessPoolExecutor.submit\u001B[0;34m(self, fn, *args, **kwargs)\u001B[0m\n",
       "\u001B[1;32m   1113\u001B[0m \u001B[38;5;28;01mwith\u001B[39;00m \u001B[38;5;28mself\u001B[39m\u001B[38;5;241m.\u001B[39m_flags\u001B[38;5;241m.\u001B[39mshutdown_lock:\n",
       "\u001B[1;32m   1114\u001B[0m     \u001B[38;5;28;01mif\u001B[39;00m \u001B[38;5;28mself\u001B[39m\u001B[38;5;241m.\u001B[39m_flags\u001B[38;5;241m.\u001B[39mbroken \u001B[38;5;129;01mis\u001B[39;00m \u001B[38;5;129;01mnot\u001B[39;00m \u001B[38;5;28;01mNone\u001B[39;00m:\n",
       "\u001B[0;32m-> 1115\u001B[0m         \u001B[38;5;28;01mraise\u001B[39;00m \u001B[38;5;28mself\u001B[39m\u001B[38;5;241m.\u001B[39m_flags\u001B[38;5;241m.\u001B[39mbroken\n",
       "\u001B[1;32m   1116\u001B[0m     \u001B[38;5;28;01mif\u001B[39;00m \u001B[38;5;28mself\u001B[39m\u001B[38;5;241m.\u001B[39m_flags\u001B[38;5;241m.\u001B[39mshutdown:\n",
       "\u001B[1;32m   1117\u001B[0m         \u001B[38;5;28;01mraise\u001B[39;00m ShutdownExecutorError(\n",
       "\u001B[1;32m   1118\u001B[0m             \u001B[38;5;124m'\u001B[39m\u001B[38;5;124mcannot schedule new futures after shutdown\u001B[39m\u001B[38;5;124m'\u001B[39m)\n",
       "\n",
       "\u001B[0;31mBrokenProcessPool\u001B[0m: A task has failed to un-serialize. Please ensure that the arguments of the function are all picklable."
      ]
     },
     "metadata": {
      "application/vnd.databricks.v1+output": {
       "arguments": {},
       "data": "\u001B[0;31m---------------------------------------------------------------------------\u001B[0m\n\u001B[0;31m_RemoteTraceback\u001B[0m                          Traceback (most recent call last)\n\u001B[0;31m_RemoteTraceback\u001B[0m: \n\"\"\"\nTraceback (most recent call last):\n  File \"/local_disk0/.ephemeral_nfs/envs/pythonEnv-f985aff4-5238-4579-80f5-9267bb6d66d2/lib/python3.9/site-packages/joblib/externals/loky/process_executor.py\", line 426, in _process_worker\n    call_item = call_queue.get(block=True, timeout=timeout)\n  File \"/usr/lib/python3.9/multiprocessing/queues.py\", line 122, in get\n    return _ForkingPickler.loads(res)\nAttributeError: Can't get attribute 'SafeFunction' on <module 'joblib._parallel_backends' from '/local_disk0/.ephemeral_nfs/envs/pythonEnv-f985aff4-5238-4579-80f5-9267bb6d66d2/lib/python3.9/site-packages/joblib/_parallel_backends.py'>\n\"\"\"\n\nThe above exception was the direct cause of the following exception:\n\n\u001B[0;31mBrokenProcessPool\u001B[0m                         Traceback (most recent call last)\nFile \u001B[0;32m<command-1825911620133417>:6\u001B[0m\n\u001B[1;32m      4\u001B[0m \u001B[38;5;66;03m# Visualize the topics\u001B[39;00m\n\u001B[1;32m      5\u001B[0m pyLDAvis\u001B[38;5;241m.\u001B[39menable_notebook()\n\u001B[0;32m----> 6\u001B[0m LDAvis_prepared \u001B[38;5;241m=\u001B[39m pyLDAvis\u001B[38;5;241m.\u001B[39mgensim_models\u001B[38;5;241m.\u001B[39mprepare(lda_model, corpus_tfidf, dict_word)\n\u001B[1;32m      7\u001B[0m pyLDAvis\u001B[38;5;241m.\u001B[39mdisplay(LDAvis_prepared)\n\nFile \u001B[0;32m/local_disk0/.ephemeral_nfs/envs/pythonEnv-f985aff4-5238-4579-80f5-9267bb6d66d2/lib/python3.9/site-packages/pyLDAvis/gensim_models.py:123\u001B[0m, in \u001B[0;36mprepare\u001B[0;34m(topic_model, corpus, dictionary, doc_topic_dist, **kwargs)\u001B[0m\n\u001B[1;32m     78\u001B[0m \u001B[38;5;124;03m\"\"\"Transforms the Gensim TopicModel and related corpus and dictionary into\u001B[39;00m\n\u001B[1;32m     79\u001B[0m \u001B[38;5;124;03mthe data structures needed for the visualization.\u001B[39;00m\n\u001B[1;32m     80\u001B[0m \n\u001B[0;32m   (...)\u001B[0m\n\u001B[1;32m    120\u001B[0m \u001B[38;5;124;03mSee `pyLDAvis.prepare` for **kwargs.\u001B[39;00m\n\u001B[1;32m    121\u001B[0m \u001B[38;5;124;03m\"\"\"\u001B[39;00m\n\u001B[1;32m    122\u001B[0m opts \u001B[38;5;241m=\u001B[39m fp\u001B[38;5;241m.\u001B[39mmerge(_extract_data(topic_model, corpus, dictionary, doc_topic_dist), kwargs)\n\u001B[0;32m--> 123\u001B[0m \u001B[38;5;28;01mreturn\u001B[39;00m \u001B[43mpyLDAvis\u001B[49m\u001B[38;5;241;43m.\u001B[39;49m\u001B[43mprepare\u001B[49m\u001B[43m(\u001B[49m\u001B[38;5;241;43m*\u001B[39;49m\u001B[38;5;241;43m*\u001B[39;49m\u001B[43mopts\u001B[49m\u001B[43m)\u001B[49m\n\nFile \u001B[0;32m/local_disk0/.ephemeral_nfs/envs/pythonEnv-f985aff4-5238-4579-80f5-9267bb6d66d2/lib/python3.9/site-packages/pyLDAvis/_prepare.py:432\u001B[0m, in \u001B[0;36mprepare\u001B[0;34m(topic_term_dists, doc_topic_dists, doc_lengths, vocab, term_frequency, R, lambda_step, mds, n_jobs, plot_opts, sort_topics, start_index)\u001B[0m\n\u001B[1;32m    426\u001B[0m \u001B[38;5;66;03m# Quick fix for red bar width bug.  We calculate the\u001B[39;00m\n\u001B[1;32m    427\u001B[0m \u001B[38;5;66;03m# term frequencies internally, using the topic term distributions and the\u001B[39;00m\n\u001B[1;32m    428\u001B[0m \u001B[38;5;66;03m# topic frequencies, rather than using the user-supplied term frequencies.\u001B[39;00m\n\u001B[1;32m    429\u001B[0m \u001B[38;5;66;03m# For a detailed discussion, see: https://github.com/cpsievert/LDAvis/pull/41\u001B[39;00m\n\u001B[1;32m    430\u001B[0m term_frequency \u001B[38;5;241m=\u001B[39m np\u001B[38;5;241m.\u001B[39msum(term_topic_freq, axis\u001B[38;5;241m=\u001B[39m\u001B[38;5;241m0\u001B[39m)\n\u001B[0;32m--> 432\u001B[0m topic_info \u001B[38;5;241m=\u001B[39m \u001B[43m_topic_info\u001B[49m\u001B[43m(\u001B[49m\u001B[43mtopic_term_dists\u001B[49m\u001B[43m,\u001B[49m\u001B[43m \u001B[49m\u001B[43mtopic_proportion\u001B[49m\u001B[43m,\u001B[49m\n\u001B[1;32m    433\u001B[0m \u001B[43m                         \u001B[49m\u001B[43mterm_frequency\u001B[49m\u001B[43m,\u001B[49m\u001B[43m \u001B[49m\u001B[43mterm_topic_freq\u001B[49m\u001B[43m,\u001B[49m\u001B[43m \u001B[49m\u001B[43mvocab\u001B[49m\u001B[43m,\u001B[49m\u001B[43m \u001B[49m\u001B[43mlambda_step\u001B[49m\u001B[43m,\u001B[49m\u001B[43m \u001B[49m\u001B[43mR\u001B[49m\u001B[43m,\u001B[49m\n\u001B[1;32m    434\u001B[0m \u001B[43m                         \u001B[49m\u001B[43mn_jobs\u001B[49m\u001B[43m,\u001B[49m\u001B[43m \u001B[49m\u001B[43mstart_index\u001B[49m\u001B[43m)\u001B[49m\n\u001B[1;32m    435\u001B[0m token_table \u001B[38;5;241m=\u001B[39m _token_table(topic_info, term_topic_freq, vocab, term_frequency, start_index)\n\u001B[1;32m    436\u001B[0m topic_coordinates \u001B[38;5;241m=\u001B[39m _topic_coordinates(mds, topic_term_dists, topic_proportion, start_index)\n\nFile \u001B[0;32m/local_disk0/.ephemeral_nfs/envs/pythonEnv-f985aff4-5238-4579-80f5-9267bb6d66d2/lib/python3.9/site-packages/pyLDAvis/_prepare.py:273\u001B[0m, in \u001B[0;36m_topic_info\u001B[0;34m(topic_term_dists, topic_proportion, term_frequency, term_topic_freq, vocab, lambda_step, R, n_jobs, start_index)\u001B[0m\n\u001B[1;32m    262\u001B[0m     df \u001B[38;5;241m=\u001B[39m pd\u001B[38;5;241m.\u001B[39mDataFrame({\u001B[38;5;124m'\u001B[39m\u001B[38;5;124mTerm\u001B[39m\u001B[38;5;124m'\u001B[39m: vocab[term_ix],\n\u001B[1;32m    263\u001B[0m                        \u001B[38;5;124m'\u001B[39m\u001B[38;5;124mFreq\u001B[39m\u001B[38;5;124m'\u001B[39m: term_topic_freq\u001B[38;5;241m.\u001B[39mloc[original_topic_id, term_ix],\n\u001B[1;32m    264\u001B[0m                        \u001B[38;5;124m'\u001B[39m\u001B[38;5;124mTotal\u001B[39m\u001B[38;5;124m'\u001B[39m: term_frequency[term_ix],\n\u001B[0;32m   (...)\u001B[0m\n\u001B[1;32m    267\u001B[0m                        \u001B[38;5;124m'\u001B[39m\u001B[38;5;124mloglift\u001B[39m\u001B[38;5;124m'\u001B[39m: log_lift\u001B[38;5;241m.\u001B[39mloc[original_topic_id, term_ix]\u001B[38;5;241m.\u001B[39mround(\u001B[38;5;241m4\u001B[39m),\n\u001B[1;32m    268\u001B[0m                        })\n\u001B[1;32m    269\u001B[0m     \u001B[38;5;28;01mreturn\u001B[39;00m df\u001B[38;5;241m.\u001B[39mreindex(columns\u001B[38;5;241m=\u001B[39m[\n\u001B[1;32m    270\u001B[0m         \u001B[38;5;124m\"\u001B[39m\u001B[38;5;124mTerm\u001B[39m\u001B[38;5;124m\"\u001B[39m, \u001B[38;5;124m\"\u001B[39m\u001B[38;5;124mFreq\u001B[39m\u001B[38;5;124m\"\u001B[39m, \u001B[38;5;124m\"\u001B[39m\u001B[38;5;124mTotal\u001B[39m\u001B[38;5;124m\"\u001B[39m, \u001B[38;5;124m\"\u001B[39m\u001B[38;5;124mCategory\u001B[39m\u001B[38;5;124m\"\u001B[39m, \u001B[38;5;124m\"\u001B[39m\u001B[38;5;124mlogprob\u001B[39m\u001B[38;5;124m\"\u001B[39m, \u001B[38;5;124m\"\u001B[39m\u001B[38;5;124mloglift\u001B[39m\u001B[38;5;124m\"\u001B[39m\n\u001B[1;32m    271\u001B[0m     ])\n\u001B[0;32m--> 273\u001B[0m top_terms \u001B[38;5;241m=\u001B[39m pd\u001B[38;5;241m.\u001B[39mconcat(\u001B[43mParallel\u001B[49m\u001B[43m(\u001B[49m\u001B[43mn_jobs\u001B[49m\u001B[38;5;241;43m=\u001B[39;49m\u001B[43mn_jobs\u001B[49m\u001B[43m)\u001B[49m\n\u001B[1;32m    274\u001B[0m \u001B[43m                      \u001B[49m\u001B[43m(\u001B[49m\u001B[43mdelayed\u001B[49m\u001B[43m(\u001B[49m\u001B[43m_find_relevance_chunks\u001B[49m\u001B[43m)\u001B[49m\u001B[43m(\u001B[49m\u001B[43mlog_ttd\u001B[49m\u001B[43m,\u001B[49m\u001B[43m \u001B[49m\u001B[43mlog_lift\u001B[49m\u001B[43m,\u001B[49m\u001B[43m \u001B[49m\u001B[43mR\u001B[49m\u001B[43m,\u001B[49m\u001B[43m \u001B[49m\u001B[43mls\u001B[49m\u001B[43m)\u001B[49m\n\u001B[1;32m    275\u001B[0m \u001B[43m                      \u001B[49m\u001B[38;5;28;43;01mfor\u001B[39;49;00m\u001B[43m \u001B[49m\u001B[43mls\u001B[49m\u001B[43m \u001B[49m\u001B[38;5;129;43;01min\u001B[39;49;00m\u001B[43m \u001B[49m\u001B[43m_job_chunks\u001B[49m\u001B[43m(\u001B[49m\u001B[43mlambda_seq\u001B[49m\u001B[43m,\u001B[49m\u001B[43m \u001B[49m\u001B[43mn_jobs\u001B[49m\u001B[43m)\u001B[49m\u001B[43m)\u001B[49m)\n\u001B[1;32m    276\u001B[0m topic_dfs \u001B[38;5;241m=\u001B[39m \u001B[38;5;28mmap\u001B[39m(topic_top_term_df, \u001B[38;5;28menumerate\u001B[39m(top_terms\u001B[38;5;241m.\u001B[39mT\u001B[38;5;241m.\u001B[39miterrows(), start_index))\n\u001B[1;32m    277\u001B[0m \u001B[38;5;28;01mreturn\u001B[39;00m pd\u001B[38;5;241m.\u001B[39mconcat([default_term_info] \u001B[38;5;241m+\u001B[39m \u001B[38;5;28mlist\u001B[39m(topic_dfs))\n\nFile \u001B[0;32m/databricks/python/lib/python3.9/site-packages/joblib/parallel.py:1061\u001B[0m, in \u001B[0;36mParallel.__call__\u001B[0;34m(self, iterable)\u001B[0m\n\u001B[1;32m   1058\u001B[0m     \u001B[38;5;28mself\u001B[39m\u001B[38;5;241m.\u001B[39m_iterating \u001B[38;5;241m=\u001B[39m \u001B[38;5;28;01mFalse\u001B[39;00m\n\u001B[1;32m   1060\u001B[0m \u001B[38;5;28;01mwith\u001B[39;00m \u001B[38;5;28mself\u001B[39m\u001B[38;5;241m.\u001B[39m_backend\u001B[38;5;241m.\u001B[39mretrieval_context():\n\u001B[0;32m-> 1061\u001B[0m     \u001B[38;5;28;43mself\u001B[39;49m\u001B[38;5;241;43m.\u001B[39;49m\u001B[43mretrieve\u001B[49m\u001B[43m(\u001B[49m\u001B[43m)\u001B[49m\n\u001B[1;32m   1062\u001B[0m \u001B[38;5;66;03m# Make sure that we get a last message telling us we are done\u001B[39;00m\n\u001B[1;32m   1063\u001B[0m elapsed_time \u001B[38;5;241m=\u001B[39m time\u001B[38;5;241m.\u001B[39mtime() \u001B[38;5;241m-\u001B[39m \u001B[38;5;28mself\u001B[39m\u001B[38;5;241m.\u001B[39m_start_time\n\nFile \u001B[0;32m/databricks/python/lib/python3.9/site-packages/joblib/parallel.py:938\u001B[0m, in \u001B[0;36mParallel.retrieve\u001B[0;34m(self)\u001B[0m\n\u001B[1;32m    936\u001B[0m \u001B[38;5;28;01mtry\u001B[39;00m:\n\u001B[1;32m    937\u001B[0m     \u001B[38;5;28;01mif\u001B[39;00m \u001B[38;5;28mgetattr\u001B[39m(\u001B[38;5;28mself\u001B[39m\u001B[38;5;241m.\u001B[39m_backend, \u001B[38;5;124m'\u001B[39m\u001B[38;5;124msupports_timeout\u001B[39m\u001B[38;5;124m'\u001B[39m, \u001B[38;5;28;01mFalse\u001B[39;00m):\n\u001B[0;32m--> 938\u001B[0m         \u001B[38;5;28mself\u001B[39m\u001B[38;5;241m.\u001B[39m_output\u001B[38;5;241m.\u001B[39mextend(\u001B[43mjob\u001B[49m\u001B[38;5;241;43m.\u001B[39;49m\u001B[43mget\u001B[49m\u001B[43m(\u001B[49m\u001B[43mtimeout\u001B[49m\u001B[38;5;241;43m=\u001B[39;49m\u001B[38;5;28;43mself\u001B[39;49m\u001B[38;5;241;43m.\u001B[39;49m\u001B[43mtimeout\u001B[49m\u001B[43m)\u001B[49m)\n\u001B[1;32m    939\u001B[0m     \u001B[38;5;28;01melse\u001B[39;00m:\n\u001B[1;32m    940\u001B[0m         \u001B[38;5;28mself\u001B[39m\u001B[38;5;241m.\u001B[39m_output\u001B[38;5;241m.\u001B[39mextend(job\u001B[38;5;241m.\u001B[39mget())\n\nFile \u001B[0;32m/databricks/python/lib/python3.9/site-packages/joblib/_parallel_backends.py:542\u001B[0m, in \u001B[0;36mLokyBackend.wrap_future_result\u001B[0;34m(future, timeout)\u001B[0m\n\u001B[1;32m    539\u001B[0m \u001B[38;5;124;03m\"\"\"Wrapper for Future.result to implement the same behaviour as\u001B[39;00m\n\u001B[1;32m    540\u001B[0m \u001B[38;5;124;03mAsyncResults.get from multiprocessing.\"\"\"\u001B[39;00m\n\u001B[1;32m    541\u001B[0m \u001B[38;5;28;01mtry\u001B[39;00m:\n\u001B[0;32m--> 542\u001B[0m     \u001B[38;5;28;01mreturn\u001B[39;00m \u001B[43mfuture\u001B[49m\u001B[38;5;241;43m.\u001B[39;49m\u001B[43mresult\u001B[49m\u001B[43m(\u001B[49m\u001B[43mtimeout\u001B[49m\u001B[38;5;241;43m=\u001B[39;49m\u001B[43mtimeout\u001B[49m\u001B[43m)\u001B[49m\n\u001B[1;32m    543\u001B[0m \u001B[38;5;28;01mexcept\u001B[39;00m CfTimeoutError \u001B[38;5;28;01mas\u001B[39;00m e:\n\u001B[1;32m    544\u001B[0m     \u001B[38;5;28;01mraise\u001B[39;00m \u001B[38;5;167;01mTimeoutError\u001B[39;00m \u001B[38;5;28;01mfrom\u001B[39;00m \u001B[38;5;21;01me\u001B[39;00m\n\nFile \u001B[0;32m/usr/lib/python3.9/concurrent/futures/_base.py:445\u001B[0m, in \u001B[0;36mFuture.result\u001B[0;34m(self, timeout)\u001B[0m\n\u001B[1;32m    443\u001B[0m     \u001B[38;5;28;01mraise\u001B[39;00m CancelledError()\n\u001B[1;32m    444\u001B[0m \u001B[38;5;28;01melif\u001B[39;00m \u001B[38;5;28mself\u001B[39m\u001B[38;5;241m.\u001B[39m_state \u001B[38;5;241m==\u001B[39m FINISHED:\n\u001B[0;32m--> 445\u001B[0m     \u001B[38;5;28;01mreturn\u001B[39;00m \u001B[38;5;28;43mself\u001B[39;49m\u001B[38;5;241;43m.\u001B[39;49m\u001B[43m__get_result\u001B[49m\u001B[43m(\u001B[49m\u001B[43m)\u001B[49m\n\u001B[1;32m    446\u001B[0m \u001B[38;5;28;01melse\u001B[39;00m:\n\u001B[1;32m    447\u001B[0m     \u001B[38;5;28;01mraise\u001B[39;00m \u001B[38;5;167;01mTimeoutError\u001B[39;00m()\n\nFile \u001B[0;32m/usr/lib/python3.9/concurrent/futures/_base.py:390\u001B[0m, in \u001B[0;36mFuture.__get_result\u001B[0;34m(self)\u001B[0m\n\u001B[1;32m    388\u001B[0m \u001B[38;5;28;01mif\u001B[39;00m \u001B[38;5;28mself\u001B[39m\u001B[38;5;241m.\u001B[39m_exception:\n\u001B[1;32m    389\u001B[0m     \u001B[38;5;28;01mtry\u001B[39;00m:\n\u001B[0;32m--> 390\u001B[0m         \u001B[38;5;28;01mraise\u001B[39;00m \u001B[38;5;28mself\u001B[39m\u001B[38;5;241m.\u001B[39m_exception\n\u001B[1;32m    391\u001B[0m     \u001B[38;5;28;01mfinally\u001B[39;00m:\n\u001B[1;32m    392\u001B[0m         \u001B[38;5;66;03m# Break a reference cycle with the exception in self._exception\u001B[39;00m\n\u001B[1;32m    393\u001B[0m         \u001B[38;5;28mself\u001B[39m \u001B[38;5;241m=\u001B[39m \u001B[38;5;28;01mNone\u001B[39;00m\n\nFile \u001B[0;32m/databricks/python/lib/python3.9/site-packages/joblib/externals/loky/_base.py:625\u001B[0m, in \u001B[0;36mFuture._invoke_callbacks\u001B[0;34m(self)\u001B[0m\n\u001B[1;32m    623\u001B[0m \u001B[38;5;28;01mfor\u001B[39;00m callback \u001B[38;5;129;01min\u001B[39;00m \u001B[38;5;28mself\u001B[39m\u001B[38;5;241m.\u001B[39m_done_callbacks:\n\u001B[1;32m    624\u001B[0m     \u001B[38;5;28;01mtry\u001B[39;00m:\n\u001B[0;32m--> 625\u001B[0m         \u001B[43mcallback\u001B[49m\u001B[43m(\u001B[49m\u001B[38;5;28;43mself\u001B[39;49m\u001B[43m)\u001B[49m\n\u001B[1;32m    626\u001B[0m     \u001B[38;5;28;01mexcept\u001B[39;00m \u001B[38;5;167;01mBaseException\u001B[39;00m:\n\u001B[1;32m    627\u001B[0m         LOGGER\u001B[38;5;241m.\u001B[39mexception(\u001B[38;5;124m'\u001B[39m\u001B[38;5;124mexception calling callback for \u001B[39m\u001B[38;5;132;01m%r\u001B[39;00m\u001B[38;5;124m'\u001B[39m, \u001B[38;5;28mself\u001B[39m)\n\nFile \u001B[0;32m/databricks/python/lib/python3.9/site-packages/joblib/parallel.py:360\u001B[0m, in \u001B[0;36mBatchCompletionCallBack.__call__\u001B[0;34m(self, out)\u001B[0m\n\u001B[1;32m    358\u001B[0m \u001B[38;5;28;01mwith\u001B[39;00m \u001B[38;5;28mself\u001B[39m\u001B[38;5;241m.\u001B[39mparallel\u001B[38;5;241m.\u001B[39m_lock:\n\u001B[1;32m    359\u001B[0m     \u001B[38;5;28;01mif\u001B[39;00m \u001B[38;5;28mself\u001B[39m\u001B[38;5;241m.\u001B[39mparallel\u001B[38;5;241m.\u001B[39m_original_iterator \u001B[38;5;129;01mis\u001B[39;00m \u001B[38;5;129;01mnot\u001B[39;00m \u001B[38;5;28;01mNone\u001B[39;00m:\n\u001B[0;32m--> 360\u001B[0m         \u001B[38;5;28;43mself\u001B[39;49m\u001B[38;5;241;43m.\u001B[39;49m\u001B[43mparallel\u001B[49m\u001B[38;5;241;43m.\u001B[39;49m\u001B[43mdispatch_next\u001B[49m\u001B[43m(\u001B[49m\u001B[43m)\u001B[49m\n\nFile \u001B[0;32m/databricks/python/lib/python3.9/site-packages/joblib/parallel.py:797\u001B[0m, in \u001B[0;36mParallel.dispatch_next\u001B[0;34m(self)\u001B[0m\n\u001B[1;32m    789\u001B[0m \u001B[38;5;28;01mdef\u001B[39;00m \u001B[38;5;21mdispatch_next\u001B[39m(\u001B[38;5;28mself\u001B[39m):\n\u001B[1;32m    790\u001B[0m     \u001B[38;5;124;03m\"\"\"Dispatch more data for parallel processing\u001B[39;00m\n\u001B[1;32m    791\u001B[0m \n\u001B[1;32m    792\u001B[0m \u001B[38;5;124;03m    This method is meant to be called concurrently by the multiprocessing\u001B[39;00m\n\u001B[0;32m   (...)\u001B[0m\n\u001B[1;32m    795\u001B[0m \n\u001B[1;32m    796\u001B[0m \u001B[38;5;124;03m    \"\"\"\u001B[39;00m\n\u001B[0;32m--> 797\u001B[0m     \u001B[38;5;28;01mif\u001B[39;00m \u001B[38;5;129;01mnot\u001B[39;00m \u001B[38;5;28;43mself\u001B[39;49m\u001B[38;5;241;43m.\u001B[39;49m\u001B[43mdispatch_one_batch\u001B[49m\u001B[43m(\u001B[49m\u001B[38;5;28;43mself\u001B[39;49m\u001B[38;5;241;43m.\u001B[39;49m\u001B[43m_original_iterator\u001B[49m\u001B[43m)\u001B[49m:\n\u001B[1;32m    798\u001B[0m         \u001B[38;5;28mself\u001B[39m\u001B[38;5;241m.\u001B[39m_iterating \u001B[38;5;241m=\u001B[39m \u001B[38;5;28;01mFalse\u001B[39;00m\n\u001B[1;32m    799\u001B[0m         \u001B[38;5;28mself\u001B[39m\u001B[38;5;241m.\u001B[39m_original_iterator \u001B[38;5;241m=\u001B[39m \u001B[38;5;28;01mNone\u001B[39;00m\n\nFile \u001B[0;32m/databricks/python/lib/python3.9/site-packages/joblib/parallel.py:864\u001B[0m, in \u001B[0;36mParallel.dispatch_one_batch\u001B[0;34m(self, iterator)\u001B[0m\n\u001B[1;32m    862\u001B[0m     \u001B[38;5;28;01mreturn\u001B[39;00m \u001B[38;5;28;01mFalse\u001B[39;00m\n\u001B[1;32m    863\u001B[0m \u001B[38;5;28;01melse\u001B[39;00m:\n\u001B[0;32m--> 864\u001B[0m     \u001B[38;5;28;43mself\u001B[39;49m\u001B[38;5;241;43m.\u001B[39;49m\u001B[43m_dispatch\u001B[49m\u001B[43m(\u001B[49m\u001B[43mtasks\u001B[49m\u001B[43m)\u001B[49m\n\u001B[1;32m    865\u001B[0m     \u001B[38;5;28;01mreturn\u001B[39;00m \u001B[38;5;28;01mTrue\u001B[39;00m\n\nFile \u001B[0;32m/databricks/python/lib/python3.9/site-packages/joblib/parallel.py:782\u001B[0m, in \u001B[0;36mParallel._dispatch\u001B[0;34m(self, batch)\u001B[0m\n\u001B[1;32m    780\u001B[0m \u001B[38;5;28;01mwith\u001B[39;00m \u001B[38;5;28mself\u001B[39m\u001B[38;5;241m.\u001B[39m_lock:\n\u001B[1;32m    781\u001B[0m     job_idx \u001B[38;5;241m=\u001B[39m \u001B[38;5;28mlen\u001B[39m(\u001B[38;5;28mself\u001B[39m\u001B[38;5;241m.\u001B[39m_jobs)\n\u001B[0;32m--> 782\u001B[0m     job \u001B[38;5;241m=\u001B[39m \u001B[38;5;28;43mself\u001B[39;49m\u001B[38;5;241;43m.\u001B[39;49m\u001B[43m_backend\u001B[49m\u001B[38;5;241;43m.\u001B[39;49m\u001B[43mapply_async\u001B[49m\u001B[43m(\u001B[49m\u001B[43mbatch\u001B[49m\u001B[43m,\u001B[49m\u001B[43m \u001B[49m\u001B[43mcallback\u001B[49m\u001B[38;5;241;43m=\u001B[39;49m\u001B[43mcb\u001B[49m\u001B[43m)\u001B[49m\n\u001B[1;32m    783\u001B[0m     \u001B[38;5;66;03m# A job can complete so quickly than its callback is\u001B[39;00m\n\u001B[1;32m    784\u001B[0m     \u001B[38;5;66;03m# called before we get here, causing self._jobs to\u001B[39;00m\n\u001B[1;32m    785\u001B[0m     \u001B[38;5;66;03m# grow. To ensure correct results ordering, .insert is\u001B[39;00m\n\u001B[1;32m    786\u001B[0m     \u001B[38;5;66;03m# used (rather than .append) in the following line\u001B[39;00m\n\u001B[1;32m    787\u001B[0m     \u001B[38;5;28mself\u001B[39m\u001B[38;5;241m.\u001B[39m_jobs\u001B[38;5;241m.\u001B[39minsert(job_idx, job)\n\nFile \u001B[0;32m/databricks/python/lib/python3.9/site-packages/joblib/_parallel_backends.py:531\u001B[0m, in \u001B[0;36mLokyBackend.apply_async\u001B[0;34m(self, func, callback)\u001B[0m\n\u001B[1;32m    529\u001B[0m \u001B[38;5;28;01mdef\u001B[39;00m \u001B[38;5;21mapply_async\u001B[39m(\u001B[38;5;28mself\u001B[39m, func, callback\u001B[38;5;241m=\u001B[39m\u001B[38;5;28;01mNone\u001B[39;00m):\n\u001B[1;32m    530\u001B[0m     \u001B[38;5;124;03m\"\"\"Schedule a func to be run\"\"\"\u001B[39;00m\n\u001B[0;32m--> 531\u001B[0m     future \u001B[38;5;241m=\u001B[39m \u001B[38;5;28;43mself\u001B[39;49m\u001B[38;5;241;43m.\u001B[39;49m\u001B[43m_workers\u001B[49m\u001B[38;5;241;43m.\u001B[39;49m\u001B[43msubmit\u001B[49m\u001B[43m(\u001B[49m\u001B[43mSafeFunction\u001B[49m\u001B[43m(\u001B[49m\u001B[43mfunc\u001B[49m\u001B[43m)\u001B[49m\u001B[43m)\u001B[49m\n\u001B[1;32m    532\u001B[0m     future\u001B[38;5;241m.\u001B[39mget \u001B[38;5;241m=\u001B[39m functools\u001B[38;5;241m.\u001B[39mpartial(\u001B[38;5;28mself\u001B[39m\u001B[38;5;241m.\u001B[39mwrap_future_result, future)\n\u001B[1;32m    533\u001B[0m     \u001B[38;5;28;01mif\u001B[39;00m callback \u001B[38;5;129;01mis\u001B[39;00m \u001B[38;5;129;01mnot\u001B[39;00m \u001B[38;5;28;01mNone\u001B[39;00m:\n\nFile \u001B[0;32m/databricks/python/lib/python3.9/site-packages/joblib/externals/loky/reusable_executor.py:177\u001B[0m, in \u001B[0;36m_ReusablePoolExecutor.submit\u001B[0;34m(self, fn, *args, **kwargs)\u001B[0m\n\u001B[1;32m    175\u001B[0m \u001B[38;5;28;01mdef\u001B[39;00m \u001B[38;5;21msubmit\u001B[39m(\u001B[38;5;28mself\u001B[39m, fn, \u001B[38;5;241m*\u001B[39margs, \u001B[38;5;241m*\u001B[39m\u001B[38;5;241m*\u001B[39mkwargs):\n\u001B[1;32m    176\u001B[0m     \u001B[38;5;28;01mwith\u001B[39;00m \u001B[38;5;28mself\u001B[39m\u001B[38;5;241m.\u001B[39m_submit_resize_lock:\n\u001B[0;32m--> 177\u001B[0m         \u001B[38;5;28;01mreturn\u001B[39;00m \u001B[38;5;28;43msuper\u001B[39;49m\u001B[43m(\u001B[49m\u001B[43m_ReusablePoolExecutor\u001B[49m\u001B[43m,\u001B[49m\u001B[43m \u001B[49m\u001B[38;5;28;43mself\u001B[39;49m\u001B[43m)\u001B[49m\u001B[38;5;241;43m.\u001B[39;49m\u001B[43msubmit\u001B[49m\u001B[43m(\u001B[49m\n\u001B[1;32m    178\u001B[0m \u001B[43m            \u001B[49m\u001B[43mfn\u001B[49m\u001B[43m,\u001B[49m\u001B[43m \u001B[49m\u001B[38;5;241;43m*\u001B[39;49m\u001B[43margs\u001B[49m\u001B[43m,\u001B[49m\u001B[43m \u001B[49m\u001B[38;5;241;43m*\u001B[39;49m\u001B[38;5;241;43m*\u001B[39;49m\u001B[43mkwargs\u001B[49m\u001B[43m)\u001B[49m\n\nFile \u001B[0;32m/databricks/python/lib/python3.9/site-packages/joblib/externals/loky/process_executor.py:1115\u001B[0m, in \u001B[0;36mProcessPoolExecutor.submit\u001B[0;34m(self, fn, *args, **kwargs)\u001B[0m\n\u001B[1;32m   1113\u001B[0m \u001B[38;5;28;01mwith\u001B[39;00m \u001B[38;5;28mself\u001B[39m\u001B[38;5;241m.\u001B[39m_flags\u001B[38;5;241m.\u001B[39mshutdown_lock:\n\u001B[1;32m   1114\u001B[0m     \u001B[38;5;28;01mif\u001B[39;00m \u001B[38;5;28mself\u001B[39m\u001B[38;5;241m.\u001B[39m_flags\u001B[38;5;241m.\u001B[39mbroken \u001B[38;5;129;01mis\u001B[39;00m \u001B[38;5;129;01mnot\u001B[39;00m \u001B[38;5;28;01mNone\u001B[39;00m:\n\u001B[0;32m-> 1115\u001B[0m         \u001B[38;5;28;01mraise\u001B[39;00m \u001B[38;5;28mself\u001B[39m\u001B[38;5;241m.\u001B[39m_flags\u001B[38;5;241m.\u001B[39mbroken\n\u001B[1;32m   1116\u001B[0m     \u001B[38;5;28;01mif\u001B[39;00m \u001B[38;5;28mself\u001B[39m\u001B[38;5;241m.\u001B[39m_flags\u001B[38;5;241m.\u001B[39mshutdown:\n\u001B[1;32m   1117\u001B[0m         \u001B[38;5;28;01mraise\u001B[39;00m ShutdownExecutorError(\n\u001B[1;32m   1118\u001B[0m             \u001B[38;5;124m'\u001B[39m\u001B[38;5;124mcannot schedule new futures after shutdown\u001B[39m\u001B[38;5;124m'\u001B[39m)\n\n\u001B[0;31mBrokenProcessPool\u001B[0m: A task has failed to un-serialize. Please ensure that the arguments of the function are all picklable.",
       "errorSummary": "<span class='ansi-red-fg'>BrokenProcessPool</span>: A task has failed to un-serialize. Please ensure that the arguments of the function are all picklable.",
       "errorTraceType": "ansi",
       "metadata": {},
       "type": "ipynbError"
      }
     },
     "output_type": "display_data"
    }
   ],
   "source": [
    "import pyLDAvis.gensim_models\n",
    "import pickle\n",
    "import pyLDAvis\n",
    "# Visualize the topics\n",
    "pyLDAvis.enable_notebook()\n",
    "LDAvis_prepared = pyLDAvis.gensim_models.prepare(lda_model, corpus_tfidf, dict_word)\n",
    "pyLDAvis.display(LDAvis_prepared)"
   ]
  },
  {
   "cell_type": "code",
   "execution_count": 0,
   "metadata": {
    "application/vnd.databricks.v1+cell": {
     "cellMetadata": {
      "byteLimit": 2048000,
      "rowLimit": 10000
     },
     "inputWidgets": {},
     "nuid": "1873ea59-115a-4f8c-8d9a-7115c1aab843",
     "showTitle": false,
     "title": ""
    }
   },
   "outputs": [
    {
     "output_type": "display_data",
     "data": {
      "text/plain": [
       "\u001B[0;31m---------------------------------------------------------------------------\u001B[0m\n",
       "\u001B[0;31mNameError\u001B[0m                                 Traceback (most recent call last)\n",
       "File \u001B[0;32m<command-1825911620133418>:4\u001B[0m\n",
       "\u001B[1;32m      1\u001B[0m \u001B[38;5;28;01mimport\u001B[39;00m \u001B[38;5;21;01mpandas\u001B[39;00m \u001B[38;5;28;01mas\u001B[39;00m \u001B[38;5;21;01mpd\u001B[39;00m\n",
       "\u001B[1;32m      3\u001B[0m \u001B[38;5;66;03m# Assuming your prepared visualization is in LDAvis_prepared\u001B[39;00m\n",
       "\u001B[0;32m----> 4\u001B[0m topic_info \u001B[38;5;241m=\u001B[39m LDAvis_prepared\u001B[38;5;241m.\u001B[39mtopic_info\n",
       "\u001B[1;32m      6\u001B[0m \u001B[38;5;66;03m# Convert the topic_info to a pandas DataFrame\u001B[39;00m\n",
       "\u001B[1;32m      7\u001B[0m df_topic_info \u001B[38;5;241m=\u001B[39m pd\u001B[38;5;241m.\u001B[39mDataFrame(topic_info)\n",
       "\n",
       "\u001B[0;31mNameError\u001B[0m: name 'LDAvis_prepared' is not defined"
      ]
     },
     "metadata": {
      "application/vnd.databricks.v1+output": {
       "arguments": {},
       "data": "\u001B[0;31m---------------------------------------------------------------------------\u001B[0m\n\u001B[0;31mNameError\u001B[0m                                 Traceback (most recent call last)\nFile \u001B[0;32m<command-1825911620133418>:4\u001B[0m\n\u001B[1;32m      1\u001B[0m \u001B[38;5;28;01mimport\u001B[39;00m \u001B[38;5;21;01mpandas\u001B[39;00m \u001B[38;5;28;01mas\u001B[39;00m \u001B[38;5;21;01mpd\u001B[39;00m\n\u001B[1;32m      3\u001B[0m \u001B[38;5;66;03m# Assuming your prepared visualization is in LDAvis_prepared\u001B[39;00m\n\u001B[0;32m----> 4\u001B[0m topic_info \u001B[38;5;241m=\u001B[39m LDAvis_prepared\u001B[38;5;241m.\u001B[39mtopic_info\n\u001B[1;32m      6\u001B[0m \u001B[38;5;66;03m# Convert the topic_info to a pandas DataFrame\u001B[39;00m\n\u001B[1;32m      7\u001B[0m df_topic_info \u001B[38;5;241m=\u001B[39m pd\u001B[38;5;241m.\u001B[39mDataFrame(topic_info)\n\n\u001B[0;31mNameError\u001B[0m: name 'LDAvis_prepared' is not defined",
       "errorSummary": "<span class='ansi-red-fg'>NameError</span>: name 'LDAvis_prepared' is not defined",
       "errorTraceType": "ansi",
       "metadata": {},
       "type": "ipynbError"
      }
     },
     "output_type": "display_data"
    }
   ],
   "source": [
    "import pandas as pd\n",
    "\n",
    "# Assuming your prepared visualization is in LDAvis_prepared\n",
    "topic_info = LDAvis_prepared.topic_info\n",
    "\n",
    "# Convert the topic_info to a pandas DataFrame\n",
    "df_topic_info = pd.DataFrame(topic_info)\n",
    "\n",
    "print(df_topic_info)"
   ]
  },
  {
   "cell_type": "code",
   "execution_count": 0,
   "metadata": {
    "application/vnd.databricks.v1+cell": {
     "cellMetadata": {
      "byteLimit": 2048000,
      "rowLimit": 10000
     },
     "inputWidgets": {},
     "nuid": "d860b254-a77e-4f24-8aac-1e6d55b23113",
     "showTitle": false,
     "title": ""
    }
   },
   "outputs": [
    {
     "output_type": "display_data",
     "data": {
      "text/html": [
       "<style scoped>\n",
       "  .ansiout {\n",
       "    display: block;\n",
       "    unicode-bidi: embed;\n",
       "    white-space: pre-wrap;\n",
       "    word-wrap: break-word;\n",
       "    word-break: break-all;\n",
       "    font-family: \"Source Code Pro\", \"Menlo\", monospace;;\n",
       "    font-size: 13px;\n",
       "    color: #555;\n",
       "    margin-left: 4px;\n",
       "    line-height: 19px;\n",
       "  }\n",
       "</style>"
      ]
     },
     "metadata": {
      "application/vnd.databricks.v1+output": {
       "arguments": {},
       "data": "",
       "errorSummary": "Cancelled",
       "errorTraceType": "html",
       "metadata": {},
       "type": "ipynbError"
      }
     },
     "output_type": "display_data"
    }
   ],
   "source": [
    "import pandas as pd\n",
    "\n",
    "# Assuming your prepared visualization is in LDAvis_prepared\n",
    "topic_info = LDAvis_prepared.topic_info\n",
    "\n",
    "# Convert the topic_info to a pandas DataFrame\n",
    "df_topic_info = pd.DataFrame(topic_info)\n",
    "\n",
    "# Export the DataFrame to a CSV file\n",
    "df_topic_info.to_csv('C:/Users/sahit/OneDrive/Desktop/topic_info.csv', index=False)\n",
    "\n",
    "\n",
    "# Print the DataFrame (optional)\n",
    "print(df_topic_info)\n"
   ]
  },
  {
   "cell_type": "code",
   "execution_count": 0,
   "metadata": {
    "application/vnd.databricks.v1+cell": {
     "cellMetadata": {
      "byteLimit": 2048000,
      "rowLimit": 10000
     },
     "inputWidgets": {},
     "nuid": "2caae553-0ef4-4f52-8476-5f940a91aa5d",
     "showTitle": false,
     "title": ""
    },
    "colab": {
     "base_uri": "https://localhost:8080/"
    },
    "id": "our1FKJFhbRQ",
    "outputId": "209dee39-0679-42e3-8cb5-908520a2cd13"
   },
   "outputs": [
    {
     "output_type": "stream",
     "name": "stdout",
     "output_type": "stream",
     "text": [
      "Out[56]: [('worst', 0.03605391),\n ('bear', 0.028799847),\n ('moment', 0.02776761),\n ('gandhi', 0.02565636),\n ('yatra', 0.025310248),\n ('ever', 0.024615144),\n ('bharat', 0.023166068),\n ('descent', 0.022429215),\n ('man', 0.01825248),\n ('corrupt', 0.017922454),\n ('rahul', 0.017756995),\n ('family', 0.016580828),\n ('politician', 0.016536335),\n ('rare', 0.01641259),\n ('jodo', 0.0161298),\n ('scam', 0.015839102),\n ('history', 0.0150066605),\n ('emerge', 0.013837314),\n ('inc', 0.01262269),\n ('biggest', 0.01190648),\n ('dr', 0.011903819),\n ('active', 0.011493389),\n ('congress', 0.011331765),\n ('ahead', 0.0112022385),\n ('threat', 0.010993178),\n ('vision', 0.010621818),\n ('performance', 0.009965547),\n ('art', 0.009824899),\n ('one', 0.009730257),\n ('similar', 0.009580235)]"
     ]
    }
   ],
   "source": [
    "lda_model.show_topic(0, topn=30)"
   ]
  },
  {
   "cell_type": "code",
   "execution_count": 0,
   "metadata": {
    "application/vnd.databricks.v1+cell": {
     "cellMetadata": {
      "byteLimit": 2048000,
      "rowLimit": 10000
     },
     "inputWidgets": {},
     "nuid": "c63ad152-54ea-4e5c-9fae-b75830120a7d",
     "showTitle": false,
     "title": ""
    },
    "colab": {
     "base_uri": "https://localhost:8080/",
     "height": 295
    },
    "id": "yjmTzB2jXv3J",
    "outputId": "fb6fa3e0-9828-4762-9b65-9f0ab74531c9"
   },
   "outputs": [
    {
     "output_type": "display_data",
     "data": {
      "text/html": [
       "<div>\n",
       "<style scoped>\n",
       "    .dataframe tbody tr th:only-of-type {\n",
       "        vertical-align: middle;\n",
       "    }\n",
       "\n",
       "    .dataframe tbody tr th {\n",
       "        vertical-align: top;\n",
       "    }\n",
       "\n",
       "    .dataframe thead th {\n",
       "        text-align: right;\n",
       "    }\n",
       "</style>\n",
       "<table border=\"1\" class=\"dataframe\">\n",
       "  <thead>\n",
       "    <tr style=\"text-align: right;\">\n",
       "      <th></th>\n",
       "      <th>Tweet</th>\n",
       "      <th>Likes</th>\n",
       "      <th>Retweets</th>\n",
       "      <th>Sentiment</th>\n",
       "    </tr>\n",
       "  </thead>\n",
       "  <tbody>\n",
       "    <tr>\n",
       "      <th>0</th>\n",
       "      <td>respect indian citizens namaskaar I original g...</td>\n",
       "      <td>0.0</td>\n",
       "      <td>0.0</td>\n",
       "      <td>Negative</td>\n",
       "    </tr>\n",
       "    <tr>\n",
       "      <th>1</th>\n",
       "      <td>respect indian citizens namaskaar I original g...</td>\n",
       "      <td>0.0</td>\n",
       "      <td>0.0</td>\n",
       "      <td>Negative</td>\n",
       "    </tr>\n",
       "    <tr>\n",
       "      <th>2</th>\n",
       "      <td>1 meet filmmaker prakash jha new jersey talk s...</td>\n",
       "      <td>0.0</td>\n",
       "      <td>0.0</td>\n",
       "      <td>Positive</td>\n",
       "    </tr>\n",
       "    <tr>\n",
       "      <th>3</th>\n",
       "      <td>would politicians stop use religion politics i...</td>\n",
       "      <td>0.0</td>\n",
       "      <td>0.0</td>\n",
       "      <td>Neutral</td>\n",
       "    </tr>\n",
       "    <tr>\n",
       "      <th>4</th>\n",
       "      <td>state level president know policy pm union min...</td>\n",
       "      <td>0.0</td>\n",
       "      <td>0.0</td>\n",
       "      <td>Positive</td>\n",
       "    </tr>\n",
       "  </tbody>\n",
       "</table>\n",
       "</div>"
      ]
     },
     "metadata": {
      "application/vnd.databricks.v1+output": {
       "addedWidgets": {},
       "arguments": {},
       "data": "<div>\n<style scoped>\n    .dataframe tbody tr th:only-of-type {\n        vertical-align: middle;\n    }\n\n    .dataframe tbody tr th {\n        vertical-align: top;\n    }\n\n    .dataframe thead th {\n        text-align: right;\n    }\n</style>\n<table border=\"1\" class=\"dataframe\">\n  <thead>\n    <tr style=\"text-align: right;\">\n      <th></th>\n      <th>Tweet</th>\n      <th>Likes</th>\n      <th>Retweets</th>\n      <th>Sentiment</th>\n    </tr>\n  </thead>\n  <tbody>\n    <tr>\n      <th>0</th>\n      <td>respect indian citizens namaskaar I original g...</td>\n      <td>0.0</td>\n      <td>0.0</td>\n      <td>Negative</td>\n    </tr>\n    <tr>\n      <th>1</th>\n      <td>respect indian citizens namaskaar I original g...</td>\n      <td>0.0</td>\n      <td>0.0</td>\n      <td>Negative</td>\n    </tr>\n    <tr>\n      <th>2</th>\n      <td>1 meet filmmaker prakash jha new jersey talk s...</td>\n      <td>0.0</td>\n      <td>0.0</td>\n      <td>Positive</td>\n    </tr>\n    <tr>\n      <th>3</th>\n      <td>would politicians stop use religion politics i...</td>\n      <td>0.0</td>\n      <td>0.0</td>\n      <td>Neutral</td>\n    </tr>\n    <tr>\n      <th>4</th>\n      <td>state level president know policy pm union min...</td>\n      <td>0.0</td>\n      <td>0.0</td>\n      <td>Positive</td>\n    </tr>\n  </tbody>\n</table>\n</div>",
       "datasetInfos": [],
       "metadata": {},
       "removedWidgets": [],
       "textData": null,
       "type": "htmlSandbox"
      }
     },
     "output_type": "display_data"
    }
   ],
   "source": [
    "subset_df = df[[ 'Tweet', 'Likes', 'Retweets',  'Sentiment']]\n",
    "subset_df.head()"
   ]
  },
  {
   "cell_type": "code",
   "execution_count": 0,
   "metadata": {
    "application/vnd.databricks.v1+cell": {
     "cellMetadata": {
      "byteLimit": 2048000,
      "rowLimit": 10000
     },
     "inputWidgets": {},
     "nuid": "83b1fc6f-9bda-4b6d-9077-46a2815f51fa",
     "showTitle": false,
     "title": ""
    },
    "colab": {
     "base_uri": "https://localhost:8080/",
     "height": 295
    },
    "id": "1XIBM94ss4wm",
    "outputId": "82a2f82c-fadb-41f1-e780-e963f2ae75e9"
   },
   "outputs": [
    {
     "output_type": "display_data",
     "data": {
      "text/html": [
       "<div>\n",
       "<style scoped>\n",
       "    .dataframe tbody tr th:only-of-type {\n",
       "        vertical-align: middle;\n",
       "    }\n",
       "\n",
       "    .dataframe tbody tr th {\n",
       "        vertical-align: top;\n",
       "    }\n",
       "\n",
       "    .dataframe thead th {\n",
       "        text-align: right;\n",
       "    }\n",
       "</style>\n",
       "<table border=\"1\" class=\"dataframe\">\n",
       "  <thead>\n",
       "    <tr style=\"text-align: right;\">\n",
       "      <th></th>\n",
       "      <th>Tweet</th>\n",
       "      <th>Likes</th>\n",
       "      <th>Retweets</th>\n",
       "      <th>Sentiment</th>\n",
       "    </tr>\n",
       "  </thead>\n",
       "  <tbody>\n",
       "    <tr>\n",
       "      <th>0</th>\n",
       "      <td>respect indian citizens namaskaar I original g...</td>\n",
       "      <td>0.0</td>\n",
       "      <td>0.0</td>\n",
       "      <td>0</td>\n",
       "    </tr>\n",
       "    <tr>\n",
       "      <th>1</th>\n",
       "      <td>respect indian citizens namaskaar I original g...</td>\n",
       "      <td>0.0</td>\n",
       "      <td>0.0</td>\n",
       "      <td>0</td>\n",
       "    </tr>\n",
       "    <tr>\n",
       "      <th>2</th>\n",
       "      <td>1 meet filmmaker prakash jha new jersey talk s...</td>\n",
       "      <td>0.0</td>\n",
       "      <td>0.0</td>\n",
       "      <td>2</td>\n",
       "    </tr>\n",
       "    <tr>\n",
       "      <th>3</th>\n",
       "      <td>would politicians stop use religion politics i...</td>\n",
       "      <td>0.0</td>\n",
       "      <td>0.0</td>\n",
       "      <td>1</td>\n",
       "    </tr>\n",
       "    <tr>\n",
       "      <th>4</th>\n",
       "      <td>state level president know policy pm union min...</td>\n",
       "      <td>0.0</td>\n",
       "      <td>0.0</td>\n",
       "      <td>2</td>\n",
       "    </tr>\n",
       "  </tbody>\n",
       "</table>\n",
       "</div>"
      ]
     },
     "metadata": {
      "application/vnd.databricks.v1+output": {
       "addedWidgets": {},
       "arguments": {},
       "data": "<div>\n<style scoped>\n    .dataframe tbody tr th:only-of-type {\n        vertical-align: middle;\n    }\n\n    .dataframe tbody tr th {\n        vertical-align: top;\n    }\n\n    .dataframe thead th {\n        text-align: right;\n    }\n</style>\n<table border=\"1\" class=\"dataframe\">\n  <thead>\n    <tr style=\"text-align: right;\">\n      <th></th>\n      <th>Tweet</th>\n      <th>Likes</th>\n      <th>Retweets</th>\n      <th>Sentiment</th>\n    </tr>\n  </thead>\n  <tbody>\n    <tr>\n      <th>0</th>\n      <td>respect indian citizens namaskaar I original g...</td>\n      <td>0.0</td>\n      <td>0.0</td>\n      <td>0</td>\n    </tr>\n    <tr>\n      <th>1</th>\n      <td>respect indian citizens namaskaar I original g...</td>\n      <td>0.0</td>\n      <td>0.0</td>\n      <td>0</td>\n    </tr>\n    <tr>\n      <th>2</th>\n      <td>1 meet filmmaker prakash jha new jersey talk s...</td>\n      <td>0.0</td>\n      <td>0.0</td>\n      <td>2</td>\n    </tr>\n    <tr>\n      <th>3</th>\n      <td>would politicians stop use religion politics i...</td>\n      <td>0.0</td>\n      <td>0.0</td>\n      <td>1</td>\n    </tr>\n    <tr>\n      <th>4</th>\n      <td>state level president know policy pm union min...</td>\n      <td>0.0</td>\n      <td>0.0</td>\n      <td>2</td>\n    </tr>\n  </tbody>\n</table>\n</div>",
       "datasetInfos": [],
       "metadata": {},
       "removedWidgets": [],
       "textData": null,
       "type": "htmlSandbox"
      }
     },
     "output_type": "display_data"
    }
   ],
   "source": [
    "#Label encoding\n",
    "from sklearn.preprocessing import LabelEncoder\n",
    "label_encoding = LabelEncoder()\n",
    "subset_df.iloc[:,[3]] = subset_df.iloc[:,[3]].apply(label_encoding.fit_transform)\n",
    "subset_df.head()"
   ]
  },
  {
   "cell_type": "code",
   "execution_count": 0,
   "metadata": {
    "application/vnd.databricks.v1+cell": {
     "cellMetadata": {
      "byteLimit": 2048000,
      "rowLimit": 10000
     },
     "inputWidgets": {},
     "nuid": "1cc744b2-0a8d-40dc-8a52-e52b102269f8",
     "showTitle": false,
     "title": ""
    },
    "colab": {
     "base_uri": "https://localhost:8080/"
    },
    "id": "BRifvKfApGzg",
    "outputId": "77cc8a97-c167-4684-ec8f-d25a651f72f7"
   },
   "outputs": [],
   "source": [
    "X = subset_df.iloc[:,0]\n",
    "y = subset_df.iloc[:,-1] # extract column with sentiment"
   ]
  },
  {
   "cell_type": "code",
   "execution_count": 0,
   "metadata": {
    "application/vnd.databricks.v1+cell": {
     "cellMetadata": {
      "byteLimit": 2048000,
      "rowLimit": 10000
     },
     "inputWidgets": {},
     "nuid": "4cfc52f6-7d3c-4433-9ea7-d3a59c0b03bc",
     "showTitle": false,
     "title": ""
    },
    "colab": {
     "base_uri": "https://localhost:8080/"
    },
    "id": "TwOIzTvvuYlz",
    "outputId": "4436bc85-517a-441f-91a2-4d0c6f434cac"
   },
   "outputs": [
    {
     "output_type": "stream",
     "name": "stdout",
     "output_type": "stream",
     "text": [
      "Out[60]: <49999x38375 sparse matrix of type '<class 'numpy.int64'>'\n\twith 717501 stored elements in Compressed Sparse Row format>"
     ]
    }
   ],
   "source": [
    "import numpy as np\n",
    "# tokenize the news text and convert data in matrix format\n",
    "from sklearn.feature_extraction.text import CountVectorizer\n",
    "vectorizer = CountVectorizer(stop_words='english')\n",
    "X_vec = vectorizer.fit_transform(X)\n",
    "X_vec"
   ]
  },
  {
   "cell_type": "code",
   "execution_count": 0,
   "metadata": {
    "application/vnd.databricks.v1+cell": {
     "cellMetadata": {
      "byteLimit": 2048000,
      "rowLimit": 10000
     },
     "inputWidgets": {},
     "nuid": "2cdad9c2-2fb7-4cc1-9cb1-a018a57adbfe",
     "showTitle": false,
     "title": ""
    },
    "colab": {
     "base_uri": "https://localhost:8080/"
    },
    "id": "X8441mCUuh6S",
    "outputId": "12f0f588-97b1-46a8-8acf-df40f6cd896e"
   },
   "outputs": [
    {
     "output_type": "stream",
     "name": "stdout",
     "output_type": "stream",
     "text": [
      "Out[61]: array([[0., 0., 0., ..., 0., 0., 0.],\n       [0., 0., 0., ..., 0., 0., 0.],\n       [0., 0., 0., ..., 0., 0., 0.],\n       ...,\n       [0., 0., 0., ..., 0., 0., 0.],\n       [0., 0., 0., ..., 0., 0., 0.],\n       [0., 0., 0., ..., 0., 0., 0.]])"
     ]
    }
   ],
   "source": [
    "# Transform data by applying term frequency inverse document frequency (TF-IDF)\n",
    "from sklearn.feature_extraction.text import TfidfTransformer\n",
    "tfidf = TfidfTransformer() #by default applies \"l2\" normalization\n",
    "X_tfidf = tfidf.fit_transform(X_vec)\n",
    "X_tfidf = X_tfidf.todense()\n",
    "X_tfidf = np.asarray(X_tfidf)\n",
    "X_tfidf"
   ]
  },
  {
   "cell_type": "code",
   "execution_count": 0,
   "metadata": {
    "application/vnd.databricks.v1+cell": {
     "cellMetadata": {
      "byteLimit": 2048000,
      "rowLimit": 10000
     },
     "inputWidgets": {},
     "nuid": "75cac696-4c57-4be6-a40b-38fed77cbd37",
     "showTitle": false,
     "title": ""
    },
    "id": "OkzLoYk8vWh7"
   },
   "outputs": [],
   "source": [
    "from sklearn.model_selection import train_test_split\n",
    "from scipy.sparse import csr_matrix\n",
    "import numpy as np\n",
    "\n",
    "# Assuming X_tfidf is a dense matrix (you might need to convert it to sparse)\n",
    "# Convert X_tfidf to a sparse matrix if it's not already sparse\n",
    "# X_tfidf_sparse = csr_matrix(X_tfidf)\n",
    "\n",
    "# Sample a subset of your data (adjust the sample size as needed)\n",
    "# sample_size = 10000  # Adjust this based on your available memory\n",
    "# random_indices = np.random.choice(X_tfidf_sparse.shape[0], sample_size, replace=False)\n",
    "\n",
    "# Subset your data using the random indices\n",
    "# X_tfidf_sampled = X_tfidf_sparse[random_indices]\n",
    "# y_sampled = y[random_indices]\n",
    "\n",
    "# Split the sampled data into train and test sets\n",
    "X_train, X_test, y_train, y_test = train_test_split(\n",
    "    X_tfidf, y, test_size=0.25, random_state=0\n",
    ")\n",
    "\n",
    "# Now you can proceed with your training and testing\n"
   ]
  },
  {
   "cell_type": "code",
   "execution_count": 0,
   "metadata": {
    "application/vnd.databricks.v1+cell": {
     "cellMetadata": {
      "byteLimit": 2048000,
      "rowLimit": 10000
     },
     "inputWidgets": {},
     "nuid": "3c42dde3-b1c0-4ce9-ab70-3feae20549e3",
     "showTitle": false,
     "title": ""
    }
   },
   "outputs": [
    {
     "output_type": "stream",
     "name": "stdout",
     "output_type": "stream",
     "text": [
      "Out[63]: MultinomialNB()"
     ]
    }
   ],
   "source": [
    "from sklearn.model_selection import train_test_split\n",
    "from sklearn.naive_bayes import MultinomialNB\n",
    "from sklearn.preprocessing import LabelEncoder\n",
    "\n",
    "# Assuming X_train, X_test, y_train, y_test are defined previously\n",
    "\n",
    "# Create a label encoder\n",
    "label_encoder = LabelEncoder()\n",
    "\n",
    "# Encode the labels in y_train and y_test\n",
    "y_train_encoded = label_encoder.fit_transform(y_train)\n",
    "y_test_encoded = label_encoder.transform(y_test)\n",
    "\n",
    "# Train the NB classifier\n",
    "clf = MultinomialNB()\n",
    "clf.fit(X_train, y_train_encoded)\n",
    "\n",
    "# Now you can use clf for predictions and evaluation\n"
   ]
  },
  {
   "cell_type": "code",
   "execution_count": 0,
   "metadata": {
    "application/vnd.databricks.v1+cell": {
     "cellMetadata": {
      "byteLimit": 2048000,
      "rowLimit": 10000
     },
     "inputWidgets": {},
     "nuid": "32022462-5d2f-41f9-b043-6d46b7cd13c2",
     "showTitle": false,
     "title": ""
    }
   },
   "outputs": [],
   "source": [
    "# Predicting the Test set results\n",
    "y_pred = clf.predict(X_test)"
   ]
  },
  {
   "cell_type": "code",
   "execution_count": 0,
   "metadata": {
    "application/vnd.databricks.v1+cell": {
     "cellMetadata": {
      "byteLimit": 2048000,
      "rowLimit": 10000
     },
     "inputWidgets": {},
     "nuid": "21ac267d-20e4-4701-8c6b-62f0468e343e",
     "showTitle": false,
     "title": ""
    }
   },
   "outputs": [
    {
     "output_type": "stream",
     "name": "stdout",
     "output_type": "stream",
     "text": [
      "Out[65]: array([[ 134,   92, 3050],\n       [  54,  267, 3368],\n       [  71,  146, 5318]])"
     ]
    }
   ],
   "source": [
    "from sklearn.metrics import confusion_matrix\n",
    "from sklearn.preprocessing import LabelEncoder\n",
    "\n",
    "# Assuming y_test and y_pred are defined previously\n",
    "\n",
    "# Create a label encoder\n",
    "label_encoder = LabelEncoder()\n",
    "\n",
    "# Combine y_test and y_pred to ensure all classes are considered\n",
    "all_labels = list(set(y_test) | set(y_pred))\n",
    "\n",
    "# Fit the label encoder on all possible labels\n",
    "label_encoder.fit(all_labels)\n",
    "\n",
    "# Encode the labels in y_test and y_pred\n",
    "y_test_encoded = label_encoder.transform(y_test)\n",
    "y_pred_encoded = label_encoder.transform(y_pred)\n",
    "\n",
    "# Calculate the confusion matrix\n",
    "cm = confusion_matrix(y_test_encoded, y_pred_encoded)\n",
    "\n",
    "# Now you can use cm for further analysis or visualization\n",
    "\n",
    "cm"
   ]
  },
  {
   "cell_type": "code",
   "execution_count": 0,
   "metadata": {
    "application/vnd.databricks.v1+cell": {
     "cellMetadata": {
      "byteLimit": 2048000,
      "rowLimit": 10000
     },
     "inputWidgets": {},
     "nuid": "ac97c6ec-9937-458c-a2c7-e20605694205",
     "showTitle": false,
     "title": ""
    }
   },
   "outputs": [
    {
     "output_type": "stream",
     "name": "stdout",
     "output_type": "stream",
     "text": [
      "Out[66]: array([[ 134,   92, 3050],\n       [  54,  267, 3368],\n       [  71,  146, 5318]])"
     ]
    }
   ],
   "source": [
    "cm\n"
   ]
  },
  {
   "cell_type": "code",
   "execution_count": 0,
   "metadata": {
    "application/vnd.databricks.v1+cell": {
     "cellMetadata": {
      "byteLimit": 2048000,
      "rowLimit": 10000
     },
     "inputWidgets": {},
     "nuid": "68d33171-2eb7-44ed-8706-004f64fd7725",
     "showTitle": false,
     "title": ""
    }
   },
   "outputs": [
    {
     "output_type": "stream",
     "name": "stdout",
     "output_type": "stream",
     "text": [
      "              precision    recall  f1-score   support\n\n           0       0.52      0.04      0.08      3276\n           1       0.53      0.07      0.13      3689\n           2       0.45      0.96      0.62      5535\n\n    accuracy                           0.46     12500\n   macro avg       0.50      0.36      0.27     12500\nweighted avg       0.49      0.46      0.33     12500\n\n"
     ]
    }
   ],
   "source": [
    "from sklearn.metrics import classification_report\n",
    "\n",
    "# Assuming y_test and y_pred_encoded are defined previously\n",
    "\n",
    "# Convert y_test to a list\n",
    "y_test_list = y_test.tolist()\n",
    "\n",
    "# Filter out samples with \"unknown\" labels\n",
    "filtered_indices = [i for i in range(len(y_pred_encoded)) if y_pred_encoded[i] != -1]\n",
    "y_test_filtered = [y_test_list[i] for i in filtered_indices]\n",
    "y_pred_filtered = [y_pred_encoded[i] for i in filtered_indices]\n",
    "\n",
    "# Calculate the classification report\n",
    "cr = classification_report(y_test_filtered, y_pred_filtered)\n",
    "\n",
    "# Print the classification report\n",
    "print(cr)\n",
    "\n",
    "\n",
    "\n"
   ]
  },
  {
   "cell_type": "code",
   "execution_count": 0,
   "metadata": {
    "application/vnd.databricks.v1+cell": {
     "cellMetadata": {
      "byteLimit": 2048000,
      "rowLimit": 10000
     },
     "inputWidgets": {},
     "nuid": "dcb29698-207d-42c7-87ad-e3bc6cfed9bd",
     "showTitle": false,
     "title": ""
    }
   },
   "outputs": [
    {
     "output_type": "display_data",
     "data": {
      "text/plain": [
       "\u001B[0;31m---------------------------------------------------------------------------\u001B[0m\n",
       "\u001B[0;31mThe Python process exited with exit code 137 (SIGKILL: Killed). This may have been caused by an OOM error. Check your command's memory usage.\u001B[0m\n",
       "\u001B[0;31m\u001B[0m\n",
       "\u001B[0;31m---------------------------------------------------------------------------\u001B[0m\n",
       "\u001B[0;31mThe last 10 KB of the process's stderr and stdout can be found below. See driver logs for full logs.\u001B[0m\n",
       "\u001B[0;31m---------------------------------------------------------------------------\u001B[0m\n",
       "\u001B[0;31mLast messages on stderr:\u001B[0m\n",
       "\u001B[0;31mSat Oct  7 00:52:05 2023 Connection to spark from PID  399184\u001B[0m\n",
       "\u001B[0;31mSat Oct  7 00:52:05 2023 Initialized gateway on port 43537\u001B[0m\n",
       "\u001B[0;31mSat Oct  7 00:52:05 2023 Connected to spark.\u001B[0m\n",
       "\u001B[0;31m[nltk_data] Downloading package stopwords to /root/nltk_data...\u001B[0m\n",
       "\u001B[0;31m[nltk_data]   Package stopwords is already up-to-date!\u001B[0m\n",
       "\u001B[0;31m[nltk_data] Downloading package wordnet to /root/nltk_data...\u001B[0m\n",
       "\u001B[0;31m[nltk_data]   Package wordnet is already up-to-date!\u001B[0m\n",
       "\u001B[0;31mERROR:concurrent.futures:exception calling callback for <Future at 0x7fb15f84c9a0 state=finished raised BrokenProcessPool>\u001B[0m\n",
       "\u001B[0;31mjoblib.externals.loky.process_executor._RemoteTraceback: \u001B[0m\n",
       "\u001B[0;31m\"\"\"\u001B[0m\n",
       "\u001B[0;31mTraceback (most recent call last):\u001B[0m\n",
       "\u001B[0;31m  File \"/local_disk0/.ephemeral_nfs/envs/pythonEnv-f985aff4-5238-4579-80f5-9267bb6d66d2/lib/python3.9/site-packages/joblib/externals/loky/process_executor.py\", line 426, in _process_worker\u001B[0m\n",
       "\u001B[0;31m    call_item = call_queue.get(block=True, timeout=timeout)\u001B[0m\n",
       "\u001B[0;31m  File \"/usr/lib/python3.9/multiprocessing/queues.py\", line 122, in get\u001B[0m\n",
       "\u001B[0;31m    return _ForkingPickler.loads(res)\u001B[0m\n",
       "\u001B[0;31mAttributeError: Can't get attribute 'SafeFunction' on <module 'joblib._parallel_backends' from '/local_disk0/.ephemeral_nfs/envs/pythonEnv-f985aff4-5238-4579-80f5-9267bb6d66d2/lib/python3.9/site-packages/joblib/_parallel_backends.py'>\u001B[0m\n",
       "\u001B[0;31m\"\"\"\u001B[0m\n",
       "\u001B[0;31m\u001B[0m\n",
       "\u001B[0;31mThe above exception was the direct cause of the following exception:\u001B[0m\n",
       "\u001B[0;31m\u001B[0m\n",
       "\u001B[0;31mTraceback (most recent call last):\u001B[0m\n",
       "\u001B[0;31m  File \"/databricks/python/lib/python3.9/site-packages/joblib/externals/loky/_base.py\", line 625, in _invoke_callbacks\u001B[0m\n",
       "\u001B[0;31m    callback(self)\u001B[0m\n",
       "\u001B[0;31m  File \"/databricks/python/lib/python3.9/site-packages/joblib/parallel.py\", line 360, in __call__\u001B[0m\n",
       "\u001B[0;31m    self.parallel.dispatch_next()\u001B[0m\n",
       "\u001B[0;31m  File \"/databricks/python/lib/python3.9/site-packages/joblib/parallel.py\", line 797, in dispatch_next\u001B[0m\n",
       "\u001B[0;31m    if not self.dispatch_one_batch(self._original_iterator):\u001B[0m\n",
       "\u001B[0;31m  File \"/databricks/python/lib/python3.9/site-packages/joblib/parallel.py\", line 864, in dispatch_one_batch\u001B[0m\n",
       "\u001B[0;31m    self._dispatch(tasks)\u001B[0m\n",
       "\u001B[0;31m  File \"/databricks/python/lib/python3.9/site-packages/joblib/parallel.py\", line 782, in _dispatch\u001B[0m\n",
       "\u001B[0;31m    job = self._backend.apply_async(batch, callback=cb)\u001B[0m\n",
       "\u001B[0;31m  File \"/databricks/python/lib/python3.9/site-packages/joblib/_parallel_backends.py\", line 531, in apply_async\u001B[0m\n",
       "\u001B[0;31m    future = self._workers.submit(SafeFunction(func))\u001B[0m\n",
       "\u001B[0;31m  File \"/databricks/python/lib/python3.9/site-packages/joblib/externals/loky/reusable_executor.py\", line 177, in submit\u001B[0m\n",
       "\u001B[0;31m    return super(_ReusablePoolExecutor, self).submit(\u001B[0m\n",
       "\u001B[0;31m  File \"/databricks/python/lib/python3.9/site-packages/joblib/externals/loky/process_executor.py\", line 1115, in submit\u001B[0m\n",
       "\u001B[0;31m    raise self._flags.broken\u001B[0m\n",
       "\u001B[0;31mjoblib.externals.loky.process_executor.BrokenProcessPool: A task has failed to un-serialize. Please ensure that the arguments of the function are all picklable.\u001B[0m\n",
       "\u001B[0;31m/local_disk0/.ephemeral_nfs/envs/pythonEnv-f985aff4-5238-4579-80f5-9267bb6d66d2/lib/python3.9/site-packages/joblib/externals/loky/backend/resource_tracker.py:314: UserWarning: resource_tracker: There appear to be 6 leaked semlock objects to clean up at shutdown\u001B[0m\n",
       "\u001B[0;31m  warnings.warn(\u001B[0m\n",
       "\u001B[0;31m---------------------------------------------------------------------------\u001B[0m\n",
       "\u001B[0;31mLast messages on stdout:\u001B[0m\n",
       "\u001B[0;31m 0.013*\"beyond\" + 0.013*\"hypocrisy\" + '\u001B[0m\n",
       "\u001B[0;31m  '0.013*\"involve\" + 0.013*\"governance\" + 0.012*\"pay\" + 0.011*\"expose\" + '\u001B[0m\n",
       "\u001B[0;31m  '0.011*\"together\" + 0.011*\"remarkable\" + 0.010*\"telangana\" + 0.010*\"honest\" '\u001B[0m\n",
       "\u001B[0;31m  '+ 0.010*\"victory\" + 0.010*\"indira\" + 0.009*\"th\" + 0.009*\"troll\"'),\u001B[0m\n",
       "\u001B[0;31m (11,\u001B[0m\n",
       "\u001B[0;31m  '0.032*\"real\" + 0.029*\"economy\" + 0.025*\"bless\" + 0.023*\"video\" + '\u001B[0m\n",
       "\u001B[0;31m  '0.022*\"set\" + 0.020*\"compare\" + 0.019*\"hero\" + 0.017*\"star\" + '\u001B[0m\n",
       "\u001B[0;31m  '0.017*\"poverty\" + 0.015*\"price\" + 0.014*\"course\" + 0.014*\"abuse\" + '\u001B[0m\n",
       "\u001B[0;31m  '0.014*\"worse\" + 0.014*\"unemployment\" + 0.013*\"merit\" + 0.013*\"page\" + '\u001B[0m\n",
       "\u001B[0;31m  '0.013*\"week\" + 0.013*\"rise\" + 0.013*\"fellow\" + 0.012*\"typical\"'),\u001B[0m\n",
       "\u001B[0;31m (2,\u001B[0m\n",
       "\u001B[0;31m  '0.048*\"chanakya\" + 0.035*\"shri\" + 0.033*\"ji\" + 0.024*\"race\" + 0.021*\"cup\" + '\u001B[0m\n",
       "\u001B[0;31m  '0.020*\"modern\" + 0.018*\"minister\" + 0.017*\"home\" + 0.016*\"day\" + '\u001B[0m\n",
       "\u001B[0;31m  '0.016*\"age\" + 0.014*\"jai\" + 0.013*\"ex\" + 0.013*\"ram\" + 0.013*\"event\" + '\u001B[0m\n",
       "\u001B[0;31m  '0.012*\"ethics\" + 0.011*\"contribution\" + 0.010*\"crores\" + 0.010*\"policy\" + '\u001B[0m\n",
       "\u001B[0;31m  '0.010*\"three\" + 0.010*\"indeed\"'),\u001B[0m\n",
       "\u001B[0;31m (13,\u001B[0m\n",
       "\u001B[0;31m  '0.032*\"science\" + 0.023*\"true\" + 0.023*\"women\" + 0.021*\"wait\" + '\u001B[0m\n",
       "\u001B[0;31m  '0.020*\"influence\" + 0.018*\"channel\" + 0.015*\"candidate\" + 0.015*\"believe\" + '\u001B[0m\n",
       "\u001B[0;31m  '0.015*\"link\" + 0.014*\"grind\" + 0.014*\"millions\" + 0.013*\"order\" + '\u001B[0m\n",
       "\u001B[0;31m  '0.012*\"inspire\" + 0.012*\"justice\" + 0.012*\"men\" + 0.011*\"agree\" + '\u001B[0m\n",
       "\u001B[0;31m  '0.011*\"define\" + 0.011*\"dominate\" + 0.010*\"example\" + 0.010*\"change\"'),\u001B[0m\n",
       "\u001B[0;31m (19,\u001B[0m\n",
       "\u001B[0;31m  '0.026*\"congratulations\" + 0.023*\"non\" + 0.022*\"hindutva\" + 0.020*\"twitter\" '\u001B[0m\n",
       "\u001B[0;31m  '+ 0.019*\"right\" + 0.016*\"note\" + 0.014*\"wing\" + 0.013*\"leave\" + '\u001B[0m\n",
       "\u001B[0;31m  '0.012*\"electoral\" + 0.011*\"debate\" + 0.011*\"sign\" + 0.011*\"enjoy\" + '\u001B[0m\n",
       "\u001B[0;31m  '0.011*\"decide\" + 0.011*\"something\" + 0.010*\"bite\" + 0.010*\"talk\" + '\u001B[0m\n",
       "\u001B[0;31m  '0.010*\"far\" + 0.010*\"serious\" + 0.010*\"know\" + 0.009*\"strengthen\"'),\u001B[0m\n",
       "\u001B[0;31m (25,\u001B[0m\n",
       "\u001B[0;31m  '0.033*\"king\" + 0.030*\"shah\" + 0.024*\"player\" + 0.023*\"book\" + 0.021*\"form\" '\u001B[0m\n",
       "\u001B[0;31m  '+ 0.020*\"inspiration\" + 0.020*\"great\" + 0.020*\"amit\" + 0.017*\"study\" + '\u001B[0m\n",
       "\u001B[0;31m  '0.017*\"type\" + 0.016*\"fund\" + 0.016*\"shameful\" + 0.015*\"voters\" + '\u001B[0m\n",
       "\u001B[0;31m  '0.015*\"interest\" + 0.013*\"situation\" + 0.013*\"two\" + 0.013*\"neither\" + '\u001B[0m\n",
       "\u001B[0;31m  '0.012*\"pure\" + 0.012*\"finish\" + 0.011*\"regional\"'),\u001B[0m\n",
       "\u001B[0;31m (6,\u001B[0m\n",
       "\u001B[0;31m  '0.092*\"biggest\" + 0.085*\"fraud\" + 0.054*\"origin\" + 0.024*\"hindi\" + '\u001B[0m\n",
       "\u001B[0;31m  '0.020*\"cricketers\" + 0.020*\"parent\" + 0.018*\"selection\" + 0.018*\"shame\" + '\u001B[0m\n",
       "\u001B[0;31m  '0.017*\"miss\" + 0.014*\"film\" + 0.014*\"south\" + 0.014*\"zero\" + 0.013*\"safe\" + '\u001B[0m\n",
       "\u001B[0;31m  '0.013*\"disgrace\" + 0.013*\"disgust\" + 0.013*\"movie\" + 0.012*\"movies\" + '\u001B[0m\n",
       "\u001B[0;31m  '0.012*\"ok\" + 0.011*\"watch\" + 0.011*\"drop\"'),\u001B[0m\n",
       "\u001B[0;31m (15,\u001B[0m\n",
       "\u001B[0;31m  '0.032*\"mass\" + 0.030*\"tv\" + 0.024*\"turn\" + 0.023*\"drama\" + 0.023*\"possible\" '\u001B[0m\n",
       "\u001B[0;31m  '+ 0.021*\"card\" + 0.021*\"exactly\" + 0.018*\"resign\" + 0.017*\"point\" + '\u001B[0m\n",
       "\u001B[0;31m  '0.017*\"decades\" + 0.017*\"wife\" + 0.017*\"background\" + 0.017*\"busy\" + '\u001B[0m\n",
       "\u001B[0;31m  '0.016*\"almost\" + 0.015*\"require\" + 0.014*\"dream\" + 0.014*\"friend\" + '\u001B[0m\n",
       "\u001B[0;31m  '0.013*\"ho\" + 0.013*\"trust\" + 0.013*\"care\"'),\u001B[0m\n",
       "\u001B[0;31m (21,\u001B[0m\n",
       "\u001B[0;31m  '0.023*\"ji\" + 0.018*\"top\" + 0.017*\"present\" + 0.016*\"sri\" + 0.014*\"bhi\" + '\u001B[0m\n",
       "\u001B[0;31m  '0.013*\"wake\" + 0.013*\"friends\" + 0.012*\"answer\" + 0.012*\"hear\" + '\u001B[0m\n",
       "\u001B[0;31m  '0.011*\"campaign\" + 0.011*\"guess\" + 0.011*\"wonder\" + 0.011*\"simply\" + '\u001B[0m\n",
       "\u001B[0;31m  '0.011*\"patel\" + 0.011*\"past\" + 0.011*\"date\" + 0.010*\"future\" + '\u001B[0m\n",
       "\u001B[0;31m  '0.010*\"develop\" + 0.010*\"university\" + 0.010*\"cross\"'),\u001B[0m\n",
       "\u001B[0;31m (1,\u001B[0m\n",
       "\u001B[0;31m  '0.029*\"kejriwal\" + 0.022*\"globe\" + 0.020*\"dear\" + 0.018*\"arvind\" + '\u001B[0m\n",
       "\u001B[0;31m  '0.018*\"retweet\" + 0.017*\"fan\" + 0.017*\"create\" + 0.012*\"politicians\" + '\u001B[0m\n",
       "\u001B[0;31m  '0.011*\"unfortunately\" + 0.011*\"pappu\" + 0.011*\"press\" + 0.011*\"shit\" + '\u001B[0m\n",
       "\u001B[0;31m  '0.010*\"head\" + 0.010*\"father\" + 0.010*\"imagine\" + 0.010*\"responsible\" + '\u001B[0m\n",
       "\u001B[0;31m  '0.010*\"icc\" + 0.010*\"spend\" + 0.010*\"opinion\" + 0.010*\"seriously\"'),\u001B[0m\n",
       "\u001B[0;31m (28,\u001B[0m\n",
       "\u001B[0;31m  '0.038*\"request\" + 0.034*\"tamil\" + 0.027*\"future\" + 0.025*\"news\" + '\u001B[0m\n",
       "\u001B[0;31m  '0.023*\"dangerous\" + 0.020*\"express\" + 0.019*\"promise\" + 0.018*\"corruption\" '\u001B[0m\n",
       "\u001B[0;31m  '+ 0.018*\"role\" + 0.017*\"shift\" + 0.017*\"st\" + 0.017*\"poll\" + '\u001B[0m\n",
       "\u001B[0;31m  '0.017*\"deserve\" + 0.016*\"person\" + 0.015*\"nadu\" + 0.015*\"late\" + '\u001B[0m\n",
       "\u001B[0;31m  '0.014*\"educate\" + 0.014*\"else\" + 0.013*\"entertainment\" + 0.013*\"journey\"'),\u001B[0m\n",
       "\u001B[0;31m (22,\u001B[0m\n",
       "\u001B[0;31m  '0.063*\"ultimate\" + 0.062*\"unbeatable\" + 0.056*\"leader\" + 0.022*\"criminal\" + '\u001B[0m\n",
       "\u001B[0;31m  '0.022*\"space\" + 0.021*\"begin\" + 0.019*\"historic\" + 0.018*\"report\" + '\u001B[0m\n",
       "\u001B[0;31m  '0.018*\"people\" + 0.017*\"ideology\" + 0.017*\"nd\" + 0.017*\"eye\" + 0.016*\"less\" '\u001B[0m\n",
       "\u001B[0;31m  '+ 0.016*\"cast\" + 0.015*\"step\" + 0.015*\"little\" + 0.014*\"dynasty\" + '\u001B[0m\n",
       "\u001B[0;31m  '0.014*\"lack\" + 0.014*\"positive\" + 0.014*\"surprise\"'),\u001B[0m\n",
       "\u001B[0;31m (27,\u001B[0m\n",
       "\u001B[0;31m  '0.052*\"sunak\" + 0.049*\"rishi\" + 0.043*\"uk\" + 0.040*\"british\" + '\u001B[0m\n",
       "\u001B[0;31m  '0.018*\"proud\" + 0.017*\"pm\" + 0.016*\"ruin\" + 0.014*\"prime\" + 0.011*\"become\" '\u001B[0m\n",
       "\u001B[0;31m  '+ 0.010*\"minister\" + 0.010*\"game\" + 0.010*\"serve\" + 0.010*\"china\" + '\u001B[0m\n",
       "\u001B[0;31m  '0.009*\"mix\" + 0.009*\"top\" + 0.009*\"piece\" + 0.009*\"citizenship\" + '\u001B[0m\n",
       "\u001B[0;31m  '0.008*\"success\" + 0.008*\"economics\" + 0.008*\"absolutely\"'),\u001B[0m\n",
       "\u001B[0;31m (10,\u001B[0m\n",
       "\u001B[0;31m  '0.030*\"elect\" + 0.028*\"welcome\" + 0.024*\"rise\" + 0.023*\"see\" + '\u001B[0m\n",
       "\u001B[0;31m  '0.023*\"experience\" + 0.020*\"common\" + 0.020*\"global\" + 0.019*\"join\" + '\u001B[0m\n",
       "\u001B[0;31m  '0.017*\"tory\" + 0.017*\"talent\" + 0.016*\"personality\" + 0.015*\"hope\" + '\u001B[0m\n",
       "\u001B[0;31m  '0.015*\"however\" + 0.015*\"political\" + 0.014*\"silence\" + 0.014*\"field\" + '\u001B[0m\n",
       "\u001B[0;31m  '0.013*\"decent\" + 0.013*\"touch\" + 0.012*\"unite\" + 0.012*\"italian\"'),\u001B[0m\n",
       "\u001B[0;31m (5,\u001B[0m\n",
       "\u001B[0;31m  '0.028*\"president\" + 0.023*\"kharge\" + 0.019*\"totally\" + 0.018*\"remember\" + '\u001B[0m\n",
       "\u001B[0;31m  '0.016*\"forget\" + 0.015*\"son\" + 0.014*\"forever\" + 0.014*\"diversity\" + '\u001B[0m\n",
       "\u001B[0;31m  '0.014*\"curse\" + 0.014*\"khan\" + 0.013*\"bad\" + 0.013*\"sorry\" + 0.012*\"launch\" '\u001B[0m\n",
       "\u001B[0;31m  '+ 0.012*\"open\" + 0.012*\"contest\" + 0.012*\"congress\" + 0.011*\"walk\" + '\u001B[0m\n",
       "\u001B[0;31m  '0.011*\"clown\" + 0.011*\"bollywood\" + 0.010*\"modiji\"'),\u001B[0m\n",
       "\u001B[0;31m (18,\u001B[0m\n",
       "\u001B[0;31m  '0.018*\"aside\" + 0.015*\"young\" + 0.015*\"base\" + 0.015*\"vote\" + 0.013*\"bjp\" + '\u001B[0m\n",
       "\u001B[0;31m  '0.013*\"via\" + 0.012*\"party\" + 0.012*\"nobody\" + 0.011*\"buy\" + '\u001B[0m\n",
       "\u001B[0;31m  '0.011*\"generation\" + 0.011*\"defeat\" + 0.011*\"pls\" + 0.011*\"money\" + '\u001B[0m\n",
       "\u001B[0;31m  '0.011*\"development\" + 0.010*\"football\" + 0.009*\"suggest\" + 0.009*\"bank\" + '\u001B[0m\n",
       "\u001B[0;31m  '0.009*\"crook\" + 0.009*\"list\" + 0.008*\"mla\"'),\u001B[0m\n",
       "\u001B[0;31m (3,\u001B[0m\n",
       "\u001B[0;31m  '0.023*\"sonia\" + 0.015*\"side\" + 0.015*\"asian\" + 0.014*\"continue\" + '\u001B[0m\n",
       "\u001B[0;31m  '0.014*\"heart\" + 0.013*\"singh\" + 0.013*\"difference\" + 0.012*\"ppl\" + '\u001B[0m\n",
       "\u001B[0;31m  '0.012*\"hindu\" + 0.011*\"especially\" + 0.011*\"independence\" + 0.011*\"black\" + '\u001B[0m\n",
       "\u001B[0;31m  '0.010*\"communal\" + 0.010*\"identity\" + 0.010*\"marry\" + 0.009*\"exist\" + '\u001B[0m\n",
       "\u001B[0;31m  '0.008*\"mindset\" + 0.008*\"limit\" + 0.008*\"ready\" + 0.008*\"british\"')]\u001B[0m\n",
       "\u001B[0;31mCollecting pyLDAvis\r\u001B[0m\n",
       "\u001B[0;31m  Using cached pyLDAvis-3.4.1-py3-none-any.whl (2.6 MB)\r\u001B[0m\n",
       "\u001B[0;31mRequirement already satisfied: scipy in /databricks/python3/lib/python3.9/site-packages (from pyLDAvis) (1.7.3)\r\u001B[0m\n",
       "\u001B[0;31mRequirement already satisfied: jinja2 in /databricks/python3/lib/python3.9/site-packages (from pyLDAvis) (2.11.3)\r\u001B[0m\n",
       "\u001B[0;31mCollecting numexpr\r\u001B[0m\n",
       "\u001B[0;31m  Using cached numexpr-2.8.7-cp39-cp39-manylinux_2_17_x86_64.manylinux2014_x86_64.whl (383 kB)\r\u001B[0m\n",
       "\u001B[0;31mCollecting funcy\r\u001B[0m\n",
       "\u001B[0;31m  Using cached funcy-2.0-py2.py3-none-any.whl (30 kB)\r\u001B[0m\n",
       "\u001B[0;31mCollecting numpy>=1.24.2\r\u001B[0m\n",
       "\u001B[0;31m  Using cached numpy-1.26.0-cp39-cp39-manylinux_2_17_x86_64.manylinux2014_x86_64.whl (18.2 MB)\r\u001B[0m\n",
       "\u001B[0;31mRequirement already satisfied: setuptools in /databricks/python3/lib/python3.9/site-packages (from pyLDAvis) (61.2.0)\r\u001B[0m\n",
       "\u001B[0;31mCollecting joblib>=1.2.0\r\u001B[0m\n",
       "\u001B[0;31m  Using cached joblib-1.3.2-py3-none-any.whl (302 kB)\r\u001B[0m\n",
       "\u001B[0;31mRequirement already satisfied: pandas>=2.0.0 in /local_disk0/.ephemeral_nfs/envs/pythonEnv-f985aff4-5238-4579-80f5-9267bb6d66d2/lib/python3.9/site-packages (from pyLDAvis) (2.1.1)\r\u001B[0m\n",
       "\u001B[0;31mRequirement already satisfied: gensim in /local_disk0/.ephemeral_nfs/envs/pythonEnv-f985aff4-5238-4579-80f5-9267bb6d66d2/lib/python3.9/site-packages (from pyLDAvis) (4.3.2)\r\u001B[0m\n",
       "\u001B[0;31mRequirement already satisfied: scikit-learn>=1.0.0 in /databricks/python3/lib/python3.9/site-packages (from pyLDAvis) (1.0.2)\r\u001B[0m\n",
       "\u001B[0;31mRequirement already satisfied: python-dateutil>=2.8.2 in /databricks/python3/lib/python3.9/site-packages (from pandas>=2.0.0->pyLDAvis) (2.8.2)\r\u001B[0m\n",
       "\u001B[0;31mRequirement already satisfied: tzdata>=2022.1 in /local_disk0/.ephemeral_nfs/envs/pythonEnv-f985aff4-5238-4579-80f5-9267bb6d66d2/lib/python3.9/site-packages (from pandas>=2.0.0->pyLDAvis) (2023.3)\r\u001B[0m\n",
       "\u001B[0;31mRequirement already satisfied: pytz>=2020.1 in /databricks/python3/lib/python3.9/site-packages (from pandas>=2.0.0->pyLDAvis) (2021.3)\r\u001B[0m\n",
       "\u001B[0;31mRequirement already satisfied: six>=1.5 in /databricks/python3/lib/python3.9/site-packages (from python-dateutil>=2.8.2->pandas>=2.0.0->pyLDAvis) (1.16.0)\r\u001B[0m\n",
       "\u001B[0;31mRequirement already satisfied: threadpoolctl>=2.0.0 in /databricks/python3/lib/python3.9/site-packages (from scikit-learn>=1.0.0->pyLDAvis) (2.2.0)\r\u001B[0m\n",
       "\u001B[0;31mCollecting scipy\r\u001B[0m\n",
       "\u001B[0;31m  Using cached scipy-1.11.3-cp39-cp39-manylinux_2_17_x86_64.manylinux2014_x86_64.whl (36.6 MB)\r\u001B[0m\n",
       "\u001B[0;31mRequirement already satisfied: smart-open>=1.8.1 in /local_disk0/.ephemeral_nfs/envs/pythonEnv-f985aff4-5238-4579-80f5-9267bb6d66d2/lib/python3.9/site-packages (from gensim->pyLDAvis) (6.4.0)\r\u001B[0m\n",
       "\u001B[0;31mRequirement already satisfied: MarkupSafe>=0.23 in /databricks/python3/lib/python3.9/site-packages (from jinja2->pyLDAvis) (2.0.1)\r\u001B[0m\n",
       "\u001B[0;31mInstalling collected packages: numpy, scipy, joblib, numexpr, funcy, pyLDAvis\r\u001B[0m\n",
       "\u001B[0;31m  Attempting uninstall: numpy\r\u001B[0m\n",
       "\u001B[0;31m    Found existing installation: numpy 1.22.4\r\u001B[0m\n",
       "\u001B[0;31m    Uninstalling numpy-1.22.4:\r\u001B[0m\n",
       "\u001B[0;31m      Successfully uninstalled numpy-1.22.4\r\u001B[0m\n",
       "\u001B[0;31m  Attempting uninstall: scipy\r\u001B[0m\n",
       "\u001B[0;31m    Found existing installation: scipy 1.7.3\r\u001B[0m\n",
       "\u001B[0;31m    Not uninstalling scipy at /databricks/python3/lib/python3.9/site-packages, outside environment /local_disk0/.ephemeral_nfs/envs/pythonEnv-f985aff4-5238-4579-80f5-9267bb6d66d2\r\u001B[0m\n",
       "\u001B[0;31m    Can't uninstall 'scipy'. No files were found to uninstall.\r\u001B[0m\n",
       "\u001B[0;31m  Attempting uninstall: joblib\r\u001B[0m\n",
       "\u001B[0;31m    Found existing installation: joblib 1.1.1\r\u001B[0m\n",
       "\u001B[0;31m    Not uninstalling joblib at /databricks/python3/lib/python3.9/site-packages, outside environment /local_disk0/.ephemeral_nfs/envs/pythonEnv-f985aff4-5238-4579-80f5-9267bb6d66d2\r\u001B[0m\n",
       "\u001B[0;31m    Can't uninstall 'joblib'. No files were found to uninstall.\r\u001B[0m\n",
       "\u001B[0;31mSuccessfully installed funcy-2.0 joblib-1.3.2 numexpr-2.8.7 numpy-1.26.0 pyLDAvis-3.4.1 scipy-1.11.3\r\u001B[0m\n",
       "\u001B[0;31mWARNING: You are using pip version 21.2.4; however, version 23.2.1 is available.\r\u001B[0m\n",
       "\u001B[0;31mYou should consider upgrading via the '/local_disk0/.ephemeral_nfs/envs/pythonEnv-f985aff4-5238-4579-80f5-9267bb6d66d2/bin/python -m pip install --upgrade pip' command.\r\u001B[0m\n",
       "\u001B[0;31m              precision    recall  f1-score   support\u001B[0m\n",
       "\u001B[0;31m\u001B[0m\n",
       "\u001B[0;31m           0       0.52      0.04      0.08      3276\u001B[0m\n",
       "\u001B[0;31m           1       0.53      0.07      0.13      3689\u001B[0m\n",
       "\u001B[0;31m           2       0.45      0.96      0.62      5535\u001B[0m\n",
       "\u001B[0;31m\u001B[0m\n",
       "\u001B[0;31m    accuracy                           0.46     12500\u001B[0m\n",
       "\u001B[0;31m   macro avg       0.50      0.36      0.27     12500\u001B[0m\n",
       "\u001B[0;31mweighted avg       0.49      0.46      0.33     12500\u001B[0m"
      ]
     },
     "metadata": {
      "application/vnd.databricks.v1+output": {
       "arguments": {},
       "data": "\u001B[0;31m---------------------------------------------------------------------------\u001B[0m\n\u001B[0;31mThe Python process exited with exit code 137 (SIGKILL: Killed). This may have been caused by an OOM error. Check your command's memory usage.\u001B[0m\n\u001B[0;31m\u001B[0m\n\u001B[0;31m---------------------------------------------------------------------------\u001B[0m\n\u001B[0;31mThe last 10 KB of the process's stderr and stdout can be found below. See driver logs for full logs.\u001B[0m\n\u001B[0;31m---------------------------------------------------------------------------\u001B[0m\n\u001B[0;31mLast messages on stderr:\u001B[0m\n\u001B[0;31mSat Oct  7 00:52:05 2023 Connection to spark from PID  399184\u001B[0m\n\u001B[0;31mSat Oct  7 00:52:05 2023 Initialized gateway on port 43537\u001B[0m\n\u001B[0;31mSat Oct  7 00:52:05 2023 Connected to spark.\u001B[0m\n\u001B[0;31m[nltk_data] Downloading package stopwords to /root/nltk_data...\u001B[0m\n\u001B[0;31m[nltk_data]   Package stopwords is already up-to-date!\u001B[0m\n\u001B[0;31m[nltk_data] Downloading package wordnet to /root/nltk_data...\u001B[0m\n\u001B[0;31m[nltk_data]   Package wordnet is already up-to-date!\u001B[0m\n\u001B[0;31mERROR:concurrent.futures:exception calling callback for <Future at 0x7fb15f84c9a0 state=finished raised BrokenProcessPool>\u001B[0m\n\u001B[0;31mjoblib.externals.loky.process_executor._RemoteTraceback: \u001B[0m\n\u001B[0;31m\"\"\"\u001B[0m\n\u001B[0;31mTraceback (most recent call last):\u001B[0m\n\u001B[0;31m  File \"/local_disk0/.ephemeral_nfs/envs/pythonEnv-f985aff4-5238-4579-80f5-9267bb6d66d2/lib/python3.9/site-packages/joblib/externals/loky/process_executor.py\", line 426, in _process_worker\u001B[0m\n\u001B[0;31m    call_item = call_queue.get(block=True, timeout=timeout)\u001B[0m\n\u001B[0;31m  File \"/usr/lib/python3.9/multiprocessing/queues.py\", line 122, in get\u001B[0m\n\u001B[0;31m    return _ForkingPickler.loads(res)\u001B[0m\n\u001B[0;31mAttributeError: Can't get attribute 'SafeFunction' on <module 'joblib._parallel_backends' from '/local_disk0/.ephemeral_nfs/envs/pythonEnv-f985aff4-5238-4579-80f5-9267bb6d66d2/lib/python3.9/site-packages/joblib/_parallel_backends.py'>\u001B[0m\n\u001B[0;31m\"\"\"\u001B[0m\n\u001B[0;31m\u001B[0m\n\u001B[0;31mThe above exception was the direct cause of the following exception:\u001B[0m\n\u001B[0;31m\u001B[0m\n\u001B[0;31mTraceback (most recent call last):\u001B[0m\n\u001B[0;31m  File \"/databricks/python/lib/python3.9/site-packages/joblib/externals/loky/_base.py\", line 625, in _invoke_callbacks\u001B[0m\n\u001B[0;31m    callback(self)\u001B[0m\n\u001B[0;31m  File \"/databricks/python/lib/python3.9/site-packages/joblib/parallel.py\", line 360, in __call__\u001B[0m\n\u001B[0;31m    self.parallel.dispatch_next()\u001B[0m\n\u001B[0;31m  File \"/databricks/python/lib/python3.9/site-packages/joblib/parallel.py\", line 797, in dispatch_next\u001B[0m\n\u001B[0;31m    if not self.dispatch_one_batch(self._original_iterator):\u001B[0m\n\u001B[0;31m  File \"/databricks/python/lib/python3.9/site-packages/joblib/parallel.py\", line 864, in dispatch_one_batch\u001B[0m\n\u001B[0;31m    self._dispatch(tasks)\u001B[0m\n\u001B[0;31m  File \"/databricks/python/lib/python3.9/site-packages/joblib/parallel.py\", line 782, in _dispatch\u001B[0m\n\u001B[0;31m    job = self._backend.apply_async(batch, callback=cb)\u001B[0m\n\u001B[0;31m  File \"/databricks/python/lib/python3.9/site-packages/joblib/_parallel_backends.py\", line 531, in apply_async\u001B[0m\n\u001B[0;31m    future = self._workers.submit(SafeFunction(func))\u001B[0m\n\u001B[0;31m  File \"/databricks/python/lib/python3.9/site-packages/joblib/externals/loky/reusable_executor.py\", line 177, in submit\u001B[0m\n\u001B[0;31m    return super(_ReusablePoolExecutor, self).submit(\u001B[0m\n\u001B[0;31m  File \"/databricks/python/lib/python3.9/site-packages/joblib/externals/loky/process_executor.py\", line 1115, in submit\u001B[0m\n\u001B[0;31m    raise self._flags.broken\u001B[0m\n\u001B[0;31mjoblib.externals.loky.process_executor.BrokenProcessPool: A task has failed to un-serialize. Please ensure that the arguments of the function are all picklable.\u001B[0m\n\u001B[0;31m/local_disk0/.ephemeral_nfs/envs/pythonEnv-f985aff4-5238-4579-80f5-9267bb6d66d2/lib/python3.9/site-packages/joblib/externals/loky/backend/resource_tracker.py:314: UserWarning: resource_tracker: There appear to be 6 leaked semlock objects to clean up at shutdown\u001B[0m\n\u001B[0;31m  warnings.warn(\u001B[0m\n\u001B[0;31m---------------------------------------------------------------------------\u001B[0m\n\u001B[0;31mLast messages on stdout:\u001B[0m\n\u001B[0;31m 0.013*\"beyond\" + 0.013*\"hypocrisy\" + '\u001B[0m\n\u001B[0;31m  '0.013*\"involve\" + 0.013*\"governance\" + 0.012*\"pay\" + 0.011*\"expose\" + '\u001B[0m\n\u001B[0;31m  '0.011*\"together\" + 0.011*\"remarkable\" + 0.010*\"telangana\" + 0.010*\"honest\" '\u001B[0m\n\u001B[0;31m  '+ 0.010*\"victory\" + 0.010*\"indira\" + 0.009*\"th\" + 0.009*\"troll\"'),\u001B[0m\n\u001B[0;31m (11,\u001B[0m\n\u001B[0;31m  '0.032*\"real\" + 0.029*\"economy\" + 0.025*\"bless\" + 0.023*\"video\" + '\u001B[0m\n\u001B[0;31m  '0.022*\"set\" + 0.020*\"compare\" + 0.019*\"hero\" + 0.017*\"star\" + '\u001B[0m\n\u001B[0;31m  '0.017*\"poverty\" + 0.015*\"price\" + 0.014*\"course\" + 0.014*\"abuse\" + '\u001B[0m\n\u001B[0;31m  '0.014*\"worse\" + 0.014*\"unemployment\" + 0.013*\"merit\" + 0.013*\"page\" + '\u001B[0m\n\u001B[0;31m  '0.013*\"week\" + 0.013*\"rise\" + 0.013*\"fellow\" + 0.012*\"typical\"'),\u001B[0m\n\u001B[0;31m (2,\u001B[0m\n\u001B[0;31m  '0.048*\"chanakya\" + 0.035*\"shri\" + 0.033*\"ji\" + 0.024*\"race\" + 0.021*\"cup\" + '\u001B[0m\n\u001B[0;31m  '0.020*\"modern\" + 0.018*\"minister\" + 0.017*\"home\" + 0.016*\"day\" + '\u001B[0m\n\u001B[0;31m  '0.016*\"age\" + 0.014*\"jai\" + 0.013*\"ex\" + 0.013*\"ram\" + 0.013*\"event\" + '\u001B[0m\n\u001B[0;31m  '0.012*\"ethics\" + 0.011*\"contribution\" + 0.010*\"crores\" + 0.010*\"policy\" + '\u001B[0m\n\u001B[0;31m  '0.010*\"three\" + 0.010*\"indeed\"'),\u001B[0m\n\u001B[0;31m (13,\u001B[0m\n\u001B[0;31m  '0.032*\"science\" + 0.023*\"true\" + 0.023*\"women\" + 0.021*\"wait\" + '\u001B[0m\n\u001B[0;31m  '0.020*\"influence\" + 0.018*\"channel\" + 0.015*\"candidate\" + 0.015*\"believe\" + '\u001B[0m\n\u001B[0;31m  '0.015*\"link\" + 0.014*\"grind\" + 0.014*\"millions\" + 0.013*\"order\" + '\u001B[0m\n\u001B[0;31m  '0.012*\"inspire\" + 0.012*\"justice\" + 0.012*\"men\" + 0.011*\"agree\" + '\u001B[0m\n\u001B[0;31m  '0.011*\"define\" + 0.011*\"dominate\" + 0.010*\"example\" + 0.010*\"change\"'),\u001B[0m\n\u001B[0;31m (19,\u001B[0m\n\u001B[0;31m  '0.026*\"congratulations\" + 0.023*\"non\" + 0.022*\"hindutva\" + 0.020*\"twitter\" '\u001B[0m\n\u001B[0;31m  '+ 0.019*\"right\" + 0.016*\"note\" + 0.014*\"wing\" + 0.013*\"leave\" + '\u001B[0m\n\u001B[0;31m  '0.012*\"electoral\" + 0.011*\"debate\" + 0.011*\"sign\" + 0.011*\"enjoy\" + '\u001B[0m\n\u001B[0;31m  '0.011*\"decide\" + 0.011*\"something\" + 0.010*\"bite\" + 0.010*\"talk\" + '\u001B[0m\n\u001B[0;31m  '0.010*\"far\" + 0.010*\"serious\" + 0.010*\"know\" + 0.009*\"strengthen\"'),\u001B[0m\n\u001B[0;31m (25,\u001B[0m\n\u001B[0;31m  '0.033*\"king\" + 0.030*\"shah\" + 0.024*\"player\" + 0.023*\"book\" + 0.021*\"form\" '\u001B[0m\n\u001B[0;31m  '+ 0.020*\"inspiration\" + 0.020*\"great\" + 0.020*\"amit\" + 0.017*\"study\" + '\u001B[0m\n\u001B[0;31m  '0.017*\"type\" + 0.016*\"fund\" + 0.016*\"shameful\" + 0.015*\"voters\" + '\u001B[0m\n\u001B[0;31m  '0.015*\"interest\" + 0.013*\"situation\" + 0.013*\"two\" + 0.013*\"neither\" + '\u001B[0m\n\u001B[0;31m  '0.012*\"pure\" + 0.012*\"finish\" + 0.011*\"regional\"'),\u001B[0m\n\u001B[0;31m (6,\u001B[0m\n\u001B[0;31m  '0.092*\"biggest\" + 0.085*\"fraud\" + 0.054*\"origin\" + 0.024*\"hindi\" + '\u001B[0m\n\u001B[0;31m  '0.020*\"cricketers\" + 0.020*\"parent\" + 0.018*\"selection\" + 0.018*\"shame\" + '\u001B[0m\n\u001B[0;31m  '0.017*\"miss\" + 0.014*\"film\" + 0.014*\"south\" + 0.014*\"zero\" + 0.013*\"safe\" + '\u001B[0m\n\u001B[0;31m  '0.013*\"disgrace\" + 0.013*\"disgust\" + 0.013*\"movie\" + 0.012*\"movies\" + '\u001B[0m\n\u001B[0;31m  '0.012*\"ok\" + 0.011*\"watch\" + 0.011*\"drop\"'),\u001B[0m\n\u001B[0;31m (15,\u001B[0m\n\u001B[0;31m  '0.032*\"mass\" + 0.030*\"tv\" + 0.024*\"turn\" + 0.023*\"drama\" + 0.023*\"possible\" '\u001B[0m\n\u001B[0;31m  '+ 0.021*\"card\" + 0.021*\"exactly\" + 0.018*\"resign\" + 0.017*\"point\" + '\u001B[0m\n\u001B[0;31m  '0.017*\"decades\" + 0.017*\"wife\" + 0.017*\"background\" + 0.017*\"busy\" + '\u001B[0m\n\u001B[0;31m  '0.016*\"almost\" + 0.015*\"require\" + 0.014*\"dream\" + 0.014*\"friend\" + '\u001B[0m\n\u001B[0;31m  '0.013*\"ho\" + 0.013*\"trust\" + 0.013*\"care\"'),\u001B[0m\n\u001B[0;31m (21,\u001B[0m\n\u001B[0;31m  '0.023*\"ji\" + 0.018*\"top\" + 0.017*\"present\" + 0.016*\"sri\" + 0.014*\"bhi\" + '\u001B[0m\n\u001B[0;31m  '0.013*\"wake\" + 0.013*\"friends\" + 0.012*\"answer\" + 0.012*\"hear\" + '\u001B[0m\n\u001B[0;31m  '0.011*\"campaign\" + 0.011*\"guess\" + 0.011*\"wonder\" + 0.011*\"simply\" + '\u001B[0m\n\u001B[0;31m  '0.011*\"patel\" + 0.011*\"past\" + 0.011*\"date\" + 0.010*\"future\" + '\u001B[0m\n\u001B[0;31m  '0.010*\"develop\" + 0.010*\"university\" + 0.010*\"cross\"'),\u001B[0m\n\u001B[0;31m (1,\u001B[0m\n\u001B[0;31m  '0.029*\"kejriwal\" + 0.022*\"globe\" + 0.020*\"dear\" + 0.018*\"arvind\" + '\u001B[0m\n\u001B[0;31m  '0.018*\"retweet\" + 0.017*\"fan\" + 0.017*\"create\" + 0.012*\"politicians\" + '\u001B[0m\n\u001B[0;31m  '0.011*\"unfortunately\" + 0.011*\"pappu\" + 0.011*\"press\" + 0.011*\"shit\" + '\u001B[0m\n\u001B[0;31m  '0.010*\"head\" + 0.010*\"father\" + 0.010*\"imagine\" + 0.010*\"responsible\" + '\u001B[0m\n\u001B[0;31m  '0.010*\"icc\" + 0.010*\"spend\" + 0.010*\"opinion\" + 0.010*\"seriously\"'),\u001B[0m\n\u001B[0;31m (28,\u001B[0m\n\u001B[0;31m  '0.038*\"request\" + 0.034*\"tamil\" + 0.027*\"future\" + 0.025*\"news\" + '\u001B[0m\n\u001B[0;31m  '0.023*\"dangerous\" + 0.020*\"express\" + 0.019*\"promise\" + 0.018*\"corruption\" '\u001B[0m\n\u001B[0;31m  '+ 0.018*\"role\" + 0.017*\"shift\" + 0.017*\"st\" + 0.017*\"poll\" + '\u001B[0m\n\u001B[0;31m  '0.017*\"deserve\" + 0.016*\"person\" + 0.015*\"nadu\" + 0.015*\"late\" + '\u001B[0m\n\u001B[0;31m  '0.014*\"educate\" + 0.014*\"else\" + 0.013*\"entertainment\" + 0.013*\"journey\"'),\u001B[0m\n\u001B[0;31m (22,\u001B[0m\n\u001B[0;31m  '0.063*\"ultimate\" + 0.062*\"unbeatable\" + 0.056*\"leader\" + 0.022*\"criminal\" + '\u001B[0m\n\u001B[0;31m  '0.022*\"space\" + 0.021*\"begin\" + 0.019*\"historic\" + 0.018*\"report\" + '\u001B[0m\n\u001B[0;31m  '0.018*\"people\" + 0.017*\"ideology\" + 0.017*\"nd\" + 0.017*\"eye\" + 0.016*\"less\" '\u001B[0m\n\u001B[0;31m  '+ 0.016*\"cast\" + 0.015*\"step\" + 0.015*\"little\" + 0.014*\"dynasty\" + '\u001B[0m\n\u001B[0;31m  '0.014*\"lack\" + 0.014*\"positive\" + 0.014*\"surprise\"'),\u001B[0m\n\u001B[0;31m (27,\u001B[0m\n\u001B[0;31m  '0.052*\"sunak\" + 0.049*\"rishi\" + 0.043*\"uk\" + 0.040*\"british\" + '\u001B[0m\n\u001B[0;31m  '0.018*\"proud\" + 0.017*\"pm\" + 0.016*\"ruin\" + 0.014*\"prime\" + 0.011*\"become\" '\u001B[0m\n\u001B[0;31m  '+ 0.010*\"minister\" + 0.010*\"game\" + 0.010*\"serve\" + 0.010*\"china\" + '\u001B[0m\n\u001B[0;31m  '0.009*\"mix\" + 0.009*\"top\" + 0.009*\"piece\" + 0.009*\"citizenship\" + '\u001B[0m\n\u001B[0;31m  '0.008*\"success\" + 0.008*\"economics\" + 0.008*\"absolutely\"'),\u001B[0m\n\u001B[0;31m (10,\u001B[0m\n\u001B[0;31m  '0.030*\"elect\" + 0.028*\"welcome\" + 0.024*\"rise\" + 0.023*\"see\" + '\u001B[0m\n\u001B[0;31m  '0.023*\"experience\" + 0.020*\"common\" + 0.020*\"global\" + 0.019*\"join\" + '\u001B[0m\n\u001B[0;31m  '0.017*\"tory\" + 0.017*\"talent\" + 0.016*\"personality\" + 0.015*\"hope\" + '\u001B[0m\n\u001B[0;31m  '0.015*\"however\" + 0.015*\"political\" + 0.014*\"silence\" + 0.014*\"field\" + '\u001B[0m\n\u001B[0;31m  '0.013*\"decent\" + 0.013*\"touch\" + 0.012*\"unite\" + 0.012*\"italian\"'),\u001B[0m\n\u001B[0;31m (5,\u001B[0m\n\u001B[0;31m  '0.028*\"president\" + 0.023*\"kharge\" + 0.019*\"totally\" + 0.018*\"remember\" + '\u001B[0m\n\u001B[0;31m  '0.016*\"forget\" + 0.015*\"son\" + 0.014*\"forever\" + 0.014*\"diversity\" + '\u001B[0m\n\u001B[0;31m  '0.014*\"curse\" + 0.014*\"khan\" + 0.013*\"bad\" + 0.013*\"sorry\" + 0.012*\"launch\" '\u001B[0m\n\u001B[0;31m  '+ 0.012*\"open\" + 0.012*\"contest\" + 0.012*\"congress\" + 0.011*\"walk\" + '\u001B[0m\n\u001B[0;31m  '0.011*\"clown\" + 0.011*\"bollywood\" + 0.010*\"modiji\"'),\u001B[0m\n\u001B[0;31m (18,\u001B[0m\n\u001B[0;31m  '0.018*\"aside\" + 0.015*\"young\" + 0.015*\"base\" + 0.015*\"vote\" + 0.013*\"bjp\" + '\u001B[0m\n\u001B[0;31m  '0.013*\"via\" + 0.012*\"party\" + 0.012*\"nobody\" + 0.011*\"buy\" + '\u001B[0m\n\u001B[0;31m  '0.011*\"generation\" + 0.011*\"defeat\" + 0.011*\"pls\" + 0.011*\"money\" + '\u001B[0m\n\u001B[0;31m  '0.011*\"development\" + 0.010*\"football\" + 0.009*\"suggest\" + 0.009*\"bank\" + '\u001B[0m\n\u001B[0;31m  '0.009*\"crook\" + 0.009*\"list\" + 0.008*\"mla\"'),\u001B[0m\n\u001B[0;31m (3,\u001B[0m\n\u001B[0;31m  '0.023*\"sonia\" + 0.015*\"side\" + 0.015*\"asian\" + 0.014*\"continue\" + '\u001B[0m\n\u001B[0;31m  '0.014*\"heart\" + 0.013*\"singh\" + 0.013*\"difference\" + 0.012*\"ppl\" + '\u001B[0m\n\u001B[0;31m  '0.012*\"hindu\" + 0.011*\"especially\" + 0.011*\"independence\" + 0.011*\"black\" + '\u001B[0m\n\u001B[0;31m  '0.010*\"communal\" + 0.010*\"identity\" + 0.010*\"marry\" + 0.009*\"exist\" + '\u001B[0m\n\u001B[0;31m  '0.008*\"mindset\" + 0.008*\"limit\" + 0.008*\"ready\" + 0.008*\"british\"')]\u001B[0m\n\u001B[0;31mCollecting pyLDAvis\r\u001B[0m\n\u001B[0;31m  Using cached pyLDAvis-3.4.1-py3-none-any.whl (2.6 MB)\r\u001B[0m\n\u001B[0;31mRequirement already satisfied: scipy in /databricks/python3/lib/python3.9/site-packages (from pyLDAvis) (1.7.3)\r\u001B[0m\n\u001B[0;31mRequirement already satisfied: jinja2 in /databricks/python3/lib/python3.9/site-packages (from pyLDAvis) (2.11.3)\r\u001B[0m\n\u001B[0;31mCollecting numexpr\r\u001B[0m\n\u001B[0;31m  Using cached numexpr-2.8.7-cp39-cp39-manylinux_2_17_x86_64.manylinux2014_x86_64.whl (383 kB)\r\u001B[0m\n\u001B[0;31mCollecting funcy\r\u001B[0m\n\u001B[0;31m  Using cached funcy-2.0-py2.py3-none-any.whl (30 kB)\r\u001B[0m\n\u001B[0;31mCollecting numpy>=1.24.2\r\u001B[0m\n\u001B[0;31m  Using cached numpy-1.26.0-cp39-cp39-manylinux_2_17_x86_64.manylinux2014_x86_64.whl (18.2 MB)\r\u001B[0m\n\u001B[0;31mRequirement already satisfied: setuptools in /databricks/python3/lib/python3.9/site-packages (from pyLDAvis) (61.2.0)\r\u001B[0m\n\u001B[0;31mCollecting joblib>=1.2.0\r\u001B[0m\n\u001B[0;31m  Using cached joblib-1.3.2-py3-none-any.whl (302 kB)\r\u001B[0m\n\u001B[0;31mRequirement already satisfied: pandas>=2.0.0 in /local_disk0/.ephemeral_nfs/envs/pythonEnv-f985aff4-5238-4579-80f5-9267bb6d66d2/lib/python3.9/site-packages (from pyLDAvis) (2.1.1)\r\u001B[0m\n\u001B[0;31mRequirement already satisfied: gensim in /local_disk0/.ephemeral_nfs/envs/pythonEnv-f985aff4-5238-4579-80f5-9267bb6d66d2/lib/python3.9/site-packages (from pyLDAvis) (4.3.2)\r\u001B[0m\n\u001B[0;31mRequirement already satisfied: scikit-learn>=1.0.0 in /databricks/python3/lib/python3.9/site-packages (from pyLDAvis) (1.0.2)\r\u001B[0m\n\u001B[0;31mRequirement already satisfied: python-dateutil>=2.8.2 in /databricks/python3/lib/python3.9/site-packages (from pandas>=2.0.0->pyLDAvis) (2.8.2)\r\u001B[0m\n\u001B[0;31mRequirement already satisfied: tzdata>=2022.1 in /local_disk0/.ephemeral_nfs/envs/pythonEnv-f985aff4-5238-4579-80f5-9267bb6d66d2/lib/python3.9/site-packages (from pandas>=2.0.0->pyLDAvis) (2023.3)\r\u001B[0m\n\u001B[0;31mRequirement already satisfied: pytz>=2020.1 in /databricks/python3/lib/python3.9/site-packages (from pandas>=2.0.0->pyLDAvis) (2021.3)\r\u001B[0m\n\u001B[0;31mRequirement already satisfied: six>=1.5 in /databricks/python3/lib/python3.9/site-packages (from python-dateutil>=2.8.2->pandas>=2.0.0->pyLDAvis) (1.16.0)\r\u001B[0m\n\u001B[0;31mRequirement already satisfied: threadpoolctl>=2.0.0 in /databricks/python3/lib/python3.9/site-packages (from scikit-learn>=1.0.0->pyLDAvis) (2.2.0)\r\u001B[0m\n\u001B[0;31mCollecting scipy\r\u001B[0m\n\u001B[0;31m  Using cached scipy-1.11.3-cp39-cp39-manylinux_2_17_x86_64.manylinux2014_x86_64.whl (36.6 MB)\r\u001B[0m\n\u001B[0;31mRequirement already satisfied: smart-open>=1.8.1 in /local_disk0/.ephemeral_nfs/envs/pythonEnv-f985aff4-5238-4579-80f5-9267bb6d66d2/lib/python3.9/site-packages (from gensim->pyLDAvis) (6.4.0)\r\u001B[0m\n\u001B[0;31mRequirement already satisfied: MarkupSafe>=0.23 in /databricks/python3/lib/python3.9/site-packages (from jinja2->pyLDAvis) (2.0.1)\r\u001B[0m\n\u001B[0;31mInstalling collected packages: numpy, scipy, joblib, numexpr, funcy, pyLDAvis\r\u001B[0m\n\u001B[0;31m  Attempting uninstall: numpy\r\u001B[0m\n\u001B[0;31m    Found existing installation: numpy 1.22.4\r\u001B[0m\n\u001B[0;31m    Uninstalling numpy-1.22.4:\r\u001B[0m\n\u001B[0;31m      Successfully uninstalled numpy-1.22.4\r\u001B[0m\n\u001B[0;31m  Attempting uninstall: scipy\r\u001B[0m\n\u001B[0;31m    Found existing installation: scipy 1.7.3\r\u001B[0m\n\u001B[0;31m    Not uninstalling scipy at /databricks/python3/lib/python3.9/site-packages, outside environment /local_disk0/.ephemeral_nfs/envs/pythonEnv-f985aff4-5238-4579-80f5-9267bb6d66d2\r\u001B[0m\n\u001B[0;31m    Can't uninstall 'scipy'. No files were found to uninstall.\r\u001B[0m\n\u001B[0;31m  Attempting uninstall: joblib\r\u001B[0m\n\u001B[0;31m    Found existing installation: joblib 1.1.1\r\u001B[0m\n\u001B[0;31m    Not uninstalling joblib at /databricks/python3/lib/python3.9/site-packages, outside environment /local_disk0/.ephemeral_nfs/envs/pythonEnv-f985aff4-5238-4579-80f5-9267bb6d66d2\r\u001B[0m\n\u001B[0;31m    Can't uninstall 'joblib'. No files were found to uninstall.\r\u001B[0m\n\u001B[0;31mSuccessfully installed funcy-2.0 joblib-1.3.2 numexpr-2.8.7 numpy-1.26.0 pyLDAvis-3.4.1 scipy-1.11.3\r\u001B[0m\n\u001B[0;31mWARNING: You are using pip version 21.2.4; however, version 23.2.1 is available.\r\u001B[0m\n\u001B[0;31mYou should consider upgrading via the '/local_disk0/.ephemeral_nfs/envs/pythonEnv-f985aff4-5238-4579-80f5-9267bb6d66d2/bin/python -m pip install --upgrade pip' command.\r\u001B[0m\n\u001B[0;31m              precision    recall  f1-score   support\u001B[0m\n\u001B[0;31m\u001B[0m\n\u001B[0;31m           0       0.52      0.04      0.08      3276\u001B[0m\n\u001B[0;31m           1       0.53      0.07      0.13      3689\u001B[0m\n\u001B[0;31m           2       0.45      0.96      0.62      5535\u001B[0m\n\u001B[0;31m\u001B[0m\n\u001B[0;31m    accuracy                           0.46     12500\u001B[0m\n\u001B[0;31m   macro avg       0.50      0.36      0.27     12500\u001B[0m\n\u001B[0;31mweighted avg       0.49      0.46      0.33     12500\u001B[0m",
       "errorSummary": "<span class='ansi-red-fg'>Fatal error</span>: The Python kernel is unresponsive.",
       "errorTraceType": "ansi",
       "metadata": {},
       "type": "ipynbError"
      }
     },
     "output_type": "display_data"
    }
   ],
   "source": [
    "###################################Fitting SVM to the Training set#############################################\n",
    "from sklearn.svm import SVC\n",
    "from sklearn.preprocessing import LabelEncoder\n",
    "\n",
    "# Assuming 'y_train' contains string labels\n",
    "label_encoder = LabelEncoder()\n",
    "y_train_encoded = label_encoder.fit_transform(y_train)\n",
    "\n",
    "classifier = SVC(kernel='linear')\n",
    "classifier.fit(X_train, y_train_encoded)"
   ]
  },
  {
   "cell_type": "code",
   "execution_count": 0,
   "metadata": {
    "application/vnd.databricks.v1+cell": {
     "cellMetadata": {
      "byteLimit": 2048000,
      "rowLimit": 10000
     },
     "inputWidgets": {},
     "nuid": "f00cf3a7-2e47-4734-969f-209a1a53c62b",
     "showTitle": false,
     "title": ""
    }
   },
   "outputs": [
    {
     "output_type": "display_data",
     "data": {
      "text/plain": [
       "\u001B[0;31m---------------------------------------------------------------------------\u001B[0m\n",
       "\u001B[0;31mNameError\u001B[0m                                 Traceback (most recent call last)\n",
       "File \u001B[0;32m<command-1825911620133433>:1\u001B[0m\n",
       "\u001B[0;32m----> 1\u001B[0m y_pred \u001B[38;5;241m=\u001B[39m \u001B[43mclassifier\u001B[49m\u001B[38;5;241m.\u001B[39mpredict(X_test)\n",
       "\n",
       "\u001B[0;31mNameError\u001B[0m: name 'classifier' is not defined"
      ]
     },
     "metadata": {
      "application/vnd.databricks.v1+output": {
       "arguments": {},
       "data": "\u001B[0;31m---------------------------------------------------------------------------\u001B[0m\n\u001B[0;31mNameError\u001B[0m                                 Traceback (most recent call last)\nFile \u001B[0;32m<command-1825911620133433>:1\u001B[0m\n\u001B[0;32m----> 1\u001B[0m y_pred \u001B[38;5;241m=\u001B[39m \u001B[43mclassifier\u001B[49m\u001B[38;5;241m.\u001B[39mpredict(X_test)\n\n\u001B[0;31mNameError\u001B[0m: name 'classifier' is not defined",
       "errorSummary": "<span class='ansi-red-fg'>NameError</span>: name 'classifier' is not defined",
       "errorTraceType": "ansi",
       "metadata": {},
       "type": "ipynbError"
      }
     },
     "output_type": "display_data"
    }
   ],
   "source": [
    "y_pred = classifier.predict(X_test)"
   ]
  },
  {
   "cell_type": "code",
   "execution_count": 0,
   "metadata": {
    "application/vnd.databricks.v1+cell": {
     "cellMetadata": {
      "byteLimit": 2048000,
      "rowLimit": 10000
     },
     "inputWidgets": {},
     "nuid": "2050cb8e-fce3-40e5-aa01-efef523a5c35",
     "showTitle": false,
     "title": ""
    }
   },
   "outputs": [
    {
     "output_type": "display_data",
     "data": {
      "text/plain": [
       "\u001B[0;31m---------------------------------------------------------------------------\u001B[0m\n",
       "\u001B[0;31mNameError\u001B[0m                                 Traceback (most recent call last)\n",
       "File \u001B[0;32m<command-1825911620133434>:10\u001B[0m\n",
       "\u001B[1;32m      7\u001B[0m label_encoder \u001B[38;5;241m=\u001B[39m LabelEncoder()\n",
       "\u001B[1;32m      9\u001B[0m \u001B[38;5;66;03m# Combine y_test and y_pred to ensure all classes are considered\u001B[39;00m\n",
       "\u001B[0;32m---> 10\u001B[0m all_labels \u001B[38;5;241m=\u001B[39m \u001B[38;5;28mlist\u001B[39m(\u001B[38;5;28mset\u001B[39m(y_test) \u001B[38;5;241m|\u001B[39m \u001B[38;5;28mset\u001B[39m(y_pred))\n",
       "\u001B[1;32m     12\u001B[0m \u001B[38;5;66;03m# Fit the label encoder on all possible labels\u001B[39;00m\n",
       "\u001B[1;32m     13\u001B[0m label_encoder\u001B[38;5;241m.\u001B[39mfit(all_labels)\n",
       "\n",
       "\u001B[0;31mNameError\u001B[0m: name 'y_test' is not defined"
      ]
     },
     "metadata": {
      "application/vnd.databricks.v1+output": {
       "arguments": {},
       "data": "\u001B[0;31m---------------------------------------------------------------------------\u001B[0m\n\u001B[0;31mNameError\u001B[0m                                 Traceback (most recent call last)\nFile \u001B[0;32m<command-1825911620133434>:10\u001B[0m\n\u001B[1;32m      7\u001B[0m label_encoder \u001B[38;5;241m=\u001B[39m LabelEncoder()\n\u001B[1;32m      9\u001B[0m \u001B[38;5;66;03m# Combine y_test and y_pred to ensure all classes are considered\u001B[39;00m\n\u001B[0;32m---> 10\u001B[0m all_labels \u001B[38;5;241m=\u001B[39m \u001B[38;5;28mlist\u001B[39m(\u001B[38;5;28mset\u001B[39m(y_test) \u001B[38;5;241m|\u001B[39m \u001B[38;5;28mset\u001B[39m(y_pred))\n\u001B[1;32m     12\u001B[0m \u001B[38;5;66;03m# Fit the label encoder on all possible labels\u001B[39;00m\n\u001B[1;32m     13\u001B[0m label_encoder\u001B[38;5;241m.\u001B[39mfit(all_labels)\n\n\u001B[0;31mNameError\u001B[0m: name 'y_test' is not defined",
       "errorSummary": "<span class='ansi-red-fg'>NameError</span>: name 'y_test' is not defined",
       "errorTraceType": "ansi",
       "metadata": {},
       "type": "ipynbError"
      }
     },
     "output_type": "display_data"
    }
   ],
   "source": [
    "from sklearn.metrics import confusion_matrix\n",
    "from sklearn.preprocessing import LabelEncoder\n",
    "\n",
    "# Assuming y_test and y_pred are defined previously\n",
    "\n",
    "# Create a label encoder\n",
    "label_encoder = LabelEncoder()\n",
    "\n",
    "# Combine y_test and y_pred to ensure all classes are considered\n",
    "all_labels = list(set(y_test) | set(y_pred))\n",
    "\n",
    "# Fit the label encoder on all possible labels\n",
    "label_encoder.fit(all_labels)\n",
    "\n",
    "# Encode the labels in y_test and y_pred\n",
    "y_test_encoded = label_encoder.transform(y_test)\n",
    "y_pred_encoded = label_encoder.transform(y_pred)\n",
    "\n",
    "# Calculate the confusion matrix\n",
    "cm = confusion_matrix(y_test_encoded, y_pred_encoded)\n",
    "\n",
    "# Now you can use cm for further analysis or visualization"
   ]
  },
  {
   "cell_type": "code",
   "execution_count": 0,
   "metadata": {
    "application/vnd.databricks.v1+cell": {
     "cellMetadata": {
      "byteLimit": 2048000,
      "rowLimit": 10000
     },
     "inputWidgets": {},
     "nuid": "3b996609-c21d-4d61-a956-5aaea4be8abb",
     "showTitle": false,
     "title": ""
    }
   },
   "outputs": [
    {
     "output_type": "display_data",
     "data": {
      "text/plain": [
       "\u001B[0;31m---------------------------------------------------------------------------\u001B[0m\n",
       "\u001B[0;31mNameError\u001B[0m                                 Traceback (most recent call last)\n",
       "File \u001B[0;32m<command-1825911620133435>:1\u001B[0m\n",
       "\u001B[0;32m----> 1\u001B[0m \u001B[43mcm\u001B[49m\n",
       "\n",
       "\u001B[0;31mNameError\u001B[0m: name 'cm' is not defined"
      ]
     },
     "metadata": {
      "application/vnd.databricks.v1+output": {
       "arguments": {},
       "data": "\u001B[0;31m---------------------------------------------------------------------------\u001B[0m\n\u001B[0;31mNameError\u001B[0m                                 Traceback (most recent call last)\nFile \u001B[0;32m<command-1825911620133435>:1\u001B[0m\n\u001B[0;32m----> 1\u001B[0m \u001B[43mcm\u001B[49m\n\n\u001B[0;31mNameError\u001B[0m: name 'cm' is not defined",
       "errorSummary": "<span class='ansi-red-fg'>NameError</span>: name 'cm' is not defined",
       "errorTraceType": "ansi",
       "metadata": {},
       "type": "ipynbError"
      }
     },
     "output_type": "display_data"
    }
   ],
   "source": [
    "cm"
   ]
  },
  {
   "cell_type": "code",
   "execution_count": 0,
   "metadata": {
    "application/vnd.databricks.v1+cell": {
     "cellMetadata": {
      "byteLimit": 2048000,
      "rowLimit": 10000
     },
     "inputWidgets": {},
     "nuid": "56178126-d7de-4ec9-84be-d8f8183dc48c",
     "showTitle": false,
     "title": ""
    }
   },
   "outputs": [
    {
     "output_type": "display_data",
     "data": {
      "text/plain": [
       "\u001B[0;31m---------------------------------------------------------------------------\u001B[0m\n",
       "\u001B[0;31mNameError\u001B[0m                                 Traceback (most recent call last)\n",
       "File \u001B[0;32m<command-1825911620133436>:6\u001B[0m\n",
       "\u001B[1;32m      1\u001B[0m \u001B[38;5;28;01mfrom\u001B[39;00m \u001B[38;5;21;01msklearn\u001B[39;00m\u001B[38;5;21;01m.\u001B[39;00m\u001B[38;5;21;01mmetrics\u001B[39;00m \u001B[38;5;28;01mimport\u001B[39;00m classification_report\n",
       "\u001B[1;32m      3\u001B[0m \u001B[38;5;66;03m# Assuming y_test and y_pred_encoded are defined previously\u001B[39;00m\n",
       "\u001B[1;32m      4\u001B[0m \n",
       "\u001B[1;32m      5\u001B[0m \u001B[38;5;66;03m# Convert y_test to a list\u001B[39;00m\n",
       "\u001B[0;32m----> 6\u001B[0m y_test_list \u001B[38;5;241m=\u001B[39m y_test\u001B[38;5;241m.\u001B[39mtolist()\n",
       "\u001B[1;32m      8\u001B[0m \u001B[38;5;66;03m# Filter out samples with \"unknown\" labels\u001B[39;00m\n",
       "\u001B[1;32m      9\u001B[0m filtered_indices \u001B[38;5;241m=\u001B[39m [i \u001B[38;5;28;01mfor\u001B[39;00m i \u001B[38;5;129;01min\u001B[39;00m \u001B[38;5;28mrange\u001B[39m(\u001B[38;5;28mlen\u001B[39m(y_pred_encoded)) \u001B[38;5;28;01mif\u001B[39;00m y_pred_encoded[i] \u001B[38;5;241m!=\u001B[39m \u001B[38;5;241m-\u001B[39m\u001B[38;5;241m1\u001B[39m]\n",
       "\n",
       "\u001B[0;31mNameError\u001B[0m: name 'y_test' is not defined"
      ]
     },
     "metadata": {
      "application/vnd.databricks.v1+output": {
       "arguments": {},
       "data": "\u001B[0;31m---------------------------------------------------------------------------\u001B[0m\n\u001B[0;31mNameError\u001B[0m                                 Traceback (most recent call last)\nFile \u001B[0;32m<command-1825911620133436>:6\u001B[0m\n\u001B[1;32m      1\u001B[0m \u001B[38;5;28;01mfrom\u001B[39;00m \u001B[38;5;21;01msklearn\u001B[39;00m\u001B[38;5;21;01m.\u001B[39;00m\u001B[38;5;21;01mmetrics\u001B[39;00m \u001B[38;5;28;01mimport\u001B[39;00m classification_report\n\u001B[1;32m      3\u001B[0m \u001B[38;5;66;03m# Assuming y_test and y_pred_encoded are defined previously\u001B[39;00m\n\u001B[1;32m      4\u001B[0m \n\u001B[1;32m      5\u001B[0m \u001B[38;5;66;03m# Convert y_test to a list\u001B[39;00m\n\u001B[0;32m----> 6\u001B[0m y_test_list \u001B[38;5;241m=\u001B[39m y_test\u001B[38;5;241m.\u001B[39mtolist()\n\u001B[1;32m      8\u001B[0m \u001B[38;5;66;03m# Filter out samples with \"unknown\" labels\u001B[39;00m\n\u001B[1;32m      9\u001B[0m filtered_indices \u001B[38;5;241m=\u001B[39m [i \u001B[38;5;28;01mfor\u001B[39;00m i \u001B[38;5;129;01min\u001B[39;00m \u001B[38;5;28mrange\u001B[39m(\u001B[38;5;28mlen\u001B[39m(y_pred_encoded)) \u001B[38;5;28;01mif\u001B[39;00m y_pred_encoded[i] \u001B[38;5;241m!=\u001B[39m \u001B[38;5;241m-\u001B[39m\u001B[38;5;241m1\u001B[39m]\n\n\u001B[0;31mNameError\u001B[0m: name 'y_test' is not defined",
       "errorSummary": "<span class='ansi-red-fg'>NameError</span>: name 'y_test' is not defined",
       "errorTraceType": "ansi",
       "metadata": {},
       "type": "ipynbError"
      }
     },
     "output_type": "display_data"
    }
   ],
   "source": [
    "from sklearn.metrics import classification_report\n",
    "\n",
    "# Assuming y_test and y_pred_encoded are defined previously\n",
    "\n",
    "# Convert y_test to a list\n",
    "y_test_list = y_test.tolist()\n",
    "\n",
    "# Filter out samples with \"unknown\" labels\n",
    "filtered_indices = [i for i in range(len(y_pred_encoded)) if y_pred_encoded[i] != -1]\n",
    "y_test_filtered = [y_test_list[i] for i in filtered_indices]\n",
    "y_pred_filtered = [y_pred_encoded[i] for i in filtered_indices]\n",
    "\n",
    "# Calculate the classification report\n",
    "cr = classification_report(y_test_filtered, y_pred_filtered)\n",
    "\n",
    "# Print the classification report\n",
    "print(cr)\n"
   ]
  },
  {
   "cell_type": "code",
   "execution_count": 0,
   "metadata": {
    "application/vnd.databricks.v1+cell": {
     "cellMetadata": {
      "byteLimit": 2048000,
      "rowLimit": 10000
     },
     "inputWidgets": {},
     "nuid": "fd5f475a-b1c8-415c-9e32-8bfbb3be1fd8",
     "showTitle": false,
     "title": ""
    }
   },
   "outputs": [],
   "source": [
    "# Model runs are failing at times due to runtime issues."
   ]
  }
 ],
 "metadata": {
  "application/vnd.databricks.v1+notebook": {
   "dashboards": [],
   "language": "python",
   "notebookMetadata": {
    "pythonIndentUnit": 2
   },
   "notebookName": "Final_code_dbcs_run",
   "widgets": {}
  },
  "colab": {
   "provenance": []
  },
  "kernelspec": {
   "display_name": "Python 3 (ipykernel)",
   "language": "python",
   "name": "python3"
  },
  "language_info": {
   "codemirror_mode": {
    "name": "ipython",
    "version": 3
   },
   "file_extension": ".py",
   "mimetype": "text/x-python",
   "name": "python",
   "nbconvert_exporter": "python",
   "pygments_lexer": "ipython3",
   "version": "3.9.13"
  }
 },
 "nbformat": 4,
 "nbformat_minor": 0
}
